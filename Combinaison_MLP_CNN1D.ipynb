{
  "nbformat": 4,
  "nbformat_minor": 0,
  "metadata": {
    "accelerator": "GPU",
    "colab": {
      "name": "Combinaison_MLP_CNN1D.ipynb",
      "provenance": [],
      "collapsed_sections": []
    },
    "kernelspec": {
      "display_name": "Python 3",
      "name": "python3"
    }
  },
  "cells": [
    {
      "cell_type": "markdown",
      "metadata": {
        "id": "_pJr2QX16y0C"
      },
      "source": [
        "# **Préparer les données**"
      ]
    },
    {
      "cell_type": "markdown",
      "metadata": {
        "id": "vI65qFkLjyEY"
      },
      "source": [
        "### **Monter le dossier dans Drive**"
      ]
    },
    {
      "cell_type": "code",
      "metadata": {
        "colab": {
          "base_uri": "https://localhost:8080/"
        },
        "id": "DVb5j_uZDvRs",
        "outputId": "a7682463-80da-4285-cc35-318477144692"
      },
      "source": [
        "from google.colab import drive\n",
        "drive.mount('/content/drive')"
      ],
      "execution_count": null,
      "outputs": [
        {
          "output_type": "stream",
          "text": [
            "Drive already mounted at /content/drive; to attempt to forcibly remount, call drive.mount(\"/content/drive\", force_remount=True).\n"
          ],
          "name": "stdout"
        }
      ]
    },
    {
      "cell_type": "code",
      "metadata": {
        "id": "9DcknGEsEkrE"
      },
      "source": [
        "import os\n",
        "os.chdir('/content/drive/My Drive/Projet_HMIN339M')"
      ],
      "execution_count": null,
      "outputs": []
    },
    {
      "cell_type": "markdown",
      "metadata": {
        "id": "uEIWGiCq_s3g"
      },
      "source": [
        "### **Importation de quelques librairies**"
      ]
    },
    {
      "cell_type": "code",
      "metadata": {
        "id": "0HzSSHr5ooul"
      },
      "source": [
        "import numpy as np\n",
        "import tifffile\n",
        "import glob\n",
        "from pathlib import Path\n",
        "import pandas as pd"
      ],
      "execution_count": null,
      "outputs": []
    },
    {
      "cell_type": "markdown",
      "metadata": {
        "id": "wVrWVyvfkBDD"
      },
      "source": [
        "### **Lecture de la série temporelle d'images et Normalisation par bande sur la série temporelle entre 0 et 1** "
      ]
    },
    {
      "cell_type": "markdown",
      "metadata": {
        "id": "95CB2_IllQFu"
      },
      "source": [
        "#### **Lecture des images et création des séries temporelles de bandes**"
      ]
    },
    {
      "cell_type": "code",
      "metadata": {
        "colab": {
          "base_uri": "https://localhost:8080/"
        },
        "id": "Ut67k4u3Vezu",
        "outputId": "3cae5084-5fc3-4d77-b283-b44b794923d3"
      },
      "source": [
        "# Récupérer la liste des images\n",
        "lst_img = glob.glob ('Images/*.tif')\n",
        "lst_img.sort() # ordonner par date si ce n'est pas le cas\n",
        "lst_img"
      ],
      "execution_count": null,
      "outputs": [
        {
          "output_type": "execute_result",
          "data": {
            "text/plain": [
              "['Images/20160322_S2A.tif',\n",
              " 'Images/20160710_S2A.tif',\n",
              " 'Images/20160730_S2A.tif',\n",
              " 'Images/20160928_S2A.tif',\n",
              " 'Images/20161018_S2A.tif',\n",
              " 'Images/20161127_S2A.tif',\n",
              " 'Images/20161217_S2A.tif',\n",
              " 'Images/20161227_S2A.tif']"
            ]
          },
          "metadata": {
            "tags": []
          },
          "execution_count": 14
        }
      ]
    },
    {
      "cell_type": "code",
      "metadata": {
        "colab": {
          "base_uri": "https://localhost:8080/"
        },
        "id": "GSpMjDMNa-Bg",
        "outputId": "fa3e069b-af13-486d-9713-03a43cdfb8f5"
      },
      "source": [
        "# Lecture de la bande du rouge (B1) pour toute la série temporelle\n",
        "red_ts = []\n",
        "for img in lst_img:\n",
        "  red_ts.append( tifffile.imread(img)[:,:,0]) # Rouge\n",
        "red_ts = np.dstack(red_ts)\n",
        "red_ts.shape"
      ],
      "execution_count": null,
      "outputs": [
        {
          "output_type": "execute_result",
          "data": {
            "text/plain": [
              "(5412, 5592, 8)"
            ]
          },
          "metadata": {
            "tags": []
          },
          "execution_count": 15
        }
      ]
    },
    {
      "cell_type": "code",
      "metadata": {
        "colab": {
          "base_uri": "https://localhost:8080/"
        },
        "id": "X97WsP3kcTL1",
        "outputId": "35790d34-a61b-4d26-a6bb-6654e765ecbf"
      },
      "source": [
        "# Lecture de la bande du vert (B2) pour toute la série temporelle\n",
        "green_ts = []\n",
        "for img in lst_img:\n",
        "  green_ts.append( tifffile.imread(img)[:,:,1]) # Vert\n",
        "green_ts = np.dstack(green_ts)\n",
        "green_ts.shape"
      ],
      "execution_count": null,
      "outputs": [
        {
          "output_type": "execute_result",
          "data": {
            "text/plain": [
              "(5412, 5592, 8)"
            ]
          },
          "metadata": {
            "tags": []
          },
          "execution_count": 16
        }
      ]
    },
    {
      "cell_type": "code",
      "metadata": {
        "colab": {
          "base_uri": "https://localhost:8080/"
        },
        "id": "t1GBdVCGcbcK",
        "outputId": "446211c7-c9da-4490-ce63-d563353640e2"
      },
      "source": [
        "# Lecture de la bande du bleu (B3) pour toute la série temporelle\n",
        "blue_ts = []\n",
        "for img in lst_img:\n",
        "  blue_ts.append( tifffile.imread(img)[:,:,2]) # Bleu\n",
        "blue_ts = np.dstack(blue_ts)\n",
        "blue_ts.shape"
      ],
      "execution_count": null,
      "outputs": [
        {
          "output_type": "execute_result",
          "data": {
            "text/plain": [
              "(5412, 5592, 8)"
            ]
          },
          "metadata": {
            "tags": []
          },
          "execution_count": 17
        }
      ]
    },
    {
      "cell_type": "code",
      "metadata": {
        "colab": {
          "base_uri": "https://localhost:8080/"
        },
        "id": "fDd4BjV-cbz8",
        "outputId": "ea512ad8-9186-41ff-b7dd-9bd46d9ba13f"
      },
      "source": [
        "# Lecture de la bande du proche infrarouge (B4) pour toute la série temporelle\n",
        "nir_ts = []\n",
        "for img in lst_img:\n",
        "  nir_ts.append( tifffile.imread(img)[:,:,3]) # Proche infra rouge\n",
        "nir_ts = np.dstack(nir_ts)\n",
        "nir_ts.shape"
      ],
      "execution_count": null,
      "outputs": [
        {
          "output_type": "execute_result",
          "data": {
            "text/plain": [
              "(5412, 5592, 8)"
            ]
          },
          "metadata": {
            "tags": []
          },
          "execution_count": 18
        }
      ]
    },
    {
      "cell_type": "code",
      "metadata": {
        "colab": {
          "base_uri": "https://localhost:8080/"
        },
        "id": "bJVBYJxuuJDA",
        "outputId": "e12439ec-0ffd-45cd-b912-b692d7d6eda5"
      },
      "source": [
        "# Calculer des indices spectraux comme le NDVI\n",
        "ndvi_ts = np.where(nir_ts + red_ts == 0, 0, (nir_ts - red_ts) / (nir_ts + red_ts)).astype(np.float32)\n",
        "ndvi_ts.shape, ndvi_ts.dtype, ndvi_ts.min(), ndvi_ts.max()"
      ],
      "execution_count": null,
      "outputs": [
        {
          "output_type": "execute_result",
          "data": {
            "text/plain": [
              "((5412, 5592, 8), dtype('float32'), -0.9994976, 0.99976385)"
            ]
          },
          "metadata": {
            "tags": []
          },
          "execution_count": 19
        }
      ]
    },
    {
      "cell_type": "markdown",
      "metadata": {
        "id": "rOOWsKQHlHvS"
      },
      "source": [
        "#### **Normalisation en utilisant le min et le max des bandes sur les séries temporelles**"
      ]
    },
    {
      "cell_type": "code",
      "metadata": {
        "colab": {
          "base_uri": "https://localhost:8080/"
        },
        "id": "IoOk5-UccvSe",
        "outputId": "8a401d27-5e25-4a63-ee9f-96d74fe49ef9"
      },
      "source": [
        "# Normalisation des séries temporelles par bande: Rouge\n",
        "red_ts_norm = ( red_ts - red_ts.min() ) / ( red_ts.max() - red_ts.min() ).astype(np.float32)\n",
        "red_ts_norm.min() , red_ts_norm.max(), red_ts_norm.shape, red_ts_norm.dtype"
      ],
      "execution_count": null,
      "outputs": [
        {
          "output_type": "execute_result",
          "data": {
            "text/plain": [
              "(0.0, 1.0, (5412, 5592, 8), dtype('float32'))"
            ]
          },
          "metadata": {
            "tags": []
          },
          "execution_count": 20
        }
      ]
    },
    {
      "cell_type": "code",
      "metadata": {
        "colab": {
          "base_uri": "https://localhost:8080/"
        },
        "id": "-c1DlhJTe_6h",
        "outputId": "7a56894f-297f-4ac4-9f92-7512a7977388"
      },
      "source": [
        "# Normalisation des séries temporelles par bande: Vert\n",
        "green_ts_norm = ( green_ts - green_ts.min() ) / ( green_ts.max() - green_ts.min() ).astype(np.float32)\n",
        "green_ts = None\n",
        "green_ts_norm.min() , green_ts_norm.max(), green_ts_norm.shape, green_ts_norm.dtype"
      ],
      "execution_count": null,
      "outputs": [
        {
          "output_type": "execute_result",
          "data": {
            "text/plain": [
              "(0.0, 1.0, (5412, 5592, 8), dtype('float32'))"
            ]
          },
          "metadata": {
            "tags": []
          },
          "execution_count": 21
        }
      ]
    },
    {
      "cell_type": "code",
      "metadata": {
        "colab": {
          "base_uri": "https://localhost:8080/"
        },
        "id": "hFNAbyIyfAJT",
        "outputId": "4436269b-bcd2-4ddd-b1ef-2880f1b9702b"
      },
      "source": [
        "# Normalisation des séries temporelles par bande: Bleu\n",
        "blue_ts_norm = ( blue_ts - blue_ts.min() ) / ( blue_ts.max() - blue_ts.min() ).astype(np.float32)\n",
        "blue_ts = None\n",
        "blue_ts_norm.min() , blue_ts_norm.max(), blue_ts_norm.shape, blue_ts_norm.dtype"
      ],
      "execution_count": null,
      "outputs": [
        {
          "output_type": "execute_result",
          "data": {
            "text/plain": [
              "(0.0, 1.0, (5412, 5592, 8), dtype('float32'))"
            ]
          },
          "metadata": {
            "tags": []
          },
          "execution_count": 22
        }
      ]
    },
    {
      "cell_type": "code",
      "metadata": {
        "colab": {
          "base_uri": "https://localhost:8080/"
        },
        "id": "epIhb6brfAUK",
        "outputId": "8ce65402-841e-47b8-daa3-8fdcc7bfed5c"
      },
      "source": [
        "# Normalisation des séries temporelles par bande: Proche infrarouge\n",
        "nir_ts_norm = ( nir_ts - nir_ts.min() ) / ( nir_ts.max() - nir_ts.min() ).astype(np.float32)\n",
        "nir_ts_norm.min() , nir_ts_norm.max(), nir_ts_norm.shape, nir_ts_norm.dtype"
      ],
      "execution_count": null,
      "outputs": [
        {
          "output_type": "execute_result",
          "data": {
            "text/plain": [
              "(0.0, 1.0, (5412, 5592, 8), dtype('float32'))"
            ]
          },
          "metadata": {
            "tags": []
          },
          "execution_count": 23
        }
      ]
    },
    {
      "cell_type": "code",
      "metadata": {
        "colab": {
          "base_uri": "https://localhost:8080/"
        },
        "id": "tAtrTnz_uQ2Y",
        "outputId": "80601ce9-91d1-4bbe-ce60-a6d69b45fa3e"
      },
      "source": [
        "# Normaliser les indices spectraux que vous aurez calculé\n",
        "ndvi_ts_norm = ( ndvi_ts - ndvi_ts.min() ) / ( ndvi_ts.max() - ndvi_ts.min( )).astype(np.float32)\n",
        "ndvi_ts_norm.min(), ndvi_ts_norm.max(), ndvi_ts_norm.shape, ndvi_ts_norm.dtype"
      ],
      "execution_count": null,
      "outputs": [
        {
          "output_type": "execute_result",
          "data": {
            "text/plain": [
              "(0.0, 1.0, (5412, 5592, 8), dtype('float32'))"
            ]
          },
          "metadata": {
            "tags": []
          },
          "execution_count": 24
        }
      ]
    },
    {
      "cell_type": "markdown",
      "metadata": {
        "id": "YDQUbh3Nkpn7"
      },
      "source": [
        "### **Lecture de la vérité terrain et récupération des positions des pixels du jeu d'entraînement et de test**"
      ]
    },
    {
      "cell_type": "markdown",
      "metadata": {
        "id": "V_mXEBEKmuw7"
      },
      "source": [
        "#### **Lecture des fichiers de la vérité terrain**"
      ]
    },
    {
      "cell_type": "code",
      "metadata": {
        "colab": {
          "base_uri": "https://localhost:8080/"
        },
        "id": "NBCQhbMUoBJU",
        "outputId": "012c3d17-df86-4db0-ebd7-df04d6d1d3d5"
      },
      "source": [
        "# Lire le fichier correspondant aux classes d'occupation du sol\n",
        "gt_class = tifffile.imread ('Verite_terrain/DORDOGNE_VT_CLASS.tif')\n",
        "gt_class.shape , gt_class.dtype"
      ],
      "execution_count": null,
      "outputs": [
        {
          "output_type": "execute_result",
          "data": {
            "text/plain": [
              "((5412, 5592), dtype('uint8'))"
            ]
          },
          "metadata": {
            "tags": []
          },
          "execution_count": 25
        }
      ]
    },
    {
      "cell_type": "code",
      "metadata": {
        "colab": {
          "base_uri": "https://localhost:8080/"
        },
        "id": "JLnTil_psMLW",
        "outputId": "2a38b793-c416-4a8b-da9d-dfb10c9d1c82"
      },
      "source": [
        "# Lire le fichier correspondant aux identifiants\n",
        "gt_id = tifffile.imread ('Verite_terrain/DORDOGNE_VT_ID.tif')\n",
        "gt_id.shape, gt_id.dtype"
      ],
      "execution_count": null,
      "outputs": [
        {
          "output_type": "execute_result",
          "data": {
            "text/plain": [
              "((5412, 5592), dtype('int16'))"
            ]
          },
          "metadata": {
            "tags": []
          },
          "execution_count": 26
        }
      ]
    },
    {
      "cell_type": "markdown",
      "metadata": {
        "id": "RjyGTdRpm5ii"
      },
      "source": [
        "#### **Récupération des positions des pixels d'entraînement et de test**"
      ]
    },
    {
      "cell_type": "code",
      "metadata": {
        "id": "yosWk1_BgiLE"
      },
      "source": [
        "# Récupérer les positions des échantillons d'entraînement et test\n",
        "idx_train_ = np.where ( (gt_id!=0) & (gt_class!=0) )\n",
        "idx_test = np.where ( (gt_id!=0) & (gt_class==0) )"
      ],
      "execution_count": null,
      "outputs": []
    },
    {
      "cell_type": "code",
      "metadata": {
        "colab": {
          "base_uri": "https://localhost:8080/",
          "height": 35
        },
        "id": "uRX0xj4zjvVY",
        "outputId": "2a1fcc3b-1b27-426c-c703-ccf0d19a9180"
      },
      "source": [
        "# Lecture des identifiants et labels des échantillons d'entraînement\n",
        "train_id_ = gt_id[idx_train_]\n",
        "train_y_ = gt_class[idx_train_]\n",
        "f'échantillons d\\'entrainement: {train_y_.shape[0]} pixels, {len(np.unique(train_id_))} objets'"
      ],
      "execution_count": null,
      "outputs": [
        {
          "output_type": "execute_result",
          "data": {
            "application/vnd.google.colaboratory.intrinsic+json": {
              "type": "string"
            },
            "text/plain": [
              "\"échantillons d'entrainement: 605431 pixels, 1859 objets\""
            ]
          },
          "metadata": {
            "tags": []
          },
          "execution_count": 28
        }
      ]
    },
    {
      "cell_type": "code",
      "metadata": {
        "colab": {
          "base_uri": "https://localhost:8080/",
          "height": 35
        },
        "id": "kiPCaHQ2jtZu",
        "outputId": "eb17d816-7950-41f4-d349-49f5703aed0a"
      },
      "source": [
        "# Lecture des identifiants et labels des échantillons de test\n",
        "test_id = gt_id[idx_test]\n",
        "f'échantillons test: {test_id.shape[0]} pixels, {len(np.unique(test_id))} objets'"
      ],
      "execution_count": null,
      "outputs": [
        {
          "output_type": "execute_result",
          "data": {
            "application/vnd.google.colaboratory.intrinsic+json": {
              "type": "string"
            },
            "text/plain": [
              "'échantillons test: 207485 pixels, 800 objets'"
            ]
          },
          "metadata": {
            "tags": []
          },
          "execution_count": 29
        }
      ]
    },
    {
      "cell_type": "markdown",
      "metadata": {
        "id": "hNFyNkc5oc6z"
      },
      "source": [
        "### **Création d'un jeu de validation en prenant une partie du jeu d'entraînement**\n",
        "Pour cela, on s'assure de faire la division en mettant les pixels ayant le même identifiant dans un seul et même lot"
      ]
    },
    {
      "cell_type": "code",
      "metadata": {
        "colab": {
          "base_uri": "https://localhost:8080/",
          "height": 204
        },
        "id": "2hI-jAEqrac1",
        "outputId": "44264b33-3546-4187-f71b-3b93121d27d2"
      },
      "source": [
        "# Dataframe pour créer un jeu de validation\n",
        "samples = pd.DataFrame({'ID':train_id_,'Class':train_y_})\n",
        "samples = samples.drop_duplicates(keep='first')\n",
        "samples.head(5)"
      ],
      "execution_count": null,
      "outputs": [
        {
          "output_type": "execute_result",
          "data": {
            "text/html": [
              "<div>\n",
              "<style scoped>\n",
              "    .dataframe tbody tr th:only-of-type {\n",
              "        vertical-align: middle;\n",
              "    }\n",
              "\n",
              "    .dataframe tbody tr th {\n",
              "        vertical-align: top;\n",
              "    }\n",
              "\n",
              "    .dataframe thead th {\n",
              "        text-align: right;\n",
              "    }\n",
              "</style>\n",
              "<table border=\"1\" class=\"dataframe\">\n",
              "  <thead>\n",
              "    <tr style=\"text-align: right;\">\n",
              "      <th></th>\n",
              "      <th>ID</th>\n",
              "      <th>Class</th>\n",
              "    </tr>\n",
              "  </thead>\n",
              "  <tbody>\n",
              "    <tr>\n",
              "      <th>0</th>\n",
              "      <td>422</td>\n",
              "      <td>2</td>\n",
              "    </tr>\n",
              "    <tr>\n",
              "      <th>4</th>\n",
              "      <td>2677</td>\n",
              "      <td>5</td>\n",
              "    </tr>\n",
              "    <tr>\n",
              "      <th>5</th>\n",
              "      <td>201</td>\n",
              "      <td>3</td>\n",
              "    </tr>\n",
              "    <tr>\n",
              "      <th>29</th>\n",
              "      <td>423</td>\n",
              "      <td>2</td>\n",
              "    </tr>\n",
              "    <tr>\n",
              "      <th>100</th>\n",
              "      <td>496</td>\n",
              "      <td>2</td>\n",
              "    </tr>\n",
              "  </tbody>\n",
              "</table>\n",
              "</div>"
            ],
            "text/plain": [
              "       ID  Class\n",
              "0     422      2\n",
              "4    2677      5\n",
              "5     201      3\n",
              "29    423      2\n",
              "100   496      2"
            ]
          },
          "metadata": {
            "tags": []
          },
          "execution_count": 30
        }
      ]
    },
    {
      "cell_type": "code",
      "metadata": {
        "colab": {
          "base_uri": "https://localhost:8080/"
        },
        "id": "894SPjgRs_S7",
        "outputId": "8a16410c-be33-442f-9ff7-a93a54c96685"
      },
      "source": [
        "# 30% des échantillons de chaque classe affecté au jeu de validation\n",
        "train_id = []\n",
        "valid_id = []\n",
        "for c in np.unique(samples.Class.values) :\n",
        "    samples_c = samples.loc[samples.Class==c]\n",
        "    samples_frac = samples_c.sample(frac=0.7,random_state=1234) \n",
        "    train_id.extend( samples_frac.ID.values )\n",
        "    valid_id.extend( samples_c.drop(samples_frac.index).ID.values )\n",
        "len(train_id),len(valid_id)"
      ],
      "execution_count": null,
      "outputs": [
        {
          "output_type": "execute_result",
          "data": {
            "text/plain": [
              "(1301, 558)"
            ]
          },
          "metadata": {
            "tags": []
          },
          "execution_count": 31
        }
      ]
    },
    {
      "cell_type": "markdown",
      "metadata": {
        "id": "6J609q3BrKRk"
      },
      "source": [
        "### **Récupération des positions des nouveaux échantillons d'entraînement et de validation**"
      ]
    },
    {
      "cell_type": "code",
      "metadata": {
        "id": "WmVBWpvFdjlk"
      },
      "source": [
        "# Récupérer les positions des nouveaux échantillons d'entraînement et validation\n",
        "idx_train = np.where ( np.isin(gt_id,train_id) )\n",
        "idx_valid = np.where ( np.isin(gt_id,valid_id) )"
      ],
      "execution_count": null,
      "outputs": []
    },
    {
      "cell_type": "markdown",
      "metadata": {
        "id": "3U6m2R-UwEFK"
      },
      "source": [
        "### **Lire finalement les labels correspondant aux nouveaux échantillons d'entraînement, de validation et test**"
      ]
    },
    {
      "cell_type": "code",
      "metadata": {
        "colab": {
          "base_uri": "https://localhost:8080/"
        },
        "id": "vF_PEzn3vQzT",
        "outputId": "d28dfb4f-9c67-40f3-f002-862cfa1b1949"
      },
      "source": [
        "train_y = gt_class[idx_train]\n",
        "valid_y = gt_class[idx_valid]\n",
        "test_y = gt_class[idx_test]\n",
        "train_y.shape, valid_y.shape, test_y.shape"
      ],
      "execution_count": null,
      "outputs": [
        {
          "output_type": "execute_result",
          "data": {
            "text/plain": [
              "((451962,), (153469,), (207485,))"
            ]
          },
          "metadata": {
            "tags": []
          },
          "execution_count": 33
        }
      ]
    },
    {
      "cell_type": "markdown",
      "metadata": {
        "id": "lAt4KCeZR1Os"
      },
      "source": [
        "### **Lire finalement les identifiants correspondant aux nouveaux échantillons d'entraînement, de validation et test**"
      ]
    },
    {
      "cell_type": "code",
      "metadata": {
        "colab": {
          "base_uri": "https://localhost:8080/"
        },
        "id": "m3SiC0eVRvtA",
        "outputId": "82ebab07-09be-4cca-bffa-699400cb41a8"
      },
      "source": [
        "# utile pour les aggrégations au niveau objet\n",
        "# train_id_array = gt_id[idx_train] # Pas vraiment nécessaire pour les échantillons d'entraînements\n",
        "valid_id_array = gt_id[idx_valid]\n",
        "test_id_array = gt_id[idx_test]\n",
        "#train_id_array.shape, \n",
        "valid_id_array.shape, test_id_array.shape"
      ],
      "execution_count": null,
      "outputs": [
        {
          "output_type": "execute_result",
          "data": {
            "text/plain": [
              "((153469,), (207485,))"
            ]
          },
          "metadata": {
            "tags": []
          },
          "execution_count": 34
        }
      ]
    },
    {
      "cell_type": "markdown",
      "metadata": {
        "id": "xa-8J5r9r3KI"
      },
      "source": [
        "### **Lire finalement les valeurs des séries temporelles correspondant aux nouveaux échantillons d'entraînement, de validation et test**"
      ]
    },
    {
      "cell_type": "markdown",
      "metadata": {
        "id": "PXS90K1Vsg4H"
      },
      "source": [
        "#### **Pour un Perceptron multi-couche**"
      ]
    },
    {
      "cell_type": "code",
      "metadata": {
        "colab": {
          "base_uri": "https://localhost:8080/"
        },
        "id": "TwjGd9exkFia",
        "outputId": "6e84e3b6-d1e3-4c1a-d292-7816b7bf62fa"
      },
      "source": [
        "# Un perceptron multi-couche ou un algo classique de machine learning requiert un tableau 2D du type \n",
        "# (nombre d'échantillons, nombre de features=(nombre de dates x nombre de bandes))\n",
        "# Vous pouvez rajouter au stack les indices spectraux normalisés que vous aurez calculé\n",
        "\n",
        "train_X = np.column_stack ( ( blue_ts_norm[idx_train], green_ts_norm[idx_train], red_ts_norm[idx_train], nir_ts_norm[idx_train] ) )\n",
        "\n",
        "valid_X = np.column_stack ( ( blue_ts_norm[idx_valid], green_ts_norm[idx_valid], red_ts_norm[idx_valid], nir_ts_norm[idx_valid] ) )\n",
        "\n",
        "test_X = np.column_stack ( ( blue_ts_norm[idx_test], green_ts_norm[idx_test], red_ts_norm[idx_test], nir_ts_norm[idx_test] ) )\n",
        "\n",
        "train_X.shape, valid_X.shape, test_X.shape"
      ],
      "execution_count": null,
      "outputs": [
        {
          "output_type": "execute_result",
          "data": {
            "text/plain": [
              "((451962, 32), (153469, 32), (207485, 32))"
            ]
          },
          "metadata": {
            "tags": []
          },
          "execution_count": 35
        }
      ]
    },
    {
      "cell_type": "markdown",
      "metadata": {
        "id": "YqabJEyUtgPX"
      },
      "source": [
        "#### **Pour un CNN 1D ou temporel**"
      ]
    },
    {
      "cell_type": "code",
      "metadata": {
        "colab": {
          "base_uri": "https://localhost:8080/"
        },
        "id": "bdZa5w9ztkCk",
        "outputId": "62f81294-db0f-4ce6-9d5d-fb4fe093578a"
      },
      "source": [
        "# Un CNN 1D ou temporel requiert un tableau 3D du type (nombre d'échantillons, nombre de dates, nombre de bandes)\n",
        "# Vous pouvez rajouter à la liste des bandes les indices spectraux normalisés que vous aurez calculé\n",
        "train_X = []\n",
        "for band in [blue_ts_norm,green_ts_norm,red_ts_norm,nir_ts_norm]:\n",
        "    train_X.append( band[idx_train] ) \n",
        "train_X = np.stack(train_X,axis=-1)\n",
        "\n",
        "valid_X = []\n",
        "for band in [blue_ts_norm,green_ts_norm,red_ts_norm,nir_ts_norm]:\n",
        "    valid_X.append( band[idx_valid] ) \n",
        "valid_X = np.stack(valid_X,axis=-1)\n",
        "\n",
        "test_X = []\n",
        "for band in [blue_ts_norm,green_ts_norm,red_ts_norm,nir_ts_norm]:\n",
        "    test_X.append( band[idx_test] ) \n",
        "test_X = np.stack(test_X,axis=-1)\n",
        "\n",
        "train_X.shape, valid_X.shape, test_X.shape"
      ],
      "execution_count": null,
      "outputs": [
        {
          "output_type": "execute_result",
          "data": {
            "text/plain": [
              "((451962, 8, 4), (153469, 8, 4), (207485, 8, 4))"
            ]
          },
          "metadata": {
            "tags": []
          },
          "execution_count": 36
        }
      ]
    },
    {
      "cell_type": "markdown",
      "metadata": {
        "id": "oRTUKBQBwd1V"
      },
      "source": [
        "#### **Pour un CNN2D ou spatial avec exemple d'imagettes ou patchs de 5 sur 5 en largeur et hauteur** \n",
        "\n",
        "Des patchs de 9 sur 9 sur l'ensemble des échantillons sont un peu trop gourmands en RAM pour Google Colab"
      ]
    },
    {
      "cell_type": "code",
      "metadata": {
        "colab": {
          "base_uri": "https://localhost:8080/"
        },
        "id": "rBZ2s4zGwc8C",
        "outputId": "03a09ecb-f84a-4dc8-a167-834c3c0e6f03"
      },
      "source": [
        "# Un CNN 2D ou spatial requiert un tableau 3D du type (nombre d'échantillons, largeur, hauteur, nombre de features= (nombre de dates x nombre de bandes) )\n",
        "# Vous pouvez rajouter à la liste des bandes les indices spectraux normalisés que vous aurez calculé\n",
        "\n",
        "# Training\n",
        "# 1- précaution pour ne pas considérer les pixels dont on ne peut extraire des patchs car trop près du bord\n",
        "idx_col = idx_train[0]\n",
        "idx_row = idx_train[1]\n",
        "coords = np.column_stack((idx_col,idx_row))\n",
        "coords = coords[np.where( ( np.isin(coords[:,0],np.arange(2,blue_ts_norm.shape[0]-2,1)) ) & ( np.isin(coords[:,1],np.arange(2,blue_ts_norm.shape[1]-2,1)) ) ) ]\n",
        "# len(coords)\n",
        "# 2- créer un tableau avec les patchs\n",
        "train_X = []\n",
        "for coord in coords :\n",
        "  lst = []\n",
        "  for band in [blue_ts_norm,green_ts_norm,red_ts_norm,nir_ts_norm]:\n",
        "    lst.append( band[coord[0]-2:coord[0]+3,coord[1]-2:coord[1]+3] )\n",
        "  train_X.append(np.stack(lst,axis=-1))#.reshape(5,5,-1))\n",
        "train_X = np.stack(train_X,axis=0)\n",
        "train_X.shape"
      ],
      "execution_count": null,
      "outputs": [
        {
          "output_type": "execute_result",
          "data": {
            "text/plain": [
              "(451962, 5, 5, 8, 4)"
            ]
          },
          "metadata": {
            "tags": []
          },
          "execution_count": 37
        }
      ]
    },
    {
      "cell_type": "code",
      "metadata": {
        "colab": {
          "base_uri": "https://localhost:8080/"
        },
        "id": "RhLlxu5j0O72",
        "outputId": "c1c41fc7-eb5a-4e81-a21b-40d145a1b220"
      },
      "source": [
        "# Validation\n",
        "# 1- précaution pour ne pas considérer les pixels dont on ne peut extraire des patchs car trop près du bord\n",
        "idx_col = idx_valid[0]\n",
        "idx_row = idx_valid[1]\n",
        "coords = np.column_stack((idx_col,idx_row))\n",
        "coords = coords[np.where( ( np.isin(coords[:,0],np.arange(2,blue_ts_norm.shape[0]-2,1)) ) & ( np.isin(coords[:,1],np.arange(2,blue_ts_norm.shape[1]-2,1)) ) ) ]\n",
        "# len(coords)\n",
        "# 2- créer un tableau avec les patchs\n",
        "valid_X = []\n",
        "for coord in coords :\n",
        "  lst = []\n",
        "  for band in [blue_ts_norm,green_ts_norm,red_ts_norm,nir_ts_norm]:\n",
        "    lst.append( band[coord[0]-2:coord[0]+3,coord[1]-2:coord[1]+3] )\n",
        "  valid_X.append(np.stack(lst,axis=-1))#.reshape(5,5,-1))\n",
        "valid_X = np.stack(valid_X,axis=0)\n",
        "valid_X.shape"
      ],
      "execution_count": null,
      "outputs": [
        {
          "output_type": "execute_result",
          "data": {
            "text/plain": [
              "(153469, 5, 5, 8, 4)"
            ]
          },
          "metadata": {
            "tags": []
          },
          "execution_count": 38
        }
      ]
    },
    {
      "cell_type": "code",
      "metadata": {
        "colab": {
          "base_uri": "https://localhost:8080/"
        },
        "id": "0VR_nM9W0QkB",
        "outputId": "21cc765f-653d-4f97-a939-426f2dc7e524"
      },
      "source": [
        "# Test\n",
        "# 1- précaution pour ne pas considérer les pixels dont on ne peut extraire des patchs car trop près du bord\n",
        "idx_col = idx_test[0]\n",
        "idx_row = idx_test[1]\n",
        "coords = np.column_stack((idx_col,idx_row))\n",
        "coords = coords[np.where( ( np.isin(coords[:,0],np.arange(2,blue_ts_norm.shape[0]-2,1)) ) & ( np.isin(coords[:,1],np.arange(2,blue_ts_norm.shape[1]-2,1)) ) ) ]\n",
        "# len(coords)\n",
        "# 2- créer un tableau avec les patchs\n",
        "test_X = []\n",
        "for coord in coords :\n",
        "  lst = []\n",
        "  for band in [blue_ts_norm,green_ts_norm,red_ts_norm,nir_ts_norm]:\n",
        "    lst.append( band[coord[0]-2:coord[0]+3,coord[1]-2:coord[1]+3] )\n",
        "  test_X.append(np.stack(lst,axis=-1))#.reshape(5,5,-1))\n",
        "test_X = np.stack(test_X,axis=0)\n",
        "test_X.shape"
      ],
      "execution_count": null,
      "outputs": [
        {
          "output_type": "execute_result",
          "data": {
            "text/plain": [
              "(207485, 5, 5, 8, 4)"
            ]
          },
          "metadata": {
            "tags": []
          },
          "execution_count": 39
        }
      ]
    },
    {
      "cell_type": "markdown",
      "metadata": {
        "id": "oiqM_sYRt5IL"
      },
      "source": [
        "### **Sauvegarde des données d'entraînement, de validation et test en fichier numpy**"
      ]
    },
    {
      "cell_type": "code",
      "metadata": {
        "id": "dPiv0fo3uJ8s"
      },
      "source": [
        "# Ainsi de cette façon vous pourrez continuer directement avec la création des modèles et en libérant la mémoire de tout ce qui a été fait précédemment\n",
        "Path('data').mkdir(exist_ok=True, parents=True)\n",
        "np.save('data/train_X.npy',train_X)\n",
        "np.save('data/train_y.npy',train_y)\n",
        "# np.save('data/train_id.npy',train_id_array)\n",
        "\n",
        "np.save('data/valid_X.npy',valid_X)\n",
        "np.save('data/valid_y.npy',valid_y)\n",
        "np.save('data/valid_id.npy',valid_id_array)\n",
        "\n",
        "np.save('data/test_X.npy',test_X)\n",
        "np.save('data/test_id.npy',test_id_array)"
      ],
      "execution_count": null,
      "outputs": []
    },
    {
      "cell_type": "markdown",
      "metadata": {
        "id": "TOM6_mv--8IX"
      },
      "source": [
        "Videz la mémoire en redémarrant l'environnement d'exécution"
      ]
    },
    {
      "cell_type": "markdown",
      "metadata": {
        "id": "qv0jts6w6nxr"
      },
      "source": [
        "# **Votre modèle de deep learning**"
      ]
    },
    {
      "cell_type": "markdown",
      "metadata": {
        "id": "wmBRjg3QFrLe"
      },
      "source": [
        "### **Remontage de Drive et Importation de quelques librairies**"
      ]
    },
    {
      "cell_type": "code",
      "metadata": {
        "colab": {
          "base_uri": "https://localhost:8080/"
        },
        "id": "rJUrD-aVMaN0",
        "outputId": "71a80d47-3fed-4222-c203-b4f36bd99b2e"
      },
      "source": [
        "from google.colab import drive\n",
        "drive.mount('/content/drive')"
      ],
      "execution_count": null,
      "outputs": [
        {
          "output_type": "stream",
          "text": [
            "Drive already mounted at /content/drive; to attempt to forcibly remount, call drive.mount(\"/content/drive\", force_remount=True).\n"
          ],
          "name": "stdout"
        }
      ]
    },
    {
      "cell_type": "code",
      "metadata": {
        "id": "_K5Xk6WeALcH"
      },
      "source": [
        "import os\n",
        "os.chdir('/content/drive/My Drive/Projet_HMIN339M')\n",
        "import numpy as np\n",
        "import pandas as pd\n",
        "import tifffile\n",
        "from pathlib import Path\n",
        "from sklearn.metrics import f1_score, confusion_matrix\n",
        "from sklearn.preprocessing import LabelEncoder\n",
        "import tensorflow as tf\n",
        "from tensorflow.keras.layers import Input, Concatenate, Dense, Dropout, Activation, Flatten, Conv2D, Conv1D, GlobalAveragePooling1D, GlobalAveragePooling2D, BatchNormalization, Flatten, GRU\n",
        "from tensorflow.keras.models import Sequential\n",
        "from tensorflow.keras import Model\n",
        "import matplotlib.pyplot as plt\n",
        "%matplotlib inline"
      ],
      "execution_count": null,
      "outputs": []
    },
    {
      "cell_type": "markdown",
      "metadata": {
        "id": "UlRFSn7f_yKx"
      },
      "source": [
        "### **Recharger les données d'entraînement, de validation et test en fichier numpy**"
      ]
    },
    {
      "cell_type": "code",
      "metadata": {
        "colab": {
          "base_uri": "https://localhost:8080/"
        },
        "id": "CVzkEkQA-jM7",
        "outputId": "f64557ad-40c0-4691-f7f4-cd073f066bdc"
      },
      "source": [
        "# Recharger les données après avoir vidé la mémoire\n",
        "train_X = np.load('data/train_X.npy')\n",
        "train_y = np.load('data/train_y.npy')\n",
        "\n",
        "valid_X = np.load('data/valid_X.npy')\n",
        "valid_y = np.load('data/valid_y.npy')\n",
        "valid_id = np.load('data/valid_id.npy')\n",
        "\n",
        "test_X = np.load('data/test_X.npy')\n",
        "test_id = np.load('data/test_id.npy')\n",
        "train_X.shape, train_y.shape, valid_X.shape, valid_y.shape, valid_id.shape, test_X.shape, test_id.shape"
      ],
      "execution_count": null,
      "outputs": [
        {
          "output_type": "execute_result",
          "data": {
            "text/plain": [
              "((451962, 5, 5, 8, 4),\n",
              " (451962,),\n",
              " (153469, 5, 5, 8, 4),\n",
              " (153469,),\n",
              " (153469,),\n",
              " (207485, 5, 5, 8, 4),\n",
              " (207485,))"
            ]
          },
          "metadata": {
            "tags": []
          },
          "execution_count": 3
        }
      ]
    },
    {
      "cell_type": "code",
      "metadata": {
        "colab": {
          "base_uri": "https://localhost:8080/"
        },
        "id": "GwFEUAqvTq5V",
        "outputId": "9f18eb30-fd90-4bf7-abf5-dcc58dc33727"
      },
      "source": [
        "train_X_mlp = train_X[:,2,2,:,:].reshape(train_X.shape[0],-1)\n",
        "train_X_cnn1d = train_X[:,2,2,:,:]\n",
        "train_X_cnn2d = train_X[:,:,:,:].reshape(train_X.shape[0],5,5,-1)\n",
        "\n",
        "valid_X_mlp = valid_X[:,2,2,:,:].reshape(valid_X.shape[0],-1)\n",
        "valid_X_cnn1d = valid_X[:,2,2,:,:]\n",
        "valid_X_cnn2d = valid_X[:,:,:,:].reshape(valid_X.shape[0],5,5,-1)\n",
        "\n",
        "test_X_mlp = test_X[:,2,2,:,:].reshape(test_X.shape[0],-1)\n",
        "test_X_cnn1d = test_X[:,2,2,:,:]\n",
        "test_X_cnn2d = test_X[:,:,:,:].reshape(test_X.shape[0],5,5,-1)\n",
        "\n",
        "train_X_mlp.shape, train_X_cnn1d.shape, train_X_cnn2d.shape"
      ],
      "execution_count": null,
      "outputs": [
        {
          "output_type": "execute_result",
          "data": {
            "text/plain": [
              "((451962, 32), (451962, 8, 4), (451962, 5, 5, 32))"
            ]
          },
          "metadata": {
            "tags": []
          },
          "execution_count": 4
        }
      ]
    },
    {
      "cell_type": "markdown",
      "metadata": {
        "id": "K23T_c-EAj_z"
      },
      "source": [
        "### **Encoder les labels entre 0 et 4 de sorte à matcher les prédictions des réseaux de neurones**"
      ]
    },
    {
      "cell_type": "code",
      "metadata": {
        "colab": {
          "base_uri": "https://localhost:8080/"
        },
        "id": "FY74aok1Arfi",
        "outputId": "8ea62e87-3412-4657-e42e-4913906e18a6"
      },
      "source": [
        "encoder = LabelEncoder()\n",
        "encoder.fit(train_y)\n",
        "train_y_enc = encoder.transform(train_y)\n",
        "valid_y_enc = encoder.transform(valid_y)\n",
        "np.unique(train_y), np.unique(train_y_enc), np.unique(valid_y), np.unique(valid_y_enc)"
      ],
      "execution_count": null,
      "outputs": [
        {
          "output_type": "execute_result",
          "data": {
            "text/plain": [
              "(array([1, 2, 3, 4, 5], dtype=uint8),\n",
              " array([0, 1, 2, 3, 4]),\n",
              " array([1, 2, 3, 4, 5], dtype=uint8),\n",
              " array([0, 1, 2, 3, 4]))"
            ]
          },
          "metadata": {
            "tags": []
          },
          "execution_count": 5
        }
      ]
    },
    {
      "cell_type": "markdown",
      "metadata": {
        "id": "GpH3oJPVE3uE"
      },
      "source": [
        "### **Définition séquentielle de votre modèle avec Keras**\n",
        "\n",
        "N'oubliez pas de spécifier l'input shape qui varie en fonction des types d'architectures, le nombre de neurones de la couche de sortie qui équivaut au nombre de classes que vous avez et de l'activer avec une fonction Softmax"
      ]
    },
    {
      "cell_type": "code",
      "metadata": {
        "id": "cvUdNqlKAu0X"
      },
      "source": [
        "model = tf.keras.models.Sequential([\n",
        "  tf.keras.layers.Input(shape=(32)),\n",
        "  tf.keras.layers.Dense(128, activation='relu'),\n",
        "  tf.keras.layers.Dense(256, activation='relu'),\n",
        "  tf.keras.layers.Dropout(0.2),\n",
        "  tf.keras.layers.Dense(5, activation='softmax')\n",
        "])"
      ],
      "execution_count": null,
      "outputs": []
    },
    {
      "cell_type": "code",
      "metadata": {
        "colab": {
          "base_uri": "https://localhost:8080/"
        },
        "id": "jhhSzQvSFALk",
        "outputId": "6fbd2c2d-5ca6-4556-ea49-87de776e1564"
      },
      "source": [
        "# Afficher votre modèle\n",
        "model.summary()"
      ],
      "execution_count": null,
      "outputs": [
        {
          "output_type": "stream",
          "text": [
            "Model: \"sequential\"\n",
            "_________________________________________________________________\n",
            "Layer (type)                 Output Shape              Param #   \n",
            "=================================================================\n",
            "dense (Dense)                (None, 128)               4224      \n",
            "_________________________________________________________________\n",
            "dense_1 (Dense)              (None, 256)               33024     \n",
            "_________________________________________________________________\n",
            "dropout (Dropout)            (None, 256)               0         \n",
            "_________________________________________________________________\n",
            "dense_2 (Dense)              (None, 5)                 1285      \n",
            "=================================================================\n",
            "Total params: 38,533\n",
            "Trainable params: 38,533\n",
            "Non-trainable params: 0\n",
            "_________________________________________________________________\n"
          ],
          "name": "stdout"
        }
      ]
    },
    {
      "cell_type": "markdown",
      "metadata": {
        "id": "ck-jbWUnCD0y"
      },
      "source": [
        "### **Définition de votre modèle en utilisant l'API fonctionnelle**"
      ]
    },
    {
      "cell_type": "code",
      "metadata": {
        "id": "C-qUR7zPCRa6"
      },
      "source": [
        "# Inputs \n",
        "mlp_input = Input(shape=(32),name='mlp_input')\n",
        "cnn_input = Input(shape=(8,4),name='cnn_input')\n",
        "\n",
        "# MLP branch\n",
        "mlp_layer1 = Dense(128,activation='relu')(mlp_input)\n",
        "mlp_layer1 = BatchNormalization()(mlp_layer1)\n",
        "mlp_layer2 = Dense(256,activation='relu')(mlp_layer1)\n",
        "mlp_layer2 = BatchNormalization()(mlp_layer2)\n",
        "mlp_layer2 = Dropout(0.5)(mlp_layer2)\n",
        "mlp_out = Dense(5,activation='softmax',name='mlp')(mlp_layer2)\n",
        "mlp_branch = Model(inputs=mlp_input,outputs=[mlp_layer2,mlp_out],name=\"mlp\")\n",
        "\n",
        "# CNN branch\n",
        "cnn_layer1 = Conv1D(filters=128,kernel_size=3,activation='relu')(cnn_input)\n",
        "cnn_layer1 = BatchNormalization()(cnn_layer1)\n",
        "cnn_layer2 = Conv1D(filters=256,kernel_size=3,activation='relu')(cnn_layer1)\n",
        "cnn_layer2 = BatchNormalization()(cnn_layer2)\n",
        "cnn_layer2 = Dropout(0.3)(cnn_layer2)\n",
        "cnn_layer3 = GlobalAveragePooling1D()(cnn_layer2)\n",
        "cnn_out = Dense(5,activation='softmax',name='cnn')(cnn_layer3)\n",
        "cnn_branch = Model(inputs=cnn_input,outputs=[cnn_layer3,cnn_out],name=\"cnn\")\n",
        "\n",
        "# Concaténation des sorties des branches\n",
        "concat = Concatenate()([mlp_branch.output[0],cnn_branch.output[0]])\n",
        "\n",
        "# Un niveau Dense pour la classification\n",
        "fc = Dense (128,activation='relu')(concat)\n",
        "fc = Dropout (0.3)(fc)\n",
        "out_layer = Dense(5,activation='softmax',name='main')(fc)\n",
        "\n",
        "\n",
        "model = Model(inputs=[mlp_branch.input, cnn_branch.input], outputs=[out_layer,mlp_branch.output[1],cnn_branch.output[1]],name=\"mlp_cnn\")"
      ],
      "execution_count": null,
      "outputs": []
    },
    {
      "cell_type": "code",
      "metadata": {
        "colab": {
          "base_uri": "https://localhost:8080/"
        },
        "id": "oxtoXsFgPNX7",
        "outputId": "a3a56cbc-6031-46b5-d77e-2d91f07cfdf3"
      },
      "source": [
        "model.summary()"
      ],
      "execution_count": null,
      "outputs": [
        {
          "output_type": "stream",
          "text": [
            "Model: \"mlp_cnn\"\n",
            "__________________________________________________________________________________________________\n",
            "Layer (type)                    Output Shape         Param #     Connected to                     \n",
            "==================================================================================================\n",
            "cnn_input (InputLayer)          [(None, 8, 4)]       0                                            \n",
            "__________________________________________________________________________________________________\n",
            "mlp_input (InputLayer)          [(None, 32)]         0                                            \n",
            "__________________________________________________________________________________________________\n",
            "conv1d (Conv1D)                 (None, 6, 128)       1664        cnn_input[0][0]                  \n",
            "__________________________________________________________________________________________________\n",
            "dense_3 (Dense)                 (None, 128)          4224        mlp_input[0][0]                  \n",
            "__________________________________________________________________________________________________\n",
            "batch_normalization_2 (BatchNor (None, 6, 128)       512         conv1d[0][0]                     \n",
            "__________________________________________________________________________________________________\n",
            "batch_normalization (BatchNorma (None, 128)          512         dense_3[0][0]                    \n",
            "__________________________________________________________________________________________________\n",
            "conv1d_1 (Conv1D)               (None, 4, 256)       98560       batch_normalization_2[0][0]      \n",
            "__________________________________________________________________________________________________\n",
            "dense_4 (Dense)                 (None, 256)          33024       batch_normalization[0][0]        \n",
            "__________________________________________________________________________________________________\n",
            "batch_normalization_3 (BatchNor (None, 4, 256)       1024        conv1d_1[0][0]                   \n",
            "__________________________________________________________________________________________________\n",
            "batch_normalization_1 (BatchNor (None, 256)          1024        dense_4[0][0]                    \n",
            "__________________________________________________________________________________________________\n",
            "dropout_2 (Dropout)             (None, 4, 256)       0           batch_normalization_3[0][0]      \n",
            "__________________________________________________________________________________________________\n",
            "dropout_1 (Dropout)             (None, 256)          0           batch_normalization_1[0][0]      \n",
            "__________________________________________________________________________________________________\n",
            "global_average_pooling1d (Globa (None, 256)          0           dropout_2[0][0]                  \n",
            "__________________________________________________________________________________________________\n",
            "concatenate (Concatenate)       (None, 512)          0           dropout_1[0][0]                  \n",
            "                                                                 global_average_pooling1d[0][0]   \n",
            "__________________________________________________________________________________________________\n",
            "dense_5 (Dense)                 (None, 128)          65664       concatenate[0][0]                \n",
            "__________________________________________________________________________________________________\n",
            "dropout_3 (Dropout)             (None, 128)          0           dense_5[0][0]                    \n",
            "__________________________________________________________________________________________________\n",
            "main (Dense)                    (None, 5)            645         dropout_3[0][0]                  \n",
            "__________________________________________________________________________________________________\n",
            "mlp (Dense)                     (None, 5)            1285        dropout_1[0][0]                  \n",
            "__________________________________________________________________________________________________\n",
            "cnn (Dense)                     (None, 5)            1285        global_average_pooling1d[0][0]   \n",
            "==================================================================================================\n",
            "Total params: 209,423\n",
            "Trainable params: 207,887\n",
            "Non-trainable params: 1,536\n",
            "__________________________________________________________________________________________________\n"
          ],
          "name": "stdout"
        }
      ]
    },
    {
      "cell_type": "code",
      "metadata": {
        "colab": {
          "base_uri": "https://localhost:8080/",
          "height": 1000
        },
        "id": "_cGHVPi2Pi5H",
        "outputId": "8a59d747-58ac-4289-db19-31c1535e2265"
      },
      "source": [
        "tf.keras.utils.plot_model(model,show_shapes=True)"
      ],
      "execution_count": null,
      "outputs": [
        {
          "output_type": "execute_result",
          "data": {
            "image/png": "[encoded data removed]",
            "text/plain": [
              "<IPython.core.display.Image object>"
            ]
          },
          "metadata": {
            "tags": []
          },
          "execution_count": 10
        }
      ]
    },
    {
      "cell_type": "markdown",
      "metadata": {
        "id": "f2ksSpJGF1gP"
      },
      "source": [
        "### **Compiler votre modèle en définissant une fonction de côut, un optmiseur et une métrique**\n",
        "\n",
        "Dans le cas d'une classification multi-classe, votre fonction de coût est la cross entropy catégorique. $Adam$ est un bon optimiseur de départ pour vos projets. Ici vous pouvez surveiller la métrique $Accuracy$. Pour la fonction de coût (loss), je n'utilse pas l'argument $from\\_logits=True$ car j'ai déjà activé la couche de sortie avec une fonction Softmax"
      ]
    },
    {
      "cell_type": "code",
      "metadata": {
        "id": "qtwtaGndG7UN"
      },
      "source": [
        "model.compile(optimizer=tf.keras.optimizers.Adam(learning_rate=1e-4) ,loss=tf.keras.losses.SparseCategoricalCrossentropy(),loss_weights=[1,.5,.5], metrics=tf.keras.metrics.SparseCategoricalAccuracy(name='acc'))"
      ],
      "execution_count": null,
      "outputs": []
    },
    {
      "cell_type": "markdown",
      "metadata": {
        "id": "aLKCHopeIIet"
      },
      "source": [
        "### **Définir un callback pour sauver les poids de votre modèle sur les meilleures époque c'est à dire les moments où il s'améliorera sur le jeu de validation**"
      ]
    },
    {
      "cell_type": "code",
      "metadata": {
        "id": "X-_N87DhIH5N"
      },
      "source": [
        "Path('my_model').mkdir(exist_ok=True, parents=True)\n",
        "checkpointpath = os.path.join('my_model','model') # chemin où sauver le modèle\n",
        "callbacks = [tf.keras.callbacks.ModelCheckpoint(\n",
        "              checkpointpath,\n",
        "              verbose=1, # niveau de log\n",
        "              monitor='val_main_acc', # nom de la métrique à surveiller\n",
        "              save_best_only=True, # sauver uniquement le meilleur modèle\n",
        "              save_weights_only=True)] # sauver uniquement les poids"
      ],
      "execution_count": null,
      "outputs": []
    },
    {
      "cell_type": "markdown",
      "metadata": {
        "id": "ozHZJ2CZH72X"
      },
      "source": [
        "### **Entraîner votre modèle pour un certain nombre d'époques**\n",
        "\n",
        "Le paramètre $validation\\_data$ vous permet de spécifier des données de validation et de votre le comportement de votre modèle sur un jeu indépendant dont il n'a pas la connaissance. \n",
        "\n",
        "La taille de batch ($batch\\_size$) correspond au nombre d'échantillons sur lesquels le modèle est entraîné à la fois sur une époque. Vous pouvez le mettre à (ex. 32, 64, 128, 256) et plus il est grand ce qui requiert d'avoir de la mémoire plus le temps d'exécution d'une époque sera court\n",
        "\n",
        "J'utilise les labels encodés entre 0 et 4 car la prédiction sur les distributions de probabilités du modèle est retournée avec un argmax"
      ]
    },
    {
      "cell_type": "code",
      "metadata": {
        "colab": {
          "base_uri": "https://localhost:8080/"
        },
        "id": "8WpxHz3FJuJ6",
        "outputId": "d91f27fc-2600-4cf2-ba81-2e0e5780fdae"
      },
      "source": [
        "BATCH_SIZE = 256\n",
        "EPOCHS = 50\n",
        "hist = model.fit ([train_X_mlp,train_X_cnn1d], train_y_enc, validation_data=([valid_X_mlp,valid_X_cnn1d],valid_y_enc), batch_size=BATCH_SIZE, epochs=EPOCHS, callbacks=callbacks)"
      ],
      "execution_count": null,
      "outputs": [
        {
          "output_type": "stream",
          "text": [
            "Epoch 1/50\n",
            "1766/1766 [==============================] - ETA: 0s - loss: 0.4040 - main_loss: 0.1819 - mlp_loss: 0.2340 - cnn_loss: 0.2101 - main_acc: 0.9362 - mlp_acc: 0.9191 - cnn_acc: 0.9265\n",
            "Epoch 00001: val_main_acc improved from -inf to 0.90120, saving model to my_model/model\n",
            "1766/1766 [==============================] - 17s 10ms/step - loss: 0.4040 - main_loss: 0.1819 - mlp_loss: 0.2340 - cnn_loss: 0.2101 - main_acc: 0.9362 - mlp_acc: 0.9191 - cnn_acc: 0.9265 - val_loss: 0.5670 - val_main_loss: 0.2782 - val_mlp_loss: 0.2953 - val_cnn_loss: 0.2824 - val_main_acc: 0.9012 - val_mlp_acc: 0.8979 - val_cnn_acc: 0.8976\n",
            "Epoch 2/50\n",
            "1763/1766 [============================>.] - ETA: 0s - loss: 0.3916 - main_loss: 0.1750 - mlp_loss: 0.2292 - cnn_loss: 0.2039 - main_acc: 0.9383 - mlp_acc: 0.9205 - cnn_acc: 0.9288\n",
            "Epoch 00002: val_main_acc improved from 0.90120 to 0.90480, saving model to my_model/model\n",
            "1766/1766 [==============================] - 17s 9ms/step - loss: 0.3915 - main_loss: 0.1750 - mlp_loss: 0.2292 - cnn_loss: 0.2039 - main_acc: 0.9383 - mlp_acc: 0.9205 - cnn_acc: 0.9288 - val_loss: 0.5528 - val_main_loss: 0.2701 - val_mlp_loss: 0.2711 - val_cnn_loss: 0.2943 - val_main_acc: 0.9048 - val_mlp_acc: 0.9066 - val_cnn_acc: 0.8948\n",
            "Epoch 3/50\n",
            "1766/1766 [==============================] - ETA: 0s - loss: 0.3807 - main_loss: 0.1691 - mlp_loss: 0.2241 - cnn_loss: 0.1990 - main_acc: 0.9401 - mlp_acc: 0.9226 - cnn_acc: 0.9298\n",
            "Epoch 00003: val_main_acc did not improve from 0.90480\n",
            "1766/1766 [==============================] - 16s 9ms/step - loss: 0.3807 - main_loss: 0.1691 - mlp_loss: 0.2241 - cnn_loss: 0.1990 - main_acc: 0.9401 - mlp_acc: 0.9226 - cnn_acc: 0.9298 - val_loss: 0.5854 - val_main_loss: 0.2880 - val_mlp_loss: 0.3077 - val_cnn_loss: 0.2870 - val_main_acc: 0.9043 - val_mlp_acc: 0.8960 - val_cnn_acc: 0.9025\n",
            "Epoch 4/50\n",
            "1762/1766 [============================>.] - ETA: 0s - loss: 0.3707 - main_loss: 0.1636 - mlp_loss: 0.2198 - cnn_loss: 0.1944 - main_acc: 0.9422 - mlp_acc: 0.9239 - cnn_acc: 0.9313\n",
            "Epoch 00004: val_main_acc did not improve from 0.90480\n",
            "1766/1766 [==============================] - 16s 9ms/step - loss: 0.3707 - main_loss: 0.1636 - mlp_loss: 0.2198 - cnn_loss: 0.1944 - main_acc: 0.9422 - mlp_acc: 0.9239 - cnn_acc: 0.9313 - val_loss: 0.6489 - val_main_loss: 0.3202 - val_mlp_loss: 0.3128 - val_cnn_loss: 0.3445 - val_main_acc: 0.8916 - val_mlp_acc: 0.8939 - val_cnn_acc: 0.8820\n",
            "Epoch 5/50\n",
            "1765/1766 [============================>.] - ETA: 0s - loss: 0.3625 - main_loss: 0.1591 - mlp_loss: 0.2163 - cnn_loss: 0.1904 - main_acc: 0.9437 - mlp_acc: 0.9248 - cnn_acc: 0.9328\n",
            "Epoch 00005: val_main_acc did not improve from 0.90480\n",
            "1766/1766 [==============================] - 19s 11ms/step - loss: 0.3624 - main_loss: 0.1591 - mlp_loss: 0.2163 - cnn_loss: 0.1904 - main_acc: 0.9437 - mlp_acc: 0.9248 - cnn_acc: 0.9328 - val_loss: 0.5797 - val_main_loss: 0.2896 - val_mlp_loss: 0.2879 - val_cnn_loss: 0.2923 - val_main_acc: 0.9028 - val_mlp_acc: 0.9009 - val_cnn_acc: 0.8990\n",
            "Epoch 6/50\n",
            "1761/1766 [============================>.] - ETA: 0s - loss: 0.3545 - main_loss: 0.1549 - mlp_loss: 0.2128 - cnn_loss: 0.1864 - main_acc: 0.9449 - mlp_acc: 0.9262 - cnn_acc: 0.9342\n",
            "Epoch 00006: val_main_acc did not improve from 0.90480\n",
            "1766/1766 [==============================] - 18s 10ms/step - loss: 0.3544 - main_loss: 0.1549 - mlp_loss: 0.2127 - cnn_loss: 0.1863 - main_acc: 0.9449 - mlp_acc: 0.9262 - cnn_acc: 0.9342 - val_loss: 0.5885 - val_main_loss: 0.2935 - val_mlp_loss: 0.2920 - val_cnn_loss: 0.2979 - val_main_acc: 0.9018 - val_mlp_acc: 0.9023 - val_cnn_acc: 0.8997\n",
            "Epoch 7/50\n",
            "1766/1766 [==============================] - ETA: 0s - loss: 0.3465 - main_loss: 0.1504 - mlp_loss: 0.2096 - cnn_loss: 0.1826 - main_acc: 0.9466 - mlp_acc: 0.9273 - cnn_acc: 0.9356\n",
            "Epoch 00007: val_main_acc did not improve from 0.90480\n",
            "1766/1766 [==============================] - 16s 9ms/step - loss: 0.3465 - main_loss: 0.1504 - mlp_loss: 0.2096 - cnn_loss: 0.1826 - main_acc: 0.9466 - mlp_acc: 0.9273 - cnn_acc: 0.9356 - val_loss: 0.5895 - val_main_loss: 0.2943 - val_mlp_loss: 0.3017 - val_cnn_loss: 0.2886 - val_main_acc: 0.8998 - val_mlp_acc: 0.8992 - val_cnn_acc: 0.9016\n",
            "Epoch 8/50\n",
            "1764/1766 [============================>.] - ETA: 0s - loss: 0.3390 - main_loss: 0.1464 - mlp_loss: 0.2062 - cnn_loss: 0.1790 - main_acc: 0.9482 - mlp_acc: 0.9282 - cnn_acc: 0.9369\n",
            "Epoch 00008: val_main_acc did not improve from 0.90480\n",
            "1766/1766 [==============================] - 16s 9ms/step - loss: 0.3390 - main_loss: 0.1464 - mlp_loss: 0.2062 - cnn_loss: 0.1790 - main_acc: 0.9481 - mlp_acc: 0.9282 - cnn_acc: 0.9369 - val_loss: 0.6033 - val_main_loss: 0.3082 - val_mlp_loss: 0.2947 - val_cnn_loss: 0.2956 - val_main_acc: 0.8962 - val_mlp_acc: 0.9009 - val_cnn_acc: 0.8978\n",
            "Epoch 9/50\n",
            "1764/1766 [============================>.] - ETA: 0s - loss: 0.3331 - main_loss: 0.1431 - mlp_loss: 0.2041 - cnn_loss: 0.1758 - main_acc: 0.9491 - mlp_acc: 0.9288 - cnn_acc: 0.9381\n",
            "Epoch 00009: val_main_acc did not improve from 0.90480\n",
            "1766/1766 [==============================] - 16s 9ms/step - loss: 0.3331 - main_loss: 0.1432 - mlp_loss: 0.2042 - cnn_loss: 0.1758 - main_acc: 0.9490 - mlp_acc: 0.9288 - cnn_acc: 0.9381 - val_loss: 0.6247 - val_main_loss: 0.3174 - val_mlp_loss: 0.3145 - val_cnn_loss: 0.2999 - val_main_acc: 0.8947 - val_mlp_acc: 0.8951 - val_cnn_acc: 0.8979\n",
            "Epoch 10/50\n",
            "1763/1766 [============================>.] - ETA: 0s - loss: 0.3277 - main_loss: 0.1403 - mlp_loss: 0.2011 - cnn_loss: 0.1738 - main_acc: 0.9502 - mlp_acc: 0.9298 - cnn_acc: 0.9384\n",
            "Epoch 00010: val_main_acc did not improve from 0.90480\n",
            "1766/1766 [==============================] - 16s 9ms/step - loss: 0.3278 - main_loss: 0.1404 - mlp_loss: 0.2011 - cnn_loss: 0.1738 - main_acc: 0.9502 - mlp_acc: 0.9298 - cnn_acc: 0.9384 - val_loss: 0.6139 - val_main_loss: 0.3139 - val_mlp_loss: 0.3049 - val_cnn_loss: 0.2952 - val_main_acc: 0.8957 - val_mlp_acc: 0.8997 - val_cnn_acc: 0.8982\n",
            "Epoch 11/50\n",
            "1763/1766 [============================>.] - ETA: 0s - loss: 0.3218 - main_loss: 0.1370 - mlp_loss: 0.1986 - cnn_loss: 0.1711 - main_acc: 0.9512 - mlp_acc: 0.9307 - cnn_acc: 0.9393\n",
            "Epoch 00011: val_main_acc did not improve from 0.90480\n",
            "1766/1766 [==============================] - 16s 9ms/step - loss: 0.3218 - main_loss: 0.1370 - mlp_loss: 0.1986 - cnn_loss: 0.1711 - main_acc: 0.9512 - mlp_acc: 0.9307 - cnn_acc: 0.9393 - val_loss: 0.6310 - val_main_loss: 0.3192 - val_mlp_loss: 0.3013 - val_cnn_loss: 0.3223 - val_main_acc: 0.8964 - val_mlp_acc: 0.8995 - val_cnn_acc: 0.8927\n",
            "Epoch 12/50\n",
            "1761/1766 [============================>.] - ETA: 0s - loss: 0.3168 - main_loss: 0.1343 - mlp_loss: 0.1962 - cnn_loss: 0.1687 - main_acc: 0.9519 - mlp_acc: 0.9314 - cnn_acc: 0.9405\n",
            "Epoch 00012: val_main_acc did not improve from 0.90480\n",
            "1766/1766 [==============================] - 17s 9ms/step - loss: 0.3169 - main_loss: 0.1344 - mlp_loss: 0.1962 - cnn_loss: 0.1688 - main_acc: 0.9518 - mlp_acc: 0.9314 - cnn_acc: 0.9404 - val_loss: 0.6071 - val_main_loss: 0.3096 - val_mlp_loss: 0.2968 - val_cnn_loss: 0.2982 - val_main_acc: 0.8990 - val_mlp_acc: 0.9025 - val_cnn_acc: 0.8998\n",
            "Epoch 13/50\n",
            "1761/1766 [============================>.] - ETA: 0s - loss: 0.3121 - main_loss: 0.1318 - mlp_loss: 0.1947 - cnn_loss: 0.1659 - main_acc: 0.9529 - mlp_acc: 0.9319 - cnn_acc: 0.9411\n",
            "Epoch 00013: val_main_acc did not improve from 0.90480\n",
            "1766/1766 [==============================] - 17s 9ms/step - loss: 0.3122 - main_loss: 0.1318 - mlp_loss: 0.1948 - cnn_loss: 0.1660 - main_acc: 0.9529 - mlp_acc: 0.9319 - cnn_acc: 0.9411 - val_loss: 0.6207 - val_main_loss: 0.3191 - val_mlp_loss: 0.2984 - val_cnn_loss: 0.3049 - val_main_acc: 0.8938 - val_mlp_acc: 0.9013 - val_cnn_acc: 0.8943\n",
            "Epoch 14/50\n",
            "1766/1766 [==============================] - ETA: 0s - loss: 0.3073 - main_loss: 0.1292 - mlp_loss: 0.1923 - cnn_loss: 0.1639 - main_acc: 0.9540 - mlp_acc: 0.9326 - cnn_acc: 0.9419\n",
            "Epoch 00014: val_main_acc did not improve from 0.90480\n",
            "1766/1766 [==============================] - 19s 11ms/step - loss: 0.3073 - main_loss: 0.1292 - mlp_loss: 0.1923 - cnn_loss: 0.1639 - main_acc: 0.9540 - mlp_acc: 0.9326 - cnn_acc: 0.9419 - val_loss: 0.6334 - val_main_loss: 0.3248 - val_mlp_loss: 0.3119 - val_cnn_loss: 0.3054 - val_main_acc: 0.8987 - val_mlp_acc: 0.8978 - val_cnn_acc: 0.8994\n",
            "Epoch 15/50\n",
            "1765/1766 [============================>.] - ETA: 0s - loss: 0.3026 - main_loss: 0.1270 - mlp_loss: 0.1896 - cnn_loss: 0.1615 - main_acc: 0.9547 - mlp_acc: 0.9334 - cnn_acc: 0.9426\n",
            "Epoch 00015: val_main_acc did not improve from 0.90480\n",
            "1766/1766 [==============================] - 17s 10ms/step - loss: 0.3025 - main_loss: 0.1270 - mlp_loss: 0.1896 - cnn_loss: 0.1615 - main_acc: 0.9547 - mlp_acc: 0.9334 - cnn_acc: 0.9426 - val_loss: 0.7030 - val_main_loss: 0.3570 - val_mlp_loss: 0.3637 - val_cnn_loss: 0.3284 - val_main_acc: 0.8872 - val_mlp_acc: 0.8804 - val_cnn_acc: 0.8905\n",
            "Epoch 16/50\n",
            "1765/1766 [============================>.] - ETA: 0s - loss: 0.3001 - main_loss: 0.1253 - mlp_loss: 0.1893 - cnn_loss: 0.1604 - main_acc: 0.9555 - mlp_acc: 0.9341 - cnn_acc: 0.9435\n",
            "Epoch 00016: val_main_acc did not improve from 0.90480\n",
            "1766/1766 [==============================] - 16s 9ms/step - loss: 0.3001 - main_loss: 0.1253 - mlp_loss: 0.1893 - cnn_loss: 0.1604 - main_acc: 0.9555 - mlp_acc: 0.9341 - cnn_acc: 0.9435 - val_loss: 0.6738 - val_main_loss: 0.3442 - val_mlp_loss: 0.3032 - val_cnn_loss: 0.3560 - val_main_acc: 0.8897 - val_mlp_acc: 0.9002 - val_cnn_acc: 0.8841\n",
            "Epoch 17/50\n",
            "1763/1766 [============================>.] - ETA: 0s - loss: 0.2959 - main_loss: 0.1230 - mlp_loss: 0.1873 - cnn_loss: 0.1585 - main_acc: 0.9561 - mlp_acc: 0.9345 - cnn_acc: 0.9439\n",
            "Epoch 00017: val_main_acc did not improve from 0.90480\n",
            "1766/1766 [==============================] - 16s 9ms/step - loss: 0.2959 - main_loss: 0.1230 - mlp_loss: 0.1873 - cnn_loss: 0.1585 - main_acc: 0.9561 - mlp_acc: 0.9345 - cnn_acc: 0.9439 - val_loss: 0.6487 - val_main_loss: 0.3344 - val_mlp_loss: 0.3007 - val_cnn_loss: 0.3279 - val_main_acc: 0.8926 - val_mlp_acc: 0.8990 - val_cnn_acc: 0.8913\n",
            "Epoch 18/50\n",
            "1765/1766 [============================>.] - ETA: 0s - loss: 0.2916 - main_loss: 0.1210 - mlp_loss: 0.1850 - cnn_loss: 0.1562 - main_acc: 0.9570 - mlp_acc: 0.9351 - cnn_acc: 0.9445\n",
            "Epoch 00018: val_main_acc did not improve from 0.90480\n",
            "1766/1766 [==============================] - 16s 9ms/step - loss: 0.2916 - main_loss: 0.1210 - mlp_loss: 0.1850 - cnn_loss: 0.1562 - main_acc: 0.9570 - mlp_acc: 0.9351 - cnn_acc: 0.9445 - val_loss: 0.6919 - val_main_loss: 0.3574 - val_mlp_loss: 0.3444 - val_cnn_loss: 0.3246 - val_main_acc: 0.8955 - val_mlp_acc: 0.8937 - val_cnn_acc: 0.8966\n",
            "Epoch 19/50\n",
            "1761/1766 [============================>.] - ETA: 0s - loss: 0.2863 - main_loss: 0.1181 - mlp_loss: 0.1820 - cnn_loss: 0.1542 - main_acc: 0.9578 - mlp_acc: 0.9362 - cnn_acc: 0.9453\n",
            "Epoch 00019: val_main_acc did not improve from 0.90480\n",
            "1766/1766 [==============================] - 16s 9ms/step - loss: 0.2862 - main_loss: 0.1181 - mlp_loss: 0.1820 - cnn_loss: 0.1542 - main_acc: 0.9578 - mlp_acc: 0.9362 - cnn_acc: 0.9453 - val_loss: 0.6925 - val_main_loss: 0.3634 - val_mlp_loss: 0.3264 - val_cnn_loss: 0.3318 - val_main_acc: 0.8881 - val_mlp_acc: 0.8954 - val_cnn_acc: 0.8908\n",
            "Epoch 20/50\n",
            "1760/1766 [============================>.] - ETA: 0s - loss: 0.2843 - main_loss: 0.1172 - mlp_loss: 0.1815 - cnn_loss: 0.1527 - main_acc: 0.9580 - mlp_acc: 0.9363 - cnn_acc: 0.9461\n",
            "Epoch 00020: val_main_acc did not improve from 0.90480\n",
            "1766/1766 [==============================] - 16s 9ms/step - loss: 0.2843 - main_loss: 0.1172 - mlp_loss: 0.1815 - cnn_loss: 0.1527 - main_acc: 0.9580 - mlp_acc: 0.9364 - cnn_acc: 0.9461 - val_loss: 0.6717 - val_main_loss: 0.3504 - val_mlp_loss: 0.3201 - val_cnn_loss: 0.3225 - val_main_acc: 0.8963 - val_mlp_acc: 0.8960 - val_cnn_acc: 0.8978\n",
            "Epoch 21/50\n",
            "1763/1766 [============================>.] - ETA: 0s - loss: 0.2810 - main_loss: 0.1153 - mlp_loss: 0.1800 - cnn_loss: 0.1513 - main_acc: 0.9588 - mlp_acc: 0.9364 - cnn_acc: 0.9462\n",
            "Epoch 00021: val_main_acc did not improve from 0.90480\n",
            "1766/1766 [==============================] - 16s 9ms/step - loss: 0.2810 - main_loss: 0.1154 - mlp_loss: 0.1800 - cnn_loss: 0.1513 - main_acc: 0.9588 - mlp_acc: 0.9364 - cnn_acc: 0.9462 - val_loss: 0.7146 - val_main_loss: 0.3791 - val_mlp_loss: 0.3288 - val_cnn_loss: 0.3421 - val_main_acc: 0.8875 - val_mlp_acc: 0.8940 - val_cnn_acc: 0.8863\n",
            "Epoch 22/50\n",
            "1760/1766 [============================>.] - ETA: 0s - loss: 0.2768 - main_loss: 0.1132 - mlp_loss: 0.1773 - cnn_loss: 0.1501 - main_acc: 0.9594 - mlp_acc: 0.9372 - cnn_acc: 0.9466\n",
            "Epoch 00022: val_main_acc did not improve from 0.90480\n",
            "1766/1766 [==============================] - 16s 9ms/step - loss: 0.2769 - main_loss: 0.1132 - mlp_loss: 0.1773 - cnn_loss: 0.1501 - main_acc: 0.9594 - mlp_acc: 0.9373 - cnn_acc: 0.9466 - val_loss: 0.7166 - val_main_loss: 0.3758 - val_mlp_loss: 0.3360 - val_cnn_loss: 0.3457 - val_main_acc: 0.8840 - val_mlp_acc: 0.8903 - val_cnn_acc: 0.8858\n",
            "Epoch 23/50\n",
            "1761/1766 [============================>.] - ETA: 0s - loss: 0.2751 - main_loss: 0.1124 - mlp_loss: 0.1769 - cnn_loss: 0.1485 - main_acc: 0.9602 - mlp_acc: 0.9375 - cnn_acc: 0.9476\n",
            "Epoch 00023: val_main_acc did not improve from 0.90480\n",
            "1766/1766 [==============================] - 17s 10ms/step - loss: 0.2751 - main_loss: 0.1124 - mlp_loss: 0.1770 - cnn_loss: 0.1486 - main_acc: 0.9602 - mlp_acc: 0.9375 - cnn_acc: 0.9476 - val_loss: 0.6802 - val_main_loss: 0.3600 - val_mlp_loss: 0.3164 - val_cnn_loss: 0.3240 - val_main_acc: 0.8900 - val_mlp_acc: 0.8964 - val_cnn_acc: 0.8913\n",
            "Epoch 24/50\n",
            "1762/1766 [============================>.] - ETA: 0s - loss: 0.2715 - main_loss: 0.1106 - mlp_loss: 0.1749 - cnn_loss: 0.1469 - main_acc: 0.9606 - mlp_acc: 0.9384 - cnn_acc: 0.9478\n",
            "Epoch 00024: val_main_acc did not improve from 0.90480\n",
            "1766/1766 [==============================] - 19s 11ms/step - loss: 0.2715 - main_loss: 0.1106 - mlp_loss: 0.1749 - cnn_loss: 0.1469 - main_acc: 0.9606 - mlp_acc: 0.9384 - cnn_acc: 0.9478 - val_loss: 0.7221 - val_main_loss: 0.3809 - val_mlp_loss: 0.3429 - val_cnn_loss: 0.3394 - val_main_acc: 0.8898 - val_mlp_acc: 0.8917 - val_cnn_acc: 0.8926\n",
            "Epoch 25/50\n",
            "1765/1766 [============================>.] - ETA: 0s - loss: 0.2682 - main_loss: 0.1086 - mlp_loss: 0.1731 - cnn_loss: 0.1462 - main_acc: 0.9611 - mlp_acc: 0.9389 - cnn_acc: 0.9480\n",
            "Epoch 00025: val_main_acc did not improve from 0.90480\n",
            "1766/1766 [==============================] - 18s 10ms/step - loss: 0.2682 - main_loss: 0.1086 - mlp_loss: 0.1731 - cnn_loss: 0.1462 - main_acc: 0.9611 - mlp_acc: 0.9389 - cnn_acc: 0.9480 - val_loss: 0.6993 - val_main_loss: 0.3681 - val_mlp_loss: 0.3314 - val_cnn_loss: 0.3309 - val_main_acc: 0.8907 - val_mlp_acc: 0.8925 - val_cnn_acc: 0.8930\n",
            "Epoch 26/50\n",
            "1763/1766 [============================>.] - ETA: 0s - loss: 0.2659 - main_loss: 0.1075 - mlp_loss: 0.1733 - cnn_loss: 0.1435 - main_acc: 0.9614 - mlp_acc: 0.9390 - cnn_acc: 0.9488\n",
            "Epoch 00026: val_main_acc did not improve from 0.90480\n",
            "1766/1766 [==============================] - 17s 10ms/step - loss: 0.2659 - main_loss: 0.1075 - mlp_loss: 0.1733 - cnn_loss: 0.1435 - main_acc: 0.9614 - mlp_acc: 0.9390 - cnn_acc: 0.9488 - val_loss: 0.7430 - val_main_loss: 0.3873 - val_mlp_loss: 0.3243 - val_cnn_loss: 0.3871 - val_main_acc: 0.8931 - val_mlp_acc: 0.8991 - val_cnn_acc: 0.8865\n",
            "Epoch 27/50\n",
            "1766/1766 [==============================] - ETA: 0s - loss: 0.2633 - main_loss: 0.1062 - mlp_loss: 0.1711 - cnn_loss: 0.1431 - main_acc: 0.9621 - mlp_acc: 0.9399 - cnn_acc: 0.9493\n",
            "Epoch 00027: val_main_acc did not improve from 0.90480\n",
            "1766/1766 [==============================] - 17s 9ms/step - loss: 0.2633 - main_loss: 0.1062 - mlp_loss: 0.1711 - cnn_loss: 0.1431 - main_acc: 0.9621 - mlp_acc: 0.9399 - cnn_acc: 0.9493 - val_loss: 0.7195 - val_main_loss: 0.3821 - val_mlp_loss: 0.3252 - val_cnn_loss: 0.3496 - val_main_acc: 0.8904 - val_mlp_acc: 0.8984 - val_cnn_acc: 0.8894\n",
            "Epoch 28/50\n",
            "1761/1766 [============================>.] - ETA: 0s - loss: 0.2606 - main_loss: 0.1050 - mlp_loss: 0.1695 - cnn_loss: 0.1417 - main_acc: 0.9625 - mlp_acc: 0.9404 - cnn_acc: 0.9497\n",
            "Epoch 00028: val_main_acc did not improve from 0.90480\n",
            "1766/1766 [==============================] - 17s 9ms/step - loss: 0.2606 - main_loss: 0.1050 - mlp_loss: 0.1695 - cnn_loss: 0.1417 - main_acc: 0.9625 - mlp_acc: 0.9404 - cnn_acc: 0.9496 - val_loss: 0.7303 - val_main_loss: 0.3927 - val_mlp_loss: 0.3341 - val_cnn_loss: 0.3411 - val_main_acc: 0.8903 - val_mlp_acc: 0.8982 - val_cnn_acc: 0.8932\n",
            "Epoch 29/50\n",
            "1764/1766 [============================>.] - ETA: 0s - loss: 0.2592 - main_loss: 0.1042 - mlp_loss: 0.1689 - cnn_loss: 0.1409 - main_acc: 0.9626 - mlp_acc: 0.9403 - cnn_acc: 0.9500\n",
            "Epoch 00029: val_main_acc did not improve from 0.90480\n",
            "1766/1766 [==============================] - 17s 9ms/step - loss: 0.2591 - main_loss: 0.1042 - mlp_loss: 0.1689 - cnn_loss: 0.1409 - main_acc: 0.9626 - mlp_acc: 0.9403 - cnn_acc: 0.9500 - val_loss: 0.7901 - val_main_loss: 0.4194 - val_mlp_loss: 0.3600 - val_cnn_loss: 0.3816 - val_main_acc: 0.8836 - val_mlp_acc: 0.8902 - val_cnn_acc: 0.8829\n",
            "Epoch 30/50\n",
            "1764/1766 [============================>.] - ETA: 0s - loss: 0.2565 - main_loss: 0.1029 - mlp_loss: 0.1672 - cnn_loss: 0.1399 - main_acc: 0.9635 - mlp_acc: 0.9407 - cnn_acc: 0.9503\n",
            "Epoch 00030: val_main_acc did not improve from 0.90480\n",
            "1766/1766 [==============================] - 17s 9ms/step - loss: 0.2564 - main_loss: 0.1029 - mlp_loss: 0.1672 - cnn_loss: 0.1398 - main_acc: 0.9635 - mlp_acc: 0.9407 - cnn_acc: 0.9503 - val_loss: 0.7491 - val_main_loss: 0.4003 - val_mlp_loss: 0.3209 - val_cnn_loss: 0.3766 - val_main_acc: 0.8934 - val_mlp_acc: 0.8996 - val_cnn_acc: 0.8908\n",
            "Epoch 31/50\n",
            "1761/1766 [============================>.] - ETA: 0s - loss: 0.2537 - main_loss: 0.1015 - mlp_loss: 0.1659 - cnn_loss: 0.1385 - main_acc: 0.9638 - mlp_acc: 0.9411 - cnn_acc: 0.9510\n",
            "Epoch 00031: val_main_acc did not improve from 0.90480\n",
            "1766/1766 [==============================] - 17s 10ms/step - loss: 0.2537 - main_loss: 0.1015 - mlp_loss: 0.1659 - cnn_loss: 0.1385 - main_acc: 0.9638 - mlp_acc: 0.9411 - cnn_acc: 0.9510 - val_loss: 0.7411 - val_main_loss: 0.3967 - val_mlp_loss: 0.3282 - val_cnn_loss: 0.3607 - val_main_acc: 0.8891 - val_mlp_acc: 0.8988 - val_cnn_acc: 0.8906\n",
            "Epoch 32/50\n",
            "1765/1766 [============================>.] - ETA: 0s - loss: 0.2512 - main_loss: 0.1001 - mlp_loss: 0.1649 - cnn_loss: 0.1372 - main_acc: 0.9643 - mlp_acc: 0.9420 - cnn_acc: 0.9512\n",
            "Epoch 00032: val_main_acc did not improve from 0.90480\n",
            "1766/1766 [==============================] - 17s 9ms/step - loss: 0.2512 - main_loss: 0.1001 - mlp_loss: 0.1649 - cnn_loss: 0.1372 - main_acc: 0.9643 - mlp_acc: 0.9420 - cnn_acc: 0.9512 - val_loss: 0.7627 - val_main_loss: 0.4049 - val_mlp_loss: 0.3521 - val_cnn_loss: 0.3636 - val_main_acc: 0.8887 - val_mlp_acc: 0.8905 - val_cnn_acc: 0.8897\n",
            "Epoch 33/50\n",
            "1764/1766 [============================>.] - ETA: 0s - loss: 0.2500 - main_loss: 0.0995 - mlp_loss: 0.1640 - cnn_loss: 0.1369 - main_acc: 0.9645 - mlp_acc: 0.9420 - cnn_acc: 0.9516\n",
            "Epoch 00033: val_main_acc did not improve from 0.90480\n",
            "1766/1766 [==============================] - 17s 9ms/step - loss: 0.2499 - main_loss: 0.0995 - mlp_loss: 0.1640 - cnn_loss: 0.1369 - main_acc: 0.9645 - mlp_acc: 0.9420 - cnn_acc: 0.9516 - val_loss: 0.7920 - val_main_loss: 0.4244 - val_mlp_loss: 0.3665 - val_cnn_loss: 0.3688 - val_main_acc: 0.8861 - val_mlp_acc: 0.8896 - val_cnn_acc: 0.8901\n",
            "Epoch 34/50\n",
            "1761/1766 [============================>.] - ETA: 0s - loss: 0.2472 - main_loss: 0.0981 - mlp_loss: 0.1632 - cnn_loss: 0.1352 - main_acc: 0.9651 - mlp_acc: 0.9421 - cnn_acc: 0.9518\n",
            "Epoch 00034: val_main_acc did not improve from 0.90480\n",
            "1766/1766 [==============================] - 17s 9ms/step - loss: 0.2472 - main_loss: 0.0981 - mlp_loss: 0.1631 - cnn_loss: 0.1351 - main_acc: 0.9651 - mlp_acc: 0.9421 - cnn_acc: 0.9518 - val_loss: 0.7264 - val_main_loss: 0.3901 - val_mlp_loss: 0.3290 - val_cnn_loss: 0.3437 - val_main_acc: 0.8900 - val_mlp_acc: 0.9000 - val_cnn_acc: 0.8909\n",
            "Epoch 35/50\n",
            "1766/1766 [==============================] - ETA: 0s - loss: 0.2457 - main_loss: 0.0975 - mlp_loss: 0.1625 - cnn_loss: 0.1339 - main_acc: 0.9652 - mlp_acc: 0.9424 - cnn_acc: 0.9526\n",
            "Epoch 00035: val_main_acc did not improve from 0.90480\n",
            "1766/1766 [==============================] - 21s 12ms/step - loss: 0.2457 - main_loss: 0.0975 - mlp_loss: 0.1625 - cnn_loss: 0.1339 - main_acc: 0.9652 - mlp_acc: 0.9424 - cnn_acc: 0.9526 - val_loss: 0.7782 - val_main_loss: 0.4161 - val_mlp_loss: 0.3358 - val_cnn_loss: 0.3883 - val_main_acc: 0.8853 - val_mlp_acc: 0.8964 - val_cnn_acc: 0.8840\n",
            "Epoch 36/50\n",
            "1763/1766 [============================>.] - ETA: 0s - loss: 0.2420 - main_loss: 0.0953 - mlp_loss: 0.1605 - cnn_loss: 0.1328 - main_acc: 0.9658 - mlp_acc: 0.9431 - cnn_acc: 0.9526\n",
            "Epoch 00036: val_main_acc did not improve from 0.90480\n",
            "1766/1766 [==============================] - 17s 9ms/step - loss: 0.2420 - main_loss: 0.0953 - mlp_loss: 0.1605 - cnn_loss: 0.1328 - main_acc: 0.9658 - mlp_acc: 0.9431 - cnn_acc: 0.9526 - val_loss: 0.7617 - val_main_loss: 0.4138 - val_mlp_loss: 0.3307 - val_cnn_loss: 0.3651 - val_main_acc: 0.8916 - val_mlp_acc: 0.9002 - val_cnn_acc: 0.8925\n",
            "Epoch 37/50\n",
            "1761/1766 [============================>.] - ETA: 0s - loss: 0.2417 - main_loss: 0.0952 - mlp_loss: 0.1603 - cnn_loss: 0.1327 - main_acc: 0.9660 - mlp_acc: 0.9435 - cnn_acc: 0.9527\n",
            "Epoch 00037: val_main_acc did not improve from 0.90480\n",
            "1766/1766 [==============================] - 17s 9ms/step - loss: 0.2417 - main_loss: 0.0952 - mlp_loss: 0.1603 - cnn_loss: 0.1327 - main_acc: 0.9659 - mlp_acc: 0.9435 - cnn_acc: 0.9527 - val_loss: 0.7597 - val_main_loss: 0.4098 - val_mlp_loss: 0.3238 - val_cnn_loss: 0.3759 - val_main_acc: 0.8898 - val_mlp_acc: 0.8997 - val_cnn_acc: 0.8866\n",
            "Epoch 38/50\n",
            "1764/1766 [============================>.] - ETA: 0s - loss: 0.2386 - main_loss: 0.0936 - mlp_loss: 0.1586 - cnn_loss: 0.1315 - main_acc: 0.9664 - mlp_acc: 0.9438 - cnn_acc: 0.9530\n",
            "Epoch 00038: val_main_acc did not improve from 0.90480\n",
            "1766/1766 [==============================] - 17s 9ms/step - loss: 0.2387 - main_loss: 0.0936 - mlp_loss: 0.1586 - cnn_loss: 0.1315 - main_acc: 0.9664 - mlp_acc: 0.9438 - cnn_acc: 0.9530 - val_loss: 0.8449 - val_main_loss: 0.4559 - val_mlp_loss: 0.3743 - val_cnn_loss: 0.4039 - val_main_acc: 0.8821 - val_mlp_acc: 0.8897 - val_cnn_acc: 0.8833\n",
            "Epoch 39/50\n",
            "1764/1766 [============================>.] - ETA: 0s - loss: 0.2381 - main_loss: 0.0936 - mlp_loss: 0.1578 - cnn_loss: 0.1311 - main_acc: 0.9662 - mlp_acc: 0.9442 - cnn_acc: 0.9537\n",
            "Epoch 00039: val_main_acc did not improve from 0.90480\n",
            "1766/1766 [==============================] - 17s 9ms/step - loss: 0.2381 - main_loss: 0.0936 - mlp_loss: 0.1578 - cnn_loss: 0.1311 - main_acc: 0.9662 - mlp_acc: 0.9442 - cnn_acc: 0.9537 - val_loss: 0.7819 - val_main_loss: 0.4200 - val_mlp_loss: 0.3442 - val_cnn_loss: 0.3795 - val_main_acc: 0.8894 - val_mlp_acc: 0.8956 - val_cnn_acc: 0.8906\n",
            "Epoch 40/50\n",
            "1763/1766 [============================>.] - ETA: 0s - loss: 0.2362 - main_loss: 0.0928 - mlp_loss: 0.1568 - cnn_loss: 0.1300 - main_acc: 0.9668 - mlp_acc: 0.9446 - cnn_acc: 0.9539\n",
            "Epoch 00040: val_main_acc did not improve from 0.90480\n",
            "1766/1766 [==============================] - 17s 10ms/step - loss: 0.2363 - main_loss: 0.0928 - mlp_loss: 0.1568 - cnn_loss: 0.1301 - main_acc: 0.9668 - mlp_acc: 0.9446 - cnn_acc: 0.9539 - val_loss: 0.7843 - val_main_loss: 0.4244 - val_mlp_loss: 0.3169 - val_cnn_loss: 0.4029 - val_main_acc: 0.8912 - val_mlp_acc: 0.9009 - val_cnn_acc: 0.8885\n",
            "Epoch 41/50\n",
            "1761/1766 [============================>.] - ETA: 0s - loss: 0.2336 - main_loss: 0.0912 - mlp_loss: 0.1562 - cnn_loss: 0.1286 - main_acc: 0.9672 - mlp_acc: 0.9448 - cnn_acc: 0.9538\n",
            "Epoch 00041: val_main_acc did not improve from 0.90480\n",
            "1766/1766 [==============================] - 17s 9ms/step - loss: 0.2336 - main_loss: 0.0912 - mlp_loss: 0.1562 - cnn_loss: 0.1286 - main_acc: 0.9672 - mlp_acc: 0.9448 - cnn_acc: 0.9538 - val_loss: 0.7823 - val_main_loss: 0.4244 - val_mlp_loss: 0.3213 - val_cnn_loss: 0.3944 - val_main_acc: 0.8891 - val_mlp_acc: 0.9004 - val_cnn_acc: 0.8871\n",
            "Epoch 42/50\n",
            "1766/1766 [==============================] - ETA: 0s - loss: 0.2333 - main_loss: 0.0913 - mlp_loss: 0.1554 - cnn_loss: 0.1288 - main_acc: 0.9674 - mlp_acc: 0.9449 - cnn_acc: 0.9540\n",
            "Epoch 00042: val_main_acc did not improve from 0.90480\n",
            "1766/1766 [==============================] - 17s 9ms/step - loss: 0.2333 - main_loss: 0.0913 - mlp_loss: 0.1554 - cnn_loss: 0.1288 - main_acc: 0.9674 - mlp_acc: 0.9449 - cnn_acc: 0.9540 - val_loss: 0.7765 - val_main_loss: 0.4281 - val_mlp_loss: 0.3351 - val_cnn_loss: 0.3618 - val_main_acc: 0.8876 - val_mlp_acc: 0.9001 - val_cnn_acc: 0.8879\n",
            "Epoch 43/50\n",
            "1763/1766 [============================>.] - ETA: 0s - loss: 0.2313 - main_loss: 0.0900 - mlp_loss: 0.1552 - cnn_loss: 0.1275 - main_acc: 0.9676 - mlp_acc: 0.9447 - cnn_acc: 0.9547\n",
            "Epoch 00043: val_main_acc did not improve from 0.90480\n",
            "1766/1766 [==============================] - 17s 10ms/step - loss: 0.2314 - main_loss: 0.0900 - mlp_loss: 0.1552 - cnn_loss: 0.1276 - main_acc: 0.9676 - mlp_acc: 0.9447 - cnn_acc: 0.9547 - val_loss: 0.8253 - val_main_loss: 0.4406 - val_mlp_loss: 0.3559 - val_cnn_loss: 0.4136 - val_main_acc: 0.8844 - val_mlp_acc: 0.8968 - val_cnn_acc: 0.8801\n",
            "Epoch 44/50\n",
            "1765/1766 [============================>.] - ETA: 0s - loss: 0.2301 - main_loss: 0.0896 - mlp_loss: 0.1545 - cnn_loss: 0.1266 - main_acc: 0.9678 - mlp_acc: 0.9454 - cnn_acc: 0.9549\n",
            "Epoch 00044: val_main_acc did not improve from 0.90480\n",
            "1766/1766 [==============================] - 17s 10ms/step - loss: 0.2301 - main_loss: 0.0895 - mlp_loss: 0.1545 - cnn_loss: 0.1266 - main_acc: 0.9678 - mlp_acc: 0.9454 - cnn_acc: 0.9549 - val_loss: 0.8371 - val_main_loss: 0.4592 - val_mlp_loss: 0.3737 - val_cnn_loss: 0.3820 - val_main_acc: 0.8877 - val_mlp_acc: 0.8950 - val_cnn_acc: 0.8915\n",
            "Epoch 45/50\n",
            "1762/1766 [============================>.] - ETA: 0s - loss: 0.2283 - main_loss: 0.0889 - mlp_loss: 0.1531 - cnn_loss: 0.1256 - main_acc: 0.9681 - mlp_acc: 0.9456 - cnn_acc: 0.9552\n",
            "Epoch 00045: val_main_acc did not improve from 0.90480\n",
            "1766/1766 [==============================] - 19s 11ms/step - loss: 0.2282 - main_loss: 0.0889 - mlp_loss: 0.1531 - cnn_loss: 0.1255 - main_acc: 0.9681 - mlp_acc: 0.9456 - cnn_acc: 0.9552 - val_loss: 0.8279 - val_main_loss: 0.4479 - val_mlp_loss: 0.3633 - val_cnn_loss: 0.3968 - val_main_acc: 0.8897 - val_mlp_acc: 0.8973 - val_cnn_acc: 0.8882\n",
            "Epoch 46/50\n",
            "1766/1766 [==============================] - ETA: 0s - loss: 0.2270 - main_loss: 0.0883 - mlp_loss: 0.1527 - cnn_loss: 0.1248 - main_acc: 0.9685 - mlp_acc: 0.9460 - cnn_acc: 0.9554\n",
            "Epoch 00046: val_main_acc did not improve from 0.90480\n",
            "1766/1766 [==============================] - 19s 11ms/step - loss: 0.2270 - main_loss: 0.0883 - mlp_loss: 0.1527 - cnn_loss: 0.1248 - main_acc: 0.9685 - mlp_acc: 0.9460 - cnn_acc: 0.9554 - val_loss: 0.8718 - val_main_loss: 0.4718 - val_mlp_loss: 0.3363 - val_cnn_loss: 0.4637 - val_main_acc: 0.8767 - val_mlp_acc: 0.9018 - val_cnn_acc: 0.8567\n",
            "Epoch 47/50\n",
            "1762/1766 [============================>.] - ETA: 0s - loss: 0.2242 - main_loss: 0.0866 - mlp_loss: 0.1508 - cnn_loss: 0.1243 - main_acc: 0.9690 - mlp_acc: 0.9467 - cnn_acc: 0.9560\n",
            "Epoch 00047: val_main_acc did not improve from 0.90480\n",
            "1766/1766 [==============================] - 17s 10ms/step - loss: 0.2241 - main_loss: 0.0866 - mlp_loss: 0.1509 - cnn_loss: 0.1243 - main_acc: 0.9690 - mlp_acc: 0.9467 - cnn_acc: 0.9560 - val_loss: 0.7770 - val_main_loss: 0.4176 - val_mlp_loss: 0.3431 - val_cnn_loss: 0.3757 - val_main_acc: 0.8902 - val_mlp_acc: 0.8987 - val_cnn_acc: 0.8868\n",
            "Epoch 48/50\n",
            "1765/1766 [============================>.] - ETA: 0s - loss: 0.2234 - main_loss: 0.0860 - mlp_loss: 0.1510 - cnn_loss: 0.1238 - main_acc: 0.9692 - mlp_acc: 0.9465 - cnn_acc: 0.9558\n",
            "Epoch 00048: val_main_acc did not improve from 0.90480\n",
            "1766/1766 [==============================] - 17s 10ms/step - loss: 0.2233 - main_loss: 0.0860 - mlp_loss: 0.1510 - cnn_loss: 0.1238 - main_acc: 0.9692 - mlp_acc: 0.9465 - cnn_acc: 0.9558 - val_loss: 0.8149 - val_main_loss: 0.4370 - val_mlp_loss: 0.3475 - val_cnn_loss: 0.4083 - val_main_acc: 0.8824 - val_mlp_acc: 0.8951 - val_cnn_acc: 0.8793\n",
            "Epoch 49/50\n",
            "1763/1766 [============================>.] - ETA: 0s - loss: 0.2232 - main_loss: 0.0864 - mlp_loss: 0.1509 - cnn_loss: 0.1227 - main_acc: 0.9692 - mlp_acc: 0.9466 - cnn_acc: 0.9561\n",
            "Epoch 00049: val_main_acc did not improve from 0.90480\n",
            "1766/1766 [==============================] - 18s 10ms/step - loss: 0.2231 - main_loss: 0.0863 - mlp_loss: 0.1508 - cnn_loss: 0.1227 - main_acc: 0.9692 - mlp_acc: 0.9466 - cnn_acc: 0.9561 - val_loss: 0.8306 - val_main_loss: 0.4574 - val_mlp_loss: 0.3497 - val_cnn_loss: 0.3966 - val_main_acc: 0.8873 - val_mlp_acc: 0.8986 - val_cnn_acc: 0.8874\n",
            "Epoch 50/50\n",
            "1764/1766 [============================>.] - ETA: 0s - loss: 0.2218 - main_loss: 0.0856 - mlp_loss: 0.1496 - cnn_loss: 0.1228 - main_acc: 0.9696 - mlp_acc: 0.9472 - cnn_acc: 0.9562\n",
            "Epoch 00050: val_main_acc did not improve from 0.90480\n",
            "1766/1766 [==============================] - 17s 10ms/step - loss: 0.2218 - main_loss: 0.0856 - mlp_loss: 0.1496 - cnn_loss: 0.1228 - main_acc: 0.9696 - mlp_acc: 0.9472 - cnn_acc: 0.9562 - val_loss: 0.8054 - val_main_loss: 0.4437 - val_mlp_loss: 0.3560 - val_cnn_loss: 0.3673 - val_main_acc: 0.8874 - val_mlp_acc: 0.8944 - val_cnn_acc: 0.8901\n"
          ],
          "name": "stdout"
        }
      ]
    },
    {
      "cell_type": "code",
      "metadata": {
        "id": "fo3ibcBmO0Ii"
      },
      "source": [
        "plt.figure(figsize=(7, 4))\n",
        "\n",
        "ax = plt.subplot(121)\n",
        "plt.plot(hist.history['loss'])\n",
        "plt.plot(hist.history['val_loss'])\n",
        "plt.title(\"Training and Validation Loss\")\n",
        "plt.xticks(np.arange(0,EPOCHS+1,5),np.arange(0,EPOCHS+1,5))\n",
        "plt.xlabel(\"Epoch\")\n",
        "plt.ylabel(\"Loss\")\n",
        "plt.legend(['train', 'valid'], loc='upper left')\n",
        "\n",
        "plt.subplot(122)\n",
        "plt.plot(hist.history['main_acc'])\n",
        "plt.plot(hist.history['val_main_acc'])\n",
        "plt.title(\"Training and Validation Accuracy\")\n",
        "plt.xticks(np.arange(0,EPOCHS+1,5),np.arange(0,EPOCHS+1,5))\n",
        "plt.xlabel(\"Epoch\")\n",
        "plt.ylabel(\"Accuracy\")\n",
        "plt.legend(['train', 'valid'], loc='upper left')"
      ],
      "execution_count": null,
      "outputs": []
    },
    {
      "cell_type": "markdown",
      "metadata": {
        "id": "n8LxITTsM856"
      },
      "source": [
        "### **Restaurer les poids du modèle sur la meilleure époque d'entraînement**"
      ]
    },
    {
      "cell_type": "code",
      "metadata": {
        "colab": {
          "base_uri": "https://localhost:8080/"
        },
        "id": "l1F4KMnnMz3d",
        "outputId": "6266fe3c-4118-4630-c052-c8f53c057424"
      },
      "source": [
        "model.load_weights(checkpointpath)\n",
        "# S'assurer que c'est bien le meilleur modèle sur les époques d'entraînement\n",
        "model.evaluate([valid_X_mlp,valid_X_cnn1d],valid_y_enc,batch_size=256)"
      ],
      "execution_count": null,
      "outputs": [
        {
          "output_type": "stream",
          "text": [
            "600/600 [==============================] - 2s 4ms/step - loss: 0.5528 - main_loss: 0.2701 - mlp_loss: 0.2711 - cnn_loss: 0.2943 - main_acc: 0.9048 - mlp_acc: 0.9066 - cnn_acc: 0.8948\n"
          ],
          "name": "stdout"
        },
        {
          "output_type": "execute_result",
          "data": {
            "text/plain": [
              "[0.5527520775794983,\n",
              " 0.27005472779273987,\n",
              " 0.2711279094219208,\n",
              " 0.2942667305469513,\n",
              " 0.904801607131958,\n",
              " 0.9065674543380737,\n",
              " 0.8947604894638062]"
            ]
          },
          "metadata": {
            "tags": []
          },
          "execution_count": 49
        }
      ]
    },
    {
      "cell_type": "markdown",
      "metadata": {
        "id": "Zh14_LtSPCqB"
      },
      "source": [
        "### **Prédiction des classes sur le jeu de validation et évaluation en aggrégeant au niveau objet**"
      ]
    },
    {
      "cell_type": "code",
      "metadata": {
        "colab": {
          "base_uri": "https://localhost:8080/"
        },
        "id": "zDpjyx_JPNjv",
        "outputId": "ef265948-b6a3-466c-f5de-663ad55349e1"
      },
      "source": [
        "# Récupérer les probabilités prédites sur le jeu de validation\n",
        "valid_prob, _, _ = model.predict([valid_X_mlp,valid_X_cnn1d],batch_size=256)\n",
        "valid_prob.shape"
      ],
      "execution_count": null,
      "outputs": [
        {
          "output_type": "execute_result",
          "data": {
            "text/plain": [
              "(153469, 5)"
            ]
          },
          "metadata": {
            "tags": []
          },
          "execution_count": 50
        }
      ]
    },
    {
      "cell_type": "code",
      "metadata": {
        "colab": {
          "base_uri": "https://localhost:8080/"
        },
        "id": "26YozrngPZyW",
        "outputId": "14e5606a-d9e6-4c1e-bf97-b496592f81c9"
      },
      "source": [
        "# Retourner la classe correspondant à la probabilité la plus haute\n",
        "valid_pred = np.argmax(valid_prob,axis=1) # axe 1 car ceci concerne chaque ligne\n",
        "valid_pred.shape"
      ],
      "execution_count": null,
      "outputs": [
        {
          "output_type": "execute_result",
          "data": {
            "text/plain": [
              "(153469,)"
            ]
          },
          "metadata": {
            "tags": []
          },
          "execution_count": 51
        }
      ]
    },
    {
      "cell_type": "code",
      "metadata": {
        "colab": {
          "base_uri": "https://localhost:8080/"
        },
        "id": "57Fyn2eyWU3w",
        "outputId": "fda1b69c-52db-4cf4-b54b-314ba6053597"
      },
      "source": [
        "# Je réencode les prédictions entre 1 et 5\n",
        "valid_pred_enc = encoder.inverse_transform(valid_pred)\n",
        "np.unique(valid_pred_enc)"
      ],
      "execution_count": null,
      "outputs": [
        {
          "output_type": "execute_result",
          "data": {
            "text/plain": [
              "array([1, 2, 3, 4, 5], dtype=uint8)"
            ]
          },
          "metadata": {
            "tags": []
          },
          "execution_count": 52
        }
      ]
    },
    {
      "cell_type": "code",
      "metadata": {
        "colab": {
          "base_uri": "https://localhost:8080/"
        },
        "id": "z35nADR_P-ut",
        "outputId": "920abd17-1f9a-4def-ff91-768931845bdf"
      },
      "source": [
        "# Aggrégation au niveau objet\n",
        "out_pred = []\n",
        "unique_id = np.unique(valid_id)\n",
        "for ID in unique_id :\n",
        "    # Récupérer les prédictions des pixels appartenant au même objet\n",
        "    pred = valid_pred_enc[np.where(valid_id==ID)]\n",
        "    y_true = valid_y[np.where(valid_id==ID)]\n",
        "    # Prendre la valeur majoritaire des prédictions sur les pixels\n",
        "    out_pred.append([ np.bincount(y_true).argmax(), np.bincount(pred).argmax()]) #(Vérité terrain,Prédiction majoritaire)\n",
        "out_pred = np.vstack(out_pred)\n",
        "out_pred.shape"
      ],
      "execution_count": null,
      "outputs": [
        {
          "output_type": "execute_result",
          "data": {
            "text/plain": [
              "(558, 2)"
            ]
          },
          "metadata": {
            "tags": []
          },
          "execution_count": 53
        }
      ]
    },
    {
      "cell_type": "code",
      "metadata": {
        "colab": {
          "base_uri": "https://localhost:8080/"
        },
        "id": "hQ2jDDDZWsKQ",
        "outputId": "f8e950bf-b28e-4510-add2-8adb262c8e38"
      },
      "source": [
        "# F1 score au niveau objet\n",
        "f1_score(out_pred[:,0],out_pred[:,1],average='weighted')"
      ],
      "execution_count": null,
      "outputs": [
        {
          "output_type": "execute_result",
          "data": {
            "text/plain": [
              "0.8880048490815803"
            ]
          },
          "metadata": {
            "tags": []
          },
          "execution_count": 54
        }
      ]
    },
    {
      "cell_type": "markdown",
      "metadata": {
        "id": "zIXYledyW9QI"
      },
      "source": [
        "### **Prédire sur le jeu test et Préparer une soumission**"
      ]
    },
    {
      "cell_type": "code",
      "metadata": {
        "colab": {
          "base_uri": "https://localhost:8080/"
        },
        "id": "p--sBOPKW4SE",
        "outputId": "65fc5b9a-1fd3-4388-b6be-93c729399702"
      },
      "source": [
        "# Récupérer les probabilités prédites sur le jeu test\n",
        "test_prob, _, _ = model.predict([test_X_mlp,test_X_cnn1d],batch_size=256)\n",
        "test_prob.shape"
      ],
      "execution_count": null,
      "outputs": [
        {
          "output_type": "execute_result",
          "data": {
            "text/plain": [
              "(207485, 5)"
            ]
          },
          "metadata": {
            "tags": []
          },
          "execution_count": 55
        }
      ]
    },
    {
      "cell_type": "code",
      "metadata": {
        "colab": {
          "base_uri": "https://localhost:8080/"
        },
        "id": "QtI8FHPyXHF1",
        "outputId": "a7dfd7d5-9499-44ca-ba62-b7b0c5e30e55"
      },
      "source": [
        "# Retourner la classe correspondant à la probabilité la plus haute\n",
        "test_pred = np.argmax(test_prob,axis=1) # axe 1 car ceci concerne chaque ligne\n",
        "test_pred.shape"
      ],
      "execution_count": null,
      "outputs": [
        {
          "output_type": "execute_result",
          "data": {
            "text/plain": [
              "(207485,)"
            ]
          },
          "metadata": {
            "tags": []
          },
          "execution_count": 56
        }
      ]
    },
    {
      "cell_type": "code",
      "metadata": {
        "colab": {
          "base_uri": "https://localhost:8080/"
        },
        "id": "V4xPl0mFXNEi",
        "outputId": "648c4891-815a-4e31-bcde-9a81e5f72e56"
      },
      "source": [
        "# Je réencode les prédictions entre 1 et 5\n",
        "test_pred_enc = encoder.inverse_transform(test_pred)\n",
        "np.unique(test_pred_enc)"
      ],
      "execution_count": null,
      "outputs": [
        {
          "output_type": "execute_result",
          "data": {
            "text/plain": [
              "array([1, 2, 3, 4, 5], dtype=uint8)"
            ]
          },
          "metadata": {
            "tags": []
          },
          "execution_count": 57
        }
      ]
    },
    {
      "cell_type": "code",
      "metadata": {
        "colab": {
          "base_uri": "https://localhost:8080/"
        },
        "id": "khjM1qqMXTSY",
        "outputId": "42c985d7-46d4-47f7-a14a-8b310859c7d5"
      },
      "source": [
        "# Aggrégation au niveau objet\n",
        "agg_pred = []\n",
        "unique_id = np.unique(test_id)\n",
        "for ID in unique_id :\n",
        "    # Récupérer les prédictions des pixels appartenant au même objet\n",
        "    pred = test_pred_enc[np.where(test_id==ID)]\n",
        "    # Prendre la valeur majoritaire des prédictions sur les pixels\n",
        "    agg_pred.append([ ID, np.bincount(pred).argmax()]) #(ID,Prédiction majoritaire)\n",
        "agg_pred = np.vstack(agg_pred)\n",
        "agg_pred.shape"
      ],
      "execution_count": null,
      "outputs": [
        {
          "output_type": "execute_result",
          "data": {
            "text/plain": [
              "(800, 2)"
            ]
          },
          "metadata": {
            "tags": []
          },
          "execution_count": 58
        }
      ]
    },
    {
      "cell_type": "code",
      "metadata": {
        "colab": {
          "base_uri": "https://localhost:8080/",
          "height": 204
        },
        "id": "ZIdn628cEtgx",
        "outputId": "b3c3c3d9-76ac-4fe6-a105-f25fbcebb8ca"
      },
      "source": [
        "df = pd.DataFrame({'ID':agg_pred[:,0],'Class':agg_pred[:,1]})\n",
        "df.to_csv('Soumission_ASSARAR_BOUHLEL_DJAFER.csv',index=False)\n",
        "df.head(5)"
      ],
      "execution_count": null,
      "outputs": [
        {
          "output_type": "execute_result",
          "data": {
            "text/html": [
              "<div>\n",
              "<style scoped>\n",
              "    .dataframe tbody tr th:only-of-type {\n",
              "        vertical-align: middle;\n",
              "    }\n",
              "\n",
              "    .dataframe tbody tr th {\n",
              "        vertical-align: top;\n",
              "    }\n",
              "\n",
              "    .dataframe thead th {\n",
              "        text-align: right;\n",
              "    }\n",
              "</style>\n",
              "<table border=\"1\" class=\"dataframe\">\n",
              "  <thead>\n",
              "    <tr style=\"text-align: right;\">\n",
              "      <th></th>\n",
              "      <th>ID</th>\n",
              "      <th>Class</th>\n",
              "    </tr>\n",
              "  </thead>\n",
              "  <tbody>\n",
              "    <tr>\n",
              "      <th>0</th>\n",
              "      <td>4</td>\n",
              "      <td>5</td>\n",
              "    </tr>\n",
              "    <tr>\n",
              "      <th>1</th>\n",
              "      <td>7</td>\n",
              "      <td>3</td>\n",
              "    </tr>\n",
              "    <tr>\n",
              "      <th>2</th>\n",
              "      <td>8</td>\n",
              "      <td>5</td>\n",
              "    </tr>\n",
              "    <tr>\n",
              "      <th>3</th>\n",
              "      <td>9</td>\n",
              "      <td>3</td>\n",
              "    </tr>\n",
              "    <tr>\n",
              "      <th>4</th>\n",
              "      <td>10</td>\n",
              "      <td>3</td>\n",
              "    </tr>\n",
              "  </tbody>\n",
              "</table>\n",
              "</div>"
            ],
            "text/plain": [
              "   ID  Class\n",
              "0   4      5\n",
              "1   7      3\n",
              "2   8      5\n",
              "3   9      3\n",
              "4  10      3"
            ]
          },
          "metadata": {
            "tags": []
          },
          "execution_count": 59
        }
      ]
    },
    {
      "cell_type": "code",
      "metadata": {
        "colab": {
          "base_uri": "https://localhost:8080/"
        },
        "id": "s6WuuJCkXsu0",
        "outputId": "0097291d-fdbf-4435-f56b-46f37aeb198c"
      },
      "source": [
        "# F1 Score au niveau objet\n",
        "df_test = pd.read_csv('Test_ID_Label.csv') # Ce fichier vous sera fourni le 12 Novembre\n",
        "f1_score(df_test.Class,df.Class,average='weighted')"
      ],
      "execution_count": null,
      "outputs": [
        {
          "output_type": "execute_result",
          "data": {
            "text/plain": [
              "0.8674707276934603"
            ]
          },
          "metadata": {
            "tags": []
          },
          "execution_count": 60
        }
      ]
    }
  ]
}
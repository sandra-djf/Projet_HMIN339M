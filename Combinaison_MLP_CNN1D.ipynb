{
  "nbformat": 4,
  "nbformat_minor": 0,
  "metadata": {
    "accelerator": "GPU",
    "colab": {
      "name": "Combinaison_MLP_CNN1D.ipynb",
      "provenance": [],
      "collapsed_sections": []
    },
    "kernelspec": {
      "display_name": "Python 3",
      "name": "python3"
    }
  },
  "cells": [
    {
      "cell_type": "markdown",
      "metadata": {
        "id": "_pJr2QX16y0C"
      },
      "source": [
        "# **Préparer les données**"
      ]
    },
    {
      "cell_type": "markdown",
      "metadata": {
        "id": "vI65qFkLjyEY"
      },
      "source": [
        "### **Monter le dossier dans Drive**"
      ]
    },
    {
      "cell_type": "code",
      "metadata": {
        "colab": {
          "base_uri": "https://localhost:8080/"
        },
        "id": "DVb5j_uZDvRs",
        "outputId": "e2248a45-70ae-4ea0-e475-81c65cdba053"
      },
      "source": [
        "from google.colab import drive\n",
        "drive.mount('/content/drive')"
      ],
      "execution_count": 14,
      "outputs": [
        {
          "output_type": "stream",
          "text": [
            "Drive already mounted at /content/drive; to attempt to forcibly remount, call drive.mount(\"/content/drive\", force_remount=True).\n"
          ],
          "name": "stdout"
        }
      ]
    },
    {
      "cell_type": "code",
      "metadata": {
        "id": "9DcknGEsEkrE"
      },
      "source": [
        "import os\n",
        "os.chdir('/content/drive/My Drive/Projet_HMIN339M')"
      ],
      "execution_count": 15,
      "outputs": []
    },
    {
      "cell_type": "markdown",
      "metadata": {
        "id": "uEIWGiCq_s3g"
      },
      "source": [
        "### **Importation de quelques librairies**"
      ]
    },
    {
      "cell_type": "code",
      "metadata": {
        "id": "0HzSSHr5ooul"
      },
      "source": [
        "import numpy as np\n",
        "import tifffile\n",
        "import glob\n",
        "from pathlib import Path\n",
        "import pandas as pd"
      ],
      "execution_count": 16,
      "outputs": []
    },
    {
      "cell_type": "markdown",
      "metadata": {
        "id": "wVrWVyvfkBDD"
      },
      "source": [
        "### **Lecture de la série temporelle d'images et Normalisation par bande sur la série temporelle entre 0 et 1** "
      ]
    },
    {
      "cell_type": "markdown",
      "metadata": {
        "id": "95CB2_IllQFu"
      },
      "source": [
        "#### **Lecture des images et création des séries temporelles de bandes**"
      ]
    },
    {
      "cell_type": "code",
      "metadata": {
        "colab": {
          "base_uri": "https://localhost:8080/"
        },
        "id": "Ut67k4u3Vezu",
        "outputId": "dcadaf73-83a3-41cb-8ad2-83d0f7ef860e"
      },
      "source": [
        "# Récupérer la liste des images\n",
        "lst_img = glob.glob ('Images/*.tif')\n",
        "lst_img.sort() # ordonner par date si ce n'est pas le cas\n",
        "lst_img"
      ],
      "execution_count": 17,
      "outputs": [
        {
          "output_type": "execute_result",
          "data": {
            "text/plain": [
              "['Images/20160322_S2A.tif',\n",
              " 'Images/20160710_S2A.tif',\n",
              " 'Images/20160730_S2A.tif',\n",
              " 'Images/20160928_S2A.tif',\n",
              " 'Images/20161018_S2A.tif',\n",
              " 'Images/20161127_S2A.tif',\n",
              " 'Images/20161217_S2A.tif',\n",
              " 'Images/20161227_S2A.tif']"
            ]
          },
          "metadata": {
            "tags": []
          },
          "execution_count": 17
        }
      ]
    },
    {
      "cell_type": "code",
      "metadata": {
        "colab": {
          "base_uri": "https://localhost:8080/"
        },
        "id": "GSpMjDMNa-Bg",
        "outputId": "f7d7bd26-6d48-4380-ed29-7a1648f1f81f"
      },
      "source": [
        "# Lecture de la bande du rouge (B1) pour toute la série temporelle\n",
        "red_ts = []\n",
        "for img in lst_img:\n",
        "  red_ts.append( tifffile.imread(img)[:,:,0]) # Rouge\n",
        "red_ts = np.dstack(red_ts)\n",
        "red_ts.shape"
      ],
      "execution_count": 18,
      "outputs": [
        {
          "output_type": "execute_result",
          "data": {
            "text/plain": [
              "(5412, 5592, 8)"
            ]
          },
          "metadata": {
            "tags": []
          },
          "execution_count": 18
        }
      ]
    },
    {
      "cell_type": "code",
      "metadata": {
        "colab": {
          "base_uri": "https://localhost:8080/"
        },
        "id": "X97WsP3kcTL1",
        "outputId": "adc2e7f4-2302-4d44-b44f-3ad35154f6ba"
      },
      "source": [
        "# Lecture de la bande du vert (B2) pour toute la série temporelle\n",
        "green_ts = []\n",
        "for img in lst_img:\n",
        "  green_ts.append( tifffile.imread(img)[:,:,1]) # Vert\n",
        "green_ts = np.dstack(green_ts)\n",
        "green_ts.shape"
      ],
      "execution_count": 19,
      "outputs": [
        {
          "output_type": "execute_result",
          "data": {
            "text/plain": [
              "(5412, 5592, 8)"
            ]
          },
          "metadata": {
            "tags": []
          },
          "execution_count": 19
        }
      ]
    },
    {
      "cell_type": "code",
      "metadata": {
        "colab": {
          "base_uri": "https://localhost:8080/"
        },
        "id": "t1GBdVCGcbcK",
        "outputId": "4d5acc49-7c7c-4667-9e42-311bf639ef69"
      },
      "source": [
        "# Lecture de la bande du bleu (B3) pour toute la série temporelle\n",
        "blue_ts = []\n",
        "for img in lst_img:\n",
        "  blue_ts.append( tifffile.imread(img)[:,:,2]) # Bleu\n",
        "blue_ts = np.dstack(blue_ts)\n",
        "blue_ts.shape"
      ],
      "execution_count": 20,
      "outputs": [
        {
          "output_type": "execute_result",
          "data": {
            "text/plain": [
              "(5412, 5592, 8)"
            ]
          },
          "metadata": {
            "tags": []
          },
          "execution_count": 20
        }
      ]
    },
    {
      "cell_type": "code",
      "metadata": {
        "colab": {
          "base_uri": "https://localhost:8080/"
        },
        "id": "fDd4BjV-cbz8",
        "outputId": "121f2e8f-053b-42de-9f02-6266019cb2e8"
      },
      "source": [
        "# Lecture de la bande du proche infrarouge (B4) pour toute la série temporelle\n",
        "nir_ts = []\n",
        "for img in lst_img:\n",
        "  nir_ts.append( tifffile.imread(img)[:,:,3]) # Proche infra rouge\n",
        "nir_ts = np.dstack(nir_ts)\n",
        "nir_ts.shape"
      ],
      "execution_count": 21,
      "outputs": [
        {
          "output_type": "execute_result",
          "data": {
            "text/plain": [
              "(5412, 5592, 8)"
            ]
          },
          "metadata": {
            "tags": []
          },
          "execution_count": 21
        }
      ]
    },
    {
      "cell_type": "code",
      "metadata": {
        "colab": {
          "base_uri": "https://localhost:8080/"
        },
        "id": "bJVBYJxuuJDA",
        "outputId": "9c543850-9b75-4329-859c-95a25967490b"
      },
      "source": [
        "# Calculer des indices spectraux comme le NDVI\n",
        "ndvi_ts = np.where(nir_ts + red_ts == 0, 0, (nir_ts - red_ts) / (nir_ts + red_ts)).astype(np.float32)\n",
        "ndvi_ts.shape, ndvi_ts.dtype, ndvi_ts.min(), ndvi_ts.max()"
      ],
      "execution_count": 22,
      "outputs": [
        {
          "output_type": "execute_result",
          "data": {
            "text/plain": [
              "((5412, 5592, 8), dtype('float32'), -0.9994976, 0.99976385)"
            ]
          },
          "metadata": {
            "tags": []
          },
          "execution_count": 22
        }
      ]
    },
    {
      "cell_type": "markdown",
      "metadata": {
        "id": "rOOWsKQHlHvS"
      },
      "source": [
        "#### **Normalisation en utilisant le min et le max des bandes sur les séries temporelles**"
      ]
    },
    {
      "cell_type": "code",
      "metadata": {
        "colab": {
          "base_uri": "https://localhost:8080/"
        },
        "id": "IoOk5-UccvSe",
        "outputId": "7936dc39-acfc-4e00-ebda-b3e2e2edb8fd"
      },
      "source": [
        "# Normalisation des séries temporelles par bande: Rouge\n",
        "red_ts_norm = ( red_ts - red_ts.min() ) / ( red_ts.max() - red_ts.min() ).astype(np.float32)\n",
        "red_ts_norm.min() , red_ts_norm.max(), red_ts_norm.shape, red_ts_norm.dtype"
      ],
      "execution_count": 23,
      "outputs": [
        {
          "output_type": "execute_result",
          "data": {
            "text/plain": [
              "(0.0, 1.0, (5412, 5592, 8), dtype('float32'))"
            ]
          },
          "metadata": {
            "tags": []
          },
          "execution_count": 23
        }
      ]
    },
    {
      "cell_type": "code",
      "metadata": {
        "colab": {
          "base_uri": "https://localhost:8080/"
        },
        "id": "-c1DlhJTe_6h",
        "outputId": "ed8be894-a2cc-4bcc-c8b7-45cf99926375"
      },
      "source": [
        "# Normalisation des séries temporelles par bande: Vert\n",
        "green_ts_norm = ( green_ts - green_ts.min() ) / ( green_ts.max() - green_ts.min() ).astype(np.float32)\n",
        "green_ts = None\n",
        "green_ts_norm.min() , green_ts_norm.max(), green_ts_norm.shape, green_ts_norm.dtype"
      ],
      "execution_count": 24,
      "outputs": [
        {
          "output_type": "execute_result",
          "data": {
            "text/plain": [
              "(0.0, 1.0, (5412, 5592, 8), dtype('float32'))"
            ]
          },
          "metadata": {
            "tags": []
          },
          "execution_count": 24
        }
      ]
    },
    {
      "cell_type": "code",
      "metadata": {
        "colab": {
          "base_uri": "https://localhost:8080/"
        },
        "id": "hFNAbyIyfAJT",
        "outputId": "c43ebb8e-de46-4b74-eb5f-70498bfa46d3"
      },
      "source": [
        "# Normalisation des séries temporelles par bande: Bleu\n",
        "blue_ts_norm = ( blue_ts - blue_ts.min() ) / ( blue_ts.max() - blue_ts.min() ).astype(np.float32)\n",
        "blue_ts = None\n",
        "blue_ts_norm.min() , blue_ts_norm.max(), blue_ts_norm.shape, blue_ts_norm.dtype"
      ],
      "execution_count": 25,
      "outputs": [
        {
          "output_type": "execute_result",
          "data": {
            "text/plain": [
              "(0.0, 1.0, (5412, 5592, 8), dtype('float32'))"
            ]
          },
          "metadata": {
            "tags": []
          },
          "execution_count": 25
        }
      ]
    },
    {
      "cell_type": "code",
      "metadata": {
        "colab": {
          "base_uri": "https://localhost:8080/"
        },
        "id": "epIhb6brfAUK",
        "outputId": "d4f58501-c1c0-49ca-af47-6e6b451de174"
      },
      "source": [
        "# Normalisation des séries temporelles par bande: Proche infrarouge\n",
        "nir_ts_norm = ( nir_ts - nir_ts.min() ) / ( nir_ts.max() - nir_ts.min() ).astype(np.float32)\n",
        "nir_ts_norm.min() , nir_ts_norm.max(), nir_ts_norm.shape, nir_ts_norm.dtype"
      ],
      "execution_count": 26,
      "outputs": [
        {
          "output_type": "execute_result",
          "data": {
            "text/plain": [
              "(0.0, 1.0, (5412, 5592, 8), dtype('float32'))"
            ]
          },
          "metadata": {
            "tags": []
          },
          "execution_count": 26
        }
      ]
    },
    {
      "cell_type": "code",
      "metadata": {
        "colab": {
          "base_uri": "https://localhost:8080/"
        },
        "id": "tAtrTnz_uQ2Y",
        "outputId": "e373569e-c128-48b3-e854-03fd3b28d4da"
      },
      "source": [
        "# Normaliser les indices spectraux que vous aurez calculé\n",
        "ndvi_ts_norm = ( ndvi_ts - ndvi_ts.min() ) / ( ndvi_ts.max() - ndvi_ts.min( )).astype(np.float32)\n",
        "ndvi_ts_norm.min(), ndvi_ts_norm.max(), ndvi_ts_norm.shape, ndvi_ts_norm.dtype"
      ],
      "execution_count": 27,
      "outputs": [
        {
          "output_type": "execute_result",
          "data": {
            "text/plain": [
              "(0.0, 1.0, (5412, 5592, 8), dtype('float32'))"
            ]
          },
          "metadata": {
            "tags": []
          },
          "execution_count": 27
        }
      ]
    },
    {
      "cell_type": "markdown",
      "metadata": {
        "id": "YDQUbh3Nkpn7"
      },
      "source": [
        "### **Lecture de la vérité terrain et récupération des positions des pixels du jeu d'entraînement et de test**"
      ]
    },
    {
      "cell_type": "markdown",
      "metadata": {
        "id": "V_mXEBEKmuw7"
      },
      "source": [
        "#### **Lecture des fichiers de la vérité terrain**"
      ]
    },
    {
      "cell_type": "code",
      "metadata": {
        "colab": {
          "base_uri": "https://localhost:8080/"
        },
        "id": "NBCQhbMUoBJU",
        "outputId": "49e6c7e8-e1a4-4a90-d655-473feae7b4fc"
      },
      "source": [
        "# Lire le fichier correspondant aux classes d'occupation du sol\n",
        "gt_class = tifffile.imread ('Verite_terrain/DORDOGNE_VT_CLASS.tif')\n",
        "gt_class.shape , gt_class.dtype"
      ],
      "execution_count": 28,
      "outputs": [
        {
          "output_type": "execute_result",
          "data": {
            "text/plain": [
              "((5412, 5592), dtype('uint8'))"
            ]
          },
          "metadata": {
            "tags": []
          },
          "execution_count": 28
        }
      ]
    },
    {
      "cell_type": "code",
      "metadata": {
        "colab": {
          "base_uri": "https://localhost:8080/"
        },
        "id": "JLnTil_psMLW",
        "outputId": "73fb1651-f9e0-48a2-89bd-b8b2d0cadf94"
      },
      "source": [
        "# Lire le fichier correspondant aux identifiants\n",
        "gt_id = tifffile.imread ('Verite_terrain/DORDOGNE_VT_ID.tif')\n",
        "gt_id.shape, gt_id.dtype"
      ],
      "execution_count": 29,
      "outputs": [
        {
          "output_type": "execute_result",
          "data": {
            "text/plain": [
              "((5412, 5592), dtype('int16'))"
            ]
          },
          "metadata": {
            "tags": []
          },
          "execution_count": 29
        }
      ]
    },
    {
      "cell_type": "markdown",
      "metadata": {
        "id": "RjyGTdRpm5ii"
      },
      "source": [
        "#### **Récupération des positions des pixels d'entraînement et de test**"
      ]
    },
    {
      "cell_type": "code",
      "metadata": {
        "id": "yosWk1_BgiLE"
      },
      "source": [
        "# Récupérer les positions des échantillons d'entraînement et test\n",
        "idx_train_ = np.where ( (gt_id!=0) & (gt_class!=0) )\n",
        "idx_test = np.where ( (gt_id!=0) & (gt_class==0) )"
      ],
      "execution_count": 30,
      "outputs": []
    },
    {
      "cell_type": "code",
      "metadata": {
        "colab": {
          "base_uri": "https://localhost:8080/",
          "height": 35
        },
        "id": "uRX0xj4zjvVY",
        "outputId": "5a82f6ae-d180-42b3-9029-5999a879f768"
      },
      "source": [
        "# Lecture des identifiants et labels des échantillons d'entraînement\n",
        "train_id_ = gt_id[idx_train_]\n",
        "train_y_ = gt_class[idx_train_]\n",
        "f'échantillons d\\'entrainement: {train_y_.shape[0]} pixels, {len(np.unique(train_id_))} objets'"
      ],
      "execution_count": 31,
      "outputs": [
        {
          "output_type": "execute_result",
          "data": {
            "application/vnd.google.colaboratory.intrinsic+json": {
              "type": "string"
            },
            "text/plain": [
              "\"échantillons d'entrainement: 605431 pixels, 1859 objets\""
            ]
          },
          "metadata": {
            "tags": []
          },
          "execution_count": 31
        }
      ]
    },
    {
      "cell_type": "code",
      "metadata": {
        "colab": {
          "base_uri": "https://localhost:8080/",
          "height": 35
        },
        "id": "kiPCaHQ2jtZu",
        "outputId": "8d618d69-e1af-4bbd-93ce-8be763b2f415"
      },
      "source": [
        "# Lecture des identifiants et labels des échantillons de test\n",
        "test_id = gt_id[idx_test]\n",
        "f'échantillons test: {test_id.shape[0]} pixels, {len(np.unique(test_id))} objets'"
      ],
      "execution_count": 32,
      "outputs": [
        {
          "output_type": "execute_result",
          "data": {
            "application/vnd.google.colaboratory.intrinsic+json": {
              "type": "string"
            },
            "text/plain": [
              "'échantillons test: 207485 pixels, 800 objets'"
            ]
          },
          "metadata": {
            "tags": []
          },
          "execution_count": 32
        }
      ]
    },
    {
      "cell_type": "markdown",
      "metadata": {
        "id": "hNFyNkc5oc6z"
      },
      "source": [
        "### **Création d'un jeu de validation en prenant une partie du jeu d'entraînement**\n",
        "Pour cela, on s'assure de faire la division en mettant les pixels ayant le même identifiant dans un seul et même lot"
      ]
    },
    {
      "cell_type": "code",
      "metadata": {
        "colab": {
          "base_uri": "https://localhost:8080/",
          "height": 204
        },
        "id": "2hI-jAEqrac1",
        "outputId": "85b87755-06d5-4353-bbd3-29aa75fe274d"
      },
      "source": [
        "# Dataframe pour créer un jeu de validation\n",
        "samples = pd.DataFrame({'ID':train_id_,'Class':train_y_})\n",
        "samples = samples.drop_duplicates(keep='first')\n",
        "samples.head(5)"
      ],
      "execution_count": 33,
      "outputs": [
        {
          "output_type": "execute_result",
          "data": {
            "text/html": [
              "<div>\n",
              "<style scoped>\n",
              "    .dataframe tbody tr th:only-of-type {\n",
              "        vertical-align: middle;\n",
              "    }\n",
              "\n",
              "    .dataframe tbody tr th {\n",
              "        vertical-align: top;\n",
              "    }\n",
              "\n",
              "    .dataframe thead th {\n",
              "        text-align: right;\n",
              "    }\n",
              "</style>\n",
              "<table border=\"1\" class=\"dataframe\">\n",
              "  <thead>\n",
              "    <tr style=\"text-align: right;\">\n",
              "      <th></th>\n",
              "      <th>ID</th>\n",
              "      <th>Class</th>\n",
              "    </tr>\n",
              "  </thead>\n",
              "  <tbody>\n",
              "    <tr>\n",
              "      <th>0</th>\n",
              "      <td>422</td>\n",
              "      <td>2</td>\n",
              "    </tr>\n",
              "    <tr>\n",
              "      <th>4</th>\n",
              "      <td>2677</td>\n",
              "      <td>5</td>\n",
              "    </tr>\n",
              "    <tr>\n",
              "      <th>5</th>\n",
              "      <td>201</td>\n",
              "      <td>3</td>\n",
              "    </tr>\n",
              "    <tr>\n",
              "      <th>29</th>\n",
              "      <td>423</td>\n",
              "      <td>2</td>\n",
              "    </tr>\n",
              "    <tr>\n",
              "      <th>100</th>\n",
              "      <td>496</td>\n",
              "      <td>2</td>\n",
              "    </tr>\n",
              "  </tbody>\n",
              "</table>\n",
              "</div>"
            ],
            "text/plain": [
              "       ID  Class\n",
              "0     422      2\n",
              "4    2677      5\n",
              "5     201      3\n",
              "29    423      2\n",
              "100   496      2"
            ]
          },
          "metadata": {
            "tags": []
          },
          "execution_count": 33
        }
      ]
    },
    {
      "cell_type": "code",
      "metadata": {
        "colab": {
          "base_uri": "https://localhost:8080/"
        },
        "id": "894SPjgRs_S7",
        "outputId": "8438f980-371b-4b90-9ce4-b178fccd0d89"
      },
      "source": [
        "# 30% des échantillons de chaque classe affecté au jeu de validation\n",
        "train_id = []\n",
        "valid_id = []\n",
        "for c in np.unique(samples.Class.values) :\n",
        "    samples_c = samples.loc[samples.Class==c]\n",
        "    samples_frac = samples_c.sample(frac=0.7,random_state=1234) \n",
        "    train_id.extend( samples_frac.ID.values )\n",
        "    valid_id.extend( samples_c.drop(samples_frac.index).ID.values )\n",
        "len(train_id),len(valid_id)"
      ],
      "execution_count": 34,
      "outputs": [
        {
          "output_type": "execute_result",
          "data": {
            "text/plain": [
              "(1301, 558)"
            ]
          },
          "metadata": {
            "tags": []
          },
          "execution_count": 34
        }
      ]
    },
    {
      "cell_type": "markdown",
      "metadata": {
        "id": "6J609q3BrKRk"
      },
      "source": [
        "### **Récupération des positions des nouveaux échantillons d'entraînement et de validation**"
      ]
    },
    {
      "cell_type": "code",
      "metadata": {
        "id": "WmVBWpvFdjlk"
      },
      "source": [
        "# Récupérer les positions des nouveaux échantillons d'entraînement et validation\n",
        "idx_train = np.where ( np.isin(gt_id,train_id) )\n",
        "idx_valid = np.where ( np.isin(gt_id,valid_id) )"
      ],
      "execution_count": 35,
      "outputs": []
    },
    {
      "cell_type": "markdown",
      "metadata": {
        "id": "3U6m2R-UwEFK"
      },
      "source": [
        "### **Lire finalement les labels correspondant aux nouveaux échantillons d'entraînement, de validation et test**"
      ]
    },
    {
      "cell_type": "code",
      "metadata": {
        "colab": {
          "base_uri": "https://localhost:8080/"
        },
        "id": "vF_PEzn3vQzT",
        "outputId": "41581edd-08ce-486d-f750-d7af9f88ae12"
      },
      "source": [
        "train_y = gt_class[idx_train]\n",
        "valid_y = gt_class[idx_valid]\n",
        "test_y = gt_class[idx_test]\n",
        "train_y.shape, valid_y.shape, test_y.shape"
      ],
      "execution_count": 36,
      "outputs": [
        {
          "output_type": "execute_result",
          "data": {
            "text/plain": [
              "((451962,), (153469,), (207485,))"
            ]
          },
          "metadata": {
            "tags": []
          },
          "execution_count": 36
        }
      ]
    },
    {
      "cell_type": "markdown",
      "metadata": {
        "id": "lAt4KCeZR1Os"
      },
      "source": [
        "### **Lire finalement les identifiants correspondant aux nouveaux échantillons d'entraînement, de validation et test**"
      ]
    },
    {
      "cell_type": "code",
      "metadata": {
        "colab": {
          "base_uri": "https://localhost:8080/"
        },
        "id": "m3SiC0eVRvtA",
        "outputId": "c6bb9581-7d82-4c3b-cf38-e0be52aa9b83"
      },
      "source": [
        "# utile pour les aggrégations au niveau objet\n",
        "# train_id_array = gt_id[idx_train] # Pas vraiment nécessaire pour les échantillons d'entraînements\n",
        "valid_id_array = gt_id[idx_valid]\n",
        "test_id_array = gt_id[idx_test]\n",
        "#train_id_array.shape, \n",
        "valid_id_array.shape, test_id_array.shape"
      ],
      "execution_count": 37,
      "outputs": [
        {
          "output_type": "execute_result",
          "data": {
            "text/plain": [
              "((153469,), (207485,))"
            ]
          },
          "metadata": {
            "tags": []
          },
          "execution_count": 37
        }
      ]
    },
    {
      "cell_type": "markdown",
      "metadata": {
        "id": "xa-8J5r9r3KI"
      },
      "source": [
        "### **Lire finalement les valeurs des séries temporelles correspondant aux nouveaux échantillons d'entraînement, de validation et test**"
      ]
    },
    {
      "cell_type": "markdown",
      "metadata": {
        "id": "PXS90K1Vsg4H"
      },
      "source": [
        "#### **Pour un Perceptron multi-couche**"
      ]
    },
    {
      "cell_type": "code",
      "metadata": {
        "colab": {
          "base_uri": "https://localhost:8080/"
        },
        "id": "TwjGd9exkFia",
        "outputId": "21435a14-4ce4-4dd3-e266-f0d1238487cc"
      },
      "source": [
        "# Un perceptron multi-couche ou un algo classique de machine learning requiert un tableau 2D du type \n",
        "# (nombre d'échantillons, nombre de features=(nombre de dates x nombre de bandes))\n",
        "# Vous pouvez rajouter au stack les indices spectraux normalisés que vous aurez calculé\n",
        "\n",
        "train_X = np.column_stack ( ( blue_ts_norm[idx_train], green_ts_norm[idx_train], red_ts_norm[idx_train], nir_ts_norm[idx_train] ) )\n",
        "\n",
        "valid_X = np.column_stack ( ( blue_ts_norm[idx_valid], green_ts_norm[idx_valid], red_ts_norm[idx_valid], nir_ts_norm[idx_valid] ) )\n",
        "\n",
        "test_X = np.column_stack ( ( blue_ts_norm[idx_test], green_ts_norm[idx_test], red_ts_norm[idx_test], nir_ts_norm[idx_test] ) )\n",
        "\n",
        "train_X.shape, valid_X.shape, test_X.shape"
      ],
      "execution_count": 38,
      "outputs": [
        {
          "output_type": "execute_result",
          "data": {
            "text/plain": [
              "((451962, 32), (153469, 32), (207485, 32))"
            ]
          },
          "metadata": {
            "tags": []
          },
          "execution_count": 38
        }
      ]
    },
    {
      "cell_type": "markdown",
      "metadata": {
        "id": "YqabJEyUtgPX"
      },
      "source": [
        "#### **Pour un CNN 1D ou temporel**"
      ]
    },
    {
      "cell_type": "code",
      "metadata": {
        "colab": {
          "base_uri": "https://localhost:8080/"
        },
        "id": "bdZa5w9ztkCk",
        "outputId": "8cc07d89-7005-460b-d626-3a3ecdef741d"
      },
      "source": [
        "# Un CNN 1D ou temporel requiert un tableau 3D du type (nombre d'échantillons, nombre de dates, nombre de bandes)\n",
        "# Vous pouvez rajouter à la liste des bandes les indices spectraux normalisés que vous aurez calculé\n",
        "train_X = []\n",
        "for band in [blue_ts_norm,green_ts_norm,red_ts_norm,nir_ts_norm]:\n",
        "    train_X.append( band[idx_train] ) \n",
        "train_X = np.stack(train_X,axis=-1)\n",
        "\n",
        "valid_X = []\n",
        "for band in [blue_ts_norm,green_ts_norm,red_ts_norm,nir_ts_norm]:\n",
        "    valid_X.append( band[idx_valid] ) \n",
        "valid_X = np.stack(valid_X,axis=-1)\n",
        "\n",
        "test_X = []\n",
        "for band in [blue_ts_norm,green_ts_norm,red_ts_norm,nir_ts_norm]:\n",
        "    test_X.append( band[idx_test] ) \n",
        "test_X = np.stack(test_X,axis=-1)\n",
        "\n",
        "train_X.shape, valid_X.shape, test_X.shape"
      ],
      "execution_count": 39,
      "outputs": [
        {
          "output_type": "execute_result",
          "data": {
            "text/plain": [
              "((451962, 8, 4), (153469, 8, 4), (207485, 8, 4))"
            ]
          },
          "metadata": {
            "tags": []
          },
          "execution_count": 39
        }
      ]
    },
    {
      "cell_type": "markdown",
      "metadata": {
        "id": "oRTUKBQBwd1V"
      },
      "source": [
        "#### **Pour un CNN2D ou spatial avec exemple d'imagettes ou patchs de 5 sur 5 en largeur et hauteur** \n",
        "\n",
        "Des patchs de 9 sur 9 sur l'ensemble des échantillons sont un peu trop gourmands en RAM pour Google Colab"
      ]
    },
    {
      "cell_type": "code",
      "metadata": {
        "colab": {
          "base_uri": "https://localhost:8080/"
        },
        "id": "rBZ2s4zGwc8C",
        "outputId": "1a431ca9-1ec3-4b17-9ad7-f08a4497ba36"
      },
      "source": [
        "# Un CNN 2D ou spatial requiert un tableau 3D du type (nombre d'échantillons, largeur, hauteur, nombre de features= (nombre de dates x nombre de bandes) )\n",
        "# Vous pouvez rajouter à la liste des bandes les indices spectraux normalisés que vous aurez calculé\n",
        "\n",
        "# Training\n",
        "# 1- précaution pour ne pas considérer les pixels dont on ne peut extraire des patchs car trop près du bord\n",
        "idx_col = idx_train[0]\n",
        "idx_row = idx_train[1]\n",
        "coords = np.column_stack((idx_col,idx_row))\n",
        "coords = coords[np.where( ( np.isin(coords[:,0],np.arange(2,blue_ts_norm.shape[0]-2,1)) ) & ( np.isin(coords[:,1],np.arange(2,blue_ts_norm.shape[1]-2,1)) ) ) ]\n",
        "# len(coords)\n",
        "# 2- créer un tableau avec les patchs\n",
        "train_X = []\n",
        "for coord in coords :\n",
        "  lst = []\n",
        "  for band in [blue_ts_norm,green_ts_norm,red_ts_norm,nir_ts_norm]:\n",
        "    lst.append( band[coord[0]-2:coord[0]+3,coord[1]-2:coord[1]+3] )\n",
        "  train_X.append(np.stack(lst,axis=-1))#.reshape(5,5,-1))\n",
        "train_X = np.stack(train_X,axis=0)\n",
        "train_X.shape"
      ],
      "execution_count": 40,
      "outputs": [
        {
          "output_type": "execute_result",
          "data": {
            "text/plain": [
              "(451962, 5, 5, 8, 4)"
            ]
          },
          "metadata": {
            "tags": []
          },
          "execution_count": 40
        }
      ]
    },
    {
      "cell_type": "code",
      "metadata": {
        "colab": {
          "base_uri": "https://localhost:8080/"
        },
        "id": "RhLlxu5j0O72",
        "outputId": "a3f411e7-7713-4dae-80e3-26cf148bbec0"
      },
      "source": [
        "# Validation\n",
        "# 1- précaution pour ne pas considérer les pixels dont on ne peut extraire des patchs car trop près du bord\n",
        "idx_col = idx_valid[0]\n",
        "idx_row = idx_valid[1]\n",
        "coords = np.column_stack((idx_col,idx_row))\n",
        "coords = coords[np.where( ( np.isin(coords[:,0],np.arange(2,blue_ts_norm.shape[0]-2,1)) ) & ( np.isin(coords[:,1],np.arange(2,blue_ts_norm.shape[1]-2,1)) ) ) ]\n",
        "# len(coords)\n",
        "# 2- créer un tableau avec les patchs\n",
        "valid_X = []\n",
        "for coord in coords :\n",
        "  lst = []\n",
        "  for band in [blue_ts_norm,green_ts_norm,red_ts_norm,nir_ts_norm]:\n",
        "    lst.append( band[coord[0]-2:coord[0]+3,coord[1]-2:coord[1]+3] )\n",
        "  valid_X.append(np.stack(lst,axis=-1))#.reshape(5,5,-1))\n",
        "valid_X = np.stack(valid_X,axis=0)\n",
        "valid_X.shape"
      ],
      "execution_count": 41,
      "outputs": [
        {
          "output_type": "execute_result",
          "data": {
            "text/plain": [
              "(153469, 5, 5, 8, 4)"
            ]
          },
          "metadata": {
            "tags": []
          },
          "execution_count": 41
        }
      ]
    },
    {
      "cell_type": "code",
      "metadata": {
        "colab": {
          "base_uri": "https://localhost:8080/"
        },
        "id": "0VR_nM9W0QkB",
        "outputId": "abd0fe89-a18c-47a8-ad16-0b8f1c0ee0ae"
      },
      "source": [
        "# Test\n",
        "# 1- précaution pour ne pas considérer les pixels dont on ne peut extraire des patchs car trop près du bord\n",
        "idx_col = idx_test[0]\n",
        "idx_row = idx_test[1]\n",
        "coords = np.column_stack((idx_col,idx_row))\n",
        "coords = coords[np.where( ( np.isin(coords[:,0],np.arange(2,blue_ts_norm.shape[0]-2,1)) ) & ( np.isin(coords[:,1],np.arange(2,blue_ts_norm.shape[1]-2,1)) ) ) ]\n",
        "# len(coords)\n",
        "# 2- créer un tableau avec les patchs\n",
        "test_X = []\n",
        "for coord in coords :\n",
        "  lst = []\n",
        "  for band in [blue_ts_norm,green_ts_norm,red_ts_norm,nir_ts_norm]:\n",
        "    lst.append( band[coord[0]-2:coord[0]+3,coord[1]-2:coord[1]+3] )\n",
        "  test_X.append(np.stack(lst,axis=-1))#.reshape(5,5,-1))\n",
        "test_X = np.stack(test_X,axis=0)\n",
        "test_X.shape"
      ],
      "execution_count": 42,
      "outputs": [
        {
          "output_type": "execute_result",
          "data": {
            "text/plain": [
              "(207485, 5, 5, 8, 4)"
            ]
          },
          "metadata": {
            "tags": []
          },
          "execution_count": 42
        }
      ]
    },
    {
      "cell_type": "markdown",
      "metadata": {
        "id": "oiqM_sYRt5IL"
      },
      "source": [
        "### **Sauvegarde des données d'entraînement, de validation et test en fichier numpy**"
      ]
    },
    {
      "cell_type": "code",
      "metadata": {
        "id": "dPiv0fo3uJ8s"
      },
      "source": [
        "# Ainsi de cette façon vous pourrez continuer directement avec la création des modèles et en libérant la mémoire de tout ce qui a été fait précédemment\n",
        "Path('data').mkdir(exist_ok=True, parents=True)\n",
        "np.save('data/train_X.npy',train_X)\n",
        "np.save('data/train_y.npy',train_y)\n",
        "# np.save('data/train_id.npy',train_id_array)\n",
        "\n",
        "np.save('data/valid_X.npy',valid_X)\n",
        "np.save('data/valid_y.npy',valid_y)\n",
        "np.save('data/valid_id.npy',valid_id_array)\n",
        "\n",
        "np.save('data/test_X.npy',test_X)\n",
        "np.save('data/test_id.npy',test_id_array)"
      ],
      "execution_count": 44,
      "outputs": []
    },
    {
      "cell_type": "markdown",
      "metadata": {
        "id": "TOM6_mv--8IX"
      },
      "source": [
        "Videz la mémoire en redémarrant l'environnement d'exécution"
      ]
    },
    {
      "cell_type": "markdown",
      "metadata": {
        "id": "qv0jts6w6nxr"
      },
      "source": [
        "# **Votre modèle de deep learning**"
      ]
    },
    {
      "cell_type": "markdown",
      "metadata": {
        "id": "wmBRjg3QFrLe"
      },
      "source": [
        "### **Remontage de Drive et Importation de quelques librairies**"
      ]
    },
    {
      "cell_type": "code",
      "metadata": {
        "colab": {
          "base_uri": "https://localhost:8080/"
        },
        "id": "rJUrD-aVMaN0",
        "outputId": "bf1aae4a-6f57-47a3-cc6d-6914379bc4b3"
      },
      "source": [
        "from google.colab import drive\n",
        "drive.mount('/content/drive')"
      ],
      "execution_count": 3,
      "outputs": [
        {
          "output_type": "stream",
          "text": [
            "Drive already mounted at /content/drive; to attempt to forcibly remount, call drive.mount(\"/content/drive\", force_remount=True).\n"
          ],
          "name": "stdout"
        }
      ]
    },
    {
      "cell_type": "code",
      "metadata": {
        "id": "_K5Xk6WeALcH"
      },
      "source": [
        "import os\n",
        "os.chdir('/content/drive/My Drive/Projet_HMIN339M')\n",
        "import numpy as np\n",
        "import pandas as pd\n",
        "import tifffile\n",
        "from pathlib import Path\n",
        "from sklearn.metrics import f1_score, confusion_matrix\n",
        "from sklearn.preprocessing import LabelEncoder\n",
        "import tensorflow as tf\n",
        "from tensorflow.keras.layers import Input, Concatenate, Dense, Dropout, Activation, Flatten, Conv2D, Conv1D, GlobalAveragePooling1D, GlobalAveragePooling2D, BatchNormalization, Flatten, GRU\n",
        "from tensorflow.keras.models import Sequential\n",
        "from tensorflow.keras import Model\n",
        "import matplotlib.pyplot as plt\n",
        "%matplotlib inline"
      ],
      "execution_count": 4,
      "outputs": []
    },
    {
      "cell_type": "markdown",
      "metadata": {
        "id": "UlRFSn7f_yKx"
      },
      "source": [
        "### **Recharger les données d'entraînement, de validation et test en fichier numpy**"
      ]
    },
    {
      "cell_type": "code",
      "metadata": {
        "colab": {
          "base_uri": "https://localhost:8080/"
        },
        "id": "CVzkEkQA-jM7",
        "outputId": "5ddbd79c-9ab8-4157-99e5-6c53143c2a1d"
      },
      "source": [
        "# Recharger les données après avoir vidé la mémoire\n",
        "train_X = np.load('data/train_X.npy')\n",
        "train_y = np.load('data/train_y.npy')\n",
        "\n",
        "valid_X = np.load('data/valid_X.npy')\n",
        "valid_y = np.load('data/valid_y.npy')\n",
        "valid_id = np.load('data/valid_id.npy')\n",
        "\n",
        "test_X = np.load('data/test_X.npy')\n",
        "test_id = np.load('data/test_id.npy')\n",
        "train_X.shape, train_y.shape, valid_X.shape, valid_y.shape, valid_id.shape, test_X.shape, test_id.shape"
      ],
      "execution_count": 5,
      "outputs": [
        {
          "output_type": "execute_result",
          "data": {
            "text/plain": [
              "((451962, 5, 5, 8, 4),\n",
              " (451962,),\n",
              " (153469, 5, 5, 8, 4),\n",
              " (153469,),\n",
              " (153469,),\n",
              " (207485, 5, 5, 8, 4),\n",
              " (207485,))"
            ]
          },
          "metadata": {
            "tags": []
          },
          "execution_count": 5
        }
      ]
    },
    {
      "cell_type": "code",
      "metadata": {
        "colab": {
          "base_uri": "https://localhost:8080/"
        },
        "id": "GwFEUAqvTq5V",
        "outputId": "6dc63fd6-43e0-43ec-8bdf-c88389d0689e"
      },
      "source": [
        "train_X_mlp = train_X[:,2,2,:,:].reshape(train_X.shape[0],-1)\n",
        "train_X_cnn1d = train_X[:,2,2,:,:]\n",
        "train_X_cnn2d = train_X[:,:,:,:].reshape(train_X.shape[0],5,5,-1)\n",
        "\n",
        "valid_X_mlp = valid_X[:,2,2,:,:].reshape(valid_X.shape[0],-1)\n",
        "valid_X_cnn1d = valid_X[:,2,2,:,:]\n",
        "valid_X_cnn2d = valid_X[:,:,:,:].reshape(valid_X.shape[0],5,5,-1)\n",
        "\n",
        "test_X_mlp = test_X[:,2,2,:,:].reshape(test_X.shape[0],-1)\n",
        "test_X_cnn1d = test_X[:,2,2,:,:]\n",
        "test_X_cnn2d = test_X[:,:,:,:].reshape(test_X.shape[0],5,5,-1)\n",
        "\n",
        "train_X_mlp.shape, train_X_cnn1d.shape, train_X_cnn2d.shape"
      ],
      "execution_count": 6,
      "outputs": [
        {
          "output_type": "execute_result",
          "data": {
            "text/plain": [
              "((451962, 32), (451962, 8, 4), (451962, 5, 5, 32))"
            ]
          },
          "metadata": {
            "tags": []
          },
          "execution_count": 6
        }
      ]
    },
    {
      "cell_type": "markdown",
      "metadata": {
        "id": "K23T_c-EAj_z"
      },
      "source": [
        "### **Encoder les labels entre 0 et 4 de sorte à matcher les prédictions des réseaux de neurones**"
      ]
    },
    {
      "cell_type": "code",
      "metadata": {
        "colab": {
          "base_uri": "https://localhost:8080/"
        },
        "id": "FY74aok1Arfi",
        "outputId": "346d0fd2-3dad-4c70-d680-98f46813c1c2"
      },
      "source": [
        "encoder = LabelEncoder()\n",
        "encoder.fit(train_y)\n",
        "train_y_enc = encoder.transform(train_y)\n",
        "valid_y_enc = encoder.transform(valid_y)\n",
        "np.unique(train_y), np.unique(train_y_enc), np.unique(valid_y), np.unique(valid_y_enc)"
      ],
      "execution_count": 7,
      "outputs": [
        {
          "output_type": "execute_result",
          "data": {
            "text/plain": [
              "(array([1, 2, 3, 4, 5], dtype=uint8),\n",
              " array([0, 1, 2, 3, 4]),\n",
              " array([1, 2, 3, 4, 5], dtype=uint8),\n",
              " array([0, 1, 2, 3, 4]))"
            ]
          },
          "metadata": {
            "tags": []
          },
          "execution_count": 7
        }
      ]
    },
    {
      "cell_type": "markdown",
      "metadata": {
        "id": "GpH3oJPVE3uE"
      },
      "source": [
        "### **Définition séquentielle de votre modèle avec Keras**\n",
        "\n",
        "N'oubliez pas de spécifier l'input shape qui varie en fonction des types d'architectures, le nombre de neurones de la couche de sortie qui équivaut au nombre de classes que vous avez et de l'activer avec une fonction Softmax"
      ]
    },
    {
      "cell_type": "code",
      "metadata": {
        "id": "cvUdNqlKAu0X"
      },
      "source": [
        "model = tf.keras.models.Sequential([\n",
        "  tf.keras.layers.Input(shape=(32)),\n",
        "  tf.keras.layers.Dense(128, activation='relu'),\n",
        "  tf.keras.layers.Dense(256, activation='relu'),\n",
        "  tf.keras.layers.Dropout(0.2),\n",
        "  tf.keras.layers.Dense(5, activation='softmax')\n",
        "])"
      ],
      "execution_count": 8,
      "outputs": []
    },
    {
      "cell_type": "code",
      "metadata": {
        "colab": {
          "base_uri": "https://localhost:8080/"
        },
        "id": "jhhSzQvSFALk",
        "outputId": "69edeef5-75b9-47b4-9e35-ed48ad88dd6a"
      },
      "source": [
        "# Afficher votre modèle\n",
        "model.summary()"
      ],
      "execution_count": 9,
      "outputs": [
        {
          "output_type": "stream",
          "text": [
            "Model: \"sequential\"\n",
            "_________________________________________________________________\n",
            "Layer (type)                 Output Shape              Param #   \n",
            "=================================================================\n",
            "dense (Dense)                (None, 128)               4224      \n",
            "_________________________________________________________________\n",
            "dense_1 (Dense)              (None, 256)               33024     \n",
            "_________________________________________________________________\n",
            "dropout (Dropout)            (None, 256)               0         \n",
            "_________________________________________________________________\n",
            "dense_2 (Dense)              (None, 5)                 1285      \n",
            "=================================================================\n",
            "Total params: 38,533\n",
            "Trainable params: 38,533\n",
            "Non-trainable params: 0\n",
            "_________________________________________________________________\n"
          ],
          "name": "stdout"
        }
      ]
    },
    {
      "cell_type": "markdown",
      "metadata": {
        "id": "ck-jbWUnCD0y"
      },
      "source": [
        "### **Définition de votre modèle en utilisant l'API fonctionnelle**"
      ]
    },
    {
      "cell_type": "code",
      "metadata": {
        "id": "C-qUR7zPCRa6"
      },
      "source": [
        "# Inputs \n",
        "mlp_input = Input(shape=(32),name='mlp_input')\n",
        "cnn_input = Input(shape=(8,4),name='cnn_input')\n",
        "\n",
        "# MLP branch\n",
        "mlp_layer1 = Dense(128,activation='relu')(mlp_input)\n",
        "mlp_layer1 = BatchNormalization()(mlp_layer1)\n",
        "mlp_layer2 = Dense(256,activation='relu')(mlp_layer1)\n",
        "mlp_layer2 = BatchNormalization()(mlp_layer2)\n",
        "mlp_layer2 = Dropout(0.5)(mlp_layer2)\n",
        "mlp_out = Dense(5,activation='softmax',name='mlp')(mlp_layer2)\n",
        "mlp_branch = Model(inputs=mlp_input,outputs=[mlp_layer2,mlp_out],name=\"mlp\")\n",
        "\n",
        "# CNN branch\n",
        "cnn_layer1 = Conv1D(filters=128,kernel_size=3,activation='relu')(cnn_input)\n",
        "cnn_layer1 = BatchNormalization()(cnn_layer1)\n",
        "cnn_layer2 = Conv1D(filters=256,kernel_size=3,activation='relu')(cnn_layer1)\n",
        "cnn_layer2 = BatchNormalization()(cnn_layer2)\n",
        "cnn_layer2 = Dropout(0.3)(cnn_layer2)\n",
        "cnn_layer3 = GlobalAveragePooling1D()(cnn_layer2)\n",
        "cnn_out = Dense(5,activation='softmax',name='cnn')(cnn_layer3)\n",
        "cnn_branch = Model(inputs=cnn_input,outputs=[cnn_layer3,cnn_out],name=\"cnn\")\n",
        "\n",
        "# Concaténation des sorties des branches\n",
        "concat = Concatenate()([mlp_branch.output[0],cnn_branch.output[0]])\n",
        "\n",
        "# Un niveau Dense pour la classification\n",
        "fc = Dense (128,activation='relu')(concat)\n",
        "fc = Dropout (0.3)(fc)\n",
        "out_layer = Dense(5,activation='softmax',name='main')(fc)\n",
        "\n",
        "\n",
        "model = Model(inputs=[mlp_branch.input, cnn_branch.input], outputs=[out_layer,mlp_branch.output[1],cnn_branch.output[1]],name=\"mlp_cnn\")"
      ],
      "execution_count": 121,
      "outputs": []
    },
    {
      "cell_type": "code",
      "metadata": {
        "colab": {
          "base_uri": "https://localhost:8080/"
        },
        "id": "oxtoXsFgPNX7",
        "outputId": "0c5d7420-c41b-4741-ad28-034022273dc5"
      },
      "source": [
        "model.summary()"
      ],
      "execution_count": 122,
      "outputs": [
        {
          "output_type": "stream",
          "text": [
            "Model: \"mlp_cnn\"\n",
            "__________________________________________________________________________________________________\n",
            "Layer (type)                    Output Shape         Param #     Connected to                     \n",
            "==================================================================================================\n",
            "cnn_input (InputLayer)          [(None, 8, 4)]       0                                            \n",
            "__________________________________________________________________________________________________\n",
            "mlp_input (InputLayer)          [(None, 32)]         0                                            \n",
            "__________________________________________________________________________________________________\n",
            "conv1d_12 (Conv1D)              (None, 6, 128)       1664        cnn_input[0][0]                  \n",
            "__________________________________________________________________________________________________\n",
            "dense_21 (Dense)                (None, 128)          4224        mlp_input[0][0]                  \n",
            "__________________________________________________________________________________________________\n",
            "batch_normalization_26 (BatchNo (None, 6, 128)       512         conv1d_12[0][0]                  \n",
            "__________________________________________________________________________________________________\n",
            "batch_normalization_24 (BatchNo (None, 128)          512         dense_21[0][0]                   \n",
            "__________________________________________________________________________________________________\n",
            "conv1d_13 (Conv1D)              (None, 4, 256)       98560       batch_normalization_26[0][0]     \n",
            "__________________________________________________________________________________________________\n",
            "dense_22 (Dense)                (None, 256)          33024       batch_normalization_24[0][0]     \n",
            "__________________________________________________________________________________________________\n",
            "batch_normalization_27 (BatchNo (None, 4, 256)       1024        conv1d_13[0][0]                  \n",
            "__________________________________________________________________________________________________\n",
            "batch_normalization_25 (BatchNo (None, 256)          1024        dense_22[0][0]                   \n",
            "__________________________________________________________________________________________________\n",
            "dropout_20 (Dropout)            (None, 4, 256)       0           batch_normalization_27[0][0]     \n",
            "__________________________________________________________________________________________________\n",
            "dropout_19 (Dropout)            (None, 256)          0           batch_normalization_25[0][0]     \n",
            "__________________________________________________________________________________________________\n",
            "global_average_pooling1d_6 (Glo (None, 256)          0           dropout_20[0][0]                 \n",
            "__________________________________________________________________________________________________\n",
            "concatenate_6 (Concatenate)     (None, 512)          0           dropout_19[0][0]                 \n",
            "                                                                 global_average_pooling1d_6[0][0] \n",
            "__________________________________________________________________________________________________\n",
            "dense_23 (Dense)                (None, 128)          65664       concatenate_6[0][0]              \n",
            "__________________________________________________________________________________________________\n",
            "dropout_21 (Dropout)            (None, 128)          0           dense_23[0][0]                   \n",
            "__________________________________________________________________________________________________\n",
            "main (Dense)                    (None, 5)            645         dropout_21[0][0]                 \n",
            "__________________________________________________________________________________________________\n",
            "mlp (Dense)                     (None, 5)            1285        dropout_19[0][0]                 \n",
            "__________________________________________________________________________________________________\n",
            "cnn (Dense)                     (None, 5)            1285        global_average_pooling1d_6[0][0] \n",
            "==================================================================================================\n",
            "Total params: 209,423\n",
            "Trainable params: 207,887\n",
            "Non-trainable params: 1,536\n",
            "__________________________________________________________________________________________________\n"
          ],
          "name": "stdout"
        }
      ]
    },
    {
      "cell_type": "code",
      "metadata": {
        "colab": {
          "base_uri": "https://localhost:8080/",
          "height": 1000
        },
        "id": "_cGHVPi2Pi5H",
        "outputId": "d9db9159-50f3-4f1f-c0cb-ad8f4784e8e3"
      },
      "source": [
        "tf.keras.utils.plot_model(model,show_shapes=True)"
      ],
      "execution_count": 123,
      "outputs": [
        {
          "output_type": "execute_result",
          "data": {
            "image/png": "[encoded data removed]",
            "text/plain": [
              "<IPython.core.display.Image object>"
            ]
          },
          "metadata": {
            "tags": []
          },
          "execution_count": 123
        }
      ]
    },
    {
      "cell_type": "markdown",
      "metadata": {
        "id": "f2ksSpJGF1gP"
      },
      "source": [
        "### **Compiler votre modèle en définissant une fonction de côut, un optmiseur et une métrique**\n",
        "\n",
        "Dans le cas d'une classification multi-classe, votre fonction de coût est la cross entropy catégorique. $Adam$ est un bon optimiseur de départ pour vos projets. Ici vous pouvez surveiller la métrique $Accuracy$. Pour la fonction de coût (loss), je n'utilse pas l'argument $from\\_logits=True$ car j'ai déjà activé la couche de sortie avec une fonction Softmax"
      ]
    },
    {
      "cell_type": "code",
      "metadata": {
        "id": "qtwtaGndG7UN"
      },
      "source": [
        "model.compile(optimizer=tf.keras.optimizers.Adam(learning_rate=1e-4) ,loss=tf.keras.losses.SparseCategoricalCrossentropy(),loss_weights=[1,.5,.5], metrics=tf.keras.metrics.SparseCategoricalAccuracy(name='acc'))"
      ],
      "execution_count": 124,
      "outputs": []
    },
    {
      "cell_type": "markdown",
      "metadata": {
        "id": "aLKCHopeIIet"
      },
      "source": [
        "### **Définir un callback pour sauver les poids de votre modèle sur les meilleures époque c'est à dire les moments où il s'améliorera sur le jeu de validation**"
      ]
    },
    {
      "cell_type": "code",
      "metadata": {
        "id": "X-_N87DhIH5N"
      },
      "source": [
        "Path('my_model').mkdir(exist_ok=True, parents=True)\n",
        "checkpointpath = os.path.join('my_model','model') # chemin où sauver le modèle\n",
        "callbacks = [tf.keras.callbacks.ModelCheckpoint(\n",
        "              checkpointpath,\n",
        "              verbose=1, # niveau de log\n",
        "              monitor='val_main_acc', # nom de la métrique à surveiller\n",
        "              save_best_only=True, # sauver uniquement le meilleur modèle\n",
        "              save_weights_only=True)] # sauver uniquement les poids"
      ],
      "execution_count": 125,
      "outputs": []
    },
    {
      "cell_type": "markdown",
      "metadata": {
        "id": "ozHZJ2CZH72X"
      },
      "source": [
        "### **Entraîner votre modèle pour un certain nombre d'époques**\n",
        "\n",
        "Le paramètre $validation\\_data$ vous permet de spécifier des données de validation et de votre le comportement de votre modèle sur un jeu indépendant dont il n'a pas la connaissance. \n",
        "\n",
        "La taille de batch ($batch\\_size$) correspond au nombre d'échantillons sur lesquels le modèle est entraîné à la fois sur une époque. Vous pouvez le mettre à (ex. 32, 64, 128, 256) et plus il est grand ce qui requiert d'avoir de la mémoire plus le temps d'exécution d'une époque sera court\n",
        "\n",
        "J'utilise les labels encodés entre 0 et 4 car la prédiction sur les distributions de probabilités du modèle est retournée avec un argmax"
      ]
    },
    {
      "cell_type": "code",
      "metadata": {
        "colab": {
          "base_uri": "https://localhost:8080/"
        },
        "id": "8WpxHz3FJuJ6",
        "outputId": "0a022dd3-778f-4a3f-b077-68d48ed54b2f"
      },
      "source": [
        "BATCH_SIZE = 256\n",
        "EPOCHS = 50\n",
        "hist = model.fit ([train_X_mlp,train_X_cnn1d], train_y_enc, validation_data=([valid_X_mlp,valid_X_cnn1d],valid_y_enc), batch_size=BATCH_SIZE, epochs=EPOCHS, callbacks=callbacks)"
      ],
      "execution_count": 126,
      "outputs": [
        {
          "output_type": "stream",
          "text": [
            "Epoch 1/50\n",
            "1760/1766 [============================>.] - ETA: 0s - loss: 0.9899 - main_loss: 0.4500 - mlp_loss: 0.6123 - cnn_loss: 0.4674 - main_acc: 0.8541 - mlp_acc: 0.8228 - cnn_acc: 0.8570\n",
            "Epoch 00001: val_main_acc improved from -inf to 0.88598, saving model to my_model/model\n",
            "1766/1766 [==============================] - 19s 11ms/step - loss: 0.9888 - main_loss: 0.4495 - mlp_loss: 0.6115 - cnn_loss: 0.4669 - main_acc: 0.8543 - mlp_acc: 0.8230 - cnn_acc: 0.8572 - val_loss: 0.6807 - val_main_loss: 0.3069 - val_mlp_loss: 0.4029 - val_cnn_loss: 0.3447 - val_main_acc: 0.8860 - val_mlp_acc: 0.8417 - val_cnn_acc: 0.8739\n",
            "Epoch 2/50\n",
            "1764/1766 [============================>.] - ETA: 0s - loss: 0.6169 - main_loss: 0.2846 - mlp_loss: 0.3575 - cnn_loss: 0.3073 - main_acc: 0.9024 - mlp_acc: 0.8837 - cnn_acc: 0.8968\n",
            "Epoch 00002: val_main_acc improved from 0.88598 to 0.90175, saving model to my_model/model\n",
            "1766/1766 [==============================] - 16s 9ms/step - loss: 0.6169 - main_loss: 0.2845 - mlp_loss: 0.3575 - cnn_loss: 0.3072 - main_acc: 0.9024 - mlp_acc: 0.8837 - cnn_acc: 0.8968 - val_loss: 0.5747 - val_main_loss: 0.2745 - val_mlp_loss: 0.3006 - val_cnn_loss: 0.2998 - val_main_acc: 0.9018 - val_mlp_acc: 0.8885 - val_cnn_acc: 0.8929\n",
            "Epoch 3/50\n",
            "1762/1766 [============================>.] - ETA: 0s - loss: 0.5402 - main_loss: 0.2506 - mlp_loss: 0.3055 - cnn_loss: 0.2737 - main_acc: 0.9125 - mlp_acc: 0.8968 - cnn_acc: 0.9063\n",
            "Epoch 00003: val_main_acc did not improve from 0.90175\n",
            "1766/1766 [==============================] - 17s 9ms/step - loss: 0.5400 - main_loss: 0.2505 - mlp_loss: 0.3054 - cnn_loss: 0.2736 - main_acc: 0.9125 - mlp_acc: 0.8968 - cnn_acc: 0.9063 - val_loss: 0.6263 - val_main_loss: 0.3038 - val_mlp_loss: 0.2983 - val_cnn_loss: 0.3466 - val_main_acc: 0.8905 - val_mlp_acc: 0.8888 - val_cnn_acc: 0.8703\n",
            "Epoch 4/50\n",
            "1764/1766 [============================>.] - ETA: 0s - loss: 0.4979 - main_loss: 0.2296 - mlp_loss: 0.2832 - cnn_loss: 0.2533 - main_acc: 0.9202 - mlp_acc: 0.9036 - cnn_acc: 0.9127\n",
            "Epoch 00004: val_main_acc did not improve from 0.90175\n",
            "1766/1766 [==============================] - 16s 9ms/step - loss: 0.4979 - main_loss: 0.2296 - mlp_loss: 0.2832 - cnn_loss: 0.2533 - main_acc: 0.9202 - mlp_acc: 0.9036 - cnn_acc: 0.9127 - val_loss: 0.5768 - val_main_loss: 0.2797 - val_mlp_loss: 0.2795 - val_cnn_loss: 0.3146 - val_main_acc: 0.8998 - val_mlp_acc: 0.8993 - val_cnn_acc: 0.8847\n",
            "Epoch 5/50\n",
            "1765/1766 [============================>.] - ETA: 0s - loss: 0.4685 - main_loss: 0.2146 - mlp_loss: 0.2681 - cnn_loss: 0.2397 - main_acc: 0.9250 - mlp_acc: 0.9083 - cnn_acc: 0.9168\n",
            "Epoch 00005: val_main_acc improved from 0.90175 to 0.90470, saving model to my_model/model\n",
            "1766/1766 [==============================] - 16s 9ms/step - loss: 0.4685 - main_loss: 0.2146 - mlp_loss: 0.2681 - cnn_loss: 0.2397 - main_acc: 0.9250 - mlp_acc: 0.9084 - cnn_acc: 0.9168 - val_loss: 0.5400 - val_main_loss: 0.2634 - val_mlp_loss: 0.2781 - val_cnn_loss: 0.2752 - val_main_acc: 0.9047 - val_mlp_acc: 0.9022 - val_cnn_acc: 0.9035\n",
            "Epoch 6/50\n",
            "1765/1766 [============================>.] - ETA: 0s - loss: 0.4474 - main_loss: 0.2039 - mlp_loss: 0.2578 - cnn_loss: 0.2292 - main_acc: 0.9286 - mlp_acc: 0.9117 - cnn_acc: 0.9200\n",
            "Epoch 00006: val_main_acc did not improve from 0.90470\n",
            "1766/1766 [==============================] - 16s 9ms/step - loss: 0.4474 - main_loss: 0.2039 - mlp_loss: 0.2578 - cnn_loss: 0.2292 - main_acc: 0.9286 - mlp_acc: 0.9117 - cnn_acc: 0.9200 - val_loss: 0.5665 - val_main_loss: 0.2741 - val_mlp_loss: 0.3020 - val_cnn_loss: 0.2828 - val_main_acc: 0.9027 - val_mlp_acc: 0.8906 - val_cnn_acc: 0.8978\n",
            "Epoch 7/50\n",
            "1765/1766 [============================>.] - ETA: 0s - loss: 0.4291 - main_loss: 0.1945 - mlp_loss: 0.2490 - cnn_loss: 0.2202 - main_acc: 0.9314 - mlp_acc: 0.9146 - cnn_acc: 0.9231\n",
            "Epoch 00007: val_main_acc did not improve from 0.90470\n",
            "1766/1766 [==============================] - 16s 9ms/step - loss: 0.4292 - main_loss: 0.1946 - mlp_loss: 0.2490 - cnn_loss: 0.2202 - main_acc: 0.9314 - mlp_acc: 0.9146 - cnn_acc: 0.9231 - val_loss: 0.5604 - val_main_loss: 0.2775 - val_mlp_loss: 0.2721 - val_cnn_loss: 0.2938 - val_main_acc: 0.8988 - val_mlp_acc: 0.9030 - val_cnn_acc: 0.8967\n",
            "Epoch 8/50\n",
            "1763/1766 [============================>.] - ETA: 0s - loss: 0.4157 - main_loss: 0.1876 - mlp_loss: 0.2421 - cnn_loss: 0.2140 - main_acc: 0.9339 - mlp_acc: 0.9168 - cnn_acc: 0.9250\n",
            "Epoch 00008: val_main_acc did not improve from 0.90470\n",
            "1766/1766 [==============================] - 16s 9ms/step - loss: 0.4158 - main_loss: 0.1876 - mlp_loss: 0.2422 - cnn_loss: 0.2141 - main_acc: 0.9339 - mlp_acc: 0.9167 - cnn_acc: 0.9250 - val_loss: 0.5997 - val_main_loss: 0.2946 - val_mlp_loss: 0.2819 - val_cnn_loss: 0.3283 - val_main_acc: 0.8965 - val_mlp_acc: 0.9002 - val_cnn_acc: 0.8828\n",
            "Epoch 9/50\n",
            "1765/1766 [============================>.] - ETA: 0s - loss: 0.4025 - main_loss: 0.1808 - mlp_loss: 0.2360 - cnn_loss: 0.2073 - main_acc: 0.9362 - mlp_acc: 0.9189 - cnn_acc: 0.9274\n",
            "Epoch 00009: val_main_acc improved from 0.90470 to 0.90481, saving model to my_model/model\n",
            "1766/1766 [==============================] - 16s 9ms/step - loss: 0.4025 - main_loss: 0.1808 - mlp_loss: 0.2360 - cnn_loss: 0.2073 - main_acc: 0.9362 - mlp_acc: 0.9189 - cnn_acc: 0.9274 - val_loss: 0.5926 - val_main_loss: 0.2898 - val_mlp_loss: 0.2844 - val_cnn_loss: 0.3212 - val_main_acc: 0.9048 - val_mlp_acc: 0.9009 - val_cnn_acc: 0.8936\n",
            "Epoch 10/50\n",
            "1762/1766 [============================>.] - ETA: 0s - loss: 0.3900 - main_loss: 0.1740 - mlp_loss: 0.2305 - cnn_loss: 0.2015 - main_acc: 0.9385 - mlp_acc: 0.9208 - cnn_acc: 0.9294\n",
            "Epoch 00010: val_main_acc did not improve from 0.90481\n",
            "1766/1766 [==============================] - 20s 11ms/step - loss: 0.3901 - main_loss: 0.1740 - mlp_loss: 0.2306 - cnn_loss: 0.2015 - main_acc: 0.9385 - mlp_acc: 0.9208 - cnn_acc: 0.9294 - val_loss: 0.5712 - val_main_loss: 0.2829 - val_mlp_loss: 0.2914 - val_cnn_loss: 0.2851 - val_main_acc: 0.9021 - val_mlp_acc: 0.8962 - val_cnn_acc: 0.9017\n",
            "Epoch 11/50\n",
            "1766/1766 [==============================] - ETA: 0s - loss: 0.3787 - main_loss: 0.1678 - mlp_loss: 0.2258 - cnn_loss: 0.1960 - main_acc: 0.9403 - mlp_acc: 0.9220 - cnn_acc: 0.9309\n",
            "Epoch 00011: val_main_acc did not improve from 0.90481\n",
            "1766/1766 [==============================] - 16s 9ms/step - loss: 0.3787 - main_loss: 0.1678 - mlp_loss: 0.2258 - cnn_loss: 0.1960 - main_acc: 0.9403 - mlp_acc: 0.9220 - cnn_acc: 0.9309 - val_loss: 0.5851 - val_main_loss: 0.2913 - val_mlp_loss: 0.2979 - val_cnn_loss: 0.2897 - val_main_acc: 0.9045 - val_mlp_acc: 0.8958 - val_cnn_acc: 0.9027\n",
            "Epoch 12/50\n",
            "1762/1766 [============================>.] - ETA: 0s - loss: 0.3696 - main_loss: 0.1630 - mlp_loss: 0.2212 - cnn_loss: 0.1920 - main_acc: 0.9417 - mlp_acc: 0.9237 - cnn_acc: 0.9321\n",
            "Epoch 00012: val_main_acc did not improve from 0.90481\n",
            "1766/1766 [==============================] - 16s 9ms/step - loss: 0.3697 - main_loss: 0.1630 - mlp_loss: 0.2212 - cnn_loss: 0.1921 - main_acc: 0.9417 - mlp_acc: 0.9237 - cnn_acc: 0.9321 - val_loss: 0.5687 - val_main_loss: 0.2832 - val_mlp_loss: 0.2912 - val_cnn_loss: 0.2797 - val_main_acc: 0.9013 - val_mlp_acc: 0.8999 - val_cnn_acc: 0.9012\n",
            "Epoch 13/50\n",
            "1765/1766 [============================>.] - ETA: 0s - loss: 0.3608 - main_loss: 0.1584 - mlp_loss: 0.2172 - cnn_loss: 0.1876 - main_acc: 0.9441 - mlp_acc: 0.9253 - cnn_acc: 0.9338\n",
            "Epoch 00013: val_main_acc did not improve from 0.90481\n",
            "1766/1766 [==============================] - 16s 9ms/step - loss: 0.3608 - main_loss: 0.1584 - mlp_loss: 0.2172 - cnn_loss: 0.1876 - main_acc: 0.9441 - mlp_acc: 0.9253 - cnn_acc: 0.9338 - val_loss: 0.5658 - val_main_loss: 0.2808 - val_mlp_loss: 0.2883 - val_cnn_loss: 0.2818 - val_main_acc: 0.9036 - val_mlp_acc: 0.9004 - val_cnn_acc: 0.9015\n",
            "Epoch 14/50\n",
            "1763/1766 [============================>.] - ETA: 0s - loss: 0.3523 - main_loss: 0.1541 - mlp_loss: 0.2126 - cnn_loss: 0.1840 - main_acc: 0.9455 - mlp_acc: 0.9262 - cnn_acc: 0.9354\n",
            "Epoch 00014: val_main_acc did not improve from 0.90481\n",
            "1766/1766 [==============================] - 16s 9ms/step - loss: 0.3523 - main_loss: 0.1540 - mlp_loss: 0.2126 - cnn_loss: 0.1839 - main_acc: 0.9455 - mlp_acc: 0.9262 - cnn_acc: 0.9354 - val_loss: 0.6312 - val_main_loss: 0.3200 - val_mlp_loss: 0.3036 - val_cnn_loss: 0.3188 - val_main_acc: 0.8950 - val_mlp_acc: 0.8928 - val_cnn_acc: 0.8927\n",
            "Epoch 15/50\n",
            "1763/1766 [============================>.] - ETA: 0s - loss: 0.3455 - main_loss: 0.1502 - mlp_loss: 0.2099 - cnn_loss: 0.1807 - main_acc: 0.9466 - mlp_acc: 0.9272 - cnn_acc: 0.9362\n",
            "Epoch 00015: val_main_acc did not improve from 0.90481\n",
            "1766/1766 [==============================] - 16s 9ms/step - loss: 0.3455 - main_loss: 0.1503 - mlp_loss: 0.2098 - cnn_loss: 0.1807 - main_acc: 0.9466 - mlp_acc: 0.9272 - cnn_acc: 0.9362 - val_loss: 0.6989 - val_main_loss: 0.3580 - val_mlp_loss: 0.3095 - val_cnn_loss: 0.3724 - val_main_acc: 0.8896 - val_mlp_acc: 0.8926 - val_cnn_acc: 0.8789\n",
            "Epoch 16/50\n",
            "1764/1766 [============================>.] - ETA: 0s - loss: 0.3389 - main_loss: 0.1468 - mlp_loss: 0.2065 - cnn_loss: 0.1776 - main_acc: 0.9481 - mlp_acc: 0.9279 - cnn_acc: 0.9372\n",
            "Epoch 00016: val_main_acc did not improve from 0.90481\n",
            "1766/1766 [==============================] - 16s 9ms/step - loss: 0.3389 - main_loss: 0.1469 - mlp_loss: 0.2065 - cnn_loss: 0.1776 - main_acc: 0.9481 - mlp_acc: 0.9279 - cnn_acc: 0.9372 - val_loss: 0.6930 - val_main_loss: 0.3530 - val_mlp_loss: 0.3179 - val_cnn_loss: 0.3621 - val_main_acc: 0.8829 - val_mlp_acc: 0.8896 - val_cnn_acc: 0.8744\n",
            "Epoch 17/50\n",
            "1763/1766 [============================>.] - ETA: 0s - loss: 0.3319 - main_loss: 0.1429 - mlp_loss: 0.2039 - cnn_loss: 0.1741 - main_acc: 0.9493 - mlp_acc: 0.9290 - cnn_acc: 0.9385\n",
            "Epoch 00017: val_main_acc did not improve from 0.90481\n",
            "1766/1766 [==============================] - 16s 9ms/step - loss: 0.3319 - main_loss: 0.1429 - mlp_loss: 0.2039 - cnn_loss: 0.1741 - main_acc: 0.9493 - mlp_acc: 0.9290 - cnn_acc: 0.9385 - val_loss: 0.6195 - val_main_loss: 0.3127 - val_mlp_loss: 0.2958 - val_cnn_loss: 0.3179 - val_main_acc: 0.8983 - val_mlp_acc: 0.8965 - val_cnn_acc: 0.8962\n",
            "Epoch 18/50\n",
            "1765/1766 [============================>.] - ETA: 0s - loss: 0.3261 - main_loss: 0.1400 - mlp_loss: 0.2003 - cnn_loss: 0.1720 - main_acc: 0.9501 - mlp_acc: 0.9302 - cnn_acc: 0.9392\n",
            "Epoch 00018: val_main_acc did not improve from 0.90481\n",
            "1766/1766 [==============================] - 16s 9ms/step - loss: 0.3261 - main_loss: 0.1400 - mlp_loss: 0.2003 - cnn_loss: 0.1720 - main_acc: 0.9501 - mlp_acc: 0.9302 - cnn_acc: 0.9392 - val_loss: 0.6508 - val_main_loss: 0.3313 - val_mlp_loss: 0.3016 - val_cnn_loss: 0.3374 - val_main_acc: 0.8907 - val_mlp_acc: 0.8973 - val_cnn_acc: 0.8864\n",
            "Epoch 19/50\n",
            "1763/1766 [============================>.] - ETA: 0s - loss: 0.3214 - main_loss: 0.1374 - mlp_loss: 0.1987 - cnn_loss: 0.1693 - main_acc: 0.9513 - mlp_acc: 0.9306 - cnn_acc: 0.9402\n",
            "Epoch 00019: val_main_acc did not improve from 0.90481\n",
            "1766/1766 [==============================] - 16s 9ms/step - loss: 0.3214 - main_loss: 0.1374 - mlp_loss: 0.1987 - cnn_loss: 0.1693 - main_acc: 0.9512 - mlp_acc: 0.9306 - cnn_acc: 0.9402 - val_loss: 0.6330 - val_main_loss: 0.3243 - val_mlp_loss: 0.2781 - val_cnn_loss: 0.3394 - val_main_acc: 0.8968 - val_mlp_acc: 0.9053 - val_cnn_acc: 0.8891\n",
            "Epoch 20/50\n",
            "1762/1766 [============================>.] - ETA: 0s - loss: 0.3153 - main_loss: 0.1341 - mlp_loss: 0.1954 - cnn_loss: 0.1670 - main_acc: 0.9523 - mlp_acc: 0.9316 - cnn_acc: 0.9412\n",
            "Epoch 00020: val_main_acc did not improve from 0.90481\n",
            "1766/1766 [==============================] - 16s 9ms/step - loss: 0.3153 - main_loss: 0.1341 - mlp_loss: 0.1953 - cnn_loss: 0.1670 - main_acc: 0.9523 - mlp_acc: 0.9317 - cnn_acc: 0.9412 - val_loss: 0.6506 - val_main_loss: 0.3253 - val_mlp_loss: 0.3306 - val_cnn_loss: 0.3200 - val_main_acc: 0.8941 - val_mlp_acc: 0.8848 - val_cnn_acc: 0.8934\n",
            "Epoch 21/50\n",
            "1764/1766 [============================>.] - ETA: 0s - loss: 0.3103 - main_loss: 0.1314 - mlp_loss: 0.1935 - cnn_loss: 0.1643 - main_acc: 0.9534 - mlp_acc: 0.9321 - cnn_acc: 0.9421\n",
            "Epoch 00021: val_main_acc did not improve from 0.90481\n",
            "1766/1766 [==============================] - 19s 11ms/step - loss: 0.3103 - main_loss: 0.1314 - mlp_loss: 0.1935 - cnn_loss: 0.1643 - main_acc: 0.9534 - mlp_acc: 0.9321 - cnn_acc: 0.9421 - val_loss: 0.6689 - val_main_loss: 0.3500 - val_mlp_loss: 0.2948 - val_cnn_loss: 0.3431 - val_main_acc: 0.8880 - val_mlp_acc: 0.9001 - val_cnn_acc: 0.8815\n",
            "Epoch 22/50\n",
            "1765/1766 [============================>.] - ETA: 0s - loss: 0.3060 - main_loss: 0.1292 - mlp_loss: 0.1912 - cnn_loss: 0.1623 - main_acc: 0.9540 - mlp_acc: 0.9332 - cnn_acc: 0.9423\n",
            "Epoch 00022: val_main_acc did not improve from 0.90481\n",
            "1766/1766 [==============================] - 17s 10ms/step - loss: 0.3060 - main_loss: 0.1292 - mlp_loss: 0.1912 - cnn_loss: 0.1623 - main_acc: 0.9540 - mlp_acc: 0.9332 - cnn_acc: 0.9423 - val_loss: 0.6307 - val_main_loss: 0.3268 - val_mlp_loss: 0.2889 - val_cnn_loss: 0.3189 - val_main_acc: 0.8950 - val_mlp_acc: 0.9028 - val_cnn_acc: 0.8922\n",
            "Epoch 23/50\n",
            "1761/1766 [============================>.] - ETA: 0s - loss: 0.3021 - main_loss: 0.1270 - mlp_loss: 0.1896 - cnn_loss: 0.1606 - main_acc: 0.9548 - mlp_acc: 0.9333 - cnn_acc: 0.9434\n",
            "Epoch 00023: val_main_acc did not improve from 0.90481\n",
            "1766/1766 [==============================] - 16s 9ms/step - loss: 0.3022 - main_loss: 0.1270 - mlp_loss: 0.1897 - cnn_loss: 0.1606 - main_acc: 0.9548 - mlp_acc: 0.9333 - cnn_acc: 0.9434 - val_loss: 0.6248 - val_main_loss: 0.3231 - val_mlp_loss: 0.2965 - val_cnn_loss: 0.3069 - val_main_acc: 0.9018 - val_mlp_acc: 0.9019 - val_cnn_acc: 0.9037\n",
            "Epoch 24/50\n",
            "1760/1766 [============================>.] - ETA: 0s - loss: 0.2962 - main_loss: 0.1239 - mlp_loss: 0.1864 - cnn_loss: 0.1583 - main_acc: 0.9561 - mlp_acc: 0.9347 - cnn_acc: 0.9439\n",
            "Epoch 00024: val_main_acc did not improve from 0.90481\n",
            "1766/1766 [==============================] - 16s 9ms/step - loss: 0.2962 - main_loss: 0.1238 - mlp_loss: 0.1864 - cnn_loss: 0.1582 - main_acc: 0.9561 - mlp_acc: 0.9347 - cnn_acc: 0.9439 - val_loss: 0.7057 - val_main_loss: 0.3710 - val_mlp_loss: 0.3255 - val_cnn_loss: 0.3439 - val_main_acc: 0.8924 - val_mlp_acc: 0.8938 - val_cnn_acc: 0.8903\n",
            "Epoch 25/50\n",
            "1763/1766 [============================>.] - ETA: 0s - loss: 0.2929 - main_loss: 0.1225 - mlp_loss: 0.1847 - cnn_loss: 0.1559 - main_acc: 0.9563 - mlp_acc: 0.9349 - cnn_acc: 0.9449\n",
            "Epoch 00025: val_main_acc did not improve from 0.90481\n",
            "1766/1766 [==============================] - 16s 9ms/step - loss: 0.2928 - main_loss: 0.1225 - mlp_loss: 0.1847 - cnn_loss: 0.1559 - main_acc: 0.9563 - mlp_acc: 0.9349 - cnn_acc: 0.9449 - val_loss: 0.6521 - val_main_loss: 0.3397 - val_mlp_loss: 0.3001 - val_cnn_loss: 0.3248 - val_main_acc: 0.8888 - val_mlp_acc: 0.8991 - val_cnn_acc: 0.8891\n",
            "Epoch 26/50\n",
            "1763/1766 [============================>.] - ETA: 0s - loss: 0.2900 - main_loss: 0.1208 - mlp_loss: 0.1839 - cnn_loss: 0.1545 - main_acc: 0.9570 - mlp_acc: 0.9356 - cnn_acc: 0.9453\n",
            "Epoch 00026: val_main_acc did not improve from 0.90481\n",
            "1766/1766 [==============================] - 16s 9ms/step - loss: 0.2900 - main_loss: 0.1208 - mlp_loss: 0.1839 - cnn_loss: 0.1545 - main_acc: 0.9570 - mlp_acc: 0.9356 - cnn_acc: 0.9453 - val_loss: 0.6675 - val_main_loss: 0.3468 - val_mlp_loss: 0.2956 - val_cnn_loss: 0.3459 - val_main_acc: 0.8929 - val_mlp_acc: 0.9014 - val_cnn_acc: 0.8906\n",
            "Epoch 27/50\n",
            "1761/1766 [============================>.] - ETA: 0s - loss: 0.2854 - main_loss: 0.1185 - mlp_loss: 0.1816 - cnn_loss: 0.1523 - main_acc: 0.9578 - mlp_acc: 0.9357 - cnn_acc: 0.9460\n",
            "Epoch 00027: val_main_acc did not improve from 0.90481\n",
            "1766/1766 [==============================] - 17s 9ms/step - loss: 0.2854 - main_loss: 0.1185 - mlp_loss: 0.1815 - cnn_loss: 0.1523 - main_acc: 0.9578 - mlp_acc: 0.9358 - cnn_acc: 0.9461 - val_loss: 0.6740 - val_main_loss: 0.3523 - val_mlp_loss: 0.3098 - val_cnn_loss: 0.3334 - val_main_acc: 0.8930 - val_mlp_acc: 0.8971 - val_cnn_acc: 0.8931\n",
            "Epoch 28/50\n",
            "1764/1766 [============================>.] - ETA: 0s - loss: 0.2829 - main_loss: 0.1172 - mlp_loss: 0.1798 - cnn_loss: 0.1516 - main_acc: 0.9584 - mlp_acc: 0.9367 - cnn_acc: 0.9463\n",
            "Epoch 00028: val_main_acc did not improve from 0.90481\n",
            "1766/1766 [==============================] - 16s 9ms/step - loss: 0.2829 - main_loss: 0.1172 - mlp_loss: 0.1798 - cnn_loss: 0.1516 - main_acc: 0.9584 - mlp_acc: 0.9367 - cnn_acc: 0.9463 - val_loss: 0.6358 - val_main_loss: 0.3290 - val_mlp_loss: 0.2937 - val_cnn_loss: 0.3199 - val_main_acc: 0.8940 - val_mlp_acc: 0.9017 - val_cnn_acc: 0.8948\n",
            "Epoch 29/50\n",
            "1765/1766 [============================>.] - ETA: 0s - loss: 0.2785 - main_loss: 0.1145 - mlp_loss: 0.1788 - cnn_loss: 0.1492 - main_acc: 0.9592 - mlp_acc: 0.9370 - cnn_acc: 0.9473\n",
            "Epoch 00029: val_main_acc did not improve from 0.90481\n",
            "1766/1766 [==============================] - 16s 9ms/step - loss: 0.2785 - main_loss: 0.1145 - mlp_loss: 0.1788 - cnn_loss: 0.1492 - main_acc: 0.9592 - mlp_acc: 0.9370 - cnn_acc: 0.9473 - val_loss: 0.7151 - val_main_loss: 0.3778 - val_mlp_loss: 0.3139 - val_cnn_loss: 0.3608 - val_main_acc: 0.8847 - val_mlp_acc: 0.8966 - val_cnn_acc: 0.8861\n",
            "Epoch 30/50\n",
            "1764/1766 [============================>.] - ETA: 0s - loss: 0.2761 - main_loss: 0.1137 - mlp_loss: 0.1769 - cnn_loss: 0.1479 - main_acc: 0.9595 - mlp_acc: 0.9380 - cnn_acc: 0.9475\n",
            "Epoch 00030: val_main_acc did not improve from 0.90481\n",
            "1766/1766 [==============================] - 16s 9ms/step - loss: 0.2762 - main_loss: 0.1137 - mlp_loss: 0.1769 - cnn_loss: 0.1479 - main_acc: 0.9595 - mlp_acc: 0.9381 - cnn_acc: 0.9475 - val_loss: 0.7048 - val_main_loss: 0.3768 - val_mlp_loss: 0.3029 - val_cnn_loss: 0.3533 - val_main_acc: 0.8941 - val_mlp_acc: 0.9020 - val_cnn_acc: 0.8909\n",
            "Epoch 31/50\n",
            "1763/1766 [============================>.] - ETA: 0s - loss: 0.2729 - main_loss: 0.1116 - mlp_loss: 0.1759 - cnn_loss: 0.1466 - main_acc: 0.9600 - mlp_acc: 0.9377 - cnn_acc: 0.9480\n",
            "Epoch 00031: val_main_acc did not improve from 0.90481\n",
            "1766/1766 [==============================] - 16s 9ms/step - loss: 0.2728 - main_loss: 0.1116 - mlp_loss: 0.1759 - cnn_loss: 0.1466 - main_acc: 0.9600 - mlp_acc: 0.9377 - cnn_acc: 0.9480 - val_loss: 0.6988 - val_main_loss: 0.3690 - val_mlp_loss: 0.3033 - val_cnn_loss: 0.3563 - val_main_acc: 0.8884 - val_mlp_acc: 0.9019 - val_cnn_acc: 0.8859\n",
            "Epoch 32/50\n",
            "1764/1766 [============================>.] - ETA: 0s - loss: 0.2697 - main_loss: 0.1100 - mlp_loss: 0.1740 - cnn_loss: 0.1454 - main_acc: 0.9608 - mlp_acc: 0.9385 - cnn_acc: 0.9481\n",
            "Epoch 00032: val_main_acc did not improve from 0.90481\n",
            "1766/1766 [==============================] - 19s 11ms/step - loss: 0.2698 - main_loss: 0.1100 - mlp_loss: 0.1740 - cnn_loss: 0.1454 - main_acc: 0.9608 - mlp_acc: 0.9385 - cnn_acc: 0.9481 - val_loss: 0.7052 - val_main_loss: 0.3697 - val_mlp_loss: 0.3015 - val_cnn_loss: 0.3697 - val_main_acc: 0.8838 - val_mlp_acc: 0.9013 - val_cnn_acc: 0.8786\n",
            "Epoch 33/50\n",
            "1763/1766 [============================>.] - ETA: 0s - loss: 0.2679 - main_loss: 0.1090 - mlp_loss: 0.1734 - cnn_loss: 0.1444 - main_acc: 0.9610 - mlp_acc: 0.9387 - cnn_acc: 0.9489\n",
            "Epoch 00033: val_main_acc did not improve from 0.90481\n",
            "1766/1766 [==============================] - 17s 9ms/step - loss: 0.2679 - main_loss: 0.1090 - mlp_loss: 0.1734 - cnn_loss: 0.1444 - main_acc: 0.9610 - mlp_acc: 0.9387 - cnn_acc: 0.9489 - val_loss: 0.6984 - val_main_loss: 0.3705 - val_mlp_loss: 0.3122 - val_cnn_loss: 0.3436 - val_main_acc: 0.8921 - val_mlp_acc: 0.9011 - val_cnn_acc: 0.8913\n",
            "Epoch 34/50\n",
            "1766/1766 [==============================] - ETA: 0s - loss: 0.2653 - main_loss: 0.1080 - mlp_loss: 0.1718 - cnn_loss: 0.1429 - main_acc: 0.9617 - mlp_acc: 0.9393 - cnn_acc: 0.9493\n",
            "Epoch 00034: val_main_acc did not improve from 0.90481\n",
            "1766/1766 [==============================] - 17s 9ms/step - loss: 0.2653 - main_loss: 0.1080 - mlp_loss: 0.1718 - cnn_loss: 0.1429 - main_acc: 0.9617 - mlp_acc: 0.9393 - cnn_acc: 0.9493 - val_loss: 0.7180 - val_main_loss: 0.3747 - val_mlp_loss: 0.3203 - val_cnn_loss: 0.3663 - val_main_acc: 0.8939 - val_mlp_acc: 0.8984 - val_cnn_acc: 0.8901\n",
            "Epoch 35/50\n",
            "1763/1766 [============================>.] - ETA: 0s - loss: 0.2625 - main_loss: 0.1066 - mlp_loss: 0.1701 - cnn_loss: 0.1418 - main_acc: 0.9618 - mlp_acc: 0.9397 - cnn_acc: 0.9495\n",
            "Epoch 00035: val_main_acc did not improve from 0.90481\n",
            "1766/1766 [==============================] - 16s 9ms/step - loss: 0.2625 - main_loss: 0.1065 - mlp_loss: 0.1701 - cnn_loss: 0.1419 - main_acc: 0.9618 - mlp_acc: 0.9397 - cnn_acc: 0.9495 - val_loss: 0.7372 - val_main_loss: 0.3894 - val_mlp_loss: 0.3162 - val_cnn_loss: 0.3794 - val_main_acc: 0.8889 - val_mlp_acc: 0.8978 - val_cnn_acc: 0.8805\n",
            "Epoch 36/50\n",
            "1765/1766 [============================>.] - ETA: 0s - loss: 0.2600 - main_loss: 0.1052 - mlp_loss: 0.1686 - cnn_loss: 0.1410 - main_acc: 0.9626 - mlp_acc: 0.9402 - cnn_acc: 0.9502\n",
            "Epoch 00036: val_main_acc did not improve from 0.90481\n",
            "1766/1766 [==============================] - 17s 10ms/step - loss: 0.2600 - main_loss: 0.1052 - mlp_loss: 0.1686 - cnn_loss: 0.1410 - main_acc: 0.9626 - mlp_acc: 0.9402 - cnn_acc: 0.9501 - val_loss: 0.7817 - val_main_loss: 0.4211 - val_mlp_loss: 0.3353 - val_cnn_loss: 0.3859 - val_main_acc: 0.8804 - val_mlp_acc: 0.8912 - val_cnn_acc: 0.8792\n",
            "Epoch 37/50\n",
            "1761/1766 [============================>.] - ETA: 0s - loss: 0.2579 - main_loss: 0.1042 - mlp_loss: 0.1679 - cnn_loss: 0.1395 - main_acc: 0.9629 - mlp_acc: 0.9410 - cnn_acc: 0.9508\n",
            "Epoch 00037: val_main_acc did not improve from 0.90481\n",
            "1766/1766 [==============================] - 16s 9ms/step - loss: 0.2580 - main_loss: 0.1042 - mlp_loss: 0.1679 - cnn_loss: 0.1396 - main_acc: 0.9629 - mlp_acc: 0.9409 - cnn_acc: 0.9507 - val_loss: 0.7656 - val_main_loss: 0.4086 - val_mlp_loss: 0.3352 - val_cnn_loss: 0.3790 - val_main_acc: 0.8814 - val_mlp_acc: 0.8933 - val_cnn_acc: 0.8785\n",
            "Epoch 38/50\n",
            "1765/1766 [============================>.] - ETA: 0s - loss: 0.2538 - main_loss: 0.1018 - mlp_loss: 0.1666 - cnn_loss: 0.1376 - main_acc: 0.9637 - mlp_acc: 0.9413 - cnn_acc: 0.9511\n",
            "Epoch 00038: val_main_acc did not improve from 0.90481\n",
            "1766/1766 [==============================] - 16s 9ms/step - loss: 0.2538 - main_loss: 0.1018 - mlp_loss: 0.1666 - cnn_loss: 0.1376 - main_acc: 0.9637 - mlp_acc: 0.9413 - cnn_acc: 0.9511 - val_loss: 0.7941 - val_main_loss: 0.4230 - val_mlp_loss: 0.3550 - val_cnn_loss: 0.3872 - val_main_acc: 0.8816 - val_mlp_acc: 0.8904 - val_cnn_acc: 0.8800\n",
            "Epoch 39/50\n",
            "1765/1766 [============================>.] - ETA: 0s - loss: 0.2516 - main_loss: 0.1007 - mlp_loss: 0.1650 - cnn_loss: 0.1367 - main_acc: 0.9643 - mlp_acc: 0.9418 - cnn_acc: 0.9515\n",
            "Epoch 00039: val_main_acc did not improve from 0.90481\n",
            "1766/1766 [==============================] - 16s 9ms/step - loss: 0.2516 - main_loss: 0.1007 - mlp_loss: 0.1651 - cnn_loss: 0.1367 - main_acc: 0.9643 - mlp_acc: 0.9418 - cnn_acc: 0.9515 - val_loss: 0.7209 - val_main_loss: 0.3857 - val_mlp_loss: 0.3095 - val_cnn_loss: 0.3607 - val_main_acc: 0.8922 - val_mlp_acc: 0.9005 - val_cnn_acc: 0.8896\n",
            "Epoch 40/50\n",
            "1764/1766 [============================>.] - ETA: 0s - loss: 0.2510 - main_loss: 0.1004 - mlp_loss: 0.1647 - cnn_loss: 0.1366 - main_acc: 0.9641 - mlp_acc: 0.9420 - cnn_acc: 0.9517\n",
            "Epoch 00040: val_main_acc did not improve from 0.90481\n",
            "1766/1766 [==============================] - 16s 9ms/step - loss: 0.2511 - main_loss: 0.1004 - mlp_loss: 0.1647 - cnn_loss: 0.1366 - main_acc: 0.9641 - mlp_acc: 0.9420 - cnn_acc: 0.9517 - val_loss: 0.7295 - val_main_loss: 0.3859 - val_mlp_loss: 0.3174 - val_cnn_loss: 0.3698 - val_main_acc: 0.8906 - val_mlp_acc: 0.8988 - val_cnn_acc: 0.8839\n",
            "Epoch 41/50\n",
            "1763/1766 [============================>.] - ETA: 0s - loss: 0.2487 - main_loss: 0.0994 - mlp_loss: 0.1636 - cnn_loss: 0.1351 - main_acc: 0.9644 - mlp_acc: 0.9420 - cnn_acc: 0.9519\n",
            "Epoch 00041: val_main_acc did not improve from 0.90481\n",
            "1766/1766 [==============================] - 16s 9ms/step - loss: 0.2487 - main_loss: 0.0993 - mlp_loss: 0.1636 - cnn_loss: 0.1351 - main_acc: 0.9644 - mlp_acc: 0.9421 - cnn_acc: 0.9519 - val_loss: 0.7808 - val_main_loss: 0.4222 - val_mlp_loss: 0.3322 - val_cnn_loss: 0.3849 - val_main_acc: 0.8861 - val_mlp_acc: 0.8965 - val_cnn_acc: 0.8867\n",
            "Epoch 42/50\n",
            "1761/1766 [============================>.] - ETA: 0s - loss: 0.2476 - main_loss: 0.0986 - mlp_loss: 0.1631 - cnn_loss: 0.1349 - main_acc: 0.9649 - mlp_acc: 0.9427 - cnn_acc: 0.9519\n",
            "Epoch 00042: val_main_acc did not improve from 0.90481\n",
            "1766/1766 [==============================] - 19s 11ms/step - loss: 0.2476 - main_loss: 0.0986 - mlp_loss: 0.1631 - cnn_loss: 0.1349 - main_acc: 0.9649 - mlp_acc: 0.9427 - cnn_acc: 0.9520 - val_loss: 0.7361 - val_main_loss: 0.3967 - val_mlp_loss: 0.3303 - val_cnn_loss: 0.3485 - val_main_acc: 0.8894 - val_mlp_acc: 0.8959 - val_cnn_acc: 0.8913\n",
            "Epoch 43/50\n",
            "1764/1766 [============================>.] - ETA: 0s - loss: 0.2445 - main_loss: 0.0970 - mlp_loss: 0.1616 - cnn_loss: 0.1332 - main_acc: 0.9653 - mlp_acc: 0.9429 - cnn_acc: 0.9529\n",
            "Epoch 00043: val_main_acc did not improve from 0.90481\n",
            "1766/1766 [==============================] - 18s 10ms/step - loss: 0.2445 - main_loss: 0.0971 - mlp_loss: 0.1617 - cnn_loss: 0.1333 - main_acc: 0.9653 - mlp_acc: 0.9429 - cnn_acc: 0.9529 - val_loss: 0.7868 - val_main_loss: 0.4250 - val_mlp_loss: 0.3430 - val_cnn_loss: 0.3805 - val_main_acc: 0.8867 - val_mlp_acc: 0.8945 - val_cnn_acc: 0.8872\n",
            "Epoch 44/50\n",
            "1765/1766 [============================>.] - ETA: 0s - loss: 0.2413 - main_loss: 0.0953 - mlp_loss: 0.1604 - cnn_loss: 0.1315 - main_acc: 0.9661 - mlp_acc: 0.9435 - cnn_acc: 0.9533\n",
            "Epoch 00044: val_main_acc did not improve from 0.90481\n",
            "1766/1766 [==============================] - 17s 9ms/step - loss: 0.2413 - main_loss: 0.0954 - mlp_loss: 0.1604 - cnn_loss: 0.1315 - main_acc: 0.9661 - mlp_acc: 0.9435 - cnn_acc: 0.9533 - val_loss: 0.7564 - val_main_loss: 0.4094 - val_mlp_loss: 0.3286 - val_cnn_loss: 0.3653 - val_main_acc: 0.8862 - val_mlp_acc: 0.8986 - val_cnn_acc: 0.8848\n",
            "Epoch 45/50\n",
            "1764/1766 [============================>.] - ETA: 0s - loss: 0.2411 - main_loss: 0.0954 - mlp_loss: 0.1599 - cnn_loss: 0.1316 - main_acc: 0.9659 - mlp_acc: 0.9435 - cnn_acc: 0.9533\n",
            "Epoch 00045: val_main_acc did not improve from 0.90481\n",
            "1766/1766 [==============================] - 16s 9ms/step - loss: 0.2411 - main_loss: 0.0954 - mlp_loss: 0.1599 - cnn_loss: 0.1316 - main_acc: 0.9659 - mlp_acc: 0.9435 - cnn_acc: 0.9533 - val_loss: 0.8124 - val_main_loss: 0.4233 - val_mlp_loss: 0.3903 - val_cnn_loss: 0.3880 - val_main_acc: 0.8849 - val_mlp_acc: 0.8838 - val_cnn_acc: 0.8832\n",
            "Epoch 46/50\n",
            "1760/1766 [============================>.] - ETA: 0s - loss: 0.2389 - main_loss: 0.0943 - mlp_loss: 0.1586 - cnn_loss: 0.1307 - main_acc: 0.9664 - mlp_acc: 0.9442 - cnn_acc: 0.9539\n",
            "Epoch 00046: val_main_acc did not improve from 0.90481\n",
            "1766/1766 [==============================] - 16s 9ms/step - loss: 0.2389 - main_loss: 0.0942 - mlp_loss: 0.1587 - cnn_loss: 0.1307 - main_acc: 0.9664 - mlp_acc: 0.9442 - cnn_acc: 0.9539 - val_loss: 0.7333 - val_main_loss: 0.3977 - val_mlp_loss: 0.3091 - val_cnn_loss: 0.3621 - val_main_acc: 0.8936 - val_mlp_acc: 0.9031 - val_cnn_acc: 0.8914\n",
            "Epoch 47/50\n",
            "1765/1766 [============================>.] - ETA: 0s - loss: 0.2390 - main_loss: 0.0942 - mlp_loss: 0.1586 - cnn_loss: 0.1310 - main_acc: 0.9664 - mlp_acc: 0.9440 - cnn_acc: 0.9534\n",
            "Epoch 00047: val_main_acc did not improve from 0.90481\n",
            "1766/1766 [==============================] - 16s 9ms/step - loss: 0.2390 - main_loss: 0.0942 - mlp_loss: 0.1586 - cnn_loss: 0.1310 - main_acc: 0.9664 - mlp_acc: 0.9440 - cnn_acc: 0.9534 - val_loss: 0.6997 - val_main_loss: 0.3717 - val_mlp_loss: 0.3088 - val_cnn_loss: 0.3472 - val_main_acc: 0.8948 - val_mlp_acc: 0.9019 - val_cnn_acc: 0.8925\n",
            "Epoch 48/50\n",
            "1763/1766 [============================>.] - ETA: 0s - loss: 0.2355 - main_loss: 0.0924 - mlp_loss: 0.1571 - cnn_loss: 0.1290 - main_acc: 0.9671 - mlp_acc: 0.9445 - cnn_acc: 0.9543\n",
            "Epoch 00048: val_main_acc did not improve from 0.90481\n",
            "1766/1766 [==============================] - 16s 9ms/step - loss: 0.2355 - main_loss: 0.0924 - mlp_loss: 0.1571 - cnn_loss: 0.1290 - main_acc: 0.9671 - mlp_acc: 0.9445 - cnn_acc: 0.9543 - val_loss: 0.7339 - val_main_loss: 0.3907 - val_mlp_loss: 0.3128 - val_cnn_loss: 0.3737 - val_main_acc: 0.8932 - val_mlp_acc: 0.8991 - val_cnn_acc: 0.8902\n",
            "Epoch 49/50\n",
            "1764/1766 [============================>.] - ETA: 0s - loss: 0.2339 - main_loss: 0.0918 - mlp_loss: 0.1557 - cnn_loss: 0.1286 - main_acc: 0.9674 - mlp_acc: 0.9449 - cnn_acc: 0.9541\n",
            "Epoch 00049: val_main_acc did not improve from 0.90481\n",
            "1766/1766 [==============================] - 16s 9ms/step - loss: 0.2340 - main_loss: 0.0918 - mlp_loss: 0.1558 - cnn_loss: 0.1286 - main_acc: 0.9674 - mlp_acc: 0.9448 - cnn_acc: 0.9541 - val_loss: 0.7681 - val_main_loss: 0.4160 - val_mlp_loss: 0.3344 - val_cnn_loss: 0.3699 - val_main_acc: 0.8917 - val_mlp_acc: 0.9000 - val_cnn_acc: 0.8905\n",
            "Epoch 50/50\n",
            "1763/1766 [============================>.] - ETA: 0s - loss: 0.2331 - main_loss: 0.0914 - mlp_loss: 0.1554 - cnn_loss: 0.1280 - main_acc: 0.9673 - mlp_acc: 0.9452 - cnn_acc: 0.9547\n",
            "Epoch 00050: val_main_acc did not improve from 0.90481\n",
            "1766/1766 [==============================] - 16s 9ms/step - loss: 0.2332 - main_loss: 0.0915 - mlp_loss: 0.1555 - cnn_loss: 0.1281 - main_acc: 0.9673 - mlp_acc: 0.9452 - cnn_acc: 0.9546 - val_loss: 0.7847 - val_main_loss: 0.4256 - val_mlp_loss: 0.3517 - val_cnn_loss: 0.3665 - val_main_acc: 0.8851 - val_mlp_acc: 0.8946 - val_cnn_acc: 0.8864\n"
          ],
          "name": "stdout"
        }
      ]
    },
    {
      "cell_type": "code",
      "metadata": {
        "colab": {
          "base_uri": "https://localhost:8080/",
          "height": 312
        },
        "id": "fo3ibcBmO0Ii",
        "outputId": "eef006fa-9d00-40a4-d805-d6629b7693f6"
      },
      "source": [
        "plt.figure(figsize=(7, 4))\n",
        "\n",
        "ax = plt.subplot(121)\n",
        "plt.plot(hist.history['loss'])\n",
        "plt.plot(hist.history['val_loss'])\n",
        "plt.title(\"Training and Validation Loss\")\n",
        "plt.xticks(np.arange(0,EPOCHS+1,5),np.arange(0,EPOCHS+1,5))\n",
        "plt.xlabel(\"Epoch\")\n",
        "plt.ylabel(\"Loss\")\n",
        "plt.legend(['train', 'valid'], loc='upper left')\n",
        "\n",
        "plt.subplot(122)\n",
        "plt.plot(hist.history['main_acc'])\n",
        "plt.plot(hist.history['val_main_acc'])\n",
        "plt.title(\"Training and Validation Accuracy\")\n",
        "plt.xticks(np.arange(0,EPOCHS+1,5),np.arange(0,EPOCHS+1,5))\n",
        "plt.xlabel(\"Epoch\")\n",
        "plt.ylabel(\"Accuracy\")\n",
        "plt.legend(['train', 'valid'], loc='upper left')"
      ],
      "execution_count": 127,
      "outputs": [
        {
          "output_type": "execute_result",
          "data": {
            "text/plain": [
              "<matplotlib.legend.Legend at 0x7f2f0c5faeb8>"
            ]
          },
          "metadata": {
            "tags": []
          },
          "execution_count": 127
        },
        {
          "output_type": "display_data",
          "data": {
            "image/png": "[encoded data removed]",
            "text/plain": [
              "<Figure size 504x288 with 2 Axes>"
            ]
          },
          "metadata": {
            "tags": [],
            "needs_background": "light"
          }
        }
      ]
    },
    {
      "cell_type": "markdown",
      "metadata": {
        "id": "n8LxITTsM856"
      },
      "source": [
        "### **Restaurer les poids du modèle sur la meilleure époque d'entraînement**"
      ]
    },
    {
      "cell_type": "code",
      "metadata": {
        "colab": {
          "base_uri": "https://localhost:8080/"
        },
        "id": "l1F4KMnnMz3d",
        "outputId": "76bde3db-d0bf-4c60-e35a-cf1fae7cfc45"
      },
      "source": [
        "model.load_weights(checkpointpath)\n",
        "# S'assurer que c'est bien le meilleur modèle sur les époques d'entraînement\n",
        "model.evaluate([valid_X_mlp,valid_X_cnn1d],valid_y_enc,batch_size=256)"
      ],
      "execution_count": 128,
      "outputs": [
        {
          "output_type": "stream",
          "text": [
            "600/600 [==============================] - 2s 4ms/step - loss: 0.5926 - main_loss: 0.2898 - mlp_loss: 0.2844 - cnn_loss: 0.3212 - main_acc: 0.9048 - mlp_acc: 0.9009 - cnn_acc: 0.8936\n"
          ],
          "name": "stdout"
        },
        {
          "output_type": "execute_result",
          "data": {
            "text/plain": [
              "[0.5925865769386292,\n",
              " 0.2898143231868744,\n",
              " 0.28438302874565125,\n",
              " 0.3211613595485687,\n",
              " 0.9048081636428833,\n",
              " 0.9009050726890564,\n",
              " 0.8935876488685608]"
            ]
          },
          "metadata": {
            "tags": []
          },
          "execution_count": 128
        }
      ]
    },
    {
      "cell_type": "markdown",
      "metadata": {
        "id": "Zh14_LtSPCqB"
      },
      "source": [
        "### **Prédiction des classes sur le jeu de validation et évaluation en aggrégeant au niveau objet**"
      ]
    },
    {
      "cell_type": "code",
      "metadata": {
        "colab": {
          "base_uri": "https://localhost:8080/"
        },
        "id": "zDpjyx_JPNjv",
        "outputId": "f940f9ac-fc92-4aff-f424-76ff52cbf47d"
      },
      "source": [
        "# Récupérer les probabilités prédites sur le jeu de validation\n",
        "valid_prob, _, _ = model.predict([valid_X_mlp,valid_X_cnn1d],batch_size=256)\n",
        "valid_prob.shape"
      ],
      "execution_count": 129,
      "outputs": [
        {
          "output_type": "execute_result",
          "data": {
            "text/plain": [
              "(153469, 5)"
            ]
          },
          "metadata": {
            "tags": []
          },
          "execution_count": 129
        }
      ]
    },
    {
      "cell_type": "code",
      "metadata": {
        "colab": {
          "base_uri": "https://localhost:8080/"
        },
        "id": "26YozrngPZyW",
        "outputId": "346f5cac-efff-4d0c-88e6-9fe33d6077a6"
      },
      "source": [
        "# Retourner la classe correspondant à la probabilité la plus haute\n",
        "valid_pred = np.argmax(valid_prob,axis=1) # axe 1 car ceci concerne chaque ligne\n",
        "valid_pred.shape"
      ],
      "execution_count": 130,
      "outputs": [
        {
          "output_type": "execute_result",
          "data": {
            "text/plain": [
              "(153469,)"
            ]
          },
          "metadata": {
            "tags": []
          },
          "execution_count": 130
        }
      ]
    },
    {
      "cell_type": "code",
      "metadata": {
        "colab": {
          "base_uri": "https://localhost:8080/"
        },
        "id": "57Fyn2eyWU3w",
        "outputId": "bc63bbbe-e68c-47a4-d12c-2569b607289d"
      },
      "source": [
        "# Je réencode les prédictions entre 1 et 5\n",
        "valid_pred_enc = encoder.inverse_transform(valid_pred)\n",
        "np.unique(valid_pred_enc)"
      ],
      "execution_count": 131,
      "outputs": [
        {
          "output_type": "execute_result",
          "data": {
            "text/plain": [
              "array([1, 2, 3, 4, 5], dtype=uint8)"
            ]
          },
          "metadata": {
            "tags": []
          },
          "execution_count": 131
        }
      ]
    },
    {
      "cell_type": "code",
      "metadata": {
        "colab": {
          "base_uri": "https://localhost:8080/"
        },
        "id": "z35nADR_P-ut",
        "outputId": "8c61a911-54f3-45ab-d678-012a515a3cfe"
      },
      "source": [
        "# Aggrégation au niveau objet\n",
        "out_pred = []\n",
        "unique_id = np.unique(valid_id)\n",
        "for ID in unique_id :\n",
        "    # Récupérer les prédictions des pixels appartenant au même objet\n",
        "    pred = valid_pred_enc[np.where(valid_id==ID)]\n",
        "    y_true = valid_y[np.where(valid_id==ID)]\n",
        "    # Prendre la valeur majoritaire des prédictions sur les pixels\n",
        "    out_pred.append([ np.bincount(y_true).argmax(), np.bincount(pred).argmax()]) #(Vérité terrain,Prédiction majoritaire)\n",
        "out_pred = np.vstack(out_pred)\n",
        "out_pred.shape"
      ],
      "execution_count": 132,
      "outputs": [
        {
          "output_type": "execute_result",
          "data": {
            "text/plain": [
              "(558, 2)"
            ]
          },
          "metadata": {
            "tags": []
          },
          "execution_count": 132
        }
      ]
    },
    {
      "cell_type": "code",
      "metadata": {
        "colab": {
          "base_uri": "https://localhost:8080/"
        },
        "id": "hQ2jDDDZWsKQ",
        "outputId": "ee13cd3f-548a-4896-e306-71e39854bb9a"
      },
      "source": [
        "# F1 score au niveau objet\n",
        "f1_score(out_pred[:,0],out_pred[:,1],average='weighted')"
      ],
      "execution_count": 133,
      "outputs": [
        {
          "output_type": "execute_result",
          "data": {
            "text/plain": [
              "0.8844484747509322"
            ]
          },
          "metadata": {
            "tags": []
          },
          "execution_count": 133
        }
      ]
    },
    {
      "cell_type": "markdown",
      "metadata": {
        "id": "zIXYledyW9QI"
      },
      "source": [
        "### **Prédire sur le jeu test et Préparer une soumission**"
      ]
    },
    {
      "cell_type": "code",
      "metadata": {
        "colab": {
          "base_uri": "https://localhost:8080/"
        },
        "id": "p--sBOPKW4SE",
        "outputId": "0f52d3be-f2a1-4fdd-d212-c0f32ae4cd6d"
      },
      "source": [
        "# Récupérer les probabilités prédites sur le jeu test\n",
        "test_prob, _, _ = model.predict([test_X_mlp,test_X_cnn1d],batch_size=256)\n",
        "test_prob.shape"
      ],
      "execution_count": 134,
      "outputs": [
        {
          "output_type": "execute_result",
          "data": {
            "text/plain": [
              "(207485, 5)"
            ]
          },
          "metadata": {
            "tags": []
          },
          "execution_count": 134
        }
      ]
    },
    {
      "cell_type": "code",
      "metadata": {
        "colab": {
          "base_uri": "https://localhost:8080/"
        },
        "id": "QtI8FHPyXHF1",
        "outputId": "afeaae93-48e5-467a-dd53-f162097cb915"
      },
      "source": [
        "# Retourner la classe correspondant à la probabilité la plus haute\n",
        "test_pred = np.argmax(test_prob,axis=1) # axe 1 car ceci concerne chaque ligne\n",
        "test_pred.shape"
      ],
      "execution_count": 135,
      "outputs": [
        {
          "output_type": "execute_result",
          "data": {
            "text/plain": [
              "(207485,)"
            ]
          },
          "metadata": {
            "tags": []
          },
          "execution_count": 135
        }
      ]
    },
    {
      "cell_type": "code",
      "metadata": {
        "colab": {
          "base_uri": "https://localhost:8080/"
        },
        "id": "V4xPl0mFXNEi",
        "outputId": "3e464671-c795-46a6-caa9-f79beab8485f"
      },
      "source": [
        "# Je réencode les prédictions entre 1 et 5\n",
        "test_pred_enc = encoder.inverse_transform(test_pred)\n",
        "np.unique(test_pred_enc)"
      ],
      "execution_count": 136,
      "outputs": [
        {
          "output_type": "execute_result",
          "data": {
            "text/plain": [
              "array([1, 2, 3, 4, 5], dtype=uint8)"
            ]
          },
          "metadata": {
            "tags": []
          },
          "execution_count": 136
        }
      ]
    },
    {
      "cell_type": "code",
      "metadata": {
        "colab": {
          "base_uri": "https://localhost:8080/"
        },
        "id": "khjM1qqMXTSY",
        "outputId": "ce3ee658-1aa5-4540-836f-b62354e40006"
      },
      "source": [
        "# Aggrégation au niveau objet\n",
        "agg_pred = []\n",
        "unique_id = np.unique(test_id)\n",
        "for ID in unique_id :\n",
        "    # Récupérer les prédictions des pixels appartenant au même objet\n",
        "    pred = test_pred_enc[np.where(test_id==ID)]\n",
        "    # Prendre la valeur majoritaire des prédictions sur les pixels\n",
        "    agg_pred.append([ ID, np.bincount(pred).argmax()]) #(ID,Prédiction majoritaire)\n",
        "agg_pred = np.vstack(agg_pred)\n",
        "agg_pred.shape"
      ],
      "execution_count": 137,
      "outputs": [
        {
          "output_type": "execute_result",
          "data": {
            "text/plain": [
              "(800, 2)"
            ]
          },
          "metadata": {
            "tags": []
          },
          "execution_count": 137
        }
      ]
    },
    {
      "cell_type": "code",
      "metadata": {
        "colab": {
          "base_uri": "https://localhost:8080/",
          "height": 204
        },
        "id": "ZIdn628cEtgx",
        "outputId": "80a144ee-cf26-432a-b774-3f1efad857aa"
      },
      "source": [
        "df = pd.DataFrame({'ID':agg_pred[:,0],'Class':agg_pred[:,1]})\n",
        "df.to_csv('Soumission_ASSARAR_BOUHLEL_DJAFER.csv',index=False)\n",
        "df.head(5)"
      ],
      "execution_count": 138,
      "outputs": [
        {
          "output_type": "execute_result",
          "data": {
            "text/html": [
              "<div>\n",
              "<style scoped>\n",
              "    .dataframe tbody tr th:only-of-type {\n",
              "        vertical-align: middle;\n",
              "    }\n",
              "\n",
              "    .dataframe tbody tr th {\n",
              "        vertical-align: top;\n",
              "    }\n",
              "\n",
              "    .dataframe thead th {\n",
              "        text-align: right;\n",
              "    }\n",
              "</style>\n",
              "<table border=\"1\" class=\"dataframe\">\n",
              "  <thead>\n",
              "    <tr style=\"text-align: right;\">\n",
              "      <th></th>\n",
              "      <th>ID</th>\n",
              "      <th>Class</th>\n",
              "    </tr>\n",
              "  </thead>\n",
              "  <tbody>\n",
              "    <tr>\n",
              "      <th>0</th>\n",
              "      <td>4</td>\n",
              "      <td>5</td>\n",
              "    </tr>\n",
              "    <tr>\n",
              "      <th>1</th>\n",
              "      <td>7</td>\n",
              "      <td>3</td>\n",
              "    </tr>\n",
              "    <tr>\n",
              "      <th>2</th>\n",
              "      <td>8</td>\n",
              "      <td>5</td>\n",
              "    </tr>\n",
              "    <tr>\n",
              "      <th>3</th>\n",
              "      <td>9</td>\n",
              "      <td>3</td>\n",
              "    </tr>\n",
              "    <tr>\n",
              "      <th>4</th>\n",
              "      <td>10</td>\n",
              "      <td>3</td>\n",
              "    </tr>\n",
              "  </tbody>\n",
              "</table>\n",
              "</div>"
            ],
            "text/plain": [
              "   ID  Class\n",
              "0   4      5\n",
              "1   7      3\n",
              "2   8      5\n",
              "3   9      3\n",
              "4  10      3"
            ]
          },
          "metadata": {
            "tags": []
          },
          "execution_count": 138
        }
      ]
    },
    {
      "cell_type": "code",
      "metadata": {
        "colab": {
          "base_uri": "https://localhost:8080/"
        },
        "id": "s6WuuJCkXsu0",
        "outputId": "d38f797c-f10c-48bf-e4f2-7792ae8af95a"
      },
      "source": [
        "# F1 Score au niveau objet\n",
        "df_test = pd.read_csv('Test_ID_Label.csv') # Ce fichier vous sera fourni le 12 Novembre\n",
        "f1_score(df_test.Class,df.Class,average='weighted')"
      ],
      "execution_count": 139,
      "outputs": [
        {
          "output_type": "execute_result",
          "data": {
            "text/plain": [
              "0.8615788441188932"
            ]
          },
          "metadata": {
            "tags": []
          },
          "execution_count": 139
        }
      ]
    },
    {
      "cell_type": "markdown",
      "metadata": {
        "id": "fWJuC_Mh2rD-"
      },
      "source": [
        "# **Segmentation**"
      ]
    },
    {
      "cell_type": "code",
      "metadata": {
        "colab": {
          "base_uri": "https://localhost:8080/"
        },
        "id": "Teu0hQFM2pry",
        "outputId": "d5a31a0b-bf23-457b-b719-9874d2074145"
      },
      "source": [
        "!ls Images"
      ],
      "execution_count": 140,
      "outputs": [
        {
          "output_type": "stream",
          "text": [
            "20160322_S2A.tif  20160730_S2A.tif  20161018_S2A.tif  20161217_S2A.tif\n",
            "20160710_S2A.tif  20160928_S2A.tif  20161127_S2A.tif  20161227_S2A.tif\n"
          ],
          "name": "stdout"
        }
      ]
    }
  ]
}
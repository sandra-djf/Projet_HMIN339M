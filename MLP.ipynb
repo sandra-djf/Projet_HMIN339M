{
  "nbformat": 4,
  "nbformat_minor": 0,
  "metadata": {
    "accelerator": "GPU",
    "colab": {
      "name": "MLP.ipynb",
      "provenance": [],
      "collapsed_sections": []
    },
    "kernelspec": {
      "display_name": "Python 3",
      "name": "python3"
    }
  },
  "cells": [
    {
      "cell_type": "markdown",
      "metadata": {
        "id": "_pJr2QX16y0C"
      },
      "source": [
        "# **Préparer les données**"
      ]
    },
    {
      "cell_type": "markdown",
      "metadata": {
        "id": "vI65qFkLjyEY"
      },
      "source": [
        "### **Monter le dossier dans Drive**"
      ]
    },
    {
      "cell_type": "code",
      "metadata": {
        "colab": {
          "base_uri": "https://localhost:8080/"
        },
        "id": "DVb5j_uZDvRs",
        "outputId": "ce5c390e-7e42-4b1f-cb38-f45612af338d"
      },
      "source": [
        "from google.colab import drive\n",
        "drive.mount('/content/drive')"
      ],
      "execution_count": null,
      "outputs": [
        {
          "output_type": "stream",
          "text": [
            "Mounted at /content/drive\n"
          ],
          "name": "stdout"
        }
      ]
    },
    {
      "cell_type": "code",
      "metadata": {
        "id": "9DcknGEsEkrE"
      },
      "source": [
        "import os\n",
        "os.chdir('/content/drive/My Drive/Projet_HMIN339M')"
      ],
      "execution_count": null,
      "outputs": []
    },
    {
      "cell_type": "markdown",
      "metadata": {
        "id": "uEIWGiCq_s3g"
      },
      "source": [
        "### **Importation de quelques librairies**"
      ]
    },
    {
      "cell_type": "code",
      "metadata": {
        "id": "0HzSSHr5ooul"
      },
      "source": [
        "import numpy as np\n",
        "import tifffile\n",
        "import glob\n",
        "from pathlib import Path\n",
        "import pandas as pd"
      ],
      "execution_count": null,
      "outputs": []
    },
    {
      "cell_type": "markdown",
      "metadata": {
        "id": "wVrWVyvfkBDD"
      },
      "source": [
        "### **Lecture de la série temporelle d'images et Normalisation par bande sur la série temporelle entre 0 et 1** "
      ]
    },
    {
      "cell_type": "markdown",
      "metadata": {
        "id": "95CB2_IllQFu"
      },
      "source": [
        "#### **Lecture des images et création des séries temporelles de bandes**"
      ]
    },
    {
      "cell_type": "code",
      "metadata": {
        "colab": {
          "base_uri": "https://localhost:8080/"
        },
        "id": "Ut67k4u3Vezu",
        "outputId": "023a9380-37e4-43ee-aea9-048a74897819"
      },
      "source": [
        "# Récupérer la liste des images\n",
        "lst_img = glob.glob ('Images/*.tif')\n",
        "lst_img.sort() # ordonner par date si ce n'est pas le cas\n",
        "lst_img"
      ],
      "execution_count": null,
      "outputs": [
        {
          "output_type": "execute_result",
          "data": {
            "text/plain": [
              "['Images/20160322_S2A.tif',\n",
              " 'Images/20160710_S2A.tif',\n",
              " 'Images/20160730_S2A.tif',\n",
              " 'Images/20160928_S2A.tif',\n",
              " 'Images/20161018_S2A.tif',\n",
              " 'Images/20161127_S2A.tif',\n",
              " 'Images/20161217_S2A.tif',\n",
              " 'Images/20161227_S2A.tif']"
            ]
          },
          "metadata": {
            "tags": []
          },
          "execution_count": 4
        }
      ]
    },
    {
      "cell_type": "code",
      "metadata": {
        "colab": {
          "base_uri": "https://localhost:8080/"
        },
        "id": "GSpMjDMNa-Bg",
        "outputId": "c629cacb-6e28-48e6-ff1a-223651186d01"
      },
      "source": [
        "# Lecture de la bande du rouge (B1) pour toute la série temporelle\n",
        "red_ts = []\n",
        "for img in lst_img:\n",
        "  red_ts.append( tifffile.imread(img)[:,:,0]) # Rouge\n",
        "red_ts = np.dstack(red_ts)\n",
        "red_ts.shape"
      ],
      "execution_count": null,
      "outputs": [
        {
          "output_type": "execute_result",
          "data": {
            "text/plain": [
              "(5412, 5592, 8)"
            ]
          },
          "metadata": {
            "tags": []
          },
          "execution_count": 5
        }
      ]
    },
    {
      "cell_type": "code",
      "metadata": {
        "colab": {
          "base_uri": "https://localhost:8080/"
        },
        "id": "X97WsP3kcTL1",
        "outputId": "212395ed-1dd8-451d-e385-b5b864f35849"
      },
      "source": [
        "# Lecture de la bande du vert (B2) pour toute la série temporelle\n",
        "green_ts = []\n",
        "for img in lst_img:\n",
        "  green_ts.append( tifffile.imread(img)[:,:,1]) # Vert\n",
        "green_ts = np.dstack(green_ts)\n",
        "green_ts.shape"
      ],
      "execution_count": null,
      "outputs": [
        {
          "output_type": "execute_result",
          "data": {
            "text/plain": [
              "(5412, 5592, 8)"
            ]
          },
          "metadata": {
            "tags": []
          },
          "execution_count": 6
        }
      ]
    },
    {
      "cell_type": "code",
      "metadata": {
        "colab": {
          "base_uri": "https://localhost:8080/"
        },
        "id": "t1GBdVCGcbcK",
        "outputId": "5b0e15f6-de7b-4f35-d2c1-f905bb2e15ac"
      },
      "source": [
        "# Lecture de la bande du bleu (B3) pour toute la série temporelle\n",
        "blue_ts = []\n",
        "for img in lst_img:\n",
        "  blue_ts.append( tifffile.imread(img)[:,:,2]) # Bleu\n",
        "blue_ts = np.dstack(blue_ts)\n",
        "blue_ts.shape"
      ],
      "execution_count": null,
      "outputs": [
        {
          "output_type": "execute_result",
          "data": {
            "text/plain": [
              "(5412, 5592, 8)"
            ]
          },
          "metadata": {
            "tags": []
          },
          "execution_count": 7
        }
      ]
    },
    {
      "cell_type": "code",
      "metadata": {
        "colab": {
          "base_uri": "https://localhost:8080/"
        },
        "id": "fDd4BjV-cbz8",
        "outputId": "115b7a9b-602b-40dc-e345-c755f96afae3"
      },
      "source": [
        "# Lecture de la bande du proche infrarouge (B4) pour toute la série temporelle\n",
        "nir_ts = []\n",
        "for img in lst_img:\n",
        "  nir_ts.append( tifffile.imread(img)[:,:,3]) # Proche infra rouge\n",
        "nir_ts = np.dstack(nir_ts)\n",
        "nir_ts.shape"
      ],
      "execution_count": null,
      "outputs": [
        {
          "output_type": "execute_result",
          "data": {
            "text/plain": [
              "(5412, 5592, 8)"
            ]
          },
          "metadata": {
            "tags": []
          },
          "execution_count": 8
        }
      ]
    },
    {
      "cell_type": "code",
      "metadata": {
        "colab": {
          "base_uri": "https://localhost:8080/"
        },
        "id": "bJVBYJxuuJDA",
        "outputId": "d66ed901-b145-490c-c0f3-e5c44bca709a"
      },
      "source": [
        "# Calculer des indices spectraux comme le NDVI\n",
        "ndvi_ts = np.where(nir_ts + red_ts == 0, 0, (nir_ts - red_ts) / (nir_ts + red_ts)).astype(np.float32)\n",
        "ndvi_ts.shape, ndvi_ts.dtype, ndvi_ts.min(), ndvi_ts.max()"
      ],
      "execution_count": null,
      "outputs": [
        {
          "output_type": "execute_result",
          "data": {
            "text/plain": [
              "((5412, 5592, 8), dtype('float32'), -0.9994976, 0.99976385)"
            ]
          },
          "metadata": {
            "tags": []
          },
          "execution_count": 9
        }
      ]
    },
    {
      "cell_type": "markdown",
      "metadata": {
        "id": "rOOWsKQHlHvS"
      },
      "source": [
        "#### **Normalisation en utilisant le min et le max des bandes sur les séries temporelles**"
      ]
    },
    {
      "cell_type": "code",
      "metadata": {
        "colab": {
          "base_uri": "https://localhost:8080/"
        },
        "id": "IoOk5-UccvSe",
        "outputId": "bfccc99e-b11a-49c5-84d2-0922d18c0679"
      },
      "source": [
        "# Normalisation des séries temporelles par bande: Rouge\n",
        "red_ts_norm = ( red_ts - red_ts.min() ) / ( red_ts.max() - red_ts.min() ).astype(np.float32)\n",
        "red_ts_norm.min() , red_ts_norm.max(), red_ts_norm.shape, red_ts_norm.dtype"
      ],
      "execution_count": null,
      "outputs": [
        {
          "output_type": "execute_result",
          "data": {
            "text/plain": [
              "(0.0, 1.0, (5412, 5592, 8), dtype('float32'))"
            ]
          },
          "metadata": {
            "tags": []
          },
          "execution_count": 10
        }
      ]
    },
    {
      "cell_type": "code",
      "metadata": {
        "colab": {
          "base_uri": "https://localhost:8080/"
        },
        "id": "-c1DlhJTe_6h",
        "outputId": "e1050511-e489-4ae4-eed7-24a0f94c5992"
      },
      "source": [
        "# Normalisation des séries temporelles par bande: Vert\n",
        "green_ts_norm = ( green_ts - green_ts.min() ) / ( green_ts.max() - green_ts.min() ).astype(np.float32)\n",
        "green_ts = None\n",
        "green_ts_norm.min() , green_ts_norm.max(), green_ts_norm.shape, green_ts_norm.dtype"
      ],
      "execution_count": null,
      "outputs": [
        {
          "output_type": "execute_result",
          "data": {
            "text/plain": [
              "(0.0, 1.0, (5412, 5592, 8), dtype('float32'))"
            ]
          },
          "metadata": {
            "tags": []
          },
          "execution_count": 11
        }
      ]
    },
    {
      "cell_type": "code",
      "metadata": {
        "colab": {
          "base_uri": "https://localhost:8080/"
        },
        "id": "hFNAbyIyfAJT",
        "outputId": "7de70a1f-d537-4e94-9bd3-be36a4527f51"
      },
      "source": [
        "# Normalisation des séries temporelles par bande: Bleu\n",
        "blue_ts_norm = ( blue_ts - blue_ts.min() ) / ( blue_ts.max() - blue_ts.min() ).astype(np.float32)\n",
        "blue_ts = None\n",
        "blue_ts_norm.min() , blue_ts_norm.max(), blue_ts_norm.shape, blue_ts_norm.dtype"
      ],
      "execution_count": null,
      "outputs": [
        {
          "output_type": "execute_result",
          "data": {
            "text/plain": [
              "(0.0, 1.0, (5412, 5592, 8), dtype('float32'))"
            ]
          },
          "metadata": {
            "tags": []
          },
          "execution_count": 12
        }
      ]
    },
    {
      "cell_type": "code",
      "metadata": {
        "colab": {
          "base_uri": "https://localhost:8080/"
        },
        "id": "epIhb6brfAUK",
        "outputId": "126d2797-1088-44db-aa23-f3593b5fda5e"
      },
      "source": [
        "# Normalisation des séries temporelles par bande: Proche infrarouge\n",
        "nir_ts_norm = ( nir_ts - nir_ts.min() ) / ( nir_ts.max() - nir_ts.min() ).astype(np.float32)\n",
        "nir_ts_norm.min() , nir_ts_norm.max(), nir_ts_norm.shape, nir_ts_norm.dtype"
      ],
      "execution_count": null,
      "outputs": [
        {
          "output_type": "execute_result",
          "data": {
            "text/plain": [
              "(0.0, 1.0, (5412, 5592, 8), dtype('float32'))"
            ]
          },
          "metadata": {
            "tags": []
          },
          "execution_count": 13
        }
      ]
    },
    {
      "cell_type": "code",
      "metadata": {
        "colab": {
          "base_uri": "https://localhost:8080/"
        },
        "id": "tAtrTnz_uQ2Y",
        "outputId": "928c49b8-0546-4a23-9ee3-eb6d579c8980"
      },
      "source": [
        "# Normaliser les indices spectraux que vous aurez calculé\n",
        "ndvi_ts_norm = ( ndvi_ts - ndvi_ts.min() ) / ( ndvi_ts.max() - ndvi_ts.min( )).astype(np.float32)\n",
        "ndvi_ts_norm.min(), ndvi_ts_norm.max(), ndvi_ts_norm.shape, ndvi_ts_norm.dtype"
      ],
      "execution_count": null,
      "outputs": [
        {
          "output_type": "execute_result",
          "data": {
            "text/plain": [
              "(0.0, 1.0, (5412, 5592, 8), dtype('float32'))"
            ]
          },
          "metadata": {
            "tags": []
          },
          "execution_count": 14
        }
      ]
    },
    {
      "cell_type": "markdown",
      "metadata": {
        "id": "YDQUbh3Nkpn7"
      },
      "source": [
        "### **Lecture de la vérité terrain et récupération des positions des pixels du jeu d'entraînement et de test**"
      ]
    },
    {
      "cell_type": "markdown",
      "metadata": {
        "id": "V_mXEBEKmuw7"
      },
      "source": [
        "#### **Lecture des fichiers de la vérité terrain**"
      ]
    },
    {
      "cell_type": "code",
      "metadata": {
        "colab": {
          "base_uri": "https://localhost:8080/"
        },
        "id": "NBCQhbMUoBJU",
        "outputId": "00f67c14-b1dd-4f13-b47d-6c41f5b6d7af"
      },
      "source": [
        "# Lire le fichier correspondant aux classes d'occupation du sol\n",
        "gt_class = tifffile.imread ('Verite_terrain/DORDOGNE_VT_CLASS.tif')\n",
        "gt_class.shape , gt_class.dtype"
      ],
      "execution_count": null,
      "outputs": [
        {
          "output_type": "execute_result",
          "data": {
            "text/plain": [
              "((5412, 5592), dtype('uint8'))"
            ]
          },
          "metadata": {
            "tags": []
          },
          "execution_count": 15
        }
      ]
    },
    {
      "cell_type": "code",
      "metadata": {
        "colab": {
          "base_uri": "https://localhost:8080/"
        },
        "id": "JLnTil_psMLW",
        "outputId": "be6401ab-17e6-4717-8459-a3b1834038c7"
      },
      "source": [
        "# Lire le fichier correspondant aux identifiants\n",
        "gt_id = tifffile.imread ('Verite_terrain/DORDOGNE_VT_ID.tif')\n",
        "gt_id.shape, gt_id.dtype"
      ],
      "execution_count": null,
      "outputs": [
        {
          "output_type": "execute_result",
          "data": {
            "text/plain": [
              "((5412, 5592), dtype('int16'))"
            ]
          },
          "metadata": {
            "tags": []
          },
          "execution_count": 16
        }
      ]
    },
    {
      "cell_type": "markdown",
      "metadata": {
        "id": "RjyGTdRpm5ii"
      },
      "source": [
        "#### **Récupération des positions des pixels d'entraînement et de test**"
      ]
    },
    {
      "cell_type": "code",
      "metadata": {
        "id": "yosWk1_BgiLE"
      },
      "source": [
        "# Récupérer les positions des échantillons d'entraînement et test\n",
        "idx_train_ = np.where ( (gt_id!=0) & (gt_class!=0) )\n",
        "idx_test = np.where ( (gt_id!=0) & (gt_class==0) )"
      ],
      "execution_count": null,
      "outputs": []
    },
    {
      "cell_type": "code",
      "metadata": {
        "colab": {
          "base_uri": "https://localhost:8080/",
          "height": 35
        },
        "id": "uRX0xj4zjvVY",
        "outputId": "29ae1109-3bcd-4147-de9c-9a89c438853b"
      },
      "source": [
        "# Lecture des identifiants et labels des échantillons d'entraînement\n",
        "train_id_ = gt_id[idx_train_]\n",
        "train_y_ = gt_class[idx_train_]\n",
        "f'échantillons d\\'entrainement: {train_y_.shape[0]} pixels, {len(np.unique(train_id_))} objets'"
      ],
      "execution_count": null,
      "outputs": [
        {
          "output_type": "execute_result",
          "data": {
            "application/vnd.google.colaboratory.intrinsic+json": {
              "type": "string"
            },
            "text/plain": [
              "\"échantillons d'entrainement: 605431 pixels, 1859 objets\""
            ]
          },
          "metadata": {
            "tags": []
          },
          "execution_count": 18
        }
      ]
    },
    {
      "cell_type": "code",
      "metadata": {
        "colab": {
          "base_uri": "https://localhost:8080/",
          "height": 35
        },
        "id": "kiPCaHQ2jtZu",
        "outputId": "399ede34-fade-48f9-a065-bf48528b9bd1"
      },
      "source": [
        "# Lecture des identifiants et labels des échantillons de test\n",
        "test_id = gt_id[idx_test]\n",
        "f'échantillons test: {test_id.shape[0]} pixels, {len(np.unique(test_id))} objets'"
      ],
      "execution_count": null,
      "outputs": [
        {
          "output_type": "execute_result",
          "data": {
            "application/vnd.google.colaboratory.intrinsic+json": {
              "type": "string"
            },
            "text/plain": [
              "'échantillons test: 207485 pixels, 800 objets'"
            ]
          },
          "metadata": {
            "tags": []
          },
          "execution_count": 19
        }
      ]
    },
    {
      "cell_type": "markdown",
      "metadata": {
        "id": "hNFyNkc5oc6z"
      },
      "source": [
        "### **Création d'un jeu de validation en prenant une partie du jeu d'entraînement**\n",
        "Pour cela, on s'assure de faire la division en mettant les pixels ayant le même identifiant dans un seul et même lot"
      ]
    },
    {
      "cell_type": "code",
      "metadata": {
        "colab": {
          "base_uri": "https://localhost:8080/",
          "height": 204
        },
        "id": "2hI-jAEqrac1",
        "outputId": "8b0cb4a6-0495-4e85-f357-5c37660a084a"
      },
      "source": [
        "# Dataframe pour créer un jeu de validation\n",
        "samples = pd.DataFrame({'ID':train_id_,'Class':train_y_})\n",
        "samples = samples.drop_duplicates(keep='first')\n",
        "samples.head(5)"
      ],
      "execution_count": null,
      "outputs": [
        {
          "output_type": "execute_result",
          "data": {
            "text/html": [
              "<div>\n",
              "<style scoped>\n",
              "    .dataframe tbody tr th:only-of-type {\n",
              "        vertical-align: middle;\n",
              "    }\n",
              "\n",
              "    .dataframe tbody tr th {\n",
              "        vertical-align: top;\n",
              "    }\n",
              "\n",
              "    .dataframe thead th {\n",
              "        text-align: right;\n",
              "    }\n",
              "</style>\n",
              "<table border=\"1\" class=\"dataframe\">\n",
              "  <thead>\n",
              "    <tr style=\"text-align: right;\">\n",
              "      <th></th>\n",
              "      <th>ID</th>\n",
              "      <th>Class</th>\n",
              "    </tr>\n",
              "  </thead>\n",
              "  <tbody>\n",
              "    <tr>\n",
              "      <th>0</th>\n",
              "      <td>422</td>\n",
              "      <td>2</td>\n",
              "    </tr>\n",
              "    <tr>\n",
              "      <th>4</th>\n",
              "      <td>2677</td>\n",
              "      <td>5</td>\n",
              "    </tr>\n",
              "    <tr>\n",
              "      <th>5</th>\n",
              "      <td>201</td>\n",
              "      <td>3</td>\n",
              "    </tr>\n",
              "    <tr>\n",
              "      <th>29</th>\n",
              "      <td>423</td>\n",
              "      <td>2</td>\n",
              "    </tr>\n",
              "    <tr>\n",
              "      <th>100</th>\n",
              "      <td>496</td>\n",
              "      <td>2</td>\n",
              "    </tr>\n",
              "  </tbody>\n",
              "</table>\n",
              "</div>"
            ],
            "text/plain": [
              "       ID  Class\n",
              "0     422      2\n",
              "4    2677      5\n",
              "5     201      3\n",
              "29    423      2\n",
              "100   496      2"
            ]
          },
          "metadata": {
            "tags": []
          },
          "execution_count": 20
        }
      ]
    },
    {
      "cell_type": "code",
      "metadata": {
        "colab": {
          "base_uri": "https://localhost:8080/"
        },
        "id": "894SPjgRs_S7",
        "outputId": "1f9189f3-31dd-4fae-ca71-10362fb5e81f"
      },
      "source": [
        "# 30% des échantillons de chaque classe affecté au jeu de validation\n",
        "train_id = []\n",
        "valid_id = []\n",
        "for c in np.unique(samples.Class.values) :\n",
        "    samples_c = samples.loc[samples.Class==c]\n",
        "    samples_frac = samples_c.sample(frac=0.7,random_state=1234) \n",
        "    train_id.extend( samples_frac.ID.values )\n",
        "    valid_id.extend( samples_c.drop(samples_frac.index).ID.values )\n",
        "len(train_id),len(valid_id)"
      ],
      "execution_count": null,
      "outputs": [
        {
          "output_type": "execute_result",
          "data": {
            "text/plain": [
              "(1301, 558)"
            ]
          },
          "metadata": {
            "tags": []
          },
          "execution_count": 21
        }
      ]
    },
    {
      "cell_type": "markdown",
      "metadata": {
        "id": "6J609q3BrKRk"
      },
      "source": [
        "### **Récupération des positions des nouveaux échantillons d'entraînement et de validation**"
      ]
    },
    {
      "cell_type": "code",
      "metadata": {
        "id": "WmVBWpvFdjlk"
      },
      "source": [
        "# Récupérer les positions des nouveaux échantillons d'entraînement et validation\n",
        "idx_train = np.where ( np.isin(gt_id,train_id) )\n",
        "idx_valid = np.where ( np.isin(gt_id,valid_id) )"
      ],
      "execution_count": null,
      "outputs": []
    },
    {
      "cell_type": "markdown",
      "metadata": {
        "id": "3U6m2R-UwEFK"
      },
      "source": [
        "### **Lire finalement les labels correspondant aux nouveaux échantillons d'entraînement, de validation et test**"
      ]
    },
    {
      "cell_type": "code",
      "metadata": {
        "colab": {
          "base_uri": "https://localhost:8080/"
        },
        "id": "vF_PEzn3vQzT",
        "outputId": "28f7eebe-341a-4ef4-bd9b-f9ddff6f57d4"
      },
      "source": [
        "train_y = gt_class[idx_train]\n",
        "valid_y = gt_class[idx_valid]\n",
        "test_y = gt_class[idx_test]\n",
        "train_y.shape, valid_y.shape, test_y.shape"
      ],
      "execution_count": null,
      "outputs": [
        {
          "output_type": "execute_result",
          "data": {
            "text/plain": [
              "((451962,), (153469,), (207485,))"
            ]
          },
          "metadata": {
            "tags": []
          },
          "execution_count": 23
        }
      ]
    },
    {
      "cell_type": "markdown",
      "metadata": {
        "id": "lAt4KCeZR1Os"
      },
      "source": [
        "### **Lire finalement les identifiants correspondant aux nouveaux échantillons d'entraînement, de validation et test**"
      ]
    },
    {
      "cell_type": "code",
      "metadata": {
        "colab": {
          "base_uri": "https://localhost:8080/"
        },
        "id": "m3SiC0eVRvtA",
        "outputId": "9b836fb4-e2f3-4ceb-823a-39b79131cadd"
      },
      "source": [
        "# utile pour les aggrégations au niveau objet\n",
        "# train_id_array = gt_id[idx_train] # Pas vraiment nécessaire pour les échantillons d'entraînements\n",
        "valid_id_array = gt_id[idx_valid]\n",
        "test_id_array = gt_id[idx_test]\n",
        "#train_id_array.shape, \n",
        "valid_id_array.shape, test_id_array.shape"
      ],
      "execution_count": null,
      "outputs": [
        {
          "output_type": "execute_result",
          "data": {
            "text/plain": [
              "((153469,), (207485,))"
            ]
          },
          "metadata": {
            "tags": []
          },
          "execution_count": 24
        }
      ]
    },
    {
      "cell_type": "markdown",
      "metadata": {
        "id": "xa-8J5r9r3KI"
      },
      "source": [
        "### **Lire finalement les valeurs des séries temporelles correspondant aux nouveaux échantillons d'entraînement, de validation et test**"
      ]
    },
    {
      "cell_type": "markdown",
      "metadata": {
        "id": "PXS90K1Vsg4H"
      },
      "source": [
        "#### **Pour un Perceptron multi-couche**"
      ]
    },
    {
      "cell_type": "code",
      "metadata": {
        "colab": {
          "base_uri": "https://localhost:8080/"
        },
        "id": "TwjGd9exkFia",
        "outputId": "6160e956-7c52-4a81-99f9-f07b032370b1"
      },
      "source": [
        "# Un perceptron multi-couche ou un algo classique de machine learning requiert un tableau 2D du type \n",
        "# (nombre d'échantillons, nombre de features=(nombre de dates x nombre de bandes))\n",
        "# Vous pouvez rajouter au stack les indices spectraux normalisés que vous aurez calculé\n",
        "\n",
        "train_X = np.column_stack ( ( blue_ts_norm[idx_train], green_ts_norm[idx_train], red_ts_norm[idx_train], nir_ts_norm[idx_train] ) )\n",
        "\n",
        "valid_X = np.column_stack ( ( blue_ts_norm[idx_valid], green_ts_norm[idx_valid], red_ts_norm[idx_valid], nir_ts_norm[idx_valid] ) )\n",
        "\n",
        "test_X = np.column_stack ( ( blue_ts_norm[idx_test], green_ts_norm[idx_test], red_ts_norm[idx_test], nir_ts_norm[idx_test] ) )\n",
        "\n",
        "train_X.shape, valid_X.shape, test_X.shape"
      ],
      "execution_count": null,
      "outputs": [
        {
          "output_type": "execute_result",
          "data": {
            "text/plain": [
              "((451962, 32), (153469, 32), (207485, 32))"
            ]
          },
          "metadata": {
            "tags": []
          },
          "execution_count": 25
        }
      ]
    },
    {
      "cell_type": "markdown",
      "metadata": {
        "id": "oiqM_sYRt5IL"
      },
      "source": [
        "### **Sauvegarde des données d'entraînement, de validation et test en fichier numpy**"
      ]
    },
    {
      "cell_type": "code",
      "metadata": {
        "id": "dPiv0fo3uJ8s"
      },
      "source": [
        "# Ainsi de cette façon vous pourrez continuer directement avec la création des modèles et en libérant la mémoire de tout ce qui a été fait précédemment\n",
        "Path('data').mkdir(exist_ok=True, parents=True)\n",
        "np.save('data/MLP/train_X.npy',train_X)\n",
        "np.save('data/MLP/train_y.npy',train_y)\n",
        "# np.save('data/train_id.npy',train_id_array)\n",
        "\n",
        "np.save('data/MLP/valid_X.npy',valid_X)\n",
        "np.save('data/MLP/valid_y.npy',valid_y)\n",
        "np.save('data/MLP/valid_id.npy',valid_id_array)\n",
        "\n",
        "np.save('data/MLP/test_X.npy',test_X)\n",
        "np.save('data/MLP/test_id.npy',test_id_array)"
      ],
      "execution_count": null,
      "outputs": []
    },
    {
      "cell_type": "markdown",
      "metadata": {
        "id": "TOM6_mv--8IX"
      },
      "source": [
        "Videz la mémoire en redémarrant l'environnement d'exécution"
      ]
    },
    {
      "cell_type": "markdown",
      "metadata": {
        "id": "qv0jts6w6nxr"
      },
      "source": [
        "# **Votre modèle de deep learning**"
      ]
    },
    {
      "cell_type": "markdown",
      "metadata": {
        "id": "wmBRjg3QFrLe"
      },
      "source": [
        "### **Remontage de Drive et Importation de quelques librairies**"
      ]
    },
    {
      "cell_type": "code",
      "metadata": {
        "colab": {
          "base_uri": "https://localhost:8080/"
        },
        "id": "rJUrD-aVMaN0",
        "outputId": "891d50e6-95c6-47f3-c4d5-c87450ea09e5"
      },
      "source": [
        "from google.colab import drive\n",
        "drive.mount('/content/drive')"
      ],
      "execution_count": null,
      "outputs": [
        {
          "output_type": "stream",
          "text": [
            "Drive already mounted at /content/drive; to attempt to forcibly remount, call drive.mount(\"/content/drive\", force_remount=True).\n"
          ],
          "name": "stdout"
        }
      ]
    },
    {
      "cell_type": "code",
      "metadata": {
        "id": "_K5Xk6WeALcH"
      },
      "source": [
        "import os\n",
        "os.chdir('/content/drive/My Drive/Projet_HMIN339M')\n",
        "import numpy as np\n",
        "import pandas as pd\n",
        "import tifffile\n",
        "from pathlib import Path\n",
        "from sklearn.metrics import f1_score, confusion_matrix\n",
        "from sklearn.preprocessing import LabelEncoder\n",
        "import tensorflow as tf\n",
        "from tensorflow.keras.layers import Input, Concatenate, Dense, Dropout, Activation, Flatten, Conv2D, Conv1D, GlobalAveragePooling1D, GlobalAveragePooling2D, BatchNormalization, Flatten, GRU\n",
        "from tensorflow.keras.models import Sequential\n",
        "from tensorflow.keras import Model\n",
        "import matplotlib.pyplot as plt\n",
        "%matplotlib inline"
      ],
      "execution_count": null,
      "outputs": []
    },
    {
      "cell_type": "markdown",
      "metadata": {
        "id": "UlRFSn7f_yKx"
      },
      "source": [
        "### **Recharger les données d'entraînement, de validation et test en fichier numpy**"
      ]
    },
    {
      "cell_type": "code",
      "metadata": {
        "colab": {
          "base_uri": "https://localhost:8080/"
        },
        "id": "CVzkEkQA-jM7",
        "outputId": "38370190-a140-4166-ca55-0e5e1446280a"
      },
      "source": [
        "# Recharger les données après avoir vidé la mémoire\n",
        "train_X = np.load('data/MLP/train_X.npy')\n",
        "train_y = np.load('data/MLP/train_y.npy')\n",
        "\n",
        "valid_X = np.load('data/MLP/valid_X.npy')\n",
        "valid_y = np.load('data/MLP/valid_y.npy')\n",
        "valid_id = np.load('data/MLP/valid_id.npy')\n",
        "\n",
        "test_X = np.load('data/MLP/test_X.npy')\n",
        "test_id = np.load('data/MLP/test_id.npy')\n",
        "train_X.shape, train_y.shape, valid_X.shape, valid_y.shape, valid_id.shape, test_X.shape, test_id.shape"
      ],
      "execution_count": null,
      "outputs": [
        {
          "output_type": "execute_result",
          "data": {
            "text/plain": [
              "((451962, 32),\n",
              " (451962,),\n",
              " (153469, 32),\n",
              " (153469,),\n",
              " (153469,),\n",
              " (207485, 32),\n",
              " (207485,))"
            ]
          },
          "metadata": {
            "tags": []
          },
          "execution_count": 3
        }
      ]
    },
    {
      "cell_type": "markdown",
      "metadata": {
        "id": "K23T_c-EAj_z"
      },
      "source": [
        "### **Encoder les labels entre 0 et 4 de sorte à matcher les prédictions des réseaux de neurones**"
      ]
    },
    {
      "cell_type": "code",
      "metadata": {
        "colab": {
          "base_uri": "https://localhost:8080/"
        },
        "id": "FY74aok1Arfi",
        "outputId": "8e201039-b334-4470-bc0b-479fab334cc4"
      },
      "source": [
        "encoder = LabelEncoder()\n",
        "encoder.fit(train_y)\n",
        "train_y_enc = encoder.transform(train_y)\n",
        "valid_y_enc = encoder.transform(valid_y)\n",
        "np.unique(train_y), np.unique(train_y_enc), np.unique(valid_y), np.unique(valid_y_enc)"
      ],
      "execution_count": null,
      "outputs": [
        {
          "output_type": "execute_result",
          "data": {
            "text/plain": [
              "(array([1, 2, 3, 4, 5], dtype=uint8),\n",
              " array([0, 1, 2, 3, 4]),\n",
              " array([1, 2, 3, 4, 5], dtype=uint8),\n",
              " array([0, 1, 2, 3, 4]))"
            ]
          },
          "metadata": {
            "tags": []
          },
          "execution_count": 4
        }
      ]
    },
    {
      "cell_type": "markdown",
      "metadata": {
        "id": "GpH3oJPVE3uE"
      },
      "source": [
        "### **Définition séquentielle de votre modèle avec Keras**\n",
        "\n",
        "N'oubliez pas de spécifier l'input shape qui varie en fonction des types d'architectures, le nombre de neurones de la couche de sortie qui équivaut au nombre de classes que vous avez et de l'activer avec une fonction Softmax"
      ]
    },
    {
      "cell_type": "code",
      "metadata": {
        "id": "cvUdNqlKAu0X"
      },
      "source": [
        "model = tf.keras.models.Sequential([\n",
        "  tf.keras.layers.Input(shape=(32)),\n",
        "  tf.keras.layers.Dense(256, activation='relu'),\n",
        "  tf.keras.layers.Dense(256, activation='relu'),\n",
        "  tf.keras.layers.Dropout(0.3),\n",
        "  tf.keras.layers.Dense(5, activation='softmax')\n",
        "])"
      ],
      "execution_count": null,
      "outputs": []
    },
    {
      "cell_type": "code",
      "metadata": {
        "colab": {
          "base_uri": "https://localhost:8080/"
        },
        "id": "jhhSzQvSFALk",
        "outputId": "a404cc84-92d9-4a39-e0a5-01a00683b2b5"
      },
      "source": [
        "# Afficher votre modèle\n",
        "model.summary()"
      ],
      "execution_count": null,
      "outputs": [
        {
          "output_type": "stream",
          "text": [
            "Model: \"sequential_1\"\n",
            "_________________________________________________________________\n",
            "Layer (type)                 Output Shape              Param #   \n",
            "=================================================================\n",
            "dense_3 (Dense)              (None, 256)               8448      \n",
            "_________________________________________________________________\n",
            "dense_4 (Dense)              (None, 256)               65792     \n",
            "_________________________________________________________________\n",
            "dropout_1 (Dropout)          (None, 256)               0         \n",
            "_________________________________________________________________\n",
            "dense_5 (Dense)              (None, 5)                 1285      \n",
            "=================================================================\n",
            "Total params: 75,525\n",
            "Trainable params: 75,525\n",
            "Non-trainable params: 0\n",
            "_________________________________________________________________\n"
          ],
          "name": "stdout"
        }
      ]
    },
    {
      "cell_type": "code",
      "metadata": {
        "colab": {
          "base_uri": "https://localhost:8080/"
        },
        "id": "oxtoXsFgPNX7",
        "outputId": "de5fd0d5-3c7d-4c2f-942d-2ef898831eff"
      },
      "source": [
        "model.summary()"
      ],
      "execution_count": null,
      "outputs": [
        {
          "output_type": "stream",
          "text": [
            "Model: \"sequential_1\"\n",
            "_________________________________________________________________\n",
            "Layer (type)                 Output Shape              Param #   \n",
            "=================================================================\n",
            "dense_3 (Dense)              (None, 256)               8448      \n",
            "_________________________________________________________________\n",
            "dense_4 (Dense)              (None, 256)               65792     \n",
            "_________________________________________________________________\n",
            "dropout_1 (Dropout)          (None, 256)               0         \n",
            "_________________________________________________________________\n",
            "dense_5 (Dense)              (None, 5)                 1285      \n",
            "=================================================================\n",
            "Total params: 75,525\n",
            "Trainable params: 75,525\n",
            "Non-trainable params: 0\n",
            "_________________________________________________________________\n"
          ],
          "name": "stdout"
        }
      ]
    },
    {
      "cell_type": "code",
      "metadata": {
        "colab": {
          "base_uri": "https://localhost:8080/",
          "height": 533
        },
        "id": "_cGHVPi2Pi5H",
        "outputId": "416f8b1f-4424-44d9-91a1-56d1239abfe2"
      },
      "source": [
        "tf.keras.utils.plot_model(model,show_shapes=True)"
      ],
      "execution_count": null,
      "outputs": [
        {
          "output_type": "execute_result",
          "data": {
            "image/png": "[encoded data removed]",
            "text/plain": [
              "<IPython.core.display.Image object>"
            ]
          },
          "metadata": {
            "tags": []
          },
          "execution_count": 31
        }
      ]
    },
    {
      "cell_type": "markdown",
      "metadata": {
        "id": "f2ksSpJGF1gP"
      },
      "source": [
        "### **Compiler votre modèle en définissant une fonction de côut, un optmiseur et une métrique**\n",
        "\n",
        "Dans le cas d'une classification multi-classe, votre fonction de coût est la cross entropy catégorique. $Adam$ est un bon optimiseur de départ pour vos projets. Ici vous pouvez surveiller la métrique $Accuracy$. Pour la fonction de coût (loss), je n'utilse pas l'argument $from\\_logits=True$ car j'ai déjà activé la couche de sortie avec une fonction Softmax"
      ]
    },
    {
      "cell_type": "code",
      "metadata": {
        "id": "qtwtaGndG7UN"
      },
      "source": [
        "model.compile(optimizer=tf.keras.optimizers.Adam(learning_rate=1e-4) ,loss=tf.keras.losses.SparseCategoricalCrossentropy(),loss_weights=[1,.5,.5], metrics=tf.keras.metrics.SparseCategoricalAccuracy(name='acc'))"
      ],
      "execution_count": null,
      "outputs": []
    },
    {
      "cell_type": "markdown",
      "metadata": {
        "id": "aLKCHopeIIet"
      },
      "source": [
        "### **Définir un callback pour sauver les poids de votre modèle sur les meilleures époque c'est à dire les moments où il s'améliorera sur le jeu de validation**"
      ]
    },
    {
      "cell_type": "code",
      "metadata": {
        "id": "X-_N87DhIH5N"
      },
      "source": [
        "Path('my_model').mkdir(exist_ok=True, parents=True)\n",
        "checkpointpath = os.path.join('my_model','model') # chemin où sauver le modèle\n",
        "callbacks = [tf.keras.callbacks.ModelCheckpoint(\n",
        "              checkpointpath,\n",
        "              verbose=1, # niveau de log\n",
        "              monitor='val_main_acc', # nom de la métrique à surveiller\n",
        "              save_best_only=True, # sauver uniquement le meilleur modèle\n",
        "              save_weights_only=True)] # sauver uniquement les poids"
      ],
      "execution_count": null,
      "outputs": []
    },
    {
      "cell_type": "markdown",
      "metadata": {
        "id": "ozHZJ2CZH72X"
      },
      "source": [
        "### **Entraîner votre modèle pour un certain nombre d'époques**\n",
        "\n",
        "Le paramètre $validation\\_data$ vous permet de spécifier des données de validation et de votre le comportement de votre modèle sur un jeu indépendant dont il n'a pas la connaissance. \n",
        "\n",
        "La taille de batch ($batch\\_size$) correspond au nombre d'échantillons sur lesquels le modèle est entraîné à la fois sur une époque. Vous pouvez le mettre à (ex. 32, 64, 128, 256) et plus il est grand ce qui requiert d'avoir de la mémoire plus le temps d'exécution d'une époque sera court\n",
        "\n",
        "J'utilise les labels encodés entre 0 et 4 car la prédiction sur les distributions de probabilités du modèle est retournée avec un argmax"
      ]
    },
    {
      "cell_type": "code",
      "metadata": {
        "colab": {
          "base_uri": "https://localhost:8080/"
        },
        "id": "8WpxHz3FJuJ6",
        "outputId": "8809bf38-6fc6-470c-bd84-1bd3259313a7"
      },
      "source": [
        "BATCH_SIZE = 256\n",
        "EPOCHS = 100\n",
        "hist = model.fit (train_X, train_y_enc, validation_data=(valid_X,valid_y_enc), batch_size=BATCH_SIZE, epochs=EPOCHS, callbacks=callbacks)"
      ],
      "execution_count": null,
      "outputs": [
        {
          "output_type": "stream",
          "text": [
            "Epoch 1/100\n",
            "1762/1766 [============================>.] - ETA: 0s - loss: 0.2128 - acc: 0.9259WARNING:tensorflow:Can save best model only with val_main_acc available, skipping.\n",
            "1766/1766 [==============================] - 4s 2ms/step - loss: 0.2128 - acc: 0.9259 - val_loss: 0.2634 - val_acc: 0.9030\n",
            "Epoch 2/100\n",
            "1750/1766 [============================>.] - ETA: 0s - loss: 0.2116 - acc: 0.9260WARNING:tensorflow:Can save best model only with val_main_acc available, skipping.\n",
            "1766/1766 [==============================] - 4s 2ms/step - loss: 0.2115 - acc: 0.9260 - val_loss: 0.2647 - val_acc: 0.9045\n",
            "Epoch 3/100\n",
            "1750/1766 [============================>.] - ETA: 0s - loss: 0.2108 - acc: 0.9264WARNING:tensorflow:Can save best model only with val_main_acc available, skipping.\n",
            "1766/1766 [==============================] - 4s 2ms/step - loss: 0.2107 - acc: 0.9264 - val_loss: 0.2820 - val_acc: 0.8974\n",
            "Epoch 4/100\n",
            "1762/1766 [============================>.] - ETA: 0s - loss: 0.2098 - acc: 0.9269WARNING:tensorflow:Can save best model only with val_main_acc available, skipping.\n",
            "1766/1766 [==============================] - 4s 3ms/step - loss: 0.2098 - acc: 0.9269 - val_loss: 0.2721 - val_acc: 0.9004\n",
            "Epoch 5/100\n",
            "1765/1766 [============================>.] - ETA: 0s - loss: 0.2084 - acc: 0.9272WARNING:tensorflow:Can save best model only with val_main_acc available, skipping.\n",
            "1766/1766 [==============================] - 4s 2ms/step - loss: 0.2084 - acc: 0.9272 - val_loss: 0.2773 - val_acc: 0.8996\n",
            "Epoch 6/100\n",
            "1758/1766 [============================>.] - ETA: 0s - loss: 0.2079 - acc: 0.9271WARNING:tensorflow:Can save best model only with val_main_acc available, skipping.\n",
            "1766/1766 [==============================] - 4s 2ms/step - loss: 0.2080 - acc: 0.9271 - val_loss: 0.2810 - val_acc: 0.8981\n",
            "Epoch 7/100\n",
            "1745/1766 [============================>.] - ETA: 0s - loss: 0.2070 - acc: 0.9276WARNING:tensorflow:Can save best model only with val_main_acc available, skipping.\n",
            "1766/1766 [==============================] - 5s 3ms/step - loss: 0.2069 - acc: 0.9276 - val_loss: 0.2675 - val_acc: 0.9034\n",
            "Epoch 8/100\n",
            "1751/1766 [============================>.] - ETA: 0s - loss: 0.2062 - acc: 0.9278WARNING:tensorflow:Can save best model only with val_main_acc available, skipping.\n",
            "1766/1766 [==============================] - 4s 2ms/step - loss: 0.2062 - acc: 0.9278 - val_loss: 0.2812 - val_acc: 0.8991\n",
            "Epoch 9/100\n",
            "1749/1766 [============================>.] - ETA: 0s - loss: 0.2052 - acc: 0.9282WARNING:tensorflow:Can save best model only with val_main_acc available, skipping.\n",
            "1766/1766 [==============================] - 4s 2ms/step - loss: 0.2051 - acc: 0.9283 - val_loss: 0.2699 - val_acc: 0.9009\n",
            "Epoch 10/100\n",
            "1743/1766 [============================>.] - ETA: 0s - loss: 0.2043 - acc: 0.9283WARNING:tensorflow:Can save best model only with val_main_acc available, skipping.\n",
            "1766/1766 [==============================] - 4s 2ms/step - loss: 0.2043 - acc: 0.9284 - val_loss: 0.2812 - val_acc: 0.8972\n",
            "Epoch 11/100\n",
            "1743/1766 [============================>.] - ETA: 0s - loss: 0.2031 - acc: 0.9288WARNING:tensorflow:Can save best model only with val_main_acc available, skipping.\n",
            "1766/1766 [==============================] - 4s 2ms/step - loss: 0.2032 - acc: 0.9288 - val_loss: 0.2859 - val_acc: 0.8983\n",
            "Epoch 12/100\n",
            "1762/1766 [============================>.] - ETA: 0s - loss: 0.2025 - acc: 0.9290WARNING:tensorflow:Can save best model only with val_main_acc available, skipping.\n",
            "1766/1766 [==============================] - 4s 2ms/step - loss: 0.2025 - acc: 0.9290 - val_loss: 0.2820 - val_acc: 0.8992\n",
            "Epoch 13/100\n",
            "1761/1766 [============================>.] - ETA: 0s - loss: 0.2019 - acc: 0.9292WARNING:tensorflow:Can save best model only with val_main_acc available, skipping.\n",
            "1766/1766 [==============================] - 4s 2ms/step - loss: 0.2019 - acc: 0.9292 - val_loss: 0.2742 - val_acc: 0.9015\n",
            "Epoch 14/100\n",
            "1759/1766 [============================>.] - ETA: 0s - loss: 0.2009 - acc: 0.9294WARNING:tensorflow:Can save best model only with val_main_acc available, skipping.\n",
            "1766/1766 [==============================] - 4s 2ms/step - loss: 0.2009 - acc: 0.9294 - val_loss: 0.2662 - val_acc: 0.9030\n",
            "Epoch 15/100\n",
            "1765/1766 [============================>.] - ETA: 0s - loss: 0.2002 - acc: 0.9297WARNING:tensorflow:Can save best model only with val_main_acc available, skipping.\n",
            "1766/1766 [==============================] - 4s 2ms/step - loss: 0.2002 - acc: 0.9297 - val_loss: 0.2812 - val_acc: 0.8990\n",
            "Epoch 16/100\n",
            "1759/1766 [============================>.] - ETA: 0s - loss: 0.1995 - acc: 0.9301WARNING:tensorflow:Can save best model only with val_main_acc available, skipping.\n",
            "1766/1766 [==============================] - 4s 2ms/step - loss: 0.1995 - acc: 0.9301 - val_loss: 0.2834 - val_acc: 0.8991\n",
            "Epoch 17/100\n",
            "1745/1766 [============================>.] - ETA: 0s - loss: 0.1988 - acc: 0.9300WARNING:tensorflow:Can save best model only with val_main_acc available, skipping.\n",
            "1766/1766 [==============================] - 4s 2ms/step - loss: 0.1986 - acc: 0.9301 - val_loss: 0.2671 - val_acc: 0.9037\n",
            "Epoch 18/100\n",
            "1765/1766 [============================>.] - ETA: 0s - loss: 0.1978 - acc: 0.9305WARNING:tensorflow:Can save best model only with val_main_acc available, skipping.\n",
            "1766/1766 [==============================] - 4s 2ms/step - loss: 0.1978 - acc: 0.9305 - val_loss: 0.2694 - val_acc: 0.9038\n",
            "Epoch 19/100\n",
            "1745/1766 [============================>.] - ETA: 0s - loss: 0.1965 - acc: 0.9307WARNING:tensorflow:Can save best model only with val_main_acc available, skipping.\n",
            "1766/1766 [==============================] - 4s 2ms/step - loss: 0.1967 - acc: 0.9307 - val_loss: 0.2775 - val_acc: 0.9007\n",
            "Epoch 20/100\n",
            "1744/1766 [============================>.] - ETA: 0s - loss: 0.1960 - acc: 0.9310WARNING:tensorflow:Can save best model only with val_main_acc available, skipping.\n",
            "1766/1766 [==============================] - 4s 2ms/step - loss: 0.1960 - acc: 0.9310 - val_loss: 0.2701 - val_acc: 0.9035\n",
            "Epoch 21/100\n",
            "1753/1766 [============================>.] - ETA: 0s - loss: 0.1953 - acc: 0.9313WARNING:tensorflow:Can save best model only with val_main_acc available, skipping.\n",
            "1766/1766 [==============================] - 4s 3ms/step - loss: 0.1955 - acc: 0.9312 - val_loss: 0.2783 - val_acc: 0.8998\n",
            "Epoch 22/100\n",
            "1763/1766 [============================>.] - ETA: 0s - loss: 0.1946 - acc: 0.9316WARNING:tensorflow:Can save best model only with val_main_acc available, skipping.\n",
            "1766/1766 [==============================] - 4s 2ms/step - loss: 0.1945 - acc: 0.9316 - val_loss: 0.2751 - val_acc: 0.9012\n",
            "Epoch 23/100\n",
            "1764/1766 [============================>.] - ETA: 0s - loss: 0.1935 - acc: 0.9319WARNING:tensorflow:Can save best model only with val_main_acc available, skipping.\n",
            "1766/1766 [==============================] - 4s 2ms/step - loss: 0.1935 - acc: 0.9319 - val_loss: 0.2734 - val_acc: 0.9008\n",
            "Epoch 24/100\n",
            "1746/1766 [============================>.] - ETA: 0s - loss: 0.1933 - acc: 0.9318WARNING:tensorflow:Can save best model only with val_main_acc available, skipping.\n",
            "1766/1766 [==============================] - 4s 2ms/step - loss: 0.1933 - acc: 0.9319 - val_loss: 0.2730 - val_acc: 0.9031\n",
            "Epoch 25/100\n",
            "1754/1766 [============================>.] - ETA: 0s - loss: 0.1926 - acc: 0.9320WARNING:tensorflow:Can save best model only with val_main_acc available, skipping.\n",
            "1766/1766 [==============================] - 4s 2ms/step - loss: 0.1925 - acc: 0.9320 - val_loss: 0.2814 - val_acc: 0.8978\n",
            "Epoch 26/100\n",
            "1762/1766 [============================>.] - ETA: 0s - loss: 0.1917 - acc: 0.9326WARNING:tensorflow:Can save best model only with val_main_acc available, skipping.\n",
            "1766/1766 [==============================] - 4s 2ms/step - loss: 0.1917 - acc: 0.9326 - val_loss: 0.2790 - val_acc: 0.9009\n",
            "Epoch 27/100\n",
            "1760/1766 [============================>.] - ETA: 0s - loss: 0.1910 - acc: 0.9324WARNING:tensorflow:Can save best model only with val_main_acc available, skipping.\n",
            "1766/1766 [==============================] - 5s 3ms/step - loss: 0.1909 - acc: 0.9324 - val_loss: 0.2790 - val_acc: 0.9022\n",
            "Epoch 28/100\n",
            "1748/1766 [============================>.] - ETA: 0s - loss: 0.1902 - acc: 0.9330WARNING:tensorflow:Can save best model only with val_main_acc available, skipping.\n",
            "1766/1766 [==============================] - 4s 2ms/step - loss: 0.1903 - acc: 0.9330 - val_loss: 0.2793 - val_acc: 0.9001\n",
            "Epoch 29/100\n",
            "1758/1766 [============================>.] - ETA: 0s - loss: 0.1897 - acc: 0.9331WARNING:tensorflow:Can save best model only with val_main_acc available, skipping.\n",
            "1766/1766 [==============================] - 4s 2ms/step - loss: 0.1898 - acc: 0.9331 - val_loss: 0.2771 - val_acc: 0.9000\n",
            "Epoch 30/100\n",
            "1749/1766 [============================>.] - ETA: 0s - loss: 0.1885 - acc: 0.9336WARNING:tensorflow:Can save best model only with val_main_acc available, skipping.\n",
            "1766/1766 [==============================] - 4s 2ms/step - loss: 0.1885 - acc: 0.9336 - val_loss: 0.2875 - val_acc: 0.8951\n",
            "Epoch 31/100\n",
            "1753/1766 [============================>.] - ETA: 0s - loss: 0.1879 - acc: 0.9340WARNING:tensorflow:Can save best model only with val_main_acc available, skipping.\n",
            "1766/1766 [==============================] - 4s 2ms/step - loss: 0.1878 - acc: 0.9340 - val_loss: 0.2842 - val_acc: 0.8999\n",
            "Epoch 32/100\n",
            "1752/1766 [============================>.] - ETA: 0s - loss: 0.1872 - acc: 0.9340WARNING:tensorflow:Can save best model only with val_main_acc available, skipping.\n",
            "1766/1766 [==============================] - 4s 2ms/step - loss: 0.1872 - acc: 0.9339 - val_loss: 0.2773 - val_acc: 0.9019\n",
            "Epoch 33/100\n",
            "1766/1766 [==============================] - ETA: 0s - loss: 0.1869 - acc: 0.9341WARNING:tensorflow:Can save best model only with val_main_acc available, skipping.\n",
            "1766/1766 [==============================] - 4s 2ms/step - loss: 0.1869 - acc: 0.9341 - val_loss: 0.2740 - val_acc: 0.9035\n",
            "Epoch 34/100\n",
            "1750/1766 [============================>.] - ETA: 0s - loss: 0.1860 - acc: 0.9343WARNING:tensorflow:Can save best model only with val_main_acc available, skipping.\n",
            "1766/1766 [==============================] - 4s 3ms/step - loss: 0.1859 - acc: 0.9343 - val_loss: 0.2938 - val_acc: 0.8979\n",
            "Epoch 35/100\n",
            "1756/1766 [============================>.] - ETA: 0s - loss: 0.1852 - acc: 0.9346WARNING:tensorflow:Can save best model only with val_main_acc available, skipping.\n",
            "1766/1766 [==============================] - 4s 2ms/step - loss: 0.1852 - acc: 0.9346 - val_loss: 0.2809 - val_acc: 0.8980\n",
            "Epoch 36/100\n",
            "1761/1766 [============================>.] - ETA: 0s - loss: 0.1847 - acc: 0.9347WARNING:tensorflow:Can save best model only with val_main_acc available, skipping.\n",
            "1766/1766 [==============================] - 4s 2ms/step - loss: 0.1846 - acc: 0.9347 - val_loss: 0.2852 - val_acc: 0.8998\n",
            "Epoch 37/100\n",
            "1743/1766 [============================>.] - ETA: 0s - loss: 0.1837 - acc: 0.9351WARNING:tensorflow:Can save best model only with val_main_acc available, skipping.\n",
            "1766/1766 [==============================] - 4s 3ms/step - loss: 0.1837 - acc: 0.9351 - val_loss: 0.2857 - val_acc: 0.9003\n",
            "Epoch 38/100\n",
            "1760/1766 [============================>.] - ETA: 0s - loss: 0.1831 - acc: 0.9352WARNING:tensorflow:Can save best model only with val_main_acc available, skipping.\n",
            "1766/1766 [==============================] - 4s 2ms/step - loss: 0.1831 - acc: 0.9352 - val_loss: 0.2882 - val_acc: 0.8979\n",
            "Epoch 39/100\n",
            "1754/1766 [============================>.] - ETA: 0s - loss: 0.1822 - acc: 0.9357WARNING:tensorflow:Can save best model only with val_main_acc available, skipping.\n",
            "1766/1766 [==============================] - 4s 2ms/step - loss: 0.1822 - acc: 0.9357 - val_loss: 0.2973 - val_acc: 0.8977\n",
            "Epoch 40/100\n",
            "1745/1766 [============================>.] - ETA: 0s - loss: 0.1815 - acc: 0.9356WARNING:tensorflow:Can save best model only with val_main_acc available, skipping.\n",
            "1766/1766 [==============================] - 4s 2ms/step - loss: 0.1815 - acc: 0.9357 - val_loss: 0.2907 - val_acc: 0.8985\n",
            "Epoch 41/100\n",
            "1766/1766 [==============================] - ETA: 0s - loss: 0.1811 - acc: 0.9360WARNING:tensorflow:Can save best model only with val_main_acc available, skipping.\n",
            "1766/1766 [==============================] - 5s 3ms/step - loss: 0.1811 - acc: 0.9360 - val_loss: 0.2843 - val_acc: 0.9011\n",
            "Epoch 42/100\n",
            "1757/1766 [============================>.] - ETA: 0s - loss: 0.1803 - acc: 0.9359WARNING:tensorflow:Can save best model only with val_main_acc available, skipping.\n",
            "1766/1766 [==============================] - 5s 3ms/step - loss: 0.1803 - acc: 0.9360 - val_loss: 0.2891 - val_acc: 0.8966\n",
            "Epoch 43/100\n",
            "1753/1766 [============================>.] - ETA: 0s - loss: 0.1797 - acc: 0.9363WARNING:tensorflow:Can save best model only with val_main_acc available, skipping.\n",
            "1766/1766 [==============================] - 4s 2ms/step - loss: 0.1797 - acc: 0.9363 - val_loss: 0.2875 - val_acc: 0.8989\n",
            "Epoch 44/100\n",
            "1759/1766 [============================>.] - ETA: 0s - loss: 0.1793 - acc: 0.9366WARNING:tensorflow:Can save best model only with val_main_acc available, skipping.\n",
            "1766/1766 [==============================] - 4s 2ms/step - loss: 0.1793 - acc: 0.9366 - val_loss: 0.2835 - val_acc: 0.9010\n",
            "Epoch 45/100\n",
            "1756/1766 [============================>.] - ETA: 0s - loss: 0.1785 - acc: 0.9366WARNING:tensorflow:Can save best model only with val_main_acc available, skipping.\n",
            "1766/1766 [==============================] - 4s 2ms/step - loss: 0.1785 - acc: 0.9366 - val_loss: 0.2888 - val_acc: 0.8979\n",
            "Epoch 46/100\n",
            "1751/1766 [============================>.] - ETA: 0s - loss: 0.1782 - acc: 0.9368WARNING:tensorflow:Can save best model only with val_main_acc available, skipping.\n",
            "1766/1766 [==============================] - 4s 2ms/step - loss: 0.1782 - acc: 0.9367 - val_loss: 0.2828 - val_acc: 0.8994\n",
            "Epoch 47/100\n",
            "1751/1766 [============================>.] - ETA: 0s - loss: 0.1774 - acc: 0.9373WARNING:tensorflow:Can save best model only with val_main_acc available, skipping.\n",
            "1766/1766 [==============================] - 4s 3ms/step - loss: 0.1774 - acc: 0.9373 - val_loss: 0.2976 - val_acc: 0.8945\n",
            "Epoch 48/100\n",
            "1753/1766 [============================>.] - ETA: 0s - loss: 0.1766 - acc: 0.9373WARNING:tensorflow:Can save best model only with val_main_acc available, skipping.\n",
            "1766/1766 [==============================] - 4s 2ms/step - loss: 0.1767 - acc: 0.9374 - val_loss: 0.2963 - val_acc: 0.8969\n",
            "Epoch 49/100\n",
            "1761/1766 [============================>.] - ETA: 0s - loss: 0.1761 - acc: 0.9376WARNING:tensorflow:Can save best model only with val_main_acc available, skipping.\n",
            "1766/1766 [==============================] - 5s 3ms/step - loss: 0.1761 - acc: 0.9376 - val_loss: 0.2853 - val_acc: 0.9006\n",
            "Epoch 50/100\n",
            "1759/1766 [============================>.] - ETA: 0s - loss: 0.1754 - acc: 0.9382WARNING:tensorflow:Can save best model only with val_main_acc available, skipping.\n",
            "1766/1766 [==============================] - 4s 2ms/step - loss: 0.1753 - acc: 0.9382 - val_loss: 0.2808 - val_acc: 0.9001\n",
            "Epoch 51/100\n",
            "1757/1766 [============================>.] - ETA: 0s - loss: 0.1749 - acc: 0.9382WARNING:tensorflow:Can save best model only with val_main_acc available, skipping.\n",
            "1766/1766 [==============================] - 4s 2ms/step - loss: 0.1749 - acc: 0.9382 - val_loss: 0.2867 - val_acc: 0.8979\n",
            "Epoch 52/100\n",
            "1757/1766 [============================>.] - ETA: 0s - loss: 0.1744 - acc: 0.9381WARNING:tensorflow:Can save best model only with val_main_acc available, skipping.\n",
            "1766/1766 [==============================] - 4s 2ms/step - loss: 0.1743 - acc: 0.9381 - val_loss: 0.2872 - val_acc: 0.9005\n",
            "Epoch 53/100\n",
            "1744/1766 [============================>.] - ETA: 0s - loss: 0.1738 - acc: 0.9386WARNING:tensorflow:Can save best model only with val_main_acc available, skipping.\n",
            "1766/1766 [==============================] - 4s 3ms/step - loss: 0.1738 - acc: 0.9386 - val_loss: 0.2968 - val_acc: 0.8984\n",
            "Epoch 54/100\n",
            "1742/1766 [============================>.] - ETA: 0s - loss: 0.1729 - acc: 0.9389WARNING:tensorflow:Can save best model only with val_main_acc available, skipping.\n",
            "1766/1766 [==============================] - 4s 2ms/step - loss: 0.1728 - acc: 0.9389 - val_loss: 0.3023 - val_acc: 0.8962\n",
            "Epoch 55/100\n",
            "1757/1766 [============================>.] - ETA: 0s - loss: 0.1723 - acc: 0.9391WARNING:tensorflow:Can save best model only with val_main_acc available, skipping.\n",
            "1766/1766 [==============================] - 4s 2ms/step - loss: 0.1723 - acc: 0.9391 - val_loss: 0.2814 - val_acc: 0.9010\n",
            "Epoch 56/100\n",
            "1753/1766 [============================>.] - ETA: 0s - loss: 0.1715 - acc: 0.9393WARNING:tensorflow:Can save best model only with val_main_acc available, skipping.\n",
            "1766/1766 [==============================] - 5s 3ms/step - loss: 0.1715 - acc: 0.9393 - val_loss: 0.2791 - val_acc: 0.9012\n",
            "Epoch 57/100\n",
            "1751/1766 [============================>.] - ETA: 0s - loss: 0.1714 - acc: 0.9392WARNING:tensorflow:Can save best model only with val_main_acc available, skipping.\n",
            "1766/1766 [==============================] - 5s 3ms/step - loss: 0.1715 - acc: 0.9392 - val_loss: 0.2975 - val_acc: 0.8957\n",
            "Epoch 58/100\n",
            "1765/1766 [============================>.] - ETA: 0s - loss: 0.1707 - acc: 0.9395WARNING:tensorflow:Can save best model only with val_main_acc available, skipping.\n",
            "1766/1766 [==============================] - 4s 3ms/step - loss: 0.1707 - acc: 0.9395 - val_loss: 0.2771 - val_acc: 0.9033\n",
            "Epoch 59/100\n",
            "1764/1766 [============================>.] - ETA: 0s - loss: 0.1703 - acc: 0.9396WARNING:tensorflow:Can save best model only with val_main_acc available, skipping.\n",
            "1766/1766 [==============================] - 4s 2ms/step - loss: 0.1703 - acc: 0.9396 - val_loss: 0.2865 - val_acc: 0.9005\n",
            "Epoch 60/100\n",
            "1754/1766 [============================>.] - ETA: 0s - loss: 0.1696 - acc: 0.9400WARNING:tensorflow:Can save best model only with val_main_acc available, skipping.\n",
            "1766/1766 [==============================] - 5s 3ms/step - loss: 0.1696 - acc: 0.9400 - val_loss: 0.3003 - val_acc: 0.8967\n",
            "Epoch 61/100\n",
            "1748/1766 [============================>.] - ETA: 0s - loss: 0.1689 - acc: 0.9399WARNING:tensorflow:Can save best model only with val_main_acc available, skipping.\n",
            "1766/1766 [==============================] - 4s 2ms/step - loss: 0.1691 - acc: 0.9398 - val_loss: 0.2810 - val_acc: 0.9015\n",
            "Epoch 62/100\n",
            "1756/1766 [============================>.] - ETA: 0s - loss: 0.1684 - acc: 0.9406WARNING:tensorflow:Can save best model only with val_main_acc available, skipping.\n",
            "1766/1766 [==============================] - 5s 3ms/step - loss: 0.1684 - acc: 0.9405 - val_loss: 0.2859 - val_acc: 0.9007\n",
            "Epoch 63/100\n",
            "1756/1766 [============================>.] - ETA: 0s - loss: 0.1677 - acc: 0.9405WARNING:tensorflow:Can save best model only with val_main_acc available, skipping.\n",
            "1766/1766 [==============================] - 5s 3ms/step - loss: 0.1678 - acc: 0.9405 - val_loss: 0.2967 - val_acc: 0.8961\n",
            "Epoch 64/100\n",
            "1746/1766 [============================>.] - ETA: 0s - loss: 0.1672 - acc: 0.9410WARNING:tensorflow:Can save best model only with val_main_acc available, skipping.\n",
            "1766/1766 [==============================] - 5s 3ms/step - loss: 0.1673 - acc: 0.9410 - val_loss: 0.3009 - val_acc: 0.8943\n",
            "Epoch 65/100\n",
            "1757/1766 [============================>.] - ETA: 0s - loss: 0.1669 - acc: 0.9408WARNING:tensorflow:Can save best model only with val_main_acc available, skipping.\n",
            "1766/1766 [==============================] - 4s 2ms/step - loss: 0.1669 - acc: 0.9408 - val_loss: 0.2874 - val_acc: 0.8993\n",
            "Epoch 66/100\n",
            "1766/1766 [==============================] - ETA: 0s - loss: 0.1663 - acc: 0.9413WARNING:tensorflow:Can save best model only with val_main_acc available, skipping.\n",
            "1766/1766 [==============================] - 4s 3ms/step - loss: 0.1663 - acc: 0.9413 - val_loss: 0.2969 - val_acc: 0.8962\n",
            "Epoch 67/100\n",
            "1766/1766 [==============================] - ETA: 0s - loss: 0.1661 - acc: 0.9413WARNING:tensorflow:Can save best model only with val_main_acc available, skipping.\n",
            "1766/1766 [==============================] - 4s 3ms/step - loss: 0.1661 - acc: 0.9413 - val_loss: 0.3190 - val_acc: 0.8919\n",
            "Epoch 68/100\n",
            "1761/1766 [============================>.] - ETA: 0s - loss: 0.1654 - acc: 0.9413WARNING:tensorflow:Can save best model only with val_main_acc available, skipping.\n",
            "1766/1766 [==============================] - 4s 2ms/step - loss: 0.1654 - acc: 0.9413 - val_loss: 0.2964 - val_acc: 0.8996\n",
            "Epoch 69/100\n",
            "1757/1766 [============================>.] - ETA: 0s - loss: 0.1650 - acc: 0.9418WARNING:tensorflow:Can save best model only with val_main_acc available, skipping.\n",
            "1766/1766 [==============================] - 5s 3ms/step - loss: 0.1650 - acc: 0.9418 - val_loss: 0.2820 - val_acc: 0.9017\n",
            "Epoch 70/100\n",
            "1765/1766 [============================>.] - ETA: 0s - loss: 0.1645 - acc: 0.9418WARNING:tensorflow:Can save best model only with val_main_acc available, skipping.\n",
            "1766/1766 [==============================] - 4s 3ms/step - loss: 0.1645 - acc: 0.9418 - val_loss: 0.2887 - val_acc: 0.8982\n",
            "Epoch 71/100\n",
            "1759/1766 [============================>.] - ETA: 0s - loss: 0.1635 - acc: 0.9421WARNING:tensorflow:Can save best model only with val_main_acc available, skipping.\n",
            "1766/1766 [==============================] - 4s 3ms/step - loss: 0.1635 - acc: 0.9421 - val_loss: 0.3197 - val_acc: 0.8865\n",
            "Epoch 72/100\n",
            "1751/1766 [============================>.] - ETA: 0s - loss: 0.1634 - acc: 0.9421WARNING:tensorflow:Can save best model only with val_main_acc available, skipping.\n",
            "1766/1766 [==============================] - 4s 3ms/step - loss: 0.1633 - acc: 0.9421 - val_loss: 0.3094 - val_acc: 0.8918\n",
            "Epoch 73/100\n",
            "1751/1766 [============================>.] - ETA: 0s - loss: 0.1629 - acc: 0.9423WARNING:tensorflow:Can save best model only with val_main_acc available, skipping.\n",
            "1766/1766 [==============================] - 4s 3ms/step - loss: 0.1628 - acc: 0.9424 - val_loss: 0.2930 - val_acc: 0.8987\n",
            "Epoch 74/100\n",
            "1748/1766 [============================>.] - ETA: 0s - loss: 0.1623 - acc: 0.9426WARNING:tensorflow:Can save best model only with val_main_acc available, skipping.\n",
            "1766/1766 [==============================] - 5s 3ms/step - loss: 0.1622 - acc: 0.9426 - val_loss: 0.2869 - val_acc: 0.8997\n",
            "Epoch 75/100\n",
            "1747/1766 [============================>.] - ETA: 0s - loss: 0.1618 - acc: 0.9430WARNING:tensorflow:Can save best model only with val_main_acc available, skipping.\n",
            "1766/1766 [==============================] - 5s 3ms/step - loss: 0.1617 - acc: 0.9430 - val_loss: 0.3024 - val_acc: 0.8971\n",
            "Epoch 76/100\n",
            "1754/1766 [============================>.] - ETA: 0s - loss: 0.1608 - acc: 0.9431WARNING:tensorflow:Can save best model only with val_main_acc available, skipping.\n",
            "1766/1766 [==============================] - 5s 3ms/step - loss: 0.1609 - acc: 0.9430 - val_loss: 0.3039 - val_acc: 0.8929\n",
            "Epoch 77/100\n",
            "1753/1766 [============================>.] - ETA: 0s - loss: 0.1610 - acc: 0.9432WARNING:tensorflow:Can save best model only with val_main_acc available, skipping.\n",
            "1766/1766 [==============================] - 4s 2ms/step - loss: 0.1610 - acc: 0.9432 - val_loss: 0.2810 - val_acc: 0.8988\n",
            "Epoch 78/100\n",
            "1764/1766 [============================>.] - ETA: 0s - loss: 0.1603 - acc: 0.9432WARNING:tensorflow:Can save best model only with val_main_acc available, skipping.\n",
            "1766/1766 [==============================] - 4s 2ms/step - loss: 0.1603 - acc: 0.9432 - val_loss: 0.2900 - val_acc: 0.8992\n",
            "Epoch 79/100\n",
            "1764/1766 [============================>.] - ETA: 0s - loss: 0.1599 - acc: 0.9433WARNING:tensorflow:Can save best model only with val_main_acc available, skipping.\n",
            "1766/1766 [==============================] - 5s 3ms/step - loss: 0.1599 - acc: 0.9433 - val_loss: 0.2931 - val_acc: 0.8956\n",
            "Epoch 80/100\n",
            "1745/1766 [============================>.] - ETA: 0s - loss: 0.1593 - acc: 0.9438WARNING:tensorflow:Can save best model only with val_main_acc available, skipping.\n",
            "1766/1766 [==============================] - 4s 3ms/step - loss: 0.1593 - acc: 0.9438 - val_loss: 0.2904 - val_acc: 0.9003\n",
            "Epoch 81/100\n",
            "1754/1766 [============================>.] - ETA: 0s - loss: 0.1591 - acc: 0.9438WARNING:tensorflow:Can save best model only with val_main_acc available, skipping.\n",
            "1766/1766 [==============================] - 4s 3ms/step - loss: 0.1591 - acc: 0.9438 - val_loss: 0.2972 - val_acc: 0.8972\n",
            "Epoch 82/100\n",
            "1745/1766 [============================>.] - ETA: 0s - loss: 0.1581 - acc: 0.9441WARNING:tensorflow:Can save best model only with val_main_acc available, skipping.\n",
            "1766/1766 [==============================] - 5s 3ms/step - loss: 0.1582 - acc: 0.9441 - val_loss: 0.2792 - val_acc: 0.9034\n",
            "Epoch 83/100\n",
            "1749/1766 [============================>.] - ETA: 0s - loss: 0.1583 - acc: 0.9439WARNING:tensorflow:Can save best model only with val_main_acc available, skipping.\n",
            "1766/1766 [==============================] - 5s 3ms/step - loss: 0.1583 - acc: 0.9438 - val_loss: 0.2870 - val_acc: 0.8999\n",
            "Epoch 84/100\n",
            "1752/1766 [============================>.] - ETA: 0s - loss: 0.1572 - acc: 0.9443WARNING:tensorflow:Can save best model only with val_main_acc available, skipping.\n",
            "1766/1766 [==============================] - 4s 3ms/step - loss: 0.1573 - acc: 0.9443 - val_loss: 0.2886 - val_acc: 0.8997\n",
            "Epoch 85/100\n",
            "1757/1766 [============================>.] - ETA: 0s - loss: 0.1573 - acc: 0.9446WARNING:tensorflow:Can save best model only with val_main_acc available, skipping.\n",
            "1766/1766 [==============================] - 5s 3ms/step - loss: 0.1573 - acc: 0.9446 - val_loss: 0.3027 - val_acc: 0.8984\n",
            "Epoch 86/100\n",
            "1763/1766 [============================>.] - ETA: 0s - loss: 0.1569 - acc: 0.9445WARNING:tensorflow:Can save best model only with val_main_acc available, skipping.\n",
            "1766/1766 [==============================] - 5s 3ms/step - loss: 0.1570 - acc: 0.9445 - val_loss: 0.2885 - val_acc: 0.8974\n",
            "Epoch 87/100\n",
            "1749/1766 [============================>.] - ETA: 0s - loss: 0.1556 - acc: 0.9450WARNING:tensorflow:Can save best model only with val_main_acc available, skipping.\n",
            "1766/1766 [==============================] - 4s 3ms/step - loss: 0.1556 - acc: 0.9450 - val_loss: 0.2822 - val_acc: 0.9014\n",
            "Epoch 88/100\n",
            "1751/1766 [============================>.] - ETA: 0s - loss: 0.1557 - acc: 0.9451WARNING:tensorflow:Can save best model only with val_main_acc available, skipping.\n",
            "1766/1766 [==============================] - 5s 3ms/step - loss: 0.1557 - acc: 0.9451 - val_loss: 0.2883 - val_acc: 0.9016\n",
            "Epoch 89/100\n",
            "1743/1766 [============================>.] - ETA: 0s - loss: 0.1551 - acc: 0.9454WARNING:tensorflow:Can save best model only with val_main_acc available, skipping.\n",
            "1766/1766 [==============================] - 4s 3ms/step - loss: 0.1553 - acc: 0.9453 - val_loss: 0.2864 - val_acc: 0.9010\n",
            "Epoch 90/100\n",
            "1763/1766 [============================>.] - ETA: 0s - loss: 0.1552 - acc: 0.9449WARNING:tensorflow:Can save best model only with val_main_acc available, skipping.\n",
            "1766/1766 [==============================] - 4s 3ms/step - loss: 0.1551 - acc: 0.9450 - val_loss: 0.2784 - val_acc: 0.9019\n",
            "Epoch 91/100\n",
            "1753/1766 [============================>.] - ETA: 0s - loss: 0.1546 - acc: 0.9454WARNING:tensorflow:Can save best model only with val_main_acc available, skipping.\n",
            "1766/1766 [==============================] - 5s 3ms/step - loss: 0.1546 - acc: 0.9453 - val_loss: 0.2970 - val_acc: 0.8960\n",
            "Epoch 92/100\n",
            "1759/1766 [============================>.] - ETA: 0s - loss: 0.1540 - acc: 0.9457WARNING:tensorflow:Can save best model only with val_main_acc available, skipping.\n",
            "1766/1766 [==============================] - 5s 3ms/step - loss: 0.1540 - acc: 0.9457 - val_loss: 0.3017 - val_acc: 0.8982\n",
            "Epoch 93/100\n",
            "1764/1766 [============================>.] - ETA: 0s - loss: 0.1535 - acc: 0.9460WARNING:tensorflow:Can save best model only with val_main_acc available, skipping.\n",
            "1766/1766 [==============================] - 5s 3ms/step - loss: 0.1536 - acc: 0.9460 - val_loss: 0.2928 - val_acc: 0.8996\n",
            "Epoch 94/100\n",
            "1756/1766 [============================>.] - ETA: 0s - loss: 0.1532 - acc: 0.9459WARNING:tensorflow:Can save best model only with val_main_acc available, skipping.\n",
            "1766/1766 [==============================] - 5s 3ms/step - loss: 0.1531 - acc: 0.9459 - val_loss: 0.2946 - val_acc: 0.8972\n",
            "Epoch 95/100\n",
            "1748/1766 [============================>.] - ETA: 0s - loss: 0.1524 - acc: 0.9461WARNING:tensorflow:Can save best model only with val_main_acc available, skipping.\n",
            "1766/1766 [==============================] - 4s 3ms/step - loss: 0.1524 - acc: 0.9461 - val_loss: 0.2901 - val_acc: 0.9000\n",
            "Epoch 96/100\n",
            "1766/1766 [==============================] - ETA: 0s - loss: 0.1522 - acc: 0.9463WARNING:tensorflow:Can save best model only with val_main_acc available, skipping.\n",
            "1766/1766 [==============================] - 5s 3ms/step - loss: 0.1522 - acc: 0.9463 - val_loss: 0.2893 - val_acc: 0.9002\n",
            "Epoch 97/100\n",
            "1756/1766 [============================>.] - ETA: 0s - loss: 0.1516 - acc: 0.9463WARNING:tensorflow:Can save best model only with val_main_acc available, skipping.\n",
            "1766/1766 [==============================] - 4s 3ms/step - loss: 0.1516 - acc: 0.9463 - val_loss: 0.2955 - val_acc: 0.8979\n",
            "Epoch 98/100\n",
            "1766/1766 [==============================] - ETA: 0s - loss: 0.1512 - acc: 0.9467WARNING:tensorflow:Can save best model only with val_main_acc available, skipping.\n",
            "1766/1766 [==============================] - 5s 3ms/step - loss: 0.1512 - acc: 0.9467 - val_loss: 0.2860 - val_acc: 0.9013\n",
            "Epoch 99/100\n",
            "1745/1766 [============================>.] - ETA: 0s - loss: 0.1510 - acc: 0.9466WARNING:tensorflow:Can save best model only with val_main_acc available, skipping.\n",
            "1766/1766 [==============================] - 5s 3ms/step - loss: 0.1510 - acc: 0.9466 - val_loss: 0.3000 - val_acc: 0.8972\n",
            "Epoch 100/100\n",
            "1761/1766 [============================>.] - ETA: 0s - loss: 0.1505 - acc: 0.9469WARNING:tensorflow:Can save best model only with val_main_acc available, skipping.\n",
            "1766/1766 [==============================] - 4s 3ms/step - loss: 0.1505 - acc: 0.9469 - val_loss: 0.3048 - val_acc: 0.8982\n"
          ],
          "name": "stdout"
        }
      ]
    },
    {
      "cell_type": "markdown",
      "metadata": {
        "id": "n8LxITTsM856"
      },
      "source": [
        "### **Restaurer les poids du modèle sur la meilleure époque d'entraînement**"
      ]
    },
    {
      "cell_type": "markdown",
      "metadata": {
        "id": "Zh14_LtSPCqB"
      },
      "source": [
        "### **Prédiction des classes sur le jeu de validation et évaluation en aggrégeant au niveau objet**"
      ]
    },
    {
      "cell_type": "code",
      "metadata": {
        "colab": {
          "base_uri": "https://localhost:8080/"
        },
        "id": "zDpjyx_JPNjv",
        "outputId": "15e106dd-0368-49c7-9b43-c3ed805042c7"
      },
      "source": [
        "# Récupérer les probabilités prédites sur le jeu de validation\n",
        "valid_prob= model.predict(valid_X,batch_size=256)\n",
        "valid_prob.shape"
      ],
      "execution_count": null,
      "outputs": [
        {
          "output_type": "execute_result",
          "data": {
            "text/plain": [
              "(153469, 5)"
            ]
          },
          "metadata": {
            "tags": []
          },
          "execution_count": 48
        }
      ]
    },
    {
      "cell_type": "code",
      "metadata": {
        "colab": {
          "base_uri": "https://localhost:8080/"
        },
        "id": "26YozrngPZyW",
        "outputId": "d6d0bc8f-8459-43ed-9ee5-9fc8d7d30383"
      },
      "source": [
        "# Retourner la classe correspondant à la probabilité la plus haute\n",
        "valid_pred = np.argmax(valid_prob,axis=1) # axe 1 car ceci concerne chaque ligne\n",
        "valid_pred.shape"
      ],
      "execution_count": null,
      "outputs": [
        {
          "output_type": "execute_result",
          "data": {
            "text/plain": [
              "(153469,)"
            ]
          },
          "metadata": {
            "tags": []
          },
          "execution_count": 49
        }
      ]
    },
    {
      "cell_type": "code",
      "metadata": {
        "colab": {
          "base_uri": "https://localhost:8080/"
        },
        "id": "57Fyn2eyWU3w",
        "outputId": "77936af6-110e-4f1a-b4f5-e800f6476784"
      },
      "source": [
        "# Je réencode les prédictions entre 1 et 5\n",
        "valid_pred_enc = encoder.inverse_transform(valid_pred)\n",
        "np.unique(valid_pred_enc)"
      ],
      "execution_count": null,
      "outputs": [
        {
          "output_type": "execute_result",
          "data": {
            "text/plain": [
              "array([1, 2, 3, 4, 5], dtype=uint8)"
            ]
          },
          "metadata": {
            "tags": []
          },
          "execution_count": 50
        }
      ]
    },
    {
      "cell_type": "code",
      "metadata": {
        "colab": {
          "base_uri": "https://localhost:8080/"
        },
        "id": "z35nADR_P-ut",
        "outputId": "dfe675a8-5dc4-4444-8a92-6bf940f847ae"
      },
      "source": [
        "# Aggrégation au niveau objet\n",
        "out_pred = []\n",
        "unique_id = np.unique(valid_id)\n",
        "for ID in unique_id :\n",
        "    # Récupérer les prédictions des pixels appartenant au même objet\n",
        "    pred = valid_pred_enc[np.where(valid_id==ID)]\n",
        "    y_true = valid_y[np.where(valid_id==ID)]\n",
        "    # Prendre la valeur majoritaire des prédictions sur les pixels\n",
        "    out_pred.append([ np.bincount(y_true).argmax(), np.bincount(pred).argmax()]) #(Vérité terrain,Prédiction majoritaire)\n",
        "out_pred = np.vstack(out_pred)\n",
        "out_pred.shape"
      ],
      "execution_count": null,
      "outputs": [
        {
          "output_type": "execute_result",
          "data": {
            "text/plain": [
              "(558, 2)"
            ]
          },
          "metadata": {
            "tags": []
          },
          "execution_count": 51
        }
      ]
    },
    {
      "cell_type": "code",
      "metadata": {
        "colab": {
          "base_uri": "https://localhost:8080/"
        },
        "id": "hQ2jDDDZWsKQ",
        "outputId": "84758597-eaaa-4eb6-d022-ffd522242c95"
      },
      "source": [
        "# F1 score au niveau objet\n",
        "f1_score(out_pred[:,0],out_pred[:,1],average='weighted')"
      ],
      "execution_count": null,
      "outputs": [
        {
          "output_type": "execute_result",
          "data": {
            "text/plain": [
              "0.8829109105976405"
            ]
          },
          "metadata": {
            "tags": []
          },
          "execution_count": 52
        }
      ]
    },
    {
      "cell_type": "markdown",
      "metadata": {
        "id": "zIXYledyW9QI"
      },
      "source": [
        "### **Prédire sur le jeu test et Préparer une soumission**"
      ]
    },
    {
      "cell_type": "code",
      "metadata": {
        "colab": {
          "base_uri": "https://localhost:8080/"
        },
        "id": "p--sBOPKW4SE",
        "outputId": "41cca014-bb03-41a2-a21b-6317bfa09df4"
      },
      "source": [
        "# Récupérer les probabilités prédites sur le jeu test\n",
        "test_prob = model.predict(test_X,batch_size=256)\n",
        "test_prob.shape"
      ],
      "execution_count": null,
      "outputs": [
        {
          "output_type": "execute_result",
          "data": {
            "text/plain": [
              "(207485, 5)"
            ]
          },
          "metadata": {
            "tags": []
          },
          "execution_count": 53
        }
      ]
    },
    {
      "cell_type": "code",
      "metadata": {
        "colab": {
          "base_uri": "https://localhost:8080/"
        },
        "id": "QtI8FHPyXHF1",
        "outputId": "b5e95097-15a7-47ce-afc2-875fe4ecdd48"
      },
      "source": [
        "# Retourner la classe correspondant à la probabilité la plus haute\n",
        "test_pred = np.argmax(test_prob,axis=1) # axe 1 car ceci concerne chaque ligne\n",
        "test_pred.shape"
      ],
      "execution_count": null,
      "outputs": [
        {
          "output_type": "execute_result",
          "data": {
            "text/plain": [
              "(207485,)"
            ]
          },
          "metadata": {
            "tags": []
          },
          "execution_count": 54
        }
      ]
    },
    {
      "cell_type": "code",
      "metadata": {
        "colab": {
          "base_uri": "https://localhost:8080/"
        },
        "id": "V4xPl0mFXNEi",
        "outputId": "c4c792cf-cd9a-468a-91b0-bd9da4e7a6b1"
      },
      "source": [
        "# Je réencode les prédictions entre 1 et 5\n",
        "test_pred_enc = encoder.inverse_transform(test_pred)\n",
        "np.unique(test_pred_enc)"
      ],
      "execution_count": null,
      "outputs": [
        {
          "output_type": "execute_result",
          "data": {
            "text/plain": [
              "array([1, 2, 3, 4, 5], dtype=uint8)"
            ]
          },
          "metadata": {
            "tags": []
          },
          "execution_count": 55
        }
      ]
    },
    {
      "cell_type": "code",
      "metadata": {
        "colab": {
          "base_uri": "https://localhost:8080/"
        },
        "id": "khjM1qqMXTSY",
        "outputId": "0416538b-fa4a-4b12-d161-ee71424810fa"
      },
      "source": [
        "# Aggrégation au niveau objet\n",
        "agg_pred = []\n",
        "unique_id = np.unique(test_id)\n",
        "for ID in unique_id :\n",
        "    # Récupérer les prédictions des pixels appartenant au même objet\n",
        "    pred = test_pred_enc[np.where(test_id==ID)]\n",
        "    # Prendre la valeur majoritaire des prédictions sur les pixels\n",
        "    agg_pred.append([ ID, np.bincount(pred).argmax()]) #(ID,Prédiction majoritaire)\n",
        "agg_pred = np.vstack(agg_pred)\n",
        "agg_pred.shape"
      ],
      "execution_count": null,
      "outputs": [
        {
          "output_type": "execute_result",
          "data": {
            "text/plain": [
              "(800, 2)"
            ]
          },
          "metadata": {
            "tags": []
          },
          "execution_count": 56
        }
      ]
    },
    {
      "cell_type": "code",
      "metadata": {
        "colab": {
          "base_uri": "https://localhost:8080/",
          "height": 204
        },
        "id": "ZIdn628cEtgx",
        "outputId": "24089fac-5544-443b-c27d-4907ef9b43c8"
      },
      "source": [
        "df = pd.DataFrame({'ID':agg_pred[:,0],'Class':agg_pred[:,1]})\n",
        "df.to_csv('Soumission_ASSARAR_BOUHLEL_DJAFER.csv',index=False)\n",
        "df.head(5)"
      ],
      "execution_count": null,
      "outputs": [
        {
          "output_type": "execute_result",
          "data": {
            "text/html": [
              "<div>\n",
              "<style scoped>\n",
              "    .dataframe tbody tr th:only-of-type {\n",
              "        vertical-align: middle;\n",
              "    }\n",
              "\n",
              "    .dataframe tbody tr th {\n",
              "        vertical-align: top;\n",
              "    }\n",
              "\n",
              "    .dataframe thead th {\n",
              "        text-align: right;\n",
              "    }\n",
              "</style>\n",
              "<table border=\"1\" class=\"dataframe\">\n",
              "  <thead>\n",
              "    <tr style=\"text-align: right;\">\n",
              "      <th></th>\n",
              "      <th>ID</th>\n",
              "      <th>Class</th>\n",
              "    </tr>\n",
              "  </thead>\n",
              "  <tbody>\n",
              "    <tr>\n",
              "      <th>0</th>\n",
              "      <td>4</td>\n",
              "      <td>5</td>\n",
              "    </tr>\n",
              "    <tr>\n",
              "      <th>1</th>\n",
              "      <td>7</td>\n",
              "      <td>3</td>\n",
              "    </tr>\n",
              "    <tr>\n",
              "      <th>2</th>\n",
              "      <td>8</td>\n",
              "      <td>5</td>\n",
              "    </tr>\n",
              "    <tr>\n",
              "      <th>3</th>\n",
              "      <td>9</td>\n",
              "      <td>3</td>\n",
              "    </tr>\n",
              "    <tr>\n",
              "      <th>4</th>\n",
              "      <td>10</td>\n",
              "      <td>3</td>\n",
              "    </tr>\n",
              "  </tbody>\n",
              "</table>\n",
              "</div>"
            ],
            "text/plain": [
              "   ID  Class\n",
              "0   4      5\n",
              "1   7      3\n",
              "2   8      5\n",
              "3   9      3\n",
              "4  10      3"
            ]
          },
          "metadata": {
            "tags": []
          },
          "execution_count": 57
        }
      ]
    },
    {
      "cell_type": "code",
      "metadata": {
        "colab": {
          "base_uri": "https://localhost:8080/"
        },
        "id": "s6WuuJCkXsu0",
        "outputId": "5817faf0-d193-4095-9bed-c3f7b4e7b918"
      },
      "source": [
        "# F1 Score au niveau objet\n",
        "df_test = pd.read_csv('Test_ID_Label.csv') # Ce fichier vous sera fourni le 12 Novembre\n",
        "f1_score(df_test.Class,df.Class,average='weighted')"
      ],
      "execution_count": null,
      "outputs": [
        {
          "output_type": "execute_result",
          "data": {
            "text/plain": [
              "0.8689058383959432"
            ]
          },
          "metadata": {
            "tags": []
          },
          "execution_count": 58
        }
      ]
    },
    {
      "cell_type": "markdown",
      "metadata": {
        "id": "fWJuC_Mh2rD-"
      },
      "source": [
        "# **Segmentation**"
      ]
    },
    {
      "cell_type": "code",
      "metadata": {
        "colab": {
          "base_uri": "https://localhost:8080/"
        },
        "id": "Teu0hQFM2pry",
        "outputId": "55a2a7fd-2deb-438d-fab9-40a11e956654"
      },
      "source": [
        "!ls Images"
      ],
      "execution_count": null,
      "outputs": [
        {
          "output_type": "stream",
          "text": [
            "20160322_S2A.tif  20160730_S2A.tif  20161018_S2A.tif  20161217_S2A.tif\n",
            "20160710_S2A.tif  20160928_S2A.tif  20161127_S2A.tif  20161227_S2A.tif\n"
          ],
          "name": "stdout"
        }
      ]
    }
  ]
}
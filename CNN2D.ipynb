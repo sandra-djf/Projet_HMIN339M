{
  "nbformat": 4,
  "nbformat_minor": 0,
  "metadata": {
    "colab": {
      "name": "CNN2D.ipynb",
      "provenance": [],
      "collapsed_sections": []
    },
    "kernelspec": {
      "display_name": "Python 3",
      "name": "python3"
    },
    "accelerator": "GPU"
  },
  "cells": [
    {
      "cell_type": "markdown",
      "metadata": {
        "id": "_pJr2QX16y0C"
      },
      "source": [
        "# **Préparer les données**"
      ]
    },
    {
      "cell_type": "markdown",
      "metadata": {
        "id": "vI65qFkLjyEY"
      },
      "source": [
        "### **Monter le dossier dans Drive**"
      ]
    },
    {
      "cell_type": "code",
      "metadata": {
        "id": "DVb5j_uZDvRs",
        "colab": {
          "base_uri": "https://localhost:8080/"
        },
        "outputId": "60e6dc76-720f-491a-eb1a-9b8ae31bec1f"
      },
      "source": [
        "from google.colab import drive\n",
        "drive.mount('/content/drive')"
      ],
      "execution_count": 1,
      "outputs": [
        {
          "output_type": "stream",
          "text": [
            "Mounted at /content/drive\n"
          ],
          "name": "stdout"
        }
      ]
    },
    {
      "cell_type": "code",
      "metadata": {
        "id": "9DcknGEsEkrE"
      },
      "source": [
        "import os\n",
        "os.chdir('/content/drive/My Drive/Projet_HMIN339M')"
      ],
      "execution_count": 2,
      "outputs": []
    },
    {
      "cell_type": "markdown",
      "metadata": {
        "id": "uEIWGiCq_s3g"
      },
      "source": [
        "### **Importation de quelques librairies**"
      ]
    },
    {
      "cell_type": "code",
      "metadata": {
        "id": "0HzSSHr5ooul"
      },
      "source": [
        "import numpy as np\n",
        "import tifffile\n",
        "import glob\n",
        "from pathlib import Path\n",
        "import pandas as pd"
      ],
      "execution_count": 3,
      "outputs": []
    },
    {
      "cell_type": "markdown",
      "metadata": {
        "id": "wVrWVyvfkBDD"
      },
      "source": [
        "### **Lecture de la série temporelle d'images et Normalisation par bande sur la série temporelle entre 0 et 1** "
      ]
    },
    {
      "cell_type": "markdown",
      "metadata": {
        "id": "95CB2_IllQFu"
      },
      "source": [
        "#### **Lecture des images et création des séries temporelles de bandes**"
      ]
    },
    {
      "cell_type": "code",
      "metadata": {
        "id": "Ut67k4u3Vezu",
        "colab": {
          "base_uri": "https://localhost:8080/"
        },
        "outputId": "21667851-497c-4c5c-f584-90410e9a7fc3"
      },
      "source": [
        "# Récupérer la liste des images\n",
        "lst_img = glob.glob ('Images/*.tif')\n",
        "lst_img.sort() # ordonner par date si ce n'est pas le cas\n",
        "lst_img"
      ],
      "execution_count": 4,
      "outputs": [
        {
          "output_type": "execute_result",
          "data": {
            "text/plain": [
              "['Images/20160322_S2A.tif',\n",
              " 'Images/20160710_S2A.tif',\n",
              " 'Images/20160730_S2A.tif',\n",
              " 'Images/20160928_S2A.tif',\n",
              " 'Images/20161018_S2A.tif',\n",
              " 'Images/20161127_S2A.tif',\n",
              " 'Images/20161217_S2A.tif',\n",
              " 'Images/20161227_S2A.tif']"
            ]
          },
          "metadata": {
            "tags": []
          },
          "execution_count": 4
        }
      ]
    },
    {
      "cell_type": "code",
      "metadata": {
        "id": "GSpMjDMNa-Bg",
        "colab": {
          "base_uri": "https://localhost:8080/"
        },
        "outputId": "166aa85f-8c50-455b-9427-dc7699189482"
      },
      "source": [
        "# Lecture de la bande du rouge (B1) pour toute la série temporelle\n",
        "red_ts = []\n",
        "for img in lst_img:\n",
        "  red_ts.append( tifffile.imread(img)[:,:,0]) # Rouge\n",
        "red_ts = np.dstack(red_ts)\n",
        "red_ts.shape"
      ],
      "execution_count": 5,
      "outputs": [
        {
          "output_type": "execute_result",
          "data": {
            "text/plain": [
              "(5412, 5592, 8)"
            ]
          },
          "metadata": {
            "tags": []
          },
          "execution_count": 5
        }
      ]
    },
    {
      "cell_type": "code",
      "metadata": {
        "id": "X97WsP3kcTL1",
        "colab": {
          "base_uri": "https://localhost:8080/"
        },
        "outputId": "c5b4c510-b654-428d-b5ab-1ed6c933c7ea"
      },
      "source": [
        "# Lecture de la bande du vert (B2) pour toute la série temporelle\n",
        "green_ts = []\n",
        "for img in lst_img:\n",
        "  green_ts.append( tifffile.imread(img)[:,:,1]) # Vert\n",
        "green_ts = np.dstack(green_ts)\n",
        "green_ts.shape"
      ],
      "execution_count": 6,
      "outputs": [
        {
          "output_type": "execute_result",
          "data": {
            "text/plain": [
              "(5412, 5592, 8)"
            ]
          },
          "metadata": {
            "tags": []
          },
          "execution_count": 6
        }
      ]
    },
    {
      "cell_type": "code",
      "metadata": {
        "id": "t1GBdVCGcbcK",
        "colab": {
          "base_uri": "https://localhost:8080/"
        },
        "outputId": "1273e505-8d51-4f3f-a224-e171752cc832"
      },
      "source": [
        "# Lecture de la bande du bleu (B3) pour toute la série temporelle\n",
        "blue_ts = []\n",
        "for img in lst_img:\n",
        "  blue_ts.append( tifffile.imread(img)[:,:,2]) # Bleu\n",
        "blue_ts = np.dstack(blue_ts)\n",
        "blue_ts.shape"
      ],
      "execution_count": 7,
      "outputs": [
        {
          "output_type": "execute_result",
          "data": {
            "text/plain": [
              "(5412, 5592, 8)"
            ]
          },
          "metadata": {
            "tags": []
          },
          "execution_count": 7
        }
      ]
    },
    {
      "cell_type": "code",
      "metadata": {
        "id": "fDd4BjV-cbz8",
        "colab": {
          "base_uri": "https://localhost:8080/"
        },
        "outputId": "d031cc76-ef3a-4658-887f-a70e1f9c7363"
      },
      "source": [
        "# Lecture de la bande du proche infrarouge (B4) pour toute la série temporelle\n",
        "nir_ts = []\n",
        "for img in lst_img:\n",
        "  nir_ts.append( tifffile.imread(img)[:,:,3]) # Proche infra rouge\n",
        "nir_ts = np.dstack(nir_ts)\n",
        "nir_ts.shape"
      ],
      "execution_count": 8,
      "outputs": [
        {
          "output_type": "execute_result",
          "data": {
            "text/plain": [
              "(5412, 5592, 8)"
            ]
          },
          "metadata": {
            "tags": []
          },
          "execution_count": 8
        }
      ]
    },
    {
      "cell_type": "code",
      "metadata": {
        "id": "bJVBYJxuuJDA",
        "colab": {
          "base_uri": "https://localhost:8080/"
        },
        "outputId": "0ffbd4d0-affa-4ea4-a246-9e9629e9f58b"
      },
      "source": [
        "# Calculer des indices spectraux comme le NDVI\n",
        "ndvi_ts = np.where(nir_ts + red_ts == 0, 0, (nir_ts - red_ts) / (nir_ts + red_ts)).astype(np.float32)\n",
        "ndvi_ts.shape, ndvi_ts.dtype, ndvi_ts.min(), ndvi_ts.max()"
      ],
      "execution_count": 9,
      "outputs": [
        {
          "output_type": "execute_result",
          "data": {
            "text/plain": [
              "((5412, 5592, 8), dtype('float32'), -0.9994976, 0.99976385)"
            ]
          },
          "metadata": {
            "tags": []
          },
          "execution_count": 9
        }
      ]
    },
    {
      "cell_type": "markdown",
      "metadata": {
        "id": "rOOWsKQHlHvS"
      },
      "source": [
        "#### **Normalisation en utilisant le min et le max des bandes sur les séries temporelles**"
      ]
    },
    {
      "cell_type": "code",
      "metadata": {
        "id": "IoOk5-UccvSe",
        "colab": {
          "base_uri": "https://localhost:8080/"
        },
        "outputId": "4dec5959-624c-48e1-ee5d-c4218502295b"
      },
      "source": [
        "# Normalisation des séries temporelles par bande: Rouge\n",
        "red_ts_norm = ( red_ts - red_ts.min() ) / ( red_ts.max() - red_ts.min() ).astype(np.float32)\n",
        "red_ts_norm.min() , red_ts_norm.max(), red_ts_norm.shape, red_ts_norm.dtype"
      ],
      "execution_count": 10,
      "outputs": [
        {
          "output_type": "execute_result",
          "data": {
            "text/plain": [
              "(0.0, 1.0, (5412, 5592, 8), dtype('float32'))"
            ]
          },
          "metadata": {
            "tags": []
          },
          "execution_count": 10
        }
      ]
    },
    {
      "cell_type": "code",
      "metadata": {
        "id": "-c1DlhJTe_6h",
        "colab": {
          "base_uri": "https://localhost:8080/"
        },
        "outputId": "e1e58b76-e4d6-41fc-d299-6dd18ae1afcd"
      },
      "source": [
        "# Normalisation des séries temporelles par bande: Vert\n",
        "green_ts_norm = ( green_ts - green_ts.min() ) / ( green_ts.max() - green_ts.min() ).astype(np.float32)\n",
        "green_ts = None\n",
        "green_ts_norm.min() , green_ts_norm.max(), green_ts_norm.shape, green_ts_norm.dtype"
      ],
      "execution_count": 11,
      "outputs": [
        {
          "output_type": "execute_result",
          "data": {
            "text/plain": [
              "(0.0, 1.0, (5412, 5592, 8), dtype('float32'))"
            ]
          },
          "metadata": {
            "tags": []
          },
          "execution_count": 11
        }
      ]
    },
    {
      "cell_type": "code",
      "metadata": {
        "id": "hFNAbyIyfAJT",
        "colab": {
          "base_uri": "https://localhost:8080/"
        },
        "outputId": "27a436cd-92aa-48a9-ef75-8badf9093a96"
      },
      "source": [
        "# Normalisation des séries temporelles par bande: Bleu\n",
        "blue_ts_norm = ( blue_ts - blue_ts.min() ) / ( blue_ts.max() - blue_ts.min() ).astype(np.float32)\n",
        "blue_ts = None\n",
        "blue_ts_norm.min() , blue_ts_norm.max(), blue_ts_norm.shape, blue_ts_norm.dtype"
      ],
      "execution_count": 12,
      "outputs": [
        {
          "output_type": "execute_result",
          "data": {
            "text/plain": [
              "(0.0, 1.0, (5412, 5592, 8), dtype('float32'))"
            ]
          },
          "metadata": {
            "tags": []
          },
          "execution_count": 12
        }
      ]
    },
    {
      "cell_type": "code",
      "metadata": {
        "id": "epIhb6brfAUK",
        "colab": {
          "base_uri": "https://localhost:8080/"
        },
        "outputId": "a9411623-3bc9-407f-d77c-17bb9aae25a6"
      },
      "source": [
        "# Normalisation des séries temporelles par bande: Proche infrarouge\n",
        "nir_ts_norm = ( nir_ts - nir_ts.min() ) / ( nir_ts.max() - nir_ts.min() ).astype(np.float32)\n",
        "nir_ts_norm.min() , nir_ts_norm.max(), nir_ts_norm.shape, nir_ts_norm.dtype"
      ],
      "execution_count": 13,
      "outputs": [
        {
          "output_type": "execute_result",
          "data": {
            "text/plain": [
              "(0.0, 1.0, (5412, 5592, 8), dtype('float32'))"
            ]
          },
          "metadata": {
            "tags": []
          },
          "execution_count": 13
        }
      ]
    },
    {
      "cell_type": "code",
      "metadata": {
        "id": "tAtrTnz_uQ2Y",
        "colab": {
          "base_uri": "https://localhost:8080/"
        },
        "outputId": "18b24d01-cd82-4f2a-b394-f5c8c88e731a"
      },
      "source": [
        "# Normaliser les indices spectraux que vous aurez calculé\n",
        "ndvi_ts_norm = ( ndvi_ts - ndvi_ts.min() ) / ( ndvi_ts.max() - ndvi_ts.min( )).astype(np.float32)\n",
        "ndvi_ts_norm.min(), ndvi_ts_norm.max(), ndvi_ts_norm.shape, ndvi_ts_norm.dtype"
      ],
      "execution_count": 14,
      "outputs": [
        {
          "output_type": "execute_result",
          "data": {
            "text/plain": [
              "(0.0, 1.0, (5412, 5592, 8), dtype('float32'))"
            ]
          },
          "metadata": {
            "tags": []
          },
          "execution_count": 14
        }
      ]
    },
    {
      "cell_type": "markdown",
      "metadata": {
        "id": "YDQUbh3Nkpn7"
      },
      "source": [
        "### **Lecture de la vérité terrain et récupération des positions des pixels du jeu d'entraînement et de test**"
      ]
    },
    {
      "cell_type": "markdown",
      "metadata": {
        "id": "V_mXEBEKmuw7"
      },
      "source": [
        "#### **Lecture des fichiers de la vérité terrain**"
      ]
    },
    {
      "cell_type": "code",
      "metadata": {
        "id": "NBCQhbMUoBJU",
        "colab": {
          "base_uri": "https://localhost:8080/"
        },
        "outputId": "2940594a-435e-46bd-e9bc-87e3eec45863"
      },
      "source": [
        "# Lire le fichier correspondant aux classes d'occupation du sol\n",
        "gt_class = tifffile.imread ('Verite_terrain/DORDOGNE_VT_CLASS.tif')\n",
        "gt_class.shape , gt_class.dtype"
      ],
      "execution_count": 15,
      "outputs": [
        {
          "output_type": "execute_result",
          "data": {
            "text/plain": [
              "((5412, 5592), dtype('uint8'))"
            ]
          },
          "metadata": {
            "tags": []
          },
          "execution_count": 15
        }
      ]
    },
    {
      "cell_type": "code",
      "metadata": {
        "id": "JLnTil_psMLW",
        "colab": {
          "base_uri": "https://localhost:8080/"
        },
        "outputId": "6dd14d8f-71e7-4f1a-bcaa-77e5bad1ad5b"
      },
      "source": [
        "# Lire le fichier correspondant aux identifiants\n",
        "gt_id = tifffile.imread ('Verite_terrain/DORDOGNE_VT_ID.tif')\n",
        "gt_id.shape, gt_id.dtype"
      ],
      "execution_count": 16,
      "outputs": [
        {
          "output_type": "execute_result",
          "data": {
            "text/plain": [
              "((5412, 5592), dtype('int16'))"
            ]
          },
          "metadata": {
            "tags": []
          },
          "execution_count": 16
        }
      ]
    },
    {
      "cell_type": "markdown",
      "metadata": {
        "id": "RjyGTdRpm5ii"
      },
      "source": [
        "#### **Récupération des positions des pixels d'entraînement et de test**"
      ]
    },
    {
      "cell_type": "code",
      "metadata": {
        "id": "yosWk1_BgiLE"
      },
      "source": [
        "# Récupérer les positions des échantillons d'entraînement et test\n",
        "idx_train_ = np.where ( (gt_id!=0) & (gt_class!=0) )\n",
        "idx_test = np.where ( (gt_id!=0) & (gt_class==0) )"
      ],
      "execution_count": 17,
      "outputs": []
    },
    {
      "cell_type": "code",
      "metadata": {
        "id": "uRX0xj4zjvVY",
        "colab": {
          "base_uri": "https://localhost:8080/",
          "height": 35
        },
        "outputId": "ca0d9348-3ad7-4ec5-a304-f8f8a8f26ca4"
      },
      "source": [
        "# Lecture des identifiants et labels des échantillons d'entraînement\n",
        "train_id_ = gt_id[idx_train_]\n",
        "train_y_ = gt_class[idx_train_]\n",
        "f'échantillons d\\'entrainement: {train_y_.shape[0]} pixels, {len(np.unique(train_id_))} objets'"
      ],
      "execution_count": 18,
      "outputs": [
        {
          "output_type": "execute_result",
          "data": {
            "application/vnd.google.colaboratory.intrinsic+json": {
              "type": "string"
            },
            "text/plain": [
              "\"échantillons d'entrainement: 605431 pixels, 1859 objets\""
            ]
          },
          "metadata": {
            "tags": []
          },
          "execution_count": 18
        }
      ]
    },
    {
      "cell_type": "code",
      "metadata": {
        "id": "kiPCaHQ2jtZu",
        "colab": {
          "base_uri": "https://localhost:8080/",
          "height": 35
        },
        "outputId": "8a4bc049-d8f0-49bc-9f1e-8a88a94aaef8"
      },
      "source": [
        "# Lecture des identifiants et labels des échantillons de test\n",
        "test_id = gt_id[idx_test]\n",
        "f'échantillons test: {test_id.shape[0]} pixels, {len(np.unique(test_id))} objets'"
      ],
      "execution_count": 19,
      "outputs": [
        {
          "output_type": "execute_result",
          "data": {
            "application/vnd.google.colaboratory.intrinsic+json": {
              "type": "string"
            },
            "text/plain": [
              "'échantillons test: 207485 pixels, 800 objets'"
            ]
          },
          "metadata": {
            "tags": []
          },
          "execution_count": 19
        }
      ]
    },
    {
      "cell_type": "markdown",
      "metadata": {
        "id": "hNFyNkc5oc6z"
      },
      "source": [
        "### **Création d'un jeu de validation en prenant une partie du jeu d'entraînement**\n",
        "Pour cela, on s'assure de faire la division en mettant les pixels ayant le même identifiant dans un seul et même lot"
      ]
    },
    {
      "cell_type": "code",
      "metadata": {
        "id": "2hI-jAEqrac1",
        "colab": {
          "base_uri": "https://localhost:8080/",
          "height": 204
        },
        "outputId": "8a4190b3-df8a-4e78-9d9b-270ed1c11ee6"
      },
      "source": [
        "# Dataframe pour créer un jeu de validation\n",
        "samples = pd.DataFrame({'ID':train_id_,'Class':train_y_})\n",
        "samples = samples.drop_duplicates(keep='first')\n",
        "samples.head(5)"
      ],
      "execution_count": 20,
      "outputs": [
        {
          "output_type": "execute_result",
          "data": {
            "text/html": [
              "<div>\n",
              "<style scoped>\n",
              "    .dataframe tbody tr th:only-of-type {\n",
              "        vertical-align: middle;\n",
              "    }\n",
              "\n",
              "    .dataframe tbody tr th {\n",
              "        vertical-align: top;\n",
              "    }\n",
              "\n",
              "    .dataframe thead th {\n",
              "        text-align: right;\n",
              "    }\n",
              "</style>\n",
              "<table border=\"1\" class=\"dataframe\">\n",
              "  <thead>\n",
              "    <tr style=\"text-align: right;\">\n",
              "      <th></th>\n",
              "      <th>ID</th>\n",
              "      <th>Class</th>\n",
              "    </tr>\n",
              "  </thead>\n",
              "  <tbody>\n",
              "    <tr>\n",
              "      <th>0</th>\n",
              "      <td>422</td>\n",
              "      <td>2</td>\n",
              "    </tr>\n",
              "    <tr>\n",
              "      <th>4</th>\n",
              "      <td>2677</td>\n",
              "      <td>5</td>\n",
              "    </tr>\n",
              "    <tr>\n",
              "      <th>5</th>\n",
              "      <td>201</td>\n",
              "      <td>3</td>\n",
              "    </tr>\n",
              "    <tr>\n",
              "      <th>29</th>\n",
              "      <td>423</td>\n",
              "      <td>2</td>\n",
              "    </tr>\n",
              "    <tr>\n",
              "      <th>100</th>\n",
              "      <td>496</td>\n",
              "      <td>2</td>\n",
              "    </tr>\n",
              "  </tbody>\n",
              "</table>\n",
              "</div>"
            ],
            "text/plain": [
              "       ID  Class\n",
              "0     422      2\n",
              "4    2677      5\n",
              "5     201      3\n",
              "29    423      2\n",
              "100   496      2"
            ]
          },
          "metadata": {
            "tags": []
          },
          "execution_count": 20
        }
      ]
    },
    {
      "cell_type": "code",
      "metadata": {
        "id": "894SPjgRs_S7",
        "colab": {
          "base_uri": "https://localhost:8080/"
        },
        "outputId": "57cfe86b-008f-44bc-d8d9-10ae223fa555"
      },
      "source": [
        "# 30% des échantillons de chaque classe affecté au jeu de validation\n",
        "train_id = []\n",
        "valid_id = []\n",
        "for c in np.unique(samples.Class.values) :\n",
        "    samples_c = samples.loc[samples.Class==c]\n",
        "    samples_frac = samples_c.sample(frac=0.7,random_state=1234) \n",
        "    train_id.extend( samples_frac.ID.values )\n",
        "    valid_id.extend( samples_c.drop(samples_frac.index).ID.values )\n",
        "len(train_id),len(valid_id)"
      ],
      "execution_count": 21,
      "outputs": [
        {
          "output_type": "execute_result",
          "data": {
            "text/plain": [
              "(1301, 558)"
            ]
          },
          "metadata": {
            "tags": []
          },
          "execution_count": 21
        }
      ]
    },
    {
      "cell_type": "markdown",
      "metadata": {
        "id": "6J609q3BrKRk"
      },
      "source": [
        "### **Récupération des positions des nouveaux échantillons d'entraînement et de validation**"
      ]
    },
    {
      "cell_type": "code",
      "metadata": {
        "id": "WmVBWpvFdjlk"
      },
      "source": [
        "# Récupérer les positions des nouveaux échantillons d'entraînement et validation\n",
        "idx_train = np.where ( np.isin(gt_id,train_id) )\n",
        "idx_valid = np.where ( np.isin(gt_id,valid_id) )"
      ],
      "execution_count": 22,
      "outputs": []
    },
    {
      "cell_type": "markdown",
      "metadata": {
        "id": "3U6m2R-UwEFK"
      },
      "source": [
        "### **Lire finalement les labels correspondant aux nouveaux échantillons d'entraînement, de validation et test**"
      ]
    },
    {
      "cell_type": "code",
      "metadata": {
        "id": "vF_PEzn3vQzT",
        "colab": {
          "base_uri": "https://localhost:8080/"
        },
        "outputId": "5af50f54-429e-432b-e4c1-ded0ea896e1f"
      },
      "source": [
        "train_y = gt_class[idx_train]\n",
        "valid_y = gt_class[idx_valid]\n",
        "test_y = gt_class[idx_test]\n",
        "train_y.shape, valid_y.shape, test_y.shape"
      ],
      "execution_count": 23,
      "outputs": [
        {
          "output_type": "execute_result",
          "data": {
            "text/plain": [
              "((451962,), (153469,), (207485,))"
            ]
          },
          "metadata": {
            "tags": []
          },
          "execution_count": 23
        }
      ]
    },
    {
      "cell_type": "markdown",
      "metadata": {
        "id": "lAt4KCeZR1Os"
      },
      "source": [
        "### **Lire finalement les identifiants correspondant aux nouveaux échantillons d'entraînement, de validation et test**"
      ]
    },
    {
      "cell_type": "code",
      "metadata": {
        "id": "m3SiC0eVRvtA",
        "colab": {
          "base_uri": "https://localhost:8080/"
        },
        "outputId": "e93ea640-4189-4d87-d4d2-d7096f27c765"
      },
      "source": [
        "# utile pour les aggrégations au niveau objet\n",
        "# train_id_array = gt_id[idx_train] # Pas vraiment nécessaire pour les échantillons d'entraînements\n",
        "valid_id_array = gt_id[idx_valid]\n",
        "test_id_array = gt_id[idx_test]\n",
        "#train_id_array.shape, \n",
        "valid_id_array.shape, test_id_array.shape"
      ],
      "execution_count": 24,
      "outputs": [
        {
          "output_type": "execute_result",
          "data": {
            "text/plain": [
              "((153469,), (207485,))"
            ]
          },
          "metadata": {
            "tags": []
          },
          "execution_count": 24
        }
      ]
    },
    {
      "cell_type": "markdown",
      "metadata": {
        "id": "xa-8J5r9r3KI"
      },
      "source": [
        "### **Lire finalement les valeurs des séries temporelles correspondant aux nouveaux échantillons d'entraînement, de validation et test**"
      ]
    },
    {
      "cell_type": "markdown",
      "metadata": {
        "id": "PXS90K1Vsg4H"
      },
      "source": [
        "#### **Pour un Perceptron multi-couche**"
      ]
    },
    {
      "cell_type": "code",
      "metadata": {
        "id": "TwjGd9exkFia",
        "colab": {
          "base_uri": "https://localhost:8080/"
        },
        "outputId": "7b36fdac-9cc1-471d-b9d9-002b5fa6f01a"
      },
      "source": [
        "# Un perceptron multi-couche ou un algo classique de machine learning requiert un tableau 2D du type \n",
        "# (nombre d'échantillons, nombre de features=(nombre de dates x nombre de bandes))\n",
        "# Vous pouvez rajouter au stack les indices spectraux normalisés que vous aurez calculé\n",
        "\n",
        "train_X = np.column_stack ( ( blue_ts_norm[idx_train], green_ts_norm[idx_train], red_ts_norm[idx_train], nir_ts_norm[idx_train] ) )\n",
        "\n",
        "valid_X = np.column_stack ( ( blue_ts_norm[idx_valid], green_ts_norm[idx_valid], red_ts_norm[idx_valid], nir_ts_norm[idx_valid] ) )\n",
        "\n",
        "test_X = np.column_stack ( ( blue_ts_norm[idx_test], green_ts_norm[idx_test], red_ts_norm[idx_test], nir_ts_norm[idx_test] ) )\n",
        "\n",
        "train_X.shape, valid_X.shape, test_X.shape"
      ],
      "execution_count": 25,
      "outputs": [
        {
          "output_type": "execute_result",
          "data": {
            "text/plain": [
              "((451962, 32), (153469, 32), (207485, 32))"
            ]
          },
          "metadata": {
            "tags": []
          },
          "execution_count": 25
        }
      ]
    },
    {
      "cell_type": "markdown",
      "metadata": {
        "id": "oRTUKBQBwd1V"
      },
      "source": [
        "#### **Pour un CNN2D ou spatial avec exemple d'imagettes ou patchs de 5 sur 5 en largeur et hauteur** \n",
        "\n",
        "Des patchs de 9 sur 9 sur l'ensemble des échantillons sont un peu trop gourmands en RAM pour Google Colab"
      ]
    },
    {
      "cell_type": "code",
      "metadata": {
        "id": "rBZ2s4zGwc8C",
        "colab": {
          "base_uri": "https://localhost:8080/"
        },
        "outputId": "89b9349c-9227-464f-cd97-59492d3fb1b9"
      },
      "source": [
        "# Un CNN 2D ou spatial requiert un tableau 3D du type (nombre d'échantillons, largeur, hauteur, nombre de features= (nombre de dates x nombre de bandes) )\n",
        "# Vous pouvez rajouter à la liste des bandes les indices spectraux normalisés que vous aurez calculé\n",
        "\n",
        "# Training\n",
        "# 1- précaution pour ne pas considérer les pixels dont on ne peut extraire des patchs car trop près du bord\n",
        "idx_col = idx_train[0]\n",
        "idx_row = idx_train[1]\n",
        "coords = np.column_stack((idx_col,idx_row))\n",
        "coords = coords[np.where( ( np.isin(coords[:,0],np.arange(2,blue_ts_norm.shape[0]-2,1)) ) & ( np.isin(coords[:,1],np.arange(2,blue_ts_norm.shape[1]-2,1)) ) ) ]\n",
        "# len(coords)\n",
        "# 2- créer un tableau avec les patchs\n",
        "train_X = []\n",
        "for coord in coords :\n",
        "  lst = []\n",
        "  for band in [blue_ts_norm,green_ts_norm,red_ts_norm,nir_ts_norm]:\n",
        "    lst.append( band[coord[0]-2:coord[0]+3,coord[1]-2:coord[1]+3] )\n",
        "  train_X.append(np.stack(lst,axis=-1).reshape(5,5,-1))\n",
        "train_X = np.stack(train_X,axis=0)\n",
        "train_X.shape"
      ],
      "execution_count": 26,
      "outputs": [
        {
          "output_type": "execute_result",
          "data": {
            "text/plain": [
              "(451962, 5, 5, 32)"
            ]
          },
          "metadata": {
            "tags": []
          },
          "execution_count": 26
        }
      ]
    },
    {
      "cell_type": "code",
      "metadata": {
        "id": "RhLlxu5j0O72",
        "colab": {
          "base_uri": "https://localhost:8080/"
        },
        "outputId": "fba9e984-155d-4eac-878f-0fe9b3776fe1"
      },
      "source": [
        "# Validation\n",
        "# 1- précaution pour ne pas considérer les pixels dont on ne peut extraire des patchs car trop près du bord\n",
        "idx_col = idx_valid[0]\n",
        "idx_row = idx_valid[1]\n",
        "coords = np.column_stack((idx_col,idx_row))\n",
        "coords = coords[np.where( ( np.isin(coords[:,0],np.arange(2,blue_ts_norm.shape[0]-2,1)) ) & ( np.isin(coords[:,1],np.arange(2,blue_ts_norm.shape[1]-2,1)) ) ) ]\n",
        "# len(coords)\n",
        "# 2- créer un tableau avec les patchs\n",
        "valid_X = []\n",
        "for coord in coords :\n",
        "  lst = []\n",
        "  for band in [blue_ts_norm,green_ts_norm,red_ts_norm,nir_ts_norm]:\n",
        "    lst.append( band[coord[0]-2:coord[0]+3,coord[1]-2:coord[1]+3] )\n",
        "  valid_X.append(np.stack(lst,axis=-1).reshape(5,5,-1))\n",
        "valid_X = np.stack(valid_X,axis=0)\n",
        "valid_X.shape"
      ],
      "execution_count": 27,
      "outputs": [
        {
          "output_type": "execute_result",
          "data": {
            "text/plain": [
              "(153469, 5, 5, 32)"
            ]
          },
          "metadata": {
            "tags": []
          },
          "execution_count": 27
        }
      ]
    },
    {
      "cell_type": "code",
      "metadata": {
        "id": "0VR_nM9W0QkB",
        "colab": {
          "base_uri": "https://localhost:8080/"
        },
        "outputId": "681f2c95-9312-4387-a00f-e3fe8034fff5"
      },
      "source": [
        "# Test\n",
        "# 1- précaution pour ne pas considérer les pixels dont on ne peut extraire des patchs car trop près du bord\n",
        "idx_col = idx_test[0]\n",
        "idx_row = idx_test[1]\n",
        "coords = np.column_stack((idx_col,idx_row))\n",
        "coords = coords[np.where( ( np.isin(coords[:,0],np.arange(2,blue_ts_norm.shape[0]-2,1)) ) & ( np.isin(coords[:,1],np.arange(2,blue_ts_norm.shape[1]-2,1)) ) ) ]\n",
        "# len(coords)\n",
        "# 2- créer un tableau avec les patchs\n",
        "test_X = []\n",
        "for coord in coords :\n",
        "  lst = []\n",
        "  for band in [blue_ts_norm,green_ts_norm,red_ts_norm,nir_ts_norm]:\n",
        "    lst.append( band[coord[0]-2:coord[0]+3,coord[1]-2:coord[1]+3] )\n",
        "  test_X.append(np.stack(lst,axis=-1).reshape(5,5,-1))\n",
        "test_X = np.stack(test_X,axis=0)\n",
        "test_X.shape"
      ],
      "execution_count": 28,
      "outputs": [
        {
          "output_type": "execute_result",
          "data": {
            "text/plain": [
              "(207485, 5, 5, 32)"
            ]
          },
          "metadata": {
            "tags": []
          },
          "execution_count": 28
        }
      ]
    },
    {
      "cell_type": "markdown",
      "metadata": {
        "id": "oiqM_sYRt5IL"
      },
      "source": [
        "### **Sauvegarde des données d'entraînement, de validation et test en fichier numpy**"
      ]
    },
    {
      "cell_type": "code",
      "metadata": {
        "id": "dPiv0fo3uJ8s"
      },
      "source": [
        "# Ainsi de cette façon vous pourrez continuer directement avec la création des modèles et en libérant la mémoire de tout ce qui a été fait précédemment\n",
        "Path('data').mkdir(exist_ok=True, parents=True)\n",
        "np.save('data/CNN2D/train_X.npy',train_X)\n",
        "np.save('data/CNN2D/train_y.npy',train_y)\n",
        "# np.save('data/train_id.npy',train_id_array)\n",
        "\n",
        "np.save('data/CNN2D/valid_X.npy',valid_X)\n",
        "np.save('data/CNN2D/valid_y.npy',valid_y)\n",
        "np.save('data/CNN2D/valid_id.npy',valid_id_array)\n",
        "\n",
        "np.save('data/CNN2D/test_X.npy',test_X)\n",
        "np.save('data/CNN2D/test_id.npy',test_id_array)"
      ],
      "execution_count": 30,
      "outputs": []
    },
    {
      "cell_type": "markdown",
      "metadata": {
        "id": "TOM6_mv--8IX"
      },
      "source": [
        "Videz la mémoire en redémarrant l'environnement d'exécution"
      ]
    },
    {
      "cell_type": "markdown",
      "metadata": {
        "id": "qv0jts6w6nxr"
      },
      "source": [
        "# **Votre modèle de deep learning**"
      ]
    },
    {
      "cell_type": "markdown",
      "metadata": {
        "id": "wmBRjg3QFrLe"
      },
      "source": [
        "### **Remontage de Drive et Importation de quelques librairies**"
      ]
    },
    {
      "cell_type": "code",
      "metadata": {
        "id": "rJUrD-aVMaN0",
        "colab": {
          "base_uri": "https://localhost:8080/"
        },
        "outputId": "ae6b7b98-0438-42b1-b47b-d3d1f316334c"
      },
      "source": [
        "from google.colab import drive\n",
        "drive.mount('/content/drive')"
      ],
      "execution_count": 1,
      "outputs": [
        {
          "output_type": "stream",
          "text": [
            "Mounted at /content/drive\n"
          ],
          "name": "stdout"
        }
      ]
    },
    {
      "cell_type": "code",
      "metadata": {
        "id": "_K5Xk6WeALcH"
      },
      "source": [
        "import os\n",
        "os.chdir('/content/drive/My Drive/Projet_HMIN339M')\n",
        "import numpy as np\n",
        "import pandas as pd\n",
        "import tifffile\n",
        "from pathlib import Path\n",
        "from sklearn.metrics import f1_score, confusion_matrix\n",
        "from sklearn.preprocessing import LabelEncoder\n",
        "import tensorflow as tf\n",
        "from tensorflow.keras.layers import Input, Concatenate, Dense, Dropout, Activation, Flatten, Conv2D, Conv1D, GlobalAveragePooling1D, GlobalAveragePooling2D, BatchNormalization, Flatten, GRU\n",
        "from tensorflow.keras.models import Sequential\n",
        "from tensorflow.keras import Model\n",
        "import matplotlib.pyplot as plt\n",
        "%matplotlib inline"
      ],
      "execution_count": 2,
      "outputs": []
    },
    {
      "cell_type": "markdown",
      "metadata": {
        "id": "UlRFSn7f_yKx"
      },
      "source": [
        "### **Recharger les données d'entraînement, de validation et test en fichier numpy**"
      ]
    },
    {
      "cell_type": "code",
      "metadata": {
        "id": "CVzkEkQA-jM7",
        "colab": {
          "base_uri": "https://localhost:8080/"
        },
        "outputId": "f2560ee3-1db0-4b8a-feb4-ce00a0b285ed"
      },
      "source": [
        "# Recharger les données après avoir vidé la mémoire\n",
        "train_X = np.load('data/CNN2D/train_X.npy')\n",
        "train_y = np.load('data/CNN2D/train_y.npy')\n",
        "\n",
        "valid_X = np.load('data/CNN2D/valid_X.npy')\n",
        "valid_y = np.load('data/CNN2D/valid_y.npy')\n",
        "valid_id = np.load('data/CNN2D/valid_id.npy')\n",
        "\n",
        "test_X = np.load('data/CNN2D/test_X.npy')\n",
        "test_id = np.load('data/CNN2D/test_id.npy')\n",
        "train_X.shape, train_y.shape, valid_X.shape, valid_y.shape, valid_id.shape, test_X.shape, test_id.shape"
      ],
      "execution_count": 3,
      "outputs": [
        {
          "output_type": "execute_result",
          "data": {
            "text/plain": [
              "((451962, 5, 5, 32),\n",
              " (451962,),\n",
              " (153469, 5, 5, 32),\n",
              " (153469,),\n",
              " (153469,),\n",
              " (207485, 5, 5, 32),\n",
              " (207485,))"
            ]
          },
          "metadata": {
            "tags": []
          },
          "execution_count": 3
        }
      ]
    },
    {
      "cell_type": "markdown",
      "metadata": {
        "id": "K23T_c-EAj_z"
      },
      "source": [
        "### **Encoder les labels entre 0 et 4 de sorte à matcher les prédictions des réseaux de neurones**"
      ]
    },
    {
      "cell_type": "code",
      "metadata": {
        "id": "FY74aok1Arfi",
        "colab": {
          "base_uri": "https://localhost:8080/"
        },
        "outputId": "24924e88-8db2-490b-c64a-325844a0bc2f"
      },
      "source": [
        "encoder = LabelEncoder()\n",
        "encoder.fit(train_y)\n",
        "train_y_enc = encoder.transform(train_y)\n",
        "valid_y_enc = encoder.transform(valid_y)\n",
        "np.unique(train_y), np.unique(train_y_enc), np.unique(valid_y), np.unique(valid_y_enc)"
      ],
      "execution_count": 4,
      "outputs": [
        {
          "output_type": "execute_result",
          "data": {
            "text/plain": [
              "(array([1, 2, 3, 4, 5], dtype=uint8),\n",
              " array([0, 1, 2, 3, 4]),\n",
              " array([1, 2, 3, 4, 5], dtype=uint8),\n",
              " array([0, 1, 2, 3, 4]))"
            ]
          },
          "metadata": {
            "tags": []
          },
          "execution_count": 4
        }
      ]
    },
    {
      "cell_type": "markdown",
      "metadata": {
        "id": "GpH3oJPVE3uE"
      },
      "source": [
        "### **Définition séquentielle de votre modèle avec Keras**\n",
        "\n",
        "N'oubliez pas de spécifier l'input shape qui varie en fonction des types d'architectures, le nombre de neurones de la couche de sortie qui équivaut au nombre de classes que vous avez et de l'activer avec une fonction Softmax"
      ]
    },
    {
      "cell_type": "code",
      "metadata": {
        "id": "cvUdNqlKAu0X"
      },
      "source": [
        "from tensorflow.keras.layers import MaxPooling2D\n",
        "\n",
        "model = tf.keras.Sequential()\n",
        "\n",
        "\n",
        "model.add(Conv2D(256, (3, 3), activation='relu', input_shape=(5, 5, 32)))\n",
        "model.add(MaxPooling2D(pool_size=(2,2)))\n",
        "\n",
        "model.add(Conv2D(256, (1, 1), activation='relu'))\n",
        "model.add(MaxPooling2D(pool_size=(1,1)))\n",
        "\n",
        "model.add(Conv2D(256, (1, 1), activation='relu'))\n",
        "model.add(MaxPooling2D(pool_size=(1,1)))\n",
        " \n",
        "\n",
        "model.add(Dropout(0.3))\n",
        "model.add(Flatten())\n",
        "\n",
        "model.add(Dense(256, activation='relu'))\n",
        "model.add(Dropout(0.2))\n",
        "\n",
        "model.add(tf.keras.layers.Dense(5, activation='softmax'))"
      ],
      "execution_count": 5,
      "outputs": []
    },
    {
      "cell_type": "code",
      "metadata": {
        "id": "jhhSzQvSFALk",
        "colab": {
          "base_uri": "https://localhost:8080/"
        },
        "outputId": "ab930133-3df3-4b19-9958-88989865ba07"
      },
      "source": [
        "# Afficher votre modèle\n",
        "model.summary()"
      ],
      "execution_count": 6,
      "outputs": [
        {
          "output_type": "stream",
          "text": [
            "Model: \"sequential\"\n",
            "_________________________________________________________________\n",
            "Layer (type)                 Output Shape              Param #   \n",
            "=================================================================\n",
            "conv2d (Conv2D)              (None, 3, 3, 256)         73984     \n",
            "_________________________________________________________________\n",
            "max_pooling2d (MaxPooling2D) (None, 1, 1, 256)         0         \n",
            "_________________________________________________________________\n",
            "conv2d_1 (Conv2D)            (None, 1, 1, 256)         65792     \n",
            "_________________________________________________________________\n",
            "max_pooling2d_1 (MaxPooling2 (None, 1, 1, 256)         0         \n",
            "_________________________________________________________________\n",
            "conv2d_2 (Conv2D)            (None, 1, 1, 256)         65792     \n",
            "_________________________________________________________________\n",
            "max_pooling2d_2 (MaxPooling2 (None, 1, 1, 256)         0         \n",
            "_________________________________________________________________\n",
            "dropout (Dropout)            (None, 1, 1, 256)         0         \n",
            "_________________________________________________________________\n",
            "flatten (Flatten)            (None, 256)               0         \n",
            "_________________________________________________________________\n",
            "dense (Dense)                (None, 256)               65792     \n",
            "_________________________________________________________________\n",
            "dropout_1 (Dropout)          (None, 256)               0         \n",
            "_________________________________________________________________\n",
            "dense_1 (Dense)              (None, 5)                 1285      \n",
            "=================================================================\n",
            "Total params: 272,645\n",
            "Trainable params: 272,645\n",
            "Non-trainable params: 0\n",
            "_________________________________________________________________\n"
          ],
          "name": "stdout"
        }
      ]
    },
    {
      "cell_type": "code",
      "metadata": {
        "id": "_cGHVPi2Pi5H",
        "colab": {
          "base_uri": "https://localhost:8080/",
          "height": 1000
        },
        "outputId": "98b75302-cd84-4470-8b1b-7a3832e30b77"
      },
      "source": [
        "tf.keras.utils.plot_model(model,show_shapes=True)"
      ],
      "execution_count": 7,
      "outputs": [
        {
          "output_type": "execute_result",
          "data": {
            "image/png": "[encoded data removed]",
            "text/plain": [
              "<IPython.core.display.Image object>"
            ]
          },
          "metadata": {
            "tags": []
          },
          "execution_count": 7
        }
      ]
    },
    {
      "cell_type": "markdown",
      "metadata": {
        "id": "f2ksSpJGF1gP"
      },
      "source": [
        "### **Compiler votre modèle en définissant une fonction de côut, un optmiseur et une métrique**\n",
        "\n",
        "Dans le cas d'une classification multi-classe, votre fonction de coût est la cross entropy catégorique. $Adam$ est un bon optimiseur de départ pour vos projets. Ici vous pouvez surveiller la métrique $Accuracy$. Pour la fonction de coût (loss), je n'utilse pas l'argument $from\\_logits=True$ car j'ai déjà activé la couche de sortie avec une fonction Softmax"
      ]
    },
    {
      "cell_type": "code",
      "metadata": {
        "id": "qtwtaGndG7UN"
      },
      "source": [
        "model.compile(optimizer='adam',loss=tf.keras.losses.SparseCategoricalCrossentropy(), metrics=['acc'])"
      ],
      "execution_count": 8,
      "outputs": []
    },
    {
      "cell_type": "markdown",
      "metadata": {
        "id": "aLKCHopeIIet"
      },
      "source": [
        "### **Définir un callback pour sauver les poids de votre modèle sur les meilleures époque c'est à dire les moments où il s'améliorera sur le jeu de validation**"
      ]
    },
    {
      "cell_type": "code",
      "metadata": {
        "id": "X-_N87DhIH5N"
      },
      "source": [
        "Path('my_model').mkdir(exist_ok=True, parents=True)\n",
        "checkpointpath = os.path.join('my_model','model') # chemin où sauver le modèle\n",
        "callbacks = [tf.keras.callbacks.ModelCheckpoint(\n",
        "              checkpointpath,\n",
        "              verbose=1, # niveau de log\n",
        "              monitor='val_main_acc', # nom de la métrique à surveiller\n",
        "              save_best_only=True, # sauver uniquement le meilleur modèle\n",
        "              save_weights_only=True)] # sauver uniquement les poids"
      ],
      "execution_count": 9,
      "outputs": []
    },
    {
      "cell_type": "markdown",
      "metadata": {
        "id": "ozHZJ2CZH72X"
      },
      "source": [
        "### **Entraîner votre modèle pour un certain nombre d'époques**\n",
        "\n",
        "Le paramètre $validation\\_data$ vous permet de spécifier des données de validation et de votre le comportement de votre modèle sur un jeu indépendant dont il n'a pas la connaissance. \n",
        "\n",
        "La taille de batch ($batch\\_size$) correspond au nombre d'échantillons sur lesquels le modèle est entraîné à la fois sur une époque. Vous pouvez le mettre à (ex. 32, 64, 128, 256) et plus il est grand ce qui requiert d'avoir de la mémoire plus le temps d'exécution d'une époque sera court\n",
        "\n",
        "J'utilise les labels encodés entre 0 et 4 car la prédiction sur les distributions de probabilités du modèle est retournée avec un argmax"
      ]
    },
    {
      "cell_type": "code",
      "metadata": {
        "id": "8WpxHz3FJuJ6",
        "colab": {
          "base_uri": "https://localhost:8080/"
        },
        "outputId": "c13edb82-9596-4320-f349-82d1f7b6b8e0"
      },
      "source": [
        "BATCH_SIZE = 256\n",
        "EPOCHS = 100\n",
        "hist = model.fit (train_X, train_y_enc, validation_data=(valid_X,valid_y_enc), batch_size=BATCH_SIZE, epochs=EPOCHS, callbacks=callbacks)"
      ],
      "execution_count": 10,
      "outputs": [
        {
          "output_type": "stream",
          "text": [
            "Epoch 1/100\n",
            "1766/1766 [==============================] - ETA: 0s - loss: 0.3141 - acc: 0.8921WARNING:tensorflow:Can save best model only with val_main_acc available, skipping.\n",
            "1766/1766 [==============================] - 9s 5ms/step - loss: 0.3141 - acc: 0.8921 - val_loss: 0.2729 - val_acc: 0.9049\n",
            "Epoch 2/100\n",
            "1758/1766 [============================>.] - ETA: 0s - loss: 0.2053 - acc: 0.9256WARNING:tensorflow:Can save best model only with val_main_acc available, skipping.\n",
            "1766/1766 [==============================] - 9s 5ms/step - loss: 0.2051 - acc: 0.9256 - val_loss: 0.2440 - val_acc: 0.9150\n",
            "Epoch 3/100\n",
            "1755/1766 [============================>.] - ETA: 0s - loss: 0.1685 - acc: 0.9389WARNING:tensorflow:Can save best model only with val_main_acc available, skipping.\n",
            "1766/1766 [==============================] - 9s 5ms/step - loss: 0.1684 - acc: 0.9389 - val_loss: 0.2680 - val_acc: 0.9072\n",
            "Epoch 4/100\n",
            "1765/1766 [============================>.] - ETA: 0s - loss: 0.1407 - acc: 0.9493WARNING:tensorflow:Can save best model only with val_main_acc available, skipping.\n",
            "1766/1766 [==============================] - 9s 5ms/step - loss: 0.1407 - acc: 0.9493 - val_loss: 0.2706 - val_acc: 0.9122\n",
            "Epoch 5/100\n",
            "1758/1766 [============================>.] - ETA: 0s - loss: 0.1165 - acc: 0.9580WARNING:tensorflow:Can save best model only with val_main_acc available, skipping.\n",
            "1766/1766 [==============================] - 9s 5ms/step - loss: 0.1164 - acc: 0.9580 - val_loss: 0.3291 - val_acc: 0.9099\n",
            "Epoch 6/100\n",
            "1765/1766 [============================>.] - ETA: 0s - loss: 0.1004 - acc: 0.9636WARNING:tensorflow:Can save best model only with val_main_acc available, skipping.\n",
            "1766/1766 [==============================] - 9s 5ms/step - loss: 0.1004 - acc: 0.9636 - val_loss: 0.3298 - val_acc: 0.9005\n",
            "Epoch 7/100\n",
            "1761/1766 [============================>.] - ETA: 0s - loss: 0.0891 - acc: 0.9674WARNING:tensorflow:Can save best model only with val_main_acc available, skipping.\n",
            "1766/1766 [==============================] - 9s 5ms/step - loss: 0.0891 - acc: 0.9674 - val_loss: 0.3364 - val_acc: 0.8973\n",
            "Epoch 8/100\n",
            "1762/1766 [============================>.] - ETA: 0s - loss: 0.0791 - acc: 0.9713WARNING:tensorflow:Can save best model only with val_main_acc available, skipping.\n",
            "1766/1766 [==============================] - 9s 5ms/step - loss: 0.0791 - acc: 0.9713 - val_loss: 0.3668 - val_acc: 0.9008\n",
            "Epoch 9/100\n",
            "1761/1766 [============================>.] - ETA: 0s - loss: 0.0704 - acc: 0.9745WARNING:tensorflow:Can save best model only with val_main_acc available, skipping.\n",
            "1766/1766 [==============================] - 9s 5ms/step - loss: 0.0703 - acc: 0.9745 - val_loss: 0.4049 - val_acc: 0.9093\n",
            "Epoch 10/100\n",
            "1763/1766 [============================>.] - ETA: 0s - loss: 0.0630 - acc: 0.9773WARNING:tensorflow:Can save best model only with val_main_acc available, skipping.\n",
            "1766/1766 [==============================] - 9s 5ms/step - loss: 0.0630 - acc: 0.9773 - val_loss: 0.4257 - val_acc: 0.9033\n",
            "Epoch 11/100\n",
            "1766/1766 [==============================] - ETA: 0s - loss: 0.0582 - acc: 0.9789WARNING:tensorflow:Can save best model only with val_main_acc available, skipping.\n",
            "1766/1766 [==============================] - 9s 5ms/step - loss: 0.0582 - acc: 0.9789 - val_loss: 0.4346 - val_acc: 0.8960\n",
            "Epoch 12/100\n",
            "1765/1766 [============================>.] - ETA: 0s - loss: 0.0526 - acc: 0.9809WARNING:tensorflow:Can save best model only with val_main_acc available, skipping.\n",
            "1766/1766 [==============================] - 9s 5ms/step - loss: 0.0526 - acc: 0.9809 - val_loss: 0.4657 - val_acc: 0.9020\n",
            "Epoch 13/100\n",
            "1761/1766 [============================>.] - ETA: 0s - loss: 0.0482 - acc: 0.9827WARNING:tensorflow:Can save best model only with val_main_acc available, skipping.\n",
            "1766/1766 [==============================] - 9s 5ms/step - loss: 0.0482 - acc: 0.9826 - val_loss: 0.4098 - val_acc: 0.9030\n",
            "Epoch 14/100\n",
            "1759/1766 [============================>.] - ETA: 0s - loss: 0.0426 - acc: 0.9847WARNING:tensorflow:Can save best model only with val_main_acc available, skipping.\n",
            "1766/1766 [==============================] - 9s 5ms/step - loss: 0.0427 - acc: 0.9847 - val_loss: 0.4807 - val_acc: 0.8954\n",
            "Epoch 15/100\n",
            "1759/1766 [============================>.] - ETA: 0s - loss: 0.0407 - acc: 0.9853WARNING:tensorflow:Can save best model only with val_main_acc available, skipping.\n",
            "1766/1766 [==============================] - 9s 5ms/step - loss: 0.0407 - acc: 0.9853 - val_loss: 0.5213 - val_acc: 0.8988\n",
            "Epoch 16/100\n",
            "1765/1766 [============================>.] - ETA: 0s - loss: 0.0389 - acc: 0.9861WARNING:tensorflow:Can save best model only with val_main_acc available, skipping.\n",
            "1766/1766 [==============================] - 9s 5ms/step - loss: 0.0389 - acc: 0.9861 - val_loss: 0.5157 - val_acc: 0.8952\n",
            "Epoch 17/100\n",
            "1766/1766 [==============================] - ETA: 0s - loss: 0.0349 - acc: 0.9876WARNING:tensorflow:Can save best model only with val_main_acc available, skipping.\n",
            "1766/1766 [==============================] - 9s 5ms/step - loss: 0.0349 - acc: 0.9876 - val_loss: 0.5564 - val_acc: 0.8952\n",
            "Epoch 18/100\n",
            "1763/1766 [============================>.] - ETA: 0s - loss: 0.0340 - acc: 0.9879WARNING:tensorflow:Can save best model only with val_main_acc available, skipping.\n",
            "1766/1766 [==============================] - 9s 5ms/step - loss: 0.0340 - acc: 0.9879 - val_loss: 0.5833 - val_acc: 0.8936\n",
            "Epoch 19/100\n",
            "1761/1766 [============================>.] - ETA: 0s - loss: 0.0317 - acc: 0.9887WARNING:tensorflow:Can save best model only with val_main_acc available, skipping.\n",
            "1766/1766 [==============================] - 9s 5ms/step - loss: 0.0317 - acc: 0.9887 - val_loss: 0.6002 - val_acc: 0.8924\n",
            "Epoch 20/100\n",
            "1757/1766 [============================>.] - ETA: 0s - loss: 0.0300 - acc: 0.9894WARNING:tensorflow:Can save best model only with val_main_acc available, skipping.\n",
            "1766/1766 [==============================] - 9s 5ms/step - loss: 0.0300 - acc: 0.9894 - val_loss: 0.5678 - val_acc: 0.8903\n",
            "Epoch 21/100\n",
            "1757/1766 [============================>.] - ETA: 0s - loss: 0.0281 - acc: 0.9901WARNING:tensorflow:Can save best model only with val_main_acc available, skipping.\n",
            "1766/1766 [==============================] - 9s 5ms/step - loss: 0.0282 - acc: 0.9901 - val_loss: 0.6163 - val_acc: 0.8933\n",
            "Epoch 22/100\n",
            "1760/1766 [============================>.] - ETA: 0s - loss: 0.0269 - acc: 0.9904WARNING:tensorflow:Can save best model only with val_main_acc available, skipping.\n",
            "1766/1766 [==============================] - 9s 5ms/step - loss: 0.0269 - acc: 0.9904 - val_loss: 0.7487 - val_acc: 0.8851\n",
            "Epoch 23/100\n",
            "1763/1766 [============================>.] - ETA: 0s - loss: 0.0267 - acc: 0.9908WARNING:tensorflow:Can save best model only with val_main_acc available, skipping.\n",
            "1766/1766 [==============================] - 9s 5ms/step - loss: 0.0267 - acc: 0.9908 - val_loss: 0.6462 - val_acc: 0.8879\n",
            "Epoch 24/100\n",
            "1765/1766 [============================>.] - ETA: 0s - loss: 0.0256 - acc: 0.9911WARNING:tensorflow:Can save best model only with val_main_acc available, skipping.\n",
            "1766/1766 [==============================] - 9s 5ms/step - loss: 0.0256 - acc: 0.9911 - val_loss: 0.5407 - val_acc: 0.8968\n",
            "Epoch 25/100\n",
            "1763/1766 [============================>.] - ETA: 0s - loss: 0.0230 - acc: 0.9920WARNING:tensorflow:Can save best model only with val_main_acc available, skipping.\n",
            "1766/1766 [==============================] - 9s 5ms/step - loss: 0.0230 - acc: 0.9920 - val_loss: 0.5857 - val_acc: 0.8880\n",
            "Epoch 26/100\n",
            "1762/1766 [============================>.] - ETA: 0s - loss: 0.0231 - acc: 0.9918WARNING:tensorflow:Can save best model only with val_main_acc available, skipping.\n",
            "1766/1766 [==============================] - 9s 5ms/step - loss: 0.0231 - acc: 0.9918 - val_loss: 0.6172 - val_acc: 0.8931\n",
            "Epoch 27/100\n",
            "1760/1766 [============================>.] - ETA: 0s - loss: 0.0224 - acc: 0.9922WARNING:tensorflow:Can save best model only with val_main_acc available, skipping.\n",
            "1766/1766 [==============================] - 9s 5ms/step - loss: 0.0224 - acc: 0.9922 - val_loss: 0.6099 - val_acc: 0.9012\n",
            "Epoch 28/100\n",
            "1758/1766 [============================>.] - ETA: 0s - loss: 0.0206 - acc: 0.9929WARNING:tensorflow:Can save best model only with val_main_acc available, skipping.\n",
            "1766/1766 [==============================] - 9s 5ms/step - loss: 0.0206 - acc: 0.9929 - val_loss: 0.6749 - val_acc: 0.9000\n",
            "Epoch 29/100\n",
            "1764/1766 [============================>.] - ETA: 0s - loss: 0.0212 - acc: 0.9928WARNING:tensorflow:Can save best model only with val_main_acc available, skipping.\n",
            "1766/1766 [==============================] - 9s 5ms/step - loss: 0.0211 - acc: 0.9928 - val_loss: 0.7043 - val_acc: 0.8966\n",
            "Epoch 30/100\n",
            "1763/1766 [============================>.] - ETA: 0s - loss: 0.0194 - acc: 0.9931WARNING:tensorflow:Can save best model only with val_main_acc available, skipping.\n",
            "1766/1766 [==============================] - 9s 5ms/step - loss: 0.0194 - acc: 0.9931 - val_loss: 0.7293 - val_acc: 0.9024\n",
            "Epoch 31/100\n",
            "1763/1766 [============================>.] - ETA: 0s - loss: 0.0191 - acc: 0.9933WARNING:tensorflow:Can save best model only with val_main_acc available, skipping.\n",
            "1766/1766 [==============================] - 9s 5ms/step - loss: 0.0191 - acc: 0.9933 - val_loss: 0.7736 - val_acc: 0.8850\n",
            "Epoch 32/100\n",
            "1759/1766 [============================>.] - ETA: 0s - loss: 0.0177 - acc: 0.9939WARNING:tensorflow:Can save best model only with val_main_acc available, skipping.\n",
            "1766/1766 [==============================] - 9s 5ms/step - loss: 0.0177 - acc: 0.9939 - val_loss: 0.7240 - val_acc: 0.9020\n",
            "Epoch 33/100\n",
            "1756/1766 [============================>.] - ETA: 0s - loss: 0.0182 - acc: 0.9936WARNING:tensorflow:Can save best model only with val_main_acc available, skipping.\n",
            "1766/1766 [==============================] - 9s 5ms/step - loss: 0.0182 - acc: 0.9936 - val_loss: 0.7824 - val_acc: 0.8922\n",
            "Epoch 34/100\n",
            "1759/1766 [============================>.] - ETA: 0s - loss: 0.0177 - acc: 0.9939WARNING:tensorflow:Can save best model only with val_main_acc available, skipping.\n",
            "1766/1766 [==============================] - 9s 5ms/step - loss: 0.0177 - acc: 0.9939 - val_loss: 0.7967 - val_acc: 0.8947\n",
            "Epoch 35/100\n",
            "1758/1766 [============================>.] - ETA: 0s - loss: 0.0171 - acc: 0.9942WARNING:tensorflow:Can save best model only with val_main_acc available, skipping.\n",
            "1766/1766 [==============================] - 9s 5ms/step - loss: 0.0171 - acc: 0.9942 - val_loss: 0.8542 - val_acc: 0.8758\n",
            "Epoch 36/100\n",
            "1766/1766 [==============================] - ETA: 0s - loss: 0.0166 - acc: 0.9942WARNING:tensorflow:Can save best model only with val_main_acc available, skipping.\n",
            "1766/1766 [==============================] - 9s 5ms/step - loss: 0.0166 - acc: 0.9942 - val_loss: 0.9163 - val_acc: 0.8829\n",
            "Epoch 37/100\n",
            "1755/1766 [============================>.] - ETA: 0s - loss: 0.0163 - acc: 0.9944WARNING:tensorflow:Can save best model only with val_main_acc available, skipping.\n",
            "1766/1766 [==============================] - 9s 5ms/step - loss: 0.0164 - acc: 0.9944 - val_loss: 0.8652 - val_acc: 0.8873\n",
            "Epoch 38/100\n",
            "1765/1766 [============================>.] - ETA: 0s - loss: 0.0163 - acc: 0.9945WARNING:tensorflow:Can save best model only with val_main_acc available, skipping.\n",
            "1766/1766 [==============================] - 9s 5ms/step - loss: 0.0163 - acc: 0.9945 - val_loss: 0.7769 - val_acc: 0.8976\n",
            "Epoch 39/100\n",
            "1757/1766 [============================>.] - ETA: 0s - loss: 0.0155 - acc: 0.9947WARNING:tensorflow:Can save best model only with val_main_acc available, skipping.\n",
            "1766/1766 [==============================] - 9s 5ms/step - loss: 0.0155 - acc: 0.9947 - val_loss: 0.9511 - val_acc: 0.8885\n",
            "Epoch 40/100\n",
            "1763/1766 [============================>.] - ETA: 0s - loss: 0.0159 - acc: 0.9945WARNING:tensorflow:Can save best model only with val_main_acc available, skipping.\n",
            "1766/1766 [==============================] - 9s 5ms/step - loss: 0.0159 - acc: 0.9945 - val_loss: 0.7509 - val_acc: 0.8979\n",
            "Epoch 41/100\n",
            "1765/1766 [============================>.] - ETA: 0s - loss: 0.0150 - acc: 0.9949WARNING:tensorflow:Can save best model only with val_main_acc available, skipping.\n",
            "1766/1766 [==============================] - 9s 5ms/step - loss: 0.0150 - acc: 0.9949 - val_loss: 0.7407 - val_acc: 0.8922\n",
            "Epoch 42/100\n",
            "1761/1766 [============================>.] - ETA: 0s - loss: 0.0146 - acc: 0.9951WARNING:tensorflow:Can save best model only with val_main_acc available, skipping.\n",
            "1766/1766 [==============================] - 9s 5ms/step - loss: 0.0146 - acc: 0.9951 - val_loss: 0.7263 - val_acc: 0.8930\n",
            "Epoch 43/100\n",
            "1761/1766 [============================>.] - ETA: 0s - loss: 0.0142 - acc: 0.9950WARNING:tensorflow:Can save best model only with val_main_acc available, skipping.\n",
            "1766/1766 [==============================] - 9s 5ms/step - loss: 0.0142 - acc: 0.9950 - val_loss: 0.7684 - val_acc: 0.8936\n",
            "Epoch 44/100\n",
            "1758/1766 [============================>.] - ETA: 0s - loss: 0.0134 - acc: 0.9955WARNING:tensorflow:Can save best model only with val_main_acc available, skipping.\n",
            "1766/1766 [==============================] - 9s 5ms/step - loss: 0.0134 - acc: 0.9955 - val_loss: 0.8380 - val_acc: 0.8952\n",
            "Epoch 45/100\n",
            "1760/1766 [============================>.] - ETA: 0s - loss: 0.0140 - acc: 0.9953WARNING:tensorflow:Can save best model only with val_main_acc available, skipping.\n",
            "1766/1766 [==============================] - 10s 5ms/step - loss: 0.0140 - acc: 0.9953 - val_loss: 0.8837 - val_acc: 0.8890\n",
            "Epoch 46/100\n",
            "1759/1766 [============================>.] - ETA: 0s - loss: 0.0131 - acc: 0.9956WARNING:tensorflow:Can save best model only with val_main_acc available, skipping.\n",
            "1766/1766 [==============================] - 9s 5ms/step - loss: 0.0131 - acc: 0.9956 - val_loss: 0.8224 - val_acc: 0.8974\n",
            "Epoch 47/100\n",
            "1762/1766 [============================>.] - ETA: 0s - loss: 0.0127 - acc: 0.9958WARNING:tensorflow:Can save best model only with val_main_acc available, skipping.\n",
            "1766/1766 [==============================] - 9s 5ms/step - loss: 0.0127 - acc: 0.9958 - val_loss: 0.9348 - val_acc: 0.8899\n",
            "Epoch 48/100\n",
            "1755/1766 [============================>.] - ETA: 0s - loss: 0.0127 - acc: 0.9958WARNING:tensorflow:Can save best model only with val_main_acc available, skipping.\n",
            "1766/1766 [==============================] - 9s 5ms/step - loss: 0.0127 - acc: 0.9958 - val_loss: 0.8245 - val_acc: 0.8999\n",
            "Epoch 49/100\n",
            "1761/1766 [============================>.] - ETA: 0s - loss: 0.0123 - acc: 0.9958WARNING:tensorflow:Can save best model only with val_main_acc available, skipping.\n",
            "1766/1766 [==============================] - 9s 5ms/step - loss: 0.0123 - acc: 0.9958 - val_loss: 0.7483 - val_acc: 0.8995\n",
            "Epoch 50/100\n",
            "1760/1766 [============================>.] - ETA: 0s - loss: 0.0126 - acc: 0.9958WARNING:tensorflow:Can save best model only with val_main_acc available, skipping.\n",
            "1766/1766 [==============================] - 9s 5ms/step - loss: 0.0126 - acc: 0.9958 - val_loss: 0.8795 - val_acc: 0.8904\n",
            "Epoch 51/100\n",
            "1757/1766 [============================>.] - ETA: 0s - loss: 0.0124 - acc: 0.9959WARNING:tensorflow:Can save best model only with val_main_acc available, skipping.\n",
            "1766/1766 [==============================] - 9s 5ms/step - loss: 0.0124 - acc: 0.9959 - val_loss: 0.8351 - val_acc: 0.8999\n",
            "Epoch 52/100\n",
            "1765/1766 [============================>.] - ETA: 0s - loss: 0.0116 - acc: 0.9961WARNING:tensorflow:Can save best model only with val_main_acc available, skipping.\n",
            "1766/1766 [==============================] - 9s 5ms/step - loss: 0.0116 - acc: 0.9961 - val_loss: 0.8697 - val_acc: 0.8880\n",
            "Epoch 53/100\n",
            "1765/1766 [============================>.] - ETA: 0s - loss: 0.0112 - acc: 0.9963WARNING:tensorflow:Can save best model only with val_main_acc available, skipping.\n",
            "1766/1766 [==============================] - 9s 5ms/step - loss: 0.0112 - acc: 0.9963 - val_loss: 0.8418 - val_acc: 0.8973\n",
            "Epoch 54/100\n",
            "1759/1766 [============================>.] - ETA: 0s - loss: 0.0116 - acc: 0.9960WARNING:tensorflow:Can save best model only with val_main_acc available, skipping.\n",
            "1766/1766 [==============================] - 9s 5ms/step - loss: 0.0116 - acc: 0.9959 - val_loss: 0.8145 - val_acc: 0.8938\n",
            "Epoch 55/100\n",
            "1764/1766 [============================>.] - ETA: 0s - loss: 0.0114 - acc: 0.9962WARNING:tensorflow:Can save best model only with val_main_acc available, skipping.\n",
            "1766/1766 [==============================] - 9s 5ms/step - loss: 0.0114 - acc: 0.9962 - val_loss: 0.7499 - val_acc: 0.8974\n",
            "Epoch 56/100\n",
            "1755/1766 [============================>.] - ETA: 0s - loss: 0.0105 - acc: 0.9965WARNING:tensorflow:Can save best model only with val_main_acc available, skipping.\n",
            "1766/1766 [==============================] - 9s 5ms/step - loss: 0.0105 - acc: 0.9965 - val_loss: 0.8801 - val_acc: 0.8945\n",
            "Epoch 57/100\n",
            "1756/1766 [============================>.] - ETA: 0s - loss: 0.0114 - acc: 0.9962WARNING:tensorflow:Can save best model only with val_main_acc available, skipping.\n",
            "1766/1766 [==============================] - 9s 5ms/step - loss: 0.0114 - acc: 0.9962 - val_loss: 0.8627 - val_acc: 0.8931\n",
            "Epoch 58/100\n",
            "1764/1766 [============================>.] - ETA: 0s - loss: 0.0105 - acc: 0.9965WARNING:tensorflow:Can save best model only with val_main_acc available, skipping.\n",
            "1766/1766 [==============================] - 9s 5ms/step - loss: 0.0105 - acc: 0.9965 - val_loss: 0.8189 - val_acc: 0.8937\n",
            "Epoch 59/100\n",
            "1755/1766 [============================>.] - ETA: 0s - loss: 0.0108 - acc: 0.9965WARNING:tensorflow:Can save best model only with val_main_acc available, skipping.\n",
            "1766/1766 [==============================] - 9s 5ms/step - loss: 0.0108 - acc: 0.9965 - val_loss: 0.9108 - val_acc: 0.8964\n",
            "Epoch 60/100\n",
            "1762/1766 [============================>.] - ETA: 0s - loss: 0.0109 - acc: 0.9964WARNING:tensorflow:Can save best model only with val_main_acc available, skipping.\n",
            "1766/1766 [==============================] - 9s 5ms/step - loss: 0.0109 - acc: 0.9964 - val_loss: 0.7915 - val_acc: 0.8923\n",
            "Epoch 61/100\n",
            "1761/1766 [============================>.] - ETA: 0s - loss: 0.0096 - acc: 0.9967WARNING:tensorflow:Can save best model only with val_main_acc available, skipping.\n",
            "1766/1766 [==============================] - 9s 5ms/step - loss: 0.0096 - acc: 0.9967 - val_loss: 0.9256 - val_acc: 0.8889\n",
            "Epoch 62/100\n",
            "1756/1766 [============================>.] - ETA: 0s - loss: 0.0111 - acc: 0.9963WARNING:tensorflow:Can save best model only with val_main_acc available, skipping.\n",
            "1766/1766 [==============================] - 9s 5ms/step - loss: 0.0111 - acc: 0.9963 - val_loss: 0.9734 - val_acc: 0.8973\n",
            "Epoch 63/100\n",
            "1764/1766 [============================>.] - ETA: 0s - loss: 0.0092 - acc: 0.9969WARNING:tensorflow:Can save best model only with val_main_acc available, skipping.\n",
            "1766/1766 [==============================] - 9s 5ms/step - loss: 0.0092 - acc: 0.9969 - val_loss: 0.8060 - val_acc: 0.8906\n",
            "Epoch 64/100\n",
            "1764/1766 [============================>.] - ETA: 0s - loss: 0.0102 - acc: 0.9966WARNING:tensorflow:Can save best model only with val_main_acc available, skipping.\n",
            "1766/1766 [==============================] - 9s 5ms/step - loss: 0.0102 - acc: 0.9966 - val_loss: 0.8686 - val_acc: 0.8981\n",
            "Epoch 65/100\n",
            "1761/1766 [============================>.] - ETA: 0s - loss: 0.0091 - acc: 0.9970WARNING:tensorflow:Can save best model only with val_main_acc available, skipping.\n",
            "1766/1766 [==============================] - 9s 5ms/step - loss: 0.0092 - acc: 0.9970 - val_loss: 1.1598 - val_acc: 0.8925\n",
            "Epoch 66/100\n",
            "1763/1766 [============================>.] - ETA: 0s - loss: 0.0105 - acc: 0.9967WARNING:tensorflow:Can save best model only with val_main_acc available, skipping.\n",
            "1766/1766 [==============================] - 9s 5ms/step - loss: 0.0104 - acc: 0.9967 - val_loss: 0.8927 - val_acc: 0.8992\n",
            "Epoch 67/100\n",
            "1760/1766 [============================>.] - ETA: 0s - loss: 0.0098 - acc: 0.9968WARNING:tensorflow:Can save best model only with val_main_acc available, skipping.\n",
            "1766/1766 [==============================] - 9s 5ms/step - loss: 0.0098 - acc: 0.9968 - val_loss: 0.8603 - val_acc: 0.8922\n",
            "Epoch 68/100\n",
            "1765/1766 [============================>.] - ETA: 0s - loss: 0.0096 - acc: 0.9969WARNING:tensorflow:Can save best model only with val_main_acc available, skipping.\n",
            "1766/1766 [==============================] - 9s 5ms/step - loss: 0.0096 - acc: 0.9969 - val_loss: 0.9505 - val_acc: 0.8936\n",
            "Epoch 69/100\n",
            "1759/1766 [============================>.] - ETA: 0s - loss: 0.0101 - acc: 0.9966WARNING:tensorflow:Can save best model only with val_main_acc available, skipping.\n",
            "1766/1766 [==============================] - 9s 5ms/step - loss: 0.0100 - acc: 0.9967 - val_loss: 0.8482 - val_acc: 0.8968\n",
            "Epoch 70/100\n",
            "1761/1766 [============================>.] - ETA: 0s - loss: 0.0091 - acc: 0.9970WARNING:tensorflow:Can save best model only with val_main_acc available, skipping.\n",
            "1766/1766 [==============================] - 9s 5ms/step - loss: 0.0091 - acc: 0.9970 - val_loss: 0.8975 - val_acc: 0.8973\n",
            "Epoch 71/100\n",
            "1762/1766 [============================>.] - ETA: 0s - loss: 0.0099 - acc: 0.9968WARNING:tensorflow:Can save best model only with val_main_acc available, skipping.\n",
            "1766/1766 [==============================] - 9s 5ms/step - loss: 0.0099 - acc: 0.9968 - val_loss: 1.0508 - val_acc: 0.8858\n",
            "Epoch 72/100\n",
            "1765/1766 [============================>.] - ETA: 0s - loss: 0.0092 - acc: 0.9970WARNING:tensorflow:Can save best model only with val_main_acc available, skipping.\n",
            "1766/1766 [==============================] - 9s 5ms/step - loss: 0.0092 - acc: 0.9970 - val_loss: 0.9360 - val_acc: 0.8935\n",
            "Epoch 73/100\n",
            "1763/1766 [============================>.] - ETA: 0s - loss: 0.0086 - acc: 0.9972WARNING:tensorflow:Can save best model only with val_main_acc available, skipping.\n",
            "1766/1766 [==============================] - 9s 5ms/step - loss: 0.0086 - acc: 0.9972 - val_loss: 1.0760 - val_acc: 0.8921\n",
            "Epoch 74/100\n",
            "1760/1766 [============================>.] - ETA: 0s - loss: 0.0092 - acc: 0.9969WARNING:tensorflow:Can save best model only with val_main_acc available, skipping.\n",
            "1766/1766 [==============================] - 9s 5ms/step - loss: 0.0091 - acc: 0.9969 - val_loss: 1.0083 - val_acc: 0.8905\n",
            "Epoch 75/100\n",
            "1757/1766 [============================>.] - ETA: 0s - loss: 0.0081 - acc: 0.9973WARNING:tensorflow:Can save best model only with val_main_acc available, skipping.\n",
            "1766/1766 [==============================] - 9s 5ms/step - loss: 0.0081 - acc: 0.9973 - val_loss: 0.8792 - val_acc: 0.8920\n",
            "Epoch 76/100\n",
            "1761/1766 [============================>.] - ETA: 0s - loss: 0.0089 - acc: 0.9971WARNING:tensorflow:Can save best model only with val_main_acc available, skipping.\n",
            "1766/1766 [==============================] - 9s 5ms/step - loss: 0.0089 - acc: 0.9971 - val_loss: 1.0214 - val_acc: 0.8888\n",
            "Epoch 77/100\n",
            "1756/1766 [============================>.] - ETA: 0s - loss: 0.0086 - acc: 0.9973WARNING:tensorflow:Can save best model only with val_main_acc available, skipping.\n",
            "1766/1766 [==============================] - 9s 5ms/step - loss: 0.0086 - acc: 0.9973 - val_loss: 0.9738 - val_acc: 0.8905\n",
            "Epoch 78/100\n",
            "1761/1766 [============================>.] - ETA: 0s - loss: 0.0087 - acc: 0.9971WARNING:tensorflow:Can save best model only with val_main_acc available, skipping.\n",
            "1766/1766 [==============================] - 9s 5ms/step - loss: 0.0087 - acc: 0.9971 - val_loss: 0.8454 - val_acc: 0.8965\n",
            "Epoch 79/100\n",
            "1764/1766 [============================>.] - ETA: 0s - loss: 0.0085 - acc: 0.9972WARNING:tensorflow:Can save best model only with val_main_acc available, skipping.\n",
            "1766/1766 [==============================] - 9s 5ms/step - loss: 0.0085 - acc: 0.9972 - val_loss: 0.9161 - val_acc: 0.8984\n",
            "Epoch 80/100\n",
            "1759/1766 [============================>.] - ETA: 0s - loss: 0.0088 - acc: 0.9972WARNING:tensorflow:Can save best model only with val_main_acc available, skipping.\n",
            "1766/1766 [==============================] - 9s 5ms/step - loss: 0.0088 - acc: 0.9972 - val_loss: 0.9738 - val_acc: 0.8946\n",
            "Epoch 81/100\n",
            "1763/1766 [============================>.] - ETA: 0s - loss: 0.0079 - acc: 0.9974WARNING:tensorflow:Can save best model only with val_main_acc available, skipping.\n",
            "1766/1766 [==============================] - 9s 5ms/step - loss: 0.0079 - acc: 0.9974 - val_loss: 1.1330 - val_acc: 0.8907\n",
            "Epoch 82/100\n",
            "1763/1766 [============================>.] - ETA: 0s - loss: 0.0093 - acc: 0.9971WARNING:tensorflow:Can save best model only with val_main_acc available, skipping.\n",
            "1766/1766 [==============================] - 9s 5ms/step - loss: 0.0093 - acc: 0.9971 - val_loss: 0.9534 - val_acc: 0.8873\n",
            "Epoch 83/100\n",
            "1766/1766 [==============================] - ETA: 0s - loss: 0.0077 - acc: 0.9976WARNING:tensorflow:Can save best model only with val_main_acc available, skipping.\n",
            "1766/1766 [==============================] - 9s 5ms/step - loss: 0.0077 - acc: 0.9976 - val_loss: 1.0637 - val_acc: 0.8884\n",
            "Epoch 84/100\n",
            "1765/1766 [============================>.] - ETA: 0s - loss: 0.0079 - acc: 0.9974WARNING:tensorflow:Can save best model only with val_main_acc available, skipping.\n",
            "1766/1766 [==============================] - 9s 5ms/step - loss: 0.0079 - acc: 0.9974 - val_loss: 0.9700 - val_acc: 0.8858\n",
            "Epoch 85/100\n",
            "1766/1766 [==============================] - ETA: 0s - loss: 0.0074 - acc: 0.9976WARNING:tensorflow:Can save best model only with val_main_acc available, skipping.\n",
            "1766/1766 [==============================] - 9s 5ms/step - loss: 0.0074 - acc: 0.9976 - val_loss: 0.9908 - val_acc: 0.8869\n",
            "Epoch 86/100\n",
            "1761/1766 [============================>.] - ETA: 0s - loss: 0.0085 - acc: 0.9973WARNING:tensorflow:Can save best model only with val_main_acc available, skipping.\n",
            "1766/1766 [==============================] - 9s 5ms/step - loss: 0.0085 - acc: 0.9973 - val_loss: 0.9499 - val_acc: 0.8917\n",
            "Epoch 87/100\n",
            "1758/1766 [============================>.] - ETA: 0s - loss: 0.0072 - acc: 0.9977WARNING:tensorflow:Can save best model only with val_main_acc available, skipping.\n",
            "1766/1766 [==============================] - 9s 5ms/step - loss: 0.0072 - acc: 0.9977 - val_loss: 0.9297 - val_acc: 0.9003\n",
            "Epoch 88/100\n",
            "1759/1766 [============================>.] - ETA: 0s - loss: 0.0082 - acc: 0.9974WARNING:tensorflow:Can save best model only with val_main_acc available, skipping.\n",
            "1766/1766 [==============================] - 9s 5ms/step - loss: 0.0082 - acc: 0.9974 - val_loss: 1.1526 - val_acc: 0.8910\n",
            "Epoch 89/100\n",
            "1766/1766 [==============================] - ETA: 0s - loss: 0.0078 - acc: 0.9974WARNING:tensorflow:Can save best model only with val_main_acc available, skipping.\n",
            "1766/1766 [==============================] - 9s 5ms/step - loss: 0.0078 - acc: 0.9974 - val_loss: 0.9492 - val_acc: 0.9005\n",
            "Epoch 90/100\n",
            "1756/1766 [============================>.] - ETA: 0s - loss: 0.0077 - acc: 0.9975WARNING:tensorflow:Can save best model only with val_main_acc available, skipping.\n",
            "1766/1766 [==============================] - 9s 5ms/step - loss: 0.0077 - acc: 0.9975 - val_loss: 1.0601 - val_acc: 0.8933\n",
            "Epoch 91/100\n",
            "1755/1766 [============================>.] - ETA: 0s - loss: 0.0080 - acc: 0.9975WARNING:tensorflow:Can save best model only with val_main_acc available, skipping.\n",
            "1766/1766 [==============================] - 9s 5ms/step - loss: 0.0080 - acc: 0.9975 - val_loss: 0.9743 - val_acc: 0.8953\n",
            "Epoch 92/100\n",
            "1761/1766 [============================>.] - ETA: 0s - loss: 0.0075 - acc: 0.9975WARNING:tensorflow:Can save best model only with val_main_acc available, skipping.\n",
            "1766/1766 [==============================] - 9s 5ms/step - loss: 0.0075 - acc: 0.9975 - val_loss: 0.9396 - val_acc: 0.8988\n",
            "Epoch 93/100\n",
            "1758/1766 [============================>.] - ETA: 0s - loss: 0.0077 - acc: 0.9975WARNING:tensorflow:Can save best model only with val_main_acc available, skipping.\n",
            "1766/1766 [==============================] - 9s 5ms/step - loss: 0.0077 - acc: 0.9975 - val_loss: 1.0274 - val_acc: 0.8923\n",
            "Epoch 94/100\n",
            "1761/1766 [============================>.] - ETA: 0s - loss: 0.0072 - acc: 0.9976WARNING:tensorflow:Can save best model only with val_main_acc available, skipping.\n",
            "1766/1766 [==============================] - 9s 5ms/step - loss: 0.0072 - acc: 0.9976 - val_loss: 1.0359 - val_acc: 0.8961\n",
            "Epoch 95/100\n",
            "1756/1766 [============================>.] - ETA: 0s - loss: 0.0075 - acc: 0.9976WARNING:tensorflow:Can save best model only with val_main_acc available, skipping.\n",
            "1766/1766 [==============================] - 9s 5ms/step - loss: 0.0075 - acc: 0.9976 - val_loss: 1.0475 - val_acc: 0.8885\n",
            "Epoch 96/100\n",
            "1758/1766 [============================>.] - ETA: 0s - loss: 0.0077 - acc: 0.9975WARNING:tensorflow:Can save best model only with val_main_acc available, skipping.\n",
            "1766/1766 [==============================] - 9s 5ms/step - loss: 0.0077 - acc: 0.9975 - val_loss: 1.0500 - val_acc: 0.8918\n",
            "Epoch 97/100\n",
            "1759/1766 [============================>.] - ETA: 0s - loss: 0.0071 - acc: 0.9978WARNING:tensorflow:Can save best model only with val_main_acc available, skipping.\n",
            "1766/1766 [==============================] - 9s 5ms/step - loss: 0.0071 - acc: 0.9978 - val_loss: 0.9296 - val_acc: 0.8969\n",
            "Epoch 98/100\n",
            "1757/1766 [============================>.] - ETA: 0s - loss: 0.0075 - acc: 0.9977WARNING:tensorflow:Can save best model only with val_main_acc available, skipping.\n",
            "1766/1766 [==============================] - 9s 5ms/step - loss: 0.0075 - acc: 0.9977 - val_loss: 1.0318 - val_acc: 0.8864\n",
            "Epoch 99/100\n",
            "1762/1766 [============================>.] - ETA: 0s - loss: 0.0073 - acc: 0.9977WARNING:tensorflow:Can save best model only with val_main_acc available, skipping.\n",
            "1766/1766 [==============================] - 9s 5ms/step - loss: 0.0073 - acc: 0.9977 - val_loss: 0.8980 - val_acc: 0.8986\n",
            "Epoch 100/100\n",
            "1755/1766 [============================>.] - ETA: 0s - loss: 0.0068 - acc: 0.9978WARNING:tensorflow:Can save best model only with val_main_acc available, skipping.\n",
            "1766/1766 [==============================] - 9s 5ms/step - loss: 0.0068 - acc: 0.9978 - val_loss: 0.8580 - val_acc: 0.8938\n"
          ],
          "name": "stdout"
        }
      ]
    },
    {
      "cell_type": "markdown",
      "metadata": {
        "id": "n8LxITTsM856"
      },
      "source": [
        "### **Restaurer les poids du modèle sur la meilleure époque d'entraînement**"
      ]
    },
    {
      "cell_type": "markdown",
      "metadata": {
        "id": "Zh14_LtSPCqB"
      },
      "source": [
        "### **Prédiction des classes sur le jeu de validation et évaluation en aggrégeant au niveau objet**"
      ]
    },
    {
      "cell_type": "code",
      "metadata": {
        "id": "zDpjyx_JPNjv",
        "colab": {
          "base_uri": "https://localhost:8080/"
        },
        "outputId": "358cdc31-a149-4170-80a3-5466d0d874e2"
      },
      "source": [
        "# Récupérer les probabilités prédites sur le jeu de validation\n",
        "valid_prob = model.predict(valid_X,batch_size=256)\n",
        "valid_prob.shape"
      ],
      "execution_count": 11,
      "outputs": [
        {
          "output_type": "execute_result",
          "data": {
            "text/plain": [
              "(153469, 5)"
            ]
          },
          "metadata": {
            "tags": []
          },
          "execution_count": 11
        }
      ]
    },
    {
      "cell_type": "code",
      "metadata": {
        "id": "26YozrngPZyW",
        "colab": {
          "base_uri": "https://localhost:8080/"
        },
        "outputId": "11cda875-9f63-464b-dec0-5517a918411e"
      },
      "source": [
        "# Retourner la classe correspondant à la probabilité la plus haute\n",
        "valid_pred = np.argmax(valid_prob,axis=1) # axe 1 car ceci concerne chaque ligne\n",
        "valid_pred.shape"
      ],
      "execution_count": 12,
      "outputs": [
        {
          "output_type": "execute_result",
          "data": {
            "text/plain": [
              "(153469,)"
            ]
          },
          "metadata": {
            "tags": []
          },
          "execution_count": 12
        }
      ]
    },
    {
      "cell_type": "code",
      "metadata": {
        "id": "57Fyn2eyWU3w",
        "colab": {
          "base_uri": "https://localhost:8080/"
        },
        "outputId": "a7fe276a-0975-4fd5-b36f-74f0041a3c1d"
      },
      "source": [
        "# Je réencode les prédictions entre 1 et 5\n",
        "valid_pred_enc = encoder.inverse_transform(valid_pred)\n",
        "np.unique(valid_pred_enc)"
      ],
      "execution_count": 13,
      "outputs": [
        {
          "output_type": "execute_result",
          "data": {
            "text/plain": [
              "array([1, 2, 3, 4, 5], dtype=uint8)"
            ]
          },
          "metadata": {
            "tags": []
          },
          "execution_count": 13
        }
      ]
    },
    {
      "cell_type": "code",
      "metadata": {
        "id": "z35nADR_P-ut",
        "colab": {
          "base_uri": "https://localhost:8080/"
        },
        "outputId": "1dabe616-2c70-4ba9-e4bf-724270e57a51"
      },
      "source": [
        "# Aggrégation au niveau objet\n",
        "out_pred = []\n",
        "unique_id = np.unique(valid_id)\n",
        "for ID in unique_id :\n",
        "    # Récupérer les prédictions des pixels appartenant au même objet\n",
        "    pred = valid_pred_enc[np.where(valid_id==ID)]\n",
        "    y_true = valid_y[np.where(valid_id==ID)]\n",
        "    # Prendre la valeur majoritaire des prédictions sur les pixels\n",
        "    out_pred.append([ np.bincount(y_true).argmax(), np.bincount(pred).argmax()]) #(Vérité terrain,Prédiction majoritaire)\n",
        "out_pred = np.vstack(out_pred)\n",
        "out_pred.shape"
      ],
      "execution_count": 14,
      "outputs": [
        {
          "output_type": "execute_result",
          "data": {
            "text/plain": [
              "(558, 2)"
            ]
          },
          "metadata": {
            "tags": []
          },
          "execution_count": 14
        }
      ]
    },
    {
      "cell_type": "code",
      "metadata": {
        "id": "hQ2jDDDZWsKQ",
        "colab": {
          "base_uri": "https://localhost:8080/"
        },
        "outputId": "51cc59a2-c827-43ae-fcb6-f3f44c5594be"
      },
      "source": [
        "# F1 score au niveau objet\n",
        "f1_score(out_pred[:,0],out_pred[:,1],average='weighted')"
      ],
      "execution_count": 15,
      "outputs": [
        {
          "output_type": "execute_result",
          "data": {
            "text/plain": [
              "0.9132937837437238"
            ]
          },
          "metadata": {
            "tags": []
          },
          "execution_count": 15
        }
      ]
    },
    {
      "cell_type": "markdown",
      "metadata": {
        "id": "zIXYledyW9QI"
      },
      "source": [
        "### **Prédire sur le jeu test et Préparer une soumission**"
      ]
    },
    {
      "cell_type": "code",
      "metadata": {
        "id": "p--sBOPKW4SE",
        "colab": {
          "base_uri": "https://localhost:8080/"
        },
        "outputId": "d62d522f-c322-4139-84d5-308f1b2ebade"
      },
      "source": [
        "# Récupérer les probabilités prédites sur le jeu test\n",
        "test_prob = model.predict(test_X,batch_size=256)\n",
        "test_prob.shape"
      ],
      "execution_count": 16,
      "outputs": [
        {
          "output_type": "execute_result",
          "data": {
            "text/plain": [
              "(207485, 5)"
            ]
          },
          "metadata": {
            "tags": []
          },
          "execution_count": 16
        }
      ]
    },
    {
      "cell_type": "code",
      "metadata": {
        "id": "QtI8FHPyXHF1",
        "colab": {
          "base_uri": "https://localhost:8080/"
        },
        "outputId": "098ba281-2f55-49fa-c7f9-cbc169bf92d3"
      },
      "source": [
        "# Retourner la classe correspondant à la probabilité la plus haute\n",
        "test_pred = np.argmax(test_prob,axis=1) # axe 1 car ceci concerne chaque ligne\n",
        "test_pred.shape"
      ],
      "execution_count": 17,
      "outputs": [
        {
          "output_type": "execute_result",
          "data": {
            "text/plain": [
              "(207485,)"
            ]
          },
          "metadata": {
            "tags": []
          },
          "execution_count": 17
        }
      ]
    },
    {
      "cell_type": "code",
      "metadata": {
        "id": "V4xPl0mFXNEi",
        "colab": {
          "base_uri": "https://localhost:8080/"
        },
        "outputId": "b175c25c-4d50-455a-befd-7fed38c9e6b2"
      },
      "source": [
        "# Je réencode les prédictions entre 1 et 5\n",
        "test_pred_enc = encoder.inverse_transform(test_pred)\n",
        "np.unique(test_pred_enc)"
      ],
      "execution_count": 18,
      "outputs": [
        {
          "output_type": "execute_result",
          "data": {
            "text/plain": [
              "array([1, 2, 3, 4, 5], dtype=uint8)"
            ]
          },
          "metadata": {
            "tags": []
          },
          "execution_count": 18
        }
      ]
    },
    {
      "cell_type": "code",
      "metadata": {
        "id": "khjM1qqMXTSY",
        "colab": {
          "base_uri": "https://localhost:8080/"
        },
        "outputId": "0760b1bd-93cd-47b1-9abc-6b75c423d08d"
      },
      "source": [
        "# Aggrégation au niveau objet\n",
        "agg_pred = []\n",
        "unique_id = np.unique(test_id)\n",
        "for ID in unique_id :\n",
        "    # Récupérer les prédictions des pixels appartenant au même objet\n",
        "    pred = test_pred_enc[np.where(test_id==ID)]\n",
        "    # Prendre la valeur majoritaire des prédictions sur les pixels\n",
        "    agg_pred.append([ ID, np.bincount(pred).argmax()]) #(ID,Prédiction majoritaire)\n",
        "agg_pred = np.vstack(agg_pred)\n",
        "agg_pred.shape"
      ],
      "execution_count": 19,
      "outputs": [
        {
          "output_type": "execute_result",
          "data": {
            "text/plain": [
              "(800, 2)"
            ]
          },
          "metadata": {
            "tags": []
          },
          "execution_count": 19
        }
      ]
    },
    {
      "cell_type": "code",
      "metadata": {
        "id": "ZIdn628cEtgx",
        "colab": {
          "base_uri": "https://localhost:8080/",
          "height": 204
        },
        "outputId": "0a4a54b2-37b4-4a0d-cd24-65e1f62d7d4f"
      },
      "source": [
        "df = pd.DataFrame({'ID':agg_pred[:,0],'Class':agg_pred[:,1]})\n",
        "df.to_csv('Soumission_CNN2D.csv',index=False)\n",
        "df.head(5)"
      ],
      "execution_count": 20,
      "outputs": [
        {
          "output_type": "execute_result",
          "data": {
            "text/html": [
              "<div>\n",
              "<style scoped>\n",
              "    .dataframe tbody tr th:only-of-type {\n",
              "        vertical-align: middle;\n",
              "    }\n",
              "\n",
              "    .dataframe tbody tr th {\n",
              "        vertical-align: top;\n",
              "    }\n",
              "\n",
              "    .dataframe thead th {\n",
              "        text-align: right;\n",
              "    }\n",
              "</style>\n",
              "<table border=\"1\" class=\"dataframe\">\n",
              "  <thead>\n",
              "    <tr style=\"text-align: right;\">\n",
              "      <th></th>\n",
              "      <th>ID</th>\n",
              "      <th>Class</th>\n",
              "    </tr>\n",
              "  </thead>\n",
              "  <tbody>\n",
              "    <tr>\n",
              "      <th>0</th>\n",
              "      <td>4</td>\n",
              "      <td>5</td>\n",
              "    </tr>\n",
              "    <tr>\n",
              "      <th>1</th>\n",
              "      <td>7</td>\n",
              "      <td>3</td>\n",
              "    </tr>\n",
              "    <tr>\n",
              "      <th>2</th>\n",
              "      <td>8</td>\n",
              "      <td>5</td>\n",
              "    </tr>\n",
              "    <tr>\n",
              "      <th>3</th>\n",
              "      <td>9</td>\n",
              "      <td>3</td>\n",
              "    </tr>\n",
              "    <tr>\n",
              "      <th>4</th>\n",
              "      <td>10</td>\n",
              "      <td>3</td>\n",
              "    </tr>\n",
              "  </tbody>\n",
              "</table>\n",
              "</div>"
            ],
            "text/plain": [
              "   ID  Class\n",
              "0   4      5\n",
              "1   7      3\n",
              "2   8      5\n",
              "3   9      3\n",
              "4  10      3"
            ]
          },
          "metadata": {
            "tags": []
          },
          "execution_count": 20
        }
      ]
    },
    {
      "cell_type": "code",
      "metadata": {
        "id": "s6WuuJCkXsu0",
        "colab": {
          "base_uri": "https://localhost:8080/"
        },
        "outputId": "e7887bdf-c992-4d05-bbc0-447df51f1809"
      },
      "source": [
        "# F1 Score au niveau objet\n",
        "df_test = pd.read_csv('Test_ID_Label.csv') # Ce fichier vous sera fourni le 12 Novembre\n",
        "f1_score(df_test.Class,df.Class,average='weighted')"
      ],
      "execution_count": 21,
      "outputs": [
        {
          "output_type": "execute_result",
          "data": {
            "text/plain": [
              "0.8989585846505522"
            ]
          },
          "metadata": {
            "tags": []
          },
          "execution_count": 21
        }
      ]
    },
    {
      "cell_type": "markdown",
      "metadata": {
        "id": "fWJuC_Mh2rD-"
      },
      "source": [
        "# **Segmentation**"
      ]
    },
    {
      "cell_type": "code",
      "metadata": {
        "id": "Teu0hQFM2pry",
        "colab": {
          "base_uri": "https://localhost:8080/"
        },
        "outputId": "71af9a86-1da7-4d5b-e9e5-41610a04aa28"
      },
      "source": [
        "!ls Images"
      ],
      "execution_count": 22,
      "outputs": [
        {
          "output_type": "stream",
          "text": [
            "20160322_S2A.tif  20160730_S2A.tif  20161018_S2A.tif  20161217_S2A.tif\n",
            "20160710_S2A.tif  20160928_S2A.tif  20161127_S2A.tif  20161227_S2A.tif\n"
          ],
          "name": "stdout"
        }
      ]
    }
  ]
}
{
  "nbformat": 4,
  "nbformat_minor": 0,
  "metadata": {
    "accelerator": "GPU",
    "colab": {
      "name": "CNN1D.ipynb",
      "provenance": [],
      "collapsed_sections": []
    },
    "kernelspec": {
      "display_name": "Python 3",
      "name": "python3"
    }
  },
  "cells": [
    {
      "cell_type": "markdown",
      "metadata": {
        "id": "_pJr2QX16y0C"
      },
      "source": [
        "# **Préparer les données**"
      ]
    },
    {
      "cell_type": "markdown",
      "metadata": {
        "id": "vI65qFkLjyEY"
      },
      "source": [
        "### **Monter le dossier dans Drive**"
      ]
    },
    {
      "cell_type": "code",
      "metadata": {
        "colab": {
          "background_save": true
        },
        "id": "DVb5j_uZDvRs",
        "outputId": "e8b7df22-9c1f-4beb-fa49-f74c7661ec91"
      },
      "source": [
        "from google.colab import drive\n",
        "drive.mount('/content/drive')"
      ],
      "execution_count": null,
      "outputs": [
        {
          "output_type": "stream",
          "text": [
            "Mounted at /content/drive\n"
          ],
          "name": "stdout"
        }
      ]
    },
    {
      "cell_type": "code",
      "metadata": {
        "colab": {
          "background_save": true
        },
        "id": "9DcknGEsEkrE"
      },
      "source": [
        "import os\n",
        "os.chdir('/content/drive/My Drive/Projet_HMIN339M')"
      ],
      "execution_count": null,
      "outputs": []
    },
    {
      "cell_type": "markdown",
      "metadata": {
        "id": "uEIWGiCq_s3g"
      },
      "source": [
        "### **Importation de quelques librairies**"
      ]
    },
    {
      "cell_type": "code",
      "metadata": {
        "colab": {
          "background_save": true
        },
        "id": "0HzSSHr5ooul"
      },
      "source": [
        "import numpy as np\n",
        "import tifffile\n",
        "import glob\n",
        "from pathlib import Path\n",
        "import pandas as pd"
      ],
      "execution_count": null,
      "outputs": []
    },
    {
      "cell_type": "markdown",
      "metadata": {
        "id": "wVrWVyvfkBDD"
      },
      "source": [
        "### **Lecture de la série temporelle d'images et Normalisation par bande sur la série temporelle entre 0 et 1** "
      ]
    },
    {
      "cell_type": "markdown",
      "metadata": {
        "id": "95CB2_IllQFu"
      },
      "source": [
        "#### **Lecture des images et création des séries temporelles de bandes**"
      ]
    },
    {
      "cell_type": "code",
      "metadata": {
        "colab": {
          "background_save": true
        },
        "id": "Ut67k4u3Vezu",
        "outputId": "dea56d9d-b038-4ba1-81dd-788a09ab22fe"
      },
      "source": [
        "# Récupérer la liste des images\n",
        "lst_img = glob.glob ('Images/*.tif')\n",
        "lst_img.sort() # ordonner par date si ce n'est pas le cas\n",
        "lst_img"
      ],
      "execution_count": null,
      "outputs": [
        {
          "output_type": "execute_result",
          "data": {
            "text/plain": [
              "['Images/20160322_S2A.tif',\n",
              " 'Images/20160710_S2A.tif',\n",
              " 'Images/20160730_S2A.tif',\n",
              " 'Images/20160928_S2A.tif',\n",
              " 'Images/20161018_S2A.tif',\n",
              " 'Images/20161127_S2A.tif',\n",
              " 'Images/20161217_S2A.tif',\n",
              " 'Images/20161227_S2A.tif']"
            ]
          },
          "metadata": {
            "tags": []
          },
          "execution_count": 0
        }
      ]
    },
    {
      "cell_type": "code",
      "metadata": {
        "colab": {
          "background_save": true
        },
        "id": "GSpMjDMNa-Bg",
        "outputId": "715cb3ff-d7ed-446a-c4d9-ea31105ee990"
      },
      "source": [
        "# Lecture de la bande du rouge (B1) pour toute la série temporelle\n",
        "red_ts = []\n",
        "for img in lst_img:\n",
        "  red_ts.append( tifffile.imread(img)[:,:,0]) # Rouge\n",
        "red_ts = np.dstack(red_ts)\n",
        "red_ts.shape"
      ],
      "execution_count": null,
      "outputs": [
        {
          "output_type": "execute_result",
          "data": {
            "text/plain": [
              "(5412, 5592, 8)"
            ]
          },
          "metadata": {
            "tags": []
          },
          "execution_count": 0
        }
      ]
    },
    {
      "cell_type": "code",
      "metadata": {
        "colab": {
          "background_save": true
        },
        "id": "X97WsP3kcTL1",
        "outputId": "c64e1bd1-76ba-47f9-98e5-ab3b55d5c3d8"
      },
      "source": [
        "# Lecture de la bande du vert (B2) pour toute la série temporelle\n",
        "green_ts = []\n",
        "for img in lst_img:\n",
        "  green_ts.append( tifffile.imread(img)[:,:,1]) # Vert\n",
        "green_ts = np.dstack(green_ts)\n",
        "green_ts.shape"
      ],
      "execution_count": null,
      "outputs": [
        {
          "output_type": "execute_result",
          "data": {
            "text/plain": [
              "(5412, 5592, 8)"
            ]
          },
          "metadata": {
            "tags": []
          },
          "execution_count": 0
        }
      ]
    },
    {
      "cell_type": "code",
      "metadata": {
        "colab": {
          "background_save": true
        },
        "id": "t1GBdVCGcbcK",
        "outputId": "0b1cb24b-d761-4ed8-956f-eb7da40ecd4f"
      },
      "source": [
        "# Lecture de la bande du bleu (B3) pour toute la série temporelle\n",
        "blue_ts = []\n",
        "for img in lst_img:\n",
        "  blue_ts.append( tifffile.imread(img)[:,:,2]) # Bleu\n",
        "blue_ts = np.dstack(blue_ts)\n",
        "blue_ts.shape"
      ],
      "execution_count": null,
      "outputs": [
        {
          "output_type": "execute_result",
          "data": {
            "text/plain": [
              "(5412, 5592, 8)"
            ]
          },
          "metadata": {
            "tags": []
          },
          "execution_count": 0
        }
      ]
    },
    {
      "cell_type": "code",
      "metadata": {
        "colab": {
          "background_save": true
        },
        "id": "fDd4BjV-cbz8",
        "outputId": "5569af54-e88b-493c-f1d7-8c4b45281b4f"
      },
      "source": [
        "# Lecture de la bande du proche infrarouge (B4) pour toute la série temporelle\n",
        "nir_ts = []\n",
        "for img in lst_img:\n",
        "  nir_ts.append( tifffile.imread(img)[:,:,3]) # Proche infra rouge\n",
        "nir_ts = np.dstack(nir_ts)\n",
        "nir_ts.shape"
      ],
      "execution_count": null,
      "outputs": [
        {
          "output_type": "execute_result",
          "data": {
            "text/plain": [
              "(5412, 5592, 8)"
            ]
          },
          "metadata": {
            "tags": []
          },
          "execution_count": 0
        }
      ]
    },
    {
      "cell_type": "code",
      "metadata": {
        "colab": {
          "background_save": true
        },
        "id": "bJVBYJxuuJDA",
        "outputId": "c887618d-4067-4c37-d82e-7b4c68b357a0"
      },
      "source": [
        "# Calculer des indices spectraux comme le NDVI\n",
        "ndvi_ts = np.where(nir_ts + red_ts == 0, 0, (nir_ts - red_ts) / (nir_ts + red_ts)).astype(np.float32)\n",
        "ndvi_ts.shape, ndvi_ts.dtype, ndvi_ts.min(), ndvi_ts.max()"
      ],
      "execution_count": null,
      "outputs": [
        {
          "output_type": "execute_result",
          "data": {
            "text/plain": [
              "((5412, 5592, 8), dtype('float32'), -0.9994976, 0.99976385)"
            ]
          },
          "metadata": {
            "tags": []
          },
          "execution_count": 0
        }
      ]
    },
    {
      "cell_type": "markdown",
      "metadata": {
        "id": "rOOWsKQHlHvS"
      },
      "source": [
        "#### **Normalisation en utilisant le min et le max des bandes sur les séries temporelles**"
      ]
    },
    {
      "cell_type": "code",
      "metadata": {
        "id": "IoOk5-UccvSe"
      },
      "source": [
        "# Normalisation des séries temporelles par bande: Rouge\n",
        "red_ts_norm = ( red_ts - red_ts.min() ) / ( red_ts.max() - red_ts.min() ).astype(np.float32)\n",
        "red_ts_norm.min() , red_ts_norm.max(), red_ts_norm.shape, red_ts_norm.dtype"
      ],
      "execution_count": null,
      "outputs": []
    },
    {
      "cell_type": "code",
      "metadata": {
        "colab": {
          "background_save": true
        },
        "id": "-c1DlhJTe_6h",
        "outputId": "7441ed34-157a-43e4-d5c8-5f42ed35f5a3"
      },
      "source": [
        "# Normalisation des séries temporelles par bande: Vert\n",
        "green_ts_norm = ( green_ts - green_ts.min() ) / ( green_ts.max() - green_ts.min() ).astype(np.float32)\n",
        "green_ts = None\n",
        "green_ts_norm.min() , green_ts_norm.max(), green_ts_norm.shape, green_ts_norm.dtype"
      ],
      "execution_count": null,
      "outputs": [
        {
          "output_type": "execute_result",
          "data": {
            "text/plain": [
              "(0.0, 1.0, (5412, 5592, 8), dtype('float32'))"
            ]
          },
          "metadata": {
            "tags": []
          },
          "execution_count": 0
        }
      ]
    },
    {
      "cell_type": "code",
      "metadata": {
        "id": "hFNAbyIyfAJT"
      },
      "source": [
        "# Normalisation des séries temporelles par bande: Bleu\n",
        "blue_ts_norm = ( blue_ts - blue_ts.min() ) / ( blue_ts.max() - blue_ts.min() ).astype(np.float32)\n",
        "blue_ts = None\n",
        "blue_ts_norm.min() , blue_ts_norm.max(), blue_ts_norm.shape, blue_ts_norm.dtype"
      ],
      "execution_count": null,
      "outputs": []
    },
    {
      "cell_type": "code",
      "metadata": {
        "colab": {
          "background_save": true
        },
        "id": "epIhb6brfAUK",
        "outputId": "23b223f9-379e-448b-c737-e2aa7a47904c"
      },
      "source": [
        "# Normalisation des séries temporelles par bande: Proche infrarouge\n",
        "nir_ts_norm = ( nir_ts - nir_ts.min() ) / ( nir_ts.max() - nir_ts.min() ).astype(np.float32)\n",
        "nir_ts_norm.min() , nir_ts_norm.max(), nir_ts_norm.shape, nir_ts_norm.dtype"
      ],
      "execution_count": null,
      "outputs": [
        {
          "output_type": "execute_result",
          "data": {
            "text/plain": [
              "(0.0, 1.0, (5412, 5592, 8), dtype('float32'))"
            ]
          },
          "metadata": {
            "tags": []
          },
          "execution_count": 0
        }
      ]
    },
    {
      "cell_type": "code",
      "metadata": {
        "id": "tAtrTnz_uQ2Y"
      },
      "source": [
        "# Normaliser les indices spectraux que vous aurez calculé\n",
        "ndvi_ts_norm = ( ndvi_ts - ndvi_ts.min() ) / ( ndvi_ts.max() - ndvi_ts.min( )).astype(np.float32)\n",
        "ndvi_ts_norm.min(), ndvi_ts_norm.max(), ndvi_ts_norm.shape, ndvi_ts_norm.dtype"
      ],
      "execution_count": null,
      "outputs": []
    },
    {
      "cell_type": "markdown",
      "metadata": {
        "id": "YDQUbh3Nkpn7"
      },
      "source": [
        "### **Lecture de la vérité terrain et récupération des positions des pixels du jeu d'entraînement et de test**"
      ]
    },
    {
      "cell_type": "markdown",
      "metadata": {
        "id": "V_mXEBEKmuw7"
      },
      "source": [
        "#### **Lecture des fichiers de la vérité terrain**"
      ]
    },
    {
      "cell_type": "code",
      "metadata": {
        "colab": {
          "background_save": true
        },
        "id": "NBCQhbMUoBJU",
        "outputId": "94e7ffc9-b7f1-4135-b95c-eb514a0b8f78"
      },
      "source": [
        "# Lire le fichier correspondant aux classes d'occupation du sol\n",
        "gt_class = tifffile.imread ('Verite_terrain/DORDOGNE_VT_CLASS.tif')\n",
        "gt_class.shape , gt_class.dtype"
      ],
      "execution_count": null,
      "outputs": [
        {
          "output_type": "execute_result",
          "data": {
            "text/plain": [
              "((5412, 5592), dtype('uint8'))"
            ]
          },
          "metadata": {
            "tags": []
          },
          "execution_count": 0
        }
      ]
    },
    {
      "cell_type": "code",
      "metadata": {
        "id": "JLnTil_psMLW"
      },
      "source": [
        "# Lire le fichier correspondant aux identifiants\n",
        "gt_id = tifffile.imread ('Verite_terrain/DORDOGNE_VT_ID.tif')\n",
        "gt_id.shape, gt_id.dtype"
      ],
      "execution_count": null,
      "outputs": []
    },
    {
      "cell_type": "markdown",
      "metadata": {
        "id": "RjyGTdRpm5ii"
      },
      "source": [
        "#### **Récupération des positions des pixels d'entraînement et de test**"
      ]
    },
    {
      "cell_type": "code",
      "metadata": {
        "id": "yosWk1_BgiLE"
      },
      "source": [
        "# Récupérer les positions des échantillons d'entraînement et test\n",
        "idx_train_ = np.where ( (gt_id!=0) & (gt_class!=0) )\n",
        "idx_test = np.where ( (gt_id!=0) & (gt_class==0) )"
      ],
      "execution_count": null,
      "outputs": []
    },
    {
      "cell_type": "code",
      "metadata": {
        "id": "uRX0xj4zjvVY"
      },
      "source": [
        "# Lecture des identifiants et labels des échantillons d'entraînement\n",
        "train_id_ = gt_id[idx_train_]\n",
        "train_y_ = gt_class[idx_train_]\n",
        "f'échantillons d\\'entrainement: {train_y_.shape[0]} pixels, {len(np.unique(train_id_))} objets'"
      ],
      "execution_count": null,
      "outputs": []
    },
    {
      "cell_type": "code",
      "metadata": {
        "id": "kiPCaHQ2jtZu"
      },
      "source": [
        "# Lecture des identifiants et labels des échantillons de test\n",
        "test_id = gt_id[idx_test]\n",
        "f'échantillons test: {test_id.shape[0]} pixels, {len(np.unique(test_id))} objets'"
      ],
      "execution_count": null,
      "outputs": []
    },
    {
      "cell_type": "markdown",
      "metadata": {
        "id": "hNFyNkc5oc6z"
      },
      "source": [
        "### **Création d'un jeu de validation en prenant une partie du jeu d'entraînement**\n",
        "Pour cela, on s'assure de faire la division en mettant les pixels ayant le même identifiant dans un seul et même lot"
      ]
    },
    {
      "cell_type": "code",
      "metadata": {
        "id": "2hI-jAEqrac1"
      },
      "source": [
        "# Dataframe pour créer un jeu de validation\n",
        "samples = pd.DataFrame({'ID':train_id_,'Class':train_y_})\n",
        "samples = samples.drop_duplicates(keep='first')\n",
        "samples.head(5)"
      ],
      "execution_count": null,
      "outputs": []
    },
    {
      "cell_type": "code",
      "metadata": {
        "id": "894SPjgRs_S7"
      },
      "source": [
        "# 30% des échantillons de chaque classe affecté au jeu de validation\n",
        "train_id = []\n",
        "valid_id = []\n",
        "for c in np.unique(samples.Class.values) :\n",
        "    samples_c = samples.loc[samples.Class==c]\n",
        "    samples_frac = samples_c.sample(frac=0.7,random_state=1234) \n",
        "    train_id.extend( samples_frac.ID.values )\n",
        "    valid_id.extend( samples_c.drop(samples_frac.index).ID.values )\n",
        "len(train_id),len(valid_id)"
      ],
      "execution_count": null,
      "outputs": []
    },
    {
      "cell_type": "markdown",
      "metadata": {
        "id": "6J609q3BrKRk"
      },
      "source": [
        "### **Récupération des positions des nouveaux échantillons d'entraînement et de validation**"
      ]
    },
    {
      "cell_type": "code",
      "metadata": {
        "id": "WmVBWpvFdjlk"
      },
      "source": [
        "# Récupérer les positions des nouveaux échantillons d'entraînement et validation\n",
        "idx_train = np.where ( np.isin(gt_id,train_id) )\n",
        "idx_valid = np.where ( np.isin(gt_id,valid_id) )"
      ],
      "execution_count": null,
      "outputs": []
    },
    {
      "cell_type": "markdown",
      "metadata": {
        "id": "3U6m2R-UwEFK"
      },
      "source": [
        "### **Lire finalement les labels correspondant aux nouveaux échantillons d'entraînement, de validation et test**"
      ]
    },
    {
      "cell_type": "code",
      "metadata": {
        "colab": {
          "background_save": true
        },
        "id": "vF_PEzn3vQzT",
        "outputId": "1eb00acd-cf8b-407a-88a7-44d1d8807a32"
      },
      "source": [
        "train_y = gt_class[idx_train]\n",
        "valid_y = gt_class[idx_valid]\n",
        "test_y = gt_class[idx_test]\n",
        "train_y.shape, valid_y.shape, test_y.shape"
      ],
      "execution_count": null,
      "outputs": [
        {
          "output_type": "execute_result",
          "data": {
            "text/plain": [
              "((451962,), (153469,), (207485,))"
            ]
          },
          "metadata": {
            "tags": []
          },
          "execution_count": 0
        }
      ]
    },
    {
      "cell_type": "markdown",
      "metadata": {
        "id": "lAt4KCeZR1Os"
      },
      "source": [
        "### **Lire finalement les identifiants correspondant aux nouveaux échantillons d'entraînement, de validation et test**"
      ]
    },
    {
      "cell_type": "code",
      "metadata": {
        "id": "m3SiC0eVRvtA"
      },
      "source": [
        "# utile pour les aggrégations au niveau objet\n",
        "# train_id_array = gt_id[idx_train] # Pas vraiment nécessaire pour les échantillons d'entraînements\n",
        "valid_id_array = gt_id[idx_valid]\n",
        "test_id_array = gt_id[idx_test]\n",
        "#train_id_array.shape, \n",
        "valid_id_array.shape, test_id_array.shape"
      ],
      "execution_count": null,
      "outputs": []
    },
    {
      "cell_type": "markdown",
      "metadata": {
        "id": "xa-8J5r9r3KI"
      },
      "source": [
        "### **Lire finalement les valeurs des séries temporelles correspondant aux nouveaux échantillons d'entraînement, de validation et test**"
      ]
    },
    {
      "cell_type": "markdown",
      "metadata": {
        "id": "YqabJEyUtgPX"
      },
      "source": [
        "#### **Pour un CNN 1D ou temporel**"
      ]
    },
    {
      "cell_type": "code",
      "metadata": {
        "id": "bdZa5w9ztkCk"
      },
      "source": [
        "# Un CNN 1D ou temporel requiert un tableau 3D du type (nombre d'échantillons, nombre de dates, nombre de bandes)\n",
        "# Vous pouvez rajouter à la liste des bandes les indices spectraux normalisés que vous aurez calculé\n",
        "train_X = []\n",
        "for band in [blue_ts_norm,green_ts_norm,red_ts_norm,nir_ts_norm]:\n",
        "    train_X.append( band[idx_train] ) \n",
        "train_X = np.stack(train_X,axis=-1)\n",
        "\n",
        "valid_X = []\n",
        "for band in [blue_ts_norm,green_ts_norm,red_ts_norm,nir_ts_norm]:\n",
        "    valid_X.append( band[idx_valid] ) \n",
        "valid_X = np.stack(valid_X,axis=-1)\n",
        "\n",
        "test_X = []\n",
        "for band in [blue_ts_norm,green_ts_norm,red_ts_norm,nir_ts_norm]:\n",
        "    test_X.append( band[idx_test] ) \n",
        "test_X = np.stack(test_X,axis=-1)\n",
        "\n",
        "train_X.shape, valid_X.shape, test_X.shape"
      ],
      "execution_count": null,
      "outputs": []
    },
    {
      "cell_type": "markdown",
      "metadata": {
        "id": "oiqM_sYRt5IL"
      },
      "source": [
        "### **Sauvegarde des données d'entraînement, de validation et test en fichier numpy**"
      ]
    },
    {
      "cell_type": "code",
      "metadata": {
        "id": "dPiv0fo3uJ8s"
      },
      "source": [
        "# Ainsi de cette façon vous pourrez continuer directement avec la création des modèles et en libérant la mémoire de tout ce qui a été fait précédemment\n",
        "Path('data').mkdir(exist_ok=True, parents=True)\n",
        "np.save('data/CNN1D/train_X.npy',train_X)\n",
        "np.save('data/CNN1D/train_y.npy',train_y)\n",
        "# np.save('data/train_id.npy',train_id_array)\n",
        "\n",
        "np.save('data/CNN1D/valid_X.npy',valid_X)\n",
        "np.save('data/CNN1D/valid_y.npy',valid_y)\n",
        "np.save('data/CNN1D/valid_id.npy',valid_id_array)\n",
        "\n",
        "np.save('data/CNN1D/test_X.npy',test_X)\n",
        "np.save('data/CNN1D/test_id.npy',test_id_array)"
      ],
      "execution_count": null,
      "outputs": []
    },
    {
      "cell_type": "markdown",
      "metadata": {
        "id": "TOM6_mv--8IX"
      },
      "source": [
        "Videz la mémoire en redémarrant l'environnement d'exécution"
      ]
    },
    {
      "cell_type": "markdown",
      "metadata": {
        "id": "qv0jts6w6nxr"
      },
      "source": [
        "# **Votre modèle de deep learning**"
      ]
    },
    {
      "cell_type": "markdown",
      "metadata": {
        "id": "wmBRjg3QFrLe"
      },
      "source": [
        "### **Remontage de Drive et Importation de quelques librairies**"
      ]
    },
    {
      "cell_type": "code",
      "metadata": {
        "id": "rJUrD-aVMaN0",
        "colab": {
          "base_uri": "https://localhost:8080/"
        },
        "outputId": "80db0ce2-8b65-43fd-8733-8554f05c68ab"
      },
      "source": [
        "from google.colab import drive\n",
        "drive.mount('/content/drive')"
      ],
      "execution_count": null,
      "outputs": [
        {
          "output_type": "stream",
          "text": [
            "Mounted at /content/drive\n"
          ],
          "name": "stdout"
        }
      ]
    },
    {
      "cell_type": "code",
      "metadata": {
        "id": "_K5Xk6WeALcH"
      },
      "source": [
        "import os\n",
        "os.chdir('/content/drive/My Drive/Projet_HMIN339M')\n",
        "import numpy as np\n",
        "import pandas as pd\n",
        "import tifffile\n",
        "from pathlib import Path\n",
        "from sklearn.metrics import f1_score, confusion_matrix\n",
        "from sklearn.preprocessing import LabelEncoder\n",
        "import tensorflow as tf\n",
        "from tensorflow.keras.layers import Input, Concatenate, Dense, Dropout, Activation, Flatten, Conv2D, Conv1D, GlobalAveragePooling1D, GlobalAveragePooling2D, BatchNormalization, Flatten, GRU\n",
        "from tensorflow.keras.models import Sequential\n",
        "from tensorflow.keras import Model\n",
        "import matplotlib.pyplot as plt\n",
        "%matplotlib inline"
      ],
      "execution_count": null,
      "outputs": []
    },
    {
      "cell_type": "markdown",
      "metadata": {
        "id": "UlRFSn7f_yKx"
      },
      "source": [
        "### **Recharger les données d'entraînement, de validation et test en fichier numpy**"
      ]
    },
    {
      "cell_type": "code",
      "metadata": {
        "id": "CVzkEkQA-jM7",
        "colab": {
          "base_uri": "https://localhost:8080/"
        },
        "outputId": "4ede29ee-8919-49cc-f473-1dec0f7caab8"
      },
      "source": [
        "# Recharger les données après avoir vidé la mémoire\n",
        "train_X = np.load('data/CNN1D/train_X.npy')\n",
        "train_y = np.load('data/CNN1D/train_y.npy')\n",
        "\n",
        "valid_X = np.load('data/CNN1D/valid_X.npy')\n",
        "valid_y = np.load('data/CNN1D/valid_y.npy')\n",
        "valid_id = np.load('data/CNN1D/valid_id.npy')\n",
        "\n",
        "test_X = np.load('data/CNN1D/test_X.npy')\n",
        "test_id = np.load('data/CNN1D/test_id.npy')\n",
        "train_X.shape, train_y.shape, valid_X.shape, valid_y.shape, valid_id.shape, test_X.shape, test_id.shape"
      ],
      "execution_count": null,
      "outputs": [
        {
          "output_type": "execute_result",
          "data": {
            "text/plain": [
              "((451962, 8, 4),\n",
              " (451962,),\n",
              " (153469, 8, 4),\n",
              " (153469,),\n",
              " (153469,),\n",
              " (207485, 8, 4),\n",
              " (207485,))"
            ]
          },
          "metadata": {
            "tags": []
          },
          "execution_count": 3
        }
      ]
    },
    {
      "cell_type": "markdown",
      "metadata": {
        "id": "K23T_c-EAj_z"
      },
      "source": [
        "### **Encoder les labels entre 0 et 4 de sorte à matcher les prédictions des réseaux de neurones**"
      ]
    },
    {
      "cell_type": "code",
      "metadata": {
        "id": "FY74aok1Arfi",
        "colab": {
          "base_uri": "https://localhost:8080/"
        },
        "outputId": "dc1b370a-a355-4009-cf94-27451be19545"
      },
      "source": [
        "encoder = LabelEncoder()\n",
        "encoder.fit(train_y)\n",
        "train_y_enc = encoder.transform(train_y)\n",
        "valid_y_enc = encoder.transform(valid_y)\n",
        "np.unique(train_y), np.unique(train_y_enc), np.unique(valid_y), np.unique(valid_y_enc)"
      ],
      "execution_count": null,
      "outputs": [
        {
          "output_type": "execute_result",
          "data": {
            "text/plain": [
              "(array([1, 2, 3, 4, 5], dtype=uint8),\n",
              " array([0, 1, 2, 3, 4]),\n",
              " array([1, 2, 3, 4, 5], dtype=uint8),\n",
              " array([0, 1, 2, 3, 4]))"
            ]
          },
          "metadata": {
            "tags": []
          },
          "execution_count": 4
        }
      ]
    },
    {
      "cell_type": "markdown",
      "metadata": {
        "id": "GpH3oJPVE3uE"
      },
      "source": [
        "### **Définition séquentielle de votre modèle avec Keras**\n",
        "\n",
        "N'oubliez pas de spécifier l'input shape qui varie en fonction des types d'architectures, le nombre de neurones de la couche de sortie qui équivaut au nombre de classes que vous avez et de l'activer avec une fonction Softmax"
      ]
    },
    {
      "cell_type": "code",
      "metadata": {
        "id": "cvUdNqlKAu0X"
      },
      "source": [
        "from tensorflow.keras.layers import MaxPooling1D\n",
        "model = tf.keras.Sequential()\n",
        "\n",
        "model.add(Conv1D(filters=128, kernel_size=3, activation='relu', input_shape=(8,4)))\n",
        "model.add(MaxPooling1D(pool_size=2))\n",
        "\n",
        "model.add(Conv1D(filters=256, kernel_size=2, activation='relu'))\n",
        "model.add(MaxPooling1D(pool_size=2))\n",
        "\n",
        "model.add(Conv1D(filters=256, kernel_size=1, activation='relu'))\n",
        "model.add(MaxPooling1D(pool_size=1))\n",
        "\n",
        "model.add(Dropout(0.3))\n",
        "model.add(Flatten())\n",
        "\n",
        "model.add(Dense(256, activation='relu'))\n",
        "model.add(Dense(5, activation='softmax'))\n",
        "#model.compile(loss='categorical_crossentropy', optimizer='adam', metrics=['accuracy'])"
      ],
      "execution_count": null,
      "outputs": []
    },
    {
      "cell_type": "code",
      "metadata": {
        "id": "jhhSzQvSFALk",
        "colab": {
          "base_uri": "https://localhost:8080/"
        },
        "outputId": "4c890433-6d73-404b-fe70-da1808da2194"
      },
      "source": [
        "# Afficher votre modèle\n",
        "model.summary()"
      ],
      "execution_count": null,
      "outputs": [
        {
          "output_type": "stream",
          "text": [
            "Model: \"sequential_1\"\n",
            "_________________________________________________________________\n",
            "Layer (type)                 Output Shape              Param #   \n",
            "=================================================================\n",
            "conv1d_3 (Conv1D)            (None, 6, 128)            1664      \n",
            "_________________________________________________________________\n",
            "max_pooling1d_3 (MaxPooling1 (None, 3, 128)            0         \n",
            "_________________________________________________________________\n",
            "conv1d_4 (Conv1D)            (None, 2, 256)            65792     \n",
            "_________________________________________________________________\n",
            "max_pooling1d_4 (MaxPooling1 (None, 1, 256)            0         \n",
            "_________________________________________________________________\n",
            "conv1d_5 (Conv1D)            (None, 1, 256)            65792     \n",
            "_________________________________________________________________\n",
            "max_pooling1d_5 (MaxPooling1 (None, 1, 256)            0         \n",
            "_________________________________________________________________\n",
            "dropout_1 (Dropout)          (None, 1, 256)            0         \n",
            "_________________________________________________________________\n",
            "flatten_1 (Flatten)          (None, 256)               0         \n",
            "_________________________________________________________________\n",
            "dense_2 (Dense)              (None, 256)               65792     \n",
            "_________________________________________________________________\n",
            "dense_3 (Dense)              (None, 5)                 1285      \n",
            "=================================================================\n",
            "Total params: 200,325\n",
            "Trainable params: 200,325\n",
            "Non-trainable params: 0\n",
            "_________________________________________________________________\n"
          ],
          "name": "stdout"
        }
      ]
    },
    {
      "cell_type": "code",
      "metadata": {
        "id": "_cGHVPi2Pi5H",
        "colab": {
          "base_uri": "https://localhost:8080/",
          "height": 1000
        },
        "outputId": "0c96f6e2-9209-4605-ee9c-de2532e6db0b"
      },
      "source": [
        "tf.keras.utils.plot_model(model,show_shapes=True)"
      ],
      "execution_count": null,
      "outputs": [
        {
          "output_type": "execute_result",
          "data": {
            "image/png": "[encoded data removed]",
            "text/plain": [
              "<IPython.core.display.Image object>"
            ]
          },
          "metadata": {
            "tags": []
          },
          "execution_count": 25
        }
      ]
    },
    {
      "cell_type": "markdown",
      "metadata": {
        "id": "f2ksSpJGF1gP"
      },
      "source": [
        "### **Compiler votre modèle en définissant une fonction de côut, un optmiseur et une métrique**\n",
        "\n",
        "Dans le cas d'une classification multi-classe, votre fonction de coût est la cross entropy catégorique. $Adam$ est un bon optimiseur de départ pour vos projets. Ici vous pouvez surveiller la métrique $Accuracy$. Pour la fonction de coût (loss), je n'utilse pas l'argument $from\\_logits=True$ car j'ai déjà activé la couche de sortie avec une fonction Softmax"
      ]
    },
    {
      "cell_type": "code",
      "metadata": {
        "id": "qtwtaGndG7UN"
      },
      "source": [
        "model.compile(optimizer=tf.keras.optimizers.Adam(learning_rate=1e-4) ,loss=tf.keras.losses.SparseCategoricalCrossentropy(),loss_weights=[1,.5,.5], metrics=tf.keras.metrics.SparseCategoricalAccuracy(name='acc'))"
      ],
      "execution_count": null,
      "outputs": []
    },
    {
      "cell_type": "markdown",
      "metadata": {
        "id": "aLKCHopeIIet"
      },
      "source": [
        "### **Définir un callback pour sauver les poids de votre modèle sur les meilleures époque c'est à dire les moments où il s'améliorera sur le jeu de validation**"
      ]
    },
    {
      "cell_type": "code",
      "metadata": {
        "id": "X-_N87DhIH5N"
      },
      "source": [
        "Path('my_model').mkdir(exist_ok=True, parents=True)\n",
        "checkpointpath = os.path.join('my_model','model') # chemin où sauver le modèle\n",
        "callbacks = [tf.keras.callbacks.ModelCheckpoint(\n",
        "              checkpointpath,\n",
        "              verbose=1, # niveau de log\n",
        "              monitor='val_main_acc', # nom de la métrique à surveiller\n",
        "              save_best_only=True, # sauver uniquement le meilleur modèle\n",
        "              save_weights_only=True)] # sauver uniquement les poids"
      ],
      "execution_count": null,
      "outputs": []
    },
    {
      "cell_type": "markdown",
      "metadata": {
        "id": "ozHZJ2CZH72X"
      },
      "source": [
        "### **Entraîner votre modèle pour un certain nombre d'époques**\n",
        "\n",
        "Le paramètre $validation\\_data$ vous permet de spécifier des données de validation et de votre le comportement de votre modèle sur un jeu indépendant dont il n'a pas la connaissance. \n",
        "\n",
        "La taille de batch ($batch\\_size$) correspond au nombre d'échantillons sur lesquels le modèle est entraîné à la fois sur une époque. Vous pouvez le mettre à (ex. 32, 64, 128, 256) et plus il est grand ce qui requiert d'avoir de la mémoire plus le temps d'exécution d'une époque sera court\n",
        "\n",
        "J'utilise les labels encodés entre 0 et 4 car la prédiction sur les distributions de probabilités du modèle est retournée avec un argmax"
      ]
    },
    {
      "cell_type": "code",
      "metadata": {
        "id": "8WpxHz3FJuJ6",
        "colab": {
          "base_uri": "https://localhost:8080/"
        },
        "outputId": "04d3acfe-d79d-41ed-de40-d5fdb74599e6"
      },
      "source": [
        "BATCH_SIZE = 256\n",
        "EPOCHS = 50\n",
        "hist = model.fit (train_X,train_y_enc, validation_data= (valid_X,valid_y_enc), batch_size=BATCH_SIZE, epochs=EPOCHS, callbacks=callbacks)"
      ],
      "execution_count": null,
      "outputs": [
        {
          "output_type": "stream",
          "text": [
            "Epoch 1/50\n",
            "1763/1766 [============================>.] - ETA: 0s - loss: 0.3670 - acc: 0.8765WARNING:tensorflow:Can save best model only with val_main_acc available, skipping.\n",
            "1766/1766 [==============================] - 17s 9ms/step - loss: 0.3669 - acc: 0.8765 - val_loss: 0.3644 - val_acc: 0.8565\n",
            "Epoch 2/50\n",
            "1763/1766 [============================>.] - ETA: 0s - loss: 0.3312 - acc: 0.8880WARNING:tensorflow:Can save best model only with val_main_acc available, skipping.\n",
            "1766/1766 [==============================] - 17s 9ms/step - loss: 0.3312 - acc: 0.8880 - val_loss: 0.3395 - val_acc: 0.8693\n",
            "Epoch 3/50\n",
            "1765/1766 [============================>.] - ETA: 0s - loss: 0.3078 - acc: 0.8962WARNING:tensorflow:Can save best model only with val_main_acc available, skipping.\n",
            "1766/1766 [==============================] - 17s 9ms/step - loss: 0.3078 - acc: 0.8962 - val_loss: 0.3540 - val_acc: 0.8637\n",
            "Epoch 4/50\n",
            "1761/1766 [============================>.] - ETA: 0s - loss: 0.2930 - acc: 0.9007WARNING:tensorflow:Can save best model only with val_main_acc available, skipping.\n",
            "1766/1766 [==============================] - 17s 9ms/step - loss: 0.2929 - acc: 0.9008 - val_loss: 0.3236 - val_acc: 0.8792\n",
            "Epoch 5/50\n",
            "1766/1766 [==============================] - ETA: 0s - loss: 0.2798 - acc: 0.9048WARNING:tensorflow:Can save best model only with val_main_acc available, skipping.\n",
            "1766/1766 [==============================] - 16s 9ms/step - loss: 0.2798 - acc: 0.9048 - val_loss: 0.3315 - val_acc: 0.8772\n",
            "Epoch 6/50\n",
            "1766/1766 [==============================] - ETA: 0s - loss: 0.2700 - acc: 0.9078WARNING:tensorflow:Can save best model only with val_main_acc available, skipping.\n",
            "1766/1766 [==============================] - 17s 10ms/step - loss: 0.2700 - acc: 0.9078 - val_loss: 0.2974 - val_acc: 0.8913\n",
            "Epoch 7/50\n",
            "1765/1766 [============================>.] - ETA: 0s - loss: 0.2614 - acc: 0.9105WARNING:tensorflow:Can save best model only with val_main_acc available, skipping.\n",
            "1766/1766 [==============================] - 17s 10ms/step - loss: 0.2614 - acc: 0.9105 - val_loss: 0.2901 - val_acc: 0.8955\n",
            "Epoch 8/50\n",
            "1763/1766 [============================>.] - ETA: 0s - loss: 0.2552 - acc: 0.9125WARNING:tensorflow:Can save best model only with val_main_acc available, skipping.\n",
            "1766/1766 [==============================] - 17s 9ms/step - loss: 0.2552 - acc: 0.9125 - val_loss: 0.2902 - val_acc: 0.8956\n",
            "Epoch 9/50\n",
            "1765/1766 [============================>.] - ETA: 0s - loss: 0.2475 - acc: 0.9149WARNING:tensorflow:Can save best model only with val_main_acc available, skipping.\n",
            "1766/1766 [==============================] - 17s 9ms/step - loss: 0.2475 - acc: 0.9149 - val_loss: 0.2976 - val_acc: 0.8937\n",
            "Epoch 10/50\n",
            "1764/1766 [============================>.] - ETA: 0s - loss: 0.2417 - acc: 0.9164WARNING:tensorflow:Can save best model only with val_main_acc available, skipping.\n",
            "1766/1766 [==============================] - 17s 9ms/step - loss: 0.2417 - acc: 0.9164 - val_loss: 0.2836 - val_acc: 0.8983\n",
            "Epoch 11/50\n",
            "1764/1766 [============================>.] - ETA: 0s - loss: 0.2361 - acc: 0.9183WARNING:tensorflow:Can save best model only with val_main_acc available, skipping.\n",
            "1766/1766 [==============================] - 17s 9ms/step - loss: 0.2361 - acc: 0.9183 - val_loss: 0.3031 - val_acc: 0.8924\n",
            "Epoch 12/50\n",
            "1766/1766 [==============================] - ETA: 0s - loss: 0.2314 - acc: 0.9196WARNING:tensorflow:Can save best model only with val_main_acc available, skipping.\n",
            "1766/1766 [==============================] - 17s 9ms/step - loss: 0.2314 - acc: 0.9196 - val_loss: 0.3049 - val_acc: 0.8929\n",
            "Epoch 13/50\n",
            "1764/1766 [============================>.] - ETA: 0s - loss: 0.2273 - acc: 0.9207WARNING:tensorflow:Can save best model only with val_main_acc available, skipping.\n",
            "1766/1766 [==============================] - 17s 9ms/step - loss: 0.2272 - acc: 0.9207 - val_loss: 0.3021 - val_acc: 0.8963\n",
            "Epoch 14/50\n",
            "1765/1766 [============================>.] - ETA: 0s - loss: 0.2228 - acc: 0.9222WARNING:tensorflow:Can save best model only with val_main_acc available, skipping.\n",
            "1766/1766 [==============================] - 17s 9ms/step - loss: 0.2228 - acc: 0.9222 - val_loss: 0.2851 - val_acc: 0.8990\n",
            "Epoch 15/50\n",
            "1766/1766 [==============================] - ETA: 0s - loss: 0.2185 - acc: 0.9233WARNING:tensorflow:Can save best model only with val_main_acc available, skipping.\n",
            "1766/1766 [==============================] - 17s 9ms/step - loss: 0.2185 - acc: 0.9233 - val_loss: 0.3145 - val_acc: 0.8905\n",
            "Epoch 16/50\n",
            "1763/1766 [============================>.] - ETA: 0s - loss: 0.2144 - acc: 0.9248WARNING:tensorflow:Can save best model only with val_main_acc available, skipping.\n",
            "1766/1766 [==============================] - 17s 10ms/step - loss: 0.2144 - acc: 0.9248 - val_loss: 0.2972 - val_acc: 0.8979\n",
            "Epoch 17/50\n",
            "1766/1766 [==============================] - ETA: 0s - loss: 0.2114 - acc: 0.9258WARNING:tensorflow:Can save best model only with val_main_acc available, skipping.\n",
            "1766/1766 [==============================] - 17s 9ms/step - loss: 0.2114 - acc: 0.9258 - val_loss: 0.2987 - val_acc: 0.8983\n",
            "Epoch 18/50\n",
            "1766/1766 [==============================] - ETA: 0s - loss: 0.2076 - acc: 0.9273WARNING:tensorflow:Can save best model only with val_main_acc available, skipping.\n",
            "1766/1766 [==============================] - 17s 9ms/step - loss: 0.2076 - acc: 0.9273 - val_loss: 0.3003 - val_acc: 0.8965\n",
            "Epoch 19/50\n",
            "1765/1766 [============================>.] - ETA: 0s - loss: 0.2049 - acc: 0.9279WARNING:tensorflow:Can save best model only with val_main_acc available, skipping.\n",
            "1766/1766 [==============================] - 17s 10ms/step - loss: 0.2049 - acc: 0.9279 - val_loss: 0.2978 - val_acc: 0.8986\n",
            "Epoch 20/50\n",
            "1764/1766 [============================>.] - ETA: 0s - loss: 0.2015 - acc: 0.9291WARNING:tensorflow:Can save best model only with val_main_acc available, skipping.\n",
            "1766/1766 [==============================] - 16s 9ms/step - loss: 0.2015 - acc: 0.9291 - val_loss: 0.3079 - val_acc: 0.8953\n",
            "Epoch 21/50\n",
            "1766/1766 [==============================] - ETA: 0s - loss: 0.1991 - acc: 0.9304WARNING:tensorflow:Can save best model only with val_main_acc available, skipping.\n",
            "1766/1766 [==============================] - 17s 10ms/step - loss: 0.1991 - acc: 0.9304 - val_loss: 0.2937 - val_acc: 0.9003\n",
            "Epoch 22/50\n",
            "1764/1766 [============================>.] - ETA: 0s - loss: 0.1954 - acc: 0.9315WARNING:tensorflow:Can save best model only with val_main_acc available, skipping.\n",
            "1766/1766 [==============================] - 17s 9ms/step - loss: 0.1955 - acc: 0.9314 - val_loss: 0.3205 - val_acc: 0.8945\n",
            "Epoch 23/50\n",
            "1764/1766 [============================>.] - ETA: 0s - loss: 0.1932 - acc: 0.9319WARNING:tensorflow:Can save best model only with val_main_acc available, skipping.\n",
            "1766/1766 [==============================] - 16s 9ms/step - loss: 0.1931 - acc: 0.9319 - val_loss: 0.2823 - val_acc: 0.9032\n",
            "Epoch 24/50\n",
            "1762/1766 [============================>.] - ETA: 0s - loss: 0.1901 - acc: 0.9329WARNING:tensorflow:Can save best model only with val_main_acc available, skipping.\n",
            "1766/1766 [==============================] - 17s 9ms/step - loss: 0.1901 - acc: 0.9329 - val_loss: 0.3397 - val_acc: 0.8792\n",
            "Epoch 25/50\n",
            "1765/1766 [============================>.] - ETA: 0s - loss: 0.1881 - acc: 0.9337WARNING:tensorflow:Can save best model only with val_main_acc available, skipping.\n",
            "1766/1766 [==============================] - 17s 10ms/step - loss: 0.1880 - acc: 0.9337 - val_loss: 0.3259 - val_acc: 0.8922\n",
            "Epoch 26/50\n",
            "1763/1766 [============================>.] - ETA: 0s - loss: 0.1861 - acc: 0.9343WARNING:tensorflow:Can save best model only with val_main_acc available, skipping.\n",
            "1766/1766 [==============================] - 17s 10ms/step - loss: 0.1860 - acc: 0.9343 - val_loss: 0.3036 - val_acc: 0.9009\n",
            "Epoch 27/50\n",
            "1764/1766 [============================>.] - ETA: 0s - loss: 0.1844 - acc: 0.9348WARNING:tensorflow:Can save best model only with val_main_acc available, skipping.\n",
            "1766/1766 [==============================] - 17s 9ms/step - loss: 0.1844 - acc: 0.9348 - val_loss: 0.3317 - val_acc: 0.8912\n",
            "Epoch 28/50\n",
            "1762/1766 [============================>.] - ETA: 0s - loss: 0.1809 - acc: 0.9362WARNING:tensorflow:Can save best model only with val_main_acc available, skipping.\n",
            "1766/1766 [==============================] - 17s 9ms/step - loss: 0.1809 - acc: 0.9362 - val_loss: 0.3047 - val_acc: 0.8940\n",
            "Epoch 29/50\n",
            "1761/1766 [============================>.] - ETA: 0s - loss: 0.1789 - acc: 0.9371WARNING:tensorflow:Can save best model only with val_main_acc available, skipping.\n",
            "1766/1766 [==============================] - 17s 9ms/step - loss: 0.1788 - acc: 0.9371 - val_loss: 0.2992 - val_acc: 0.8983\n",
            "Epoch 30/50\n",
            "1765/1766 [============================>.] - ETA: 0s - loss: 0.1771 - acc: 0.9372WARNING:tensorflow:Can save best model only with val_main_acc available, skipping.\n",
            "1766/1766 [==============================] - 17s 10ms/step - loss: 0.1771 - acc: 0.9372 - val_loss: 0.3137 - val_acc: 0.8891\n",
            "Epoch 31/50\n",
            "1764/1766 [============================>.] - ETA: 0s - loss: 0.1746 - acc: 0.9382WARNING:tensorflow:Can save best model only with val_main_acc available, skipping.\n",
            "1766/1766 [==============================] - 17s 9ms/step - loss: 0.1745 - acc: 0.9382 - val_loss: 0.2911 - val_acc: 0.8985\n",
            "Epoch 32/50\n",
            "1765/1766 [============================>.] - ETA: 0s - loss: 0.1739 - acc: 0.9384WARNING:tensorflow:Can save best model only with val_main_acc available, skipping.\n",
            "1766/1766 [==============================] - 17s 9ms/step - loss: 0.1739 - acc: 0.9384 - val_loss: 0.3040 - val_acc: 0.8998\n",
            "Epoch 33/50\n",
            "1763/1766 [============================>.] - ETA: 0s - loss: 0.1715 - acc: 0.9392WARNING:tensorflow:Can save best model only with val_main_acc available, skipping.\n",
            "1766/1766 [==============================] - 17s 10ms/step - loss: 0.1715 - acc: 0.9392 - val_loss: 0.3479 - val_acc: 0.8905\n",
            "Epoch 34/50\n",
            "1763/1766 [============================>.] - ETA: 0s - loss: 0.1692 - acc: 0.9403WARNING:tensorflow:Can save best model only with val_main_acc available, skipping.\n",
            "1766/1766 [==============================] - 17s 9ms/step - loss: 0.1692 - acc: 0.9403 - val_loss: 0.3044 - val_acc: 0.8977\n",
            "Epoch 35/50\n",
            "1766/1766 [==============================] - ETA: 0s - loss: 0.1673 - acc: 0.9409WARNING:tensorflow:Can save best model only with val_main_acc available, skipping.\n",
            "1766/1766 [==============================] - 17s 9ms/step - loss: 0.1673 - acc: 0.9409 - val_loss: 0.3256 - val_acc: 0.8942\n",
            "Epoch 36/50\n",
            "1762/1766 [============================>.] - ETA: 0s - loss: 0.1645 - acc: 0.9418WARNING:tensorflow:Can save best model only with val_main_acc available, skipping.\n",
            "1766/1766 [==============================] - 17s 9ms/step - loss: 0.1645 - acc: 0.9418 - val_loss: 0.3371 - val_acc: 0.8952\n",
            "Epoch 37/50\n",
            "1765/1766 [============================>.] - ETA: 0s - loss: 0.1629 - acc: 0.9421WARNING:tensorflow:Can save best model only with val_main_acc available, skipping.\n",
            "1766/1766 [==============================] - 17s 10ms/step - loss: 0.1629 - acc: 0.9421 - val_loss: 0.3001 - val_acc: 0.8987\n",
            "Epoch 38/50\n",
            "1761/1766 [============================>.] - ETA: 0s - loss: 0.1620 - acc: 0.9425WARNING:tensorflow:Can save best model only with val_main_acc available, skipping.\n",
            "1766/1766 [==============================] - 17s 9ms/step - loss: 0.1621 - acc: 0.9425 - val_loss: 0.3211 - val_acc: 0.8937\n",
            "Epoch 39/50\n",
            "1765/1766 [============================>.] - ETA: 0s - loss: 0.1587 - acc: 0.9441WARNING:tensorflow:Can save best model only with val_main_acc available, skipping.\n",
            "1766/1766 [==============================] - 17s 9ms/step - loss: 0.1587 - acc: 0.9441 - val_loss: 0.3055 - val_acc: 0.8930\n",
            "Epoch 40/50\n",
            "1765/1766 [============================>.] - ETA: 0s - loss: 0.1578 - acc: 0.9441WARNING:tensorflow:Can save best model only with val_main_acc available, skipping.\n",
            "1766/1766 [==============================] - 17s 10ms/step - loss: 0.1578 - acc: 0.9441 - val_loss: 0.3206 - val_acc: 0.8919\n",
            "Epoch 41/50\n",
            "1763/1766 [============================>.] - ETA: 0s - loss: 0.1565 - acc: 0.9448WARNING:tensorflow:Can save best model only with val_main_acc available, skipping.\n",
            "1766/1766 [==============================] - 17s 9ms/step - loss: 0.1565 - acc: 0.9448 - val_loss: 0.3208 - val_acc: 0.8947\n",
            "Epoch 42/50\n",
            "1765/1766 [============================>.] - ETA: 0s - loss: 0.1542 - acc: 0.9456WARNING:tensorflow:Can save best model only with val_main_acc available, skipping.\n",
            "1766/1766 [==============================] - 17s 9ms/step - loss: 0.1542 - acc: 0.9456 - val_loss: 0.3224 - val_acc: 0.8945\n",
            "Epoch 43/50\n",
            "1766/1766 [==============================] - ETA: 0s - loss: 0.1534 - acc: 0.9458WARNING:tensorflow:Can save best model only with val_main_acc available, skipping.\n",
            "1766/1766 [==============================] - 17s 10ms/step - loss: 0.1534 - acc: 0.9458 - val_loss: 0.3225 - val_acc: 0.8944\n",
            "Epoch 44/50\n",
            "1762/1766 [============================>.] - ETA: 0s - loss: 0.1507 - acc: 0.9469WARNING:tensorflow:Can save best model only with val_main_acc available, skipping.\n",
            "1766/1766 [==============================] - 17s 10ms/step - loss: 0.1507 - acc: 0.9469 - val_loss: 0.3121 - val_acc: 0.8950\n",
            "Epoch 45/50\n",
            "1762/1766 [============================>.] - ETA: 0s - loss: 0.1491 - acc: 0.9477WARNING:tensorflow:Can save best model only with val_main_acc available, skipping.\n",
            "1766/1766 [==============================] - 17s 9ms/step - loss: 0.1490 - acc: 0.9477 - val_loss: 0.3219 - val_acc: 0.8981\n",
            "Epoch 46/50\n",
            "1762/1766 [============================>.] - ETA: 0s - loss: 0.1479 - acc: 0.9478WARNING:tensorflow:Can save best model only with val_main_acc available, skipping.\n",
            "1766/1766 [==============================] - 17s 9ms/step - loss: 0.1479 - acc: 0.9478 - val_loss: 0.3133 - val_acc: 0.8910\n",
            "Epoch 47/50\n",
            "1761/1766 [============================>.] - ETA: 0s - loss: 0.1462 - acc: 0.9482WARNING:tensorflow:Can save best model only with val_main_acc available, skipping.\n",
            "1766/1766 [==============================] - 17s 9ms/step - loss: 0.1462 - acc: 0.9482 - val_loss: 0.3360 - val_acc: 0.8939\n",
            "Epoch 48/50\n",
            "1763/1766 [============================>.] - ETA: 0s - loss: 0.1442 - acc: 0.9492WARNING:tensorflow:Can save best model only with val_main_acc available, skipping.\n",
            "1766/1766 [==============================] - 17s 10ms/step - loss: 0.1442 - acc: 0.9493 - val_loss: 0.3430 - val_acc: 0.8912\n",
            "Epoch 49/50\n",
            "1765/1766 [============================>.] - ETA: 0s - loss: 0.1436 - acc: 0.9495WARNING:tensorflow:Can save best model only with val_main_acc available, skipping.\n",
            "1766/1766 [==============================] - 17s 10ms/step - loss: 0.1436 - acc: 0.9495 - val_loss: 0.3106 - val_acc: 0.8916\n",
            "Epoch 50/50\n",
            "1761/1766 [============================>.] - ETA: 0s - loss: 0.1424 - acc: 0.9496WARNING:tensorflow:Can save best model only with val_main_acc available, skipping.\n",
            "1766/1766 [==============================] - 17s 9ms/step - loss: 0.1424 - acc: 0.9496 - val_loss: 0.3289 - val_acc: 0.8954\n"
          ],
          "name": "stdout"
        }
      ]
    },
    {
      "cell_type": "markdown",
      "metadata": {
        "id": "n8LxITTsM856"
      },
      "source": [
        "### **Restaurer les poids du modèle sur la meilleure époque d'entraînement**"
      ]
    },
    {
      "cell_type": "markdown",
      "metadata": {
        "id": "Zh14_LtSPCqB"
      },
      "source": [
        "### **Prédiction des classes sur le jeu de validation et évaluation en aggrégeant au niveau objet**"
      ]
    },
    {
      "cell_type": "code",
      "metadata": {
        "id": "zDpjyx_JPNjv",
        "colab": {
          "base_uri": "https://localhost:8080/"
        },
        "outputId": "9716f84b-a2fc-4c59-95fc-30abdd3a0121"
      },
      "source": [
        "# Récupérer les probabilités prédites sur le jeu de validation\n",
        "valid_prob = model.predict(valid_X,batch_size=256)\n",
        "valid_prob.shape"
      ],
      "execution_count": null,
      "outputs": [
        {
          "output_type": "execute_result",
          "data": {
            "text/plain": [
              "(153469, 5)"
            ]
          },
          "metadata": {
            "tags": []
          },
          "execution_count": 30
        }
      ]
    },
    {
      "cell_type": "code",
      "metadata": {
        "id": "26YozrngPZyW",
        "colab": {
          "base_uri": "https://localhost:8080/"
        },
        "outputId": "3c5c4737-5635-4dde-b7c8-85bfa48416eb"
      },
      "source": [
        "# Retourner la classe correspondant à la probabilité la plus haute\n",
        "valid_pred = np.argmax(valid_prob,axis=1) # axe 1 car ceci concerne chaque ligne\n",
        "valid_pred.shape"
      ],
      "execution_count": null,
      "outputs": [
        {
          "output_type": "execute_result",
          "data": {
            "text/plain": [
              "(153469,)"
            ]
          },
          "metadata": {
            "tags": []
          },
          "execution_count": 31
        }
      ]
    },
    {
      "cell_type": "code",
      "metadata": {
        "id": "57Fyn2eyWU3w",
        "colab": {
          "base_uri": "https://localhost:8080/"
        },
        "outputId": "6df5977b-e0c4-41e4-c184-64d71af38e4c"
      },
      "source": [
        "# Je réencode les prédictions entre 1 et 5\n",
        "valid_pred_enc = encoder.inverse_transform(valid_pred)\n",
        "np.unique(valid_pred_enc)"
      ],
      "execution_count": null,
      "outputs": [
        {
          "output_type": "execute_result",
          "data": {
            "text/plain": [
              "array([1, 2, 3, 4, 5], dtype=uint8)"
            ]
          },
          "metadata": {
            "tags": []
          },
          "execution_count": 32
        }
      ]
    },
    {
      "cell_type": "code",
      "metadata": {
        "id": "z35nADR_P-ut",
        "colab": {
          "base_uri": "https://localhost:8080/"
        },
        "outputId": "0e0f4b7e-b9a7-4cad-8df5-5ed6c279a248"
      },
      "source": [
        "# Aggrégation au niveau objet\n",
        "out_pred = []\n",
        "unique_id = np.unique(valid_id)\n",
        "for ID in unique_id :\n",
        "    # Récupérer les prédictions des pixels appartenant au même objet\n",
        "    pred = valid_pred_enc[np.where(valid_id==ID)]\n",
        "    y_true = valid_y[np.where(valid_id==ID)]\n",
        "    # Prendre la valeur majoritaire des prédictions sur les pixels\n",
        "    out_pred.append([ np.bincount(y_true).argmax(), np.bincount(pred).argmax()]) #(Vérité terrain,Prédiction majoritaire)\n",
        "out_pred = np.vstack(out_pred)\n",
        "out_pred.shape"
      ],
      "execution_count": null,
      "outputs": [
        {
          "output_type": "execute_result",
          "data": {
            "text/plain": [
              "(558, 2)"
            ]
          },
          "metadata": {
            "tags": []
          },
          "execution_count": 33
        }
      ]
    },
    {
      "cell_type": "code",
      "metadata": {
        "id": "hQ2jDDDZWsKQ",
        "colab": {
          "base_uri": "https://localhost:8080/"
        },
        "outputId": "27f0c1ac-561e-46c4-c7e7-fa7b90ff8cf2"
      },
      "source": [
        "# F1 score au niveau objet\n",
        "f1_score(out_pred[:,0],out_pred[:,1],average='weighted')"
      ],
      "execution_count": null,
      "outputs": [
        {
          "output_type": "execute_result",
          "data": {
            "text/plain": [
              "0.864846397788009"
            ]
          },
          "metadata": {
            "tags": []
          },
          "execution_count": 34
        }
      ]
    },
    {
      "cell_type": "markdown",
      "metadata": {
        "id": "zIXYledyW9QI"
      },
      "source": [
        "### **Prédire sur le jeu test et Préparer une soumission**"
      ]
    },
    {
      "cell_type": "code",
      "metadata": {
        "id": "p--sBOPKW4SE",
        "colab": {
          "base_uri": "https://localhost:8080/"
        },
        "outputId": "9b87646d-db77-4693-baef-252792a3fd51"
      },
      "source": [
        "# Récupérer les probabilités prédites sur le jeu test\n",
        "test_prob = model.predict(test_X,batch_size=256)\n",
        "test_prob.shape"
      ],
      "execution_count": null,
      "outputs": [
        {
          "output_type": "execute_result",
          "data": {
            "text/plain": [
              "(207485, 5)"
            ]
          },
          "metadata": {
            "tags": []
          },
          "execution_count": 35
        }
      ]
    },
    {
      "cell_type": "code",
      "metadata": {
        "id": "QtI8FHPyXHF1",
        "colab": {
          "base_uri": "https://localhost:8080/"
        },
        "outputId": "a98f31de-66ce-4be4-e10e-5891e71c7113"
      },
      "source": [
        "# Retourner la classe correspondant à la probabilité la plus haute\n",
        "test_pred = np.argmax(test_prob,axis=1) # axe 1 car ceci concerne chaque ligne\n",
        "test_pred.shape"
      ],
      "execution_count": null,
      "outputs": [
        {
          "output_type": "execute_result",
          "data": {
            "text/plain": [
              "(207485,)"
            ]
          },
          "metadata": {
            "tags": []
          },
          "execution_count": 36
        }
      ]
    },
    {
      "cell_type": "code",
      "metadata": {
        "id": "V4xPl0mFXNEi",
        "colab": {
          "base_uri": "https://localhost:8080/"
        },
        "outputId": "8694819e-4631-4b12-df53-faac57fdf6ac"
      },
      "source": [
        "# Je réencode les prédictions entre 1 et 5\n",
        "test_pred_enc = encoder.inverse_transform(test_pred)\n",
        "np.unique(test_pred_enc)"
      ],
      "execution_count": null,
      "outputs": [
        {
          "output_type": "execute_result",
          "data": {
            "text/plain": [
              "array([1, 2, 3, 4, 5], dtype=uint8)"
            ]
          },
          "metadata": {
            "tags": []
          },
          "execution_count": 37
        }
      ]
    },
    {
      "cell_type": "code",
      "metadata": {
        "id": "khjM1qqMXTSY",
        "colab": {
          "base_uri": "https://localhost:8080/"
        },
        "outputId": "01f7dfaf-caa5-474d-dcd7-9b463567e1cf"
      },
      "source": [
        "# Aggrégation au niveau objet\n",
        "agg_pred = []\n",
        "unique_id = np.unique(test_id)\n",
        "for ID in unique_id :\n",
        "    # Récupérer les prédictions des pixels appartenant au même objet\n",
        "    pred = test_pred_enc[np.where(test_id==ID)]\n",
        "    # Prendre la valeur majoritaire des prédictions sur les pixels\n",
        "    agg_pred.append([ ID, np.bincount(pred).argmax()]) #(ID,Prédiction majoritaire)\n",
        "agg_pred = np.vstack(agg_pred)\n",
        "agg_pred.shape"
      ],
      "execution_count": null,
      "outputs": [
        {
          "output_type": "execute_result",
          "data": {
            "text/plain": [
              "(800, 2)"
            ]
          },
          "metadata": {
            "tags": []
          },
          "execution_count": 38
        }
      ]
    },
    {
      "cell_type": "code",
      "metadata": {
        "id": "ZIdn628cEtgx",
        "colab": {
          "base_uri": "https://localhost:8080/",
          "height": 204
        },
        "outputId": "a6cc0243-fa84-450c-fc3e-a1ca6a8a1da0"
      },
      "source": [
        "df = pd.DataFrame({'ID':agg_pred[:,0],'Class':agg_pred[:,1]})\n",
        "df.to_csv('Soumission_CNN1D.csv',index=False)\n",
        "df.head(5)"
      ],
      "execution_count": null,
      "outputs": [
        {
          "output_type": "execute_result",
          "data": {
            "text/html": [
              "<div>\n",
              "<style scoped>\n",
              "    .dataframe tbody tr th:only-of-type {\n",
              "        vertical-align: middle;\n",
              "    }\n",
              "\n",
              "    .dataframe tbody tr th {\n",
              "        vertical-align: top;\n",
              "    }\n",
              "\n",
              "    .dataframe thead th {\n",
              "        text-align: right;\n",
              "    }\n",
              "</style>\n",
              "<table border=\"1\" class=\"dataframe\">\n",
              "  <thead>\n",
              "    <tr style=\"text-align: right;\">\n",
              "      <th></th>\n",
              "      <th>ID</th>\n",
              "      <th>Class</th>\n",
              "    </tr>\n",
              "  </thead>\n",
              "  <tbody>\n",
              "    <tr>\n",
              "      <th>0</th>\n",
              "      <td>4</td>\n",
              "      <td>5</td>\n",
              "    </tr>\n",
              "    <tr>\n",
              "      <th>1</th>\n",
              "      <td>7</td>\n",
              "      <td>3</td>\n",
              "    </tr>\n",
              "    <tr>\n",
              "      <th>2</th>\n",
              "      <td>8</td>\n",
              "      <td>5</td>\n",
              "    </tr>\n",
              "    <tr>\n",
              "      <th>3</th>\n",
              "      <td>9</td>\n",
              "      <td>3</td>\n",
              "    </tr>\n",
              "    <tr>\n",
              "      <th>4</th>\n",
              "      <td>10</td>\n",
              "      <td>3</td>\n",
              "    </tr>\n",
              "  </tbody>\n",
              "</table>\n",
              "</div>"
            ],
            "text/plain": [
              "   ID  Class\n",
              "0   4      5\n",
              "1   7      3\n",
              "2   8      5\n",
              "3   9      3\n",
              "4  10      3"
            ]
          },
          "metadata": {
            "tags": []
          },
          "execution_count": 39
        }
      ]
    },
    {
      "cell_type": "code",
      "metadata": {
        "id": "s6WuuJCkXsu0",
        "colab": {
          "base_uri": "https://localhost:8080/"
        },
        "outputId": "ca21ce80-7e44-48d0-c0af-4435c90a17f3"
      },
      "source": [
        "# F1 Score au niveau objet\n",
        "df_test = pd.read_csv('Test_ID_Label.csv') # Ce fichier vous sera fourni le 12 Novembre\n",
        "f1_score(df_test.Class,df.Class,average='weighted')"
      ],
      "execution_count": null,
      "outputs": [
        {
          "output_type": "execute_result",
          "data": {
            "text/plain": [
              "0.8419775052878294"
            ]
          },
          "metadata": {
            "tags": []
          },
          "execution_count": 40
        }
      ]
    },
    {
      "cell_type": "markdown",
      "metadata": {
        "id": "fWJuC_Mh2rD-"
      },
      "source": [
        "# **Segmentation**"
      ]
    },
    {
      "cell_type": "code",
      "metadata": {
        "id": "Teu0hQFM2pry",
        "colab": {
          "base_uri": "https://localhost:8080/"
        },
        "outputId": "8283ead7-ceed-4f13-d1f5-4fc2b50dc431"
      },
      "source": [
        "!ls Images"
      ],
      "execution_count": null,
      "outputs": [
        {
          "output_type": "stream",
          "text": [
            "20160322_S2A.tif  20160730_S2A.tif  20161018_S2A.tif  20161217_S2A.tif\n",
            "20160710_S2A.tif  20160928_S2A.tif  20161127_S2A.tif  20161227_S2A.tif\n"
          ],
          "name": "stdout"
        }
      ]
    }
  ]
}